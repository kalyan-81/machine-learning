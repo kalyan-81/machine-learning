{
  "nbformat": 4,
  "nbformat_minor": 0,
  "metadata": {
    "colab": {
      "name": "sets.ipynb",
      "provenance": [],
      "collapsed_sections": [],
      "authorship_tag": "ABX9TyObS7gTgzkXsnowuh2uXwut",
      "include_colab_link": true
    },
    "kernelspec": {
      "name": "python3",
      "display_name": "Python 3"
    },
    "language_info": {
      "name": "python"
    }
  },
  "cells": [
    {
      "cell_type": "markdown",
      "metadata": {
        "id": "view-in-github",
        "colab_type": "text"
      },
      "source": [
        "<a href=\"https://colab.research.google.com/github/kalyan-81/machine-learning/blob/main/sets.ipynb\" target=\"_parent\"><img src=\"https://colab.research.google.com/assets/colab-badge.svg\" alt=\"Open In Colab\"/></a>"
      ]
    },
    {
      "cell_type": "markdown",
      "source": [
        "#L 12: Sets\n",
        "\n",
        "#Set\n",
        "Unordered collection of items i.e. they can't be indexed\\\n",
        "No duplicates allowed\\\n",
        "Mutable\\\n",
        "Used to perform mathematical operations like Union, intersection, etc..\n",
        "#frozenset\n",
        "immutable"
      ],
      "metadata": {
        "id": "ioFO5Iq14av7"
      }
    },
    {
      "cell_type": "code",
      "source": [
        "# initialization\n",
        "\n",
        "s = set()\n",
        "\n",
        "print(type(s))"
      ],
      "metadata": {
        "id": "eOZZ4i_a4zkP",
        "colab": {
          "base_uri": "https://localhost:8080/"
        },
        "outputId": "5b80a709-1e44-42c2-92db-6cdda449b9d7"
      },
      "execution_count": 11,
      "outputs": [
        {
          "output_type": "stream",
          "name": "stdout",
          "text": [
            "<class 'set'>\n"
          ]
        }
      ]
    },
    {
      "cell_type": "code",
      "source": [
        "s = set([1, 4, 8, 0])\n",
        "\n",
        "print(s)\n",
        "\n",
        "print(type(s))"
      ],
      "metadata": {
        "id": "qnysqLrB5KXU",
        "colab": {
          "base_uri": "https://localhost:8080/"
        },
        "outputId": "5d15172b-84f9-468a-b30c-fd38e7041343"
      },
      "execution_count": 10,
      "outputs": [
        {
          "output_type": "stream",
          "name": "stdout",
          "text": [
            "{8, 1, 4, 0}\n",
            "<class 'set'>\n"
          ]
        }
      ]
    },
    {
      "cell_type": "code",
      "source": [
        "# # Try\n",
        "\n",
        "s = {}\n",
        "\n",
        "print(type(s))"
      ],
      "metadata": {
        "id": "rVbMFT-D5KY2",
        "colab": {
          "base_uri": "https://localhost:8080/"
        },
        "outputId": "e4094666-45b9-415d-8195-f9ff7f8bd450"
      },
      "execution_count": 9,
      "outputs": [
        {
          "output_type": "stream",
          "name": "stdout",
          "text": [
            "<class 'dict'>\n"
          ]
        }
      ]
    },
    {
      "cell_type": "code",
      "source": [
        "s = {1, 2, 3}\n",
        "\n",
        "print(s)\n",
        "\n",
        "print(type(s))"
      ],
      "metadata": {
        "id": "DLPgLwOc5Kap",
        "colab": {
          "base_uri": "https://localhost:8080/"
        },
        "outputId": "cdb37590-9483-4355-d255-18711bd36ae7"
      },
      "execution_count": 13,
      "outputs": [
        {
          "output_type": "stream",
          "name": "stdout",
          "text": [
            "{1, 2, 3}\n",
            "<class 'set'>\n"
          ]
        }
      ]
    },
    {
      "cell_type": "markdown",
      "source": [
        ""
      ],
      "metadata": {
        "id": "5f9IDjE-dGCt"
      }
    },
    {
      "cell_type": "code",
      "source": [
        "# # Duplicates\n",
        "\n",
        "s = {1, 2, 3, 1, 2}\n",
        "\n",
        "print(s)"
      ],
      "metadata": {
        "id": "A7axaD9_5Kb0",
        "colab": {
          "base_uri": "https://localhost:8080/"
        },
        "outputId": "711b4d7b-d063-47ad-ed26-1a5717494fa8"
      },
      "execution_count": 7,
      "outputs": [
        {
          "output_type": "stream",
          "name": "stdout",
          "text": [
            "{1, 2, 3}\n"
          ]
        }
      ]
    },
    {
      "cell_type": "code",
      "source": [
        "# # try index\n",
        "\n",
        "s = {1, 2, 3}\n",
        "\n",
        "print(s[1])"
      ],
      "metadata": {
        "id": "ixAh_c5E5KfN",
        "colab": {
          "base_uri": "https://localhost:8080/",
          "height": 200
        },
        "outputId": "0f8669b6-2a9e-45ba-9755-c00450bf330a"
      },
      "execution_count": 6,
      "outputs": [
        {
          "output_type": "error",
          "ename": "TypeError",
          "evalue": "ignored",
          "traceback": [
            "\u001b[0;31m---------------------------------------------------------------------------\u001b[0m",
            "\u001b[0;31mTypeError\u001b[0m                                 Traceback (most recent call last)",
            "\u001b[0;32m<ipython-input-6-a8e4fa60ad9f>\u001b[0m in \u001b[0;36m<module>\u001b[0;34m()\u001b[0m\n\u001b[1;32m      3\u001b[0m \u001b[0ms\u001b[0m \u001b[0;34m=\u001b[0m \u001b[0;34m{\u001b[0m\u001b[0;36m1\u001b[0m\u001b[0;34m,\u001b[0m \u001b[0;36m2\u001b[0m\u001b[0;34m,\u001b[0m \u001b[0;36m3\u001b[0m\u001b[0;34m}\u001b[0m\u001b[0;34m\u001b[0m\u001b[0;34m\u001b[0m\u001b[0m\n\u001b[1;32m      4\u001b[0m \u001b[0;34m\u001b[0m\u001b[0m\n\u001b[0;32m----> 5\u001b[0;31m \u001b[0mprint\u001b[0m\u001b[0;34m(\u001b[0m\u001b[0ms\u001b[0m\u001b[0;34m[\u001b[0m\u001b[0;36m1\u001b[0m\u001b[0;34m]\u001b[0m\u001b[0;34m)\u001b[0m\u001b[0;34m\u001b[0m\u001b[0;34m\u001b[0m\u001b[0m\n\u001b[0m",
            "\u001b[0;31mTypeError\u001b[0m: 'set' object is not subscriptable"
          ]
        }
      ]
    },
    {
      "cell_type": "code",
      "execution_count": 5,
      "metadata": {
        "id": "eYQO1ROT4Yez",
        "colab": {
          "base_uri": "https://localhost:8080/"
        },
        "outputId": "792299e0-4495-4e7b-e9a1-201f708ff25d"
      },
      "outputs": [
        {
          "output_type": "stream",
          "name": "stdout",
          "text": [
            "{1, 2, 3, 4, 5}\n",
            "{1, 2, 3, 4, 5}\n",
            "{3}\n",
            "{3}\n",
            "{1, 2}\n",
            "{1, 2}\n",
            "{1, 2, 4, 5}\n",
            "{1, 2, 4, 5}\n"
          ]
        }
      ],
      "source": [
        "# Set Operations\n",
        "\n",
        "set1 = {1, 2, 3}\n",
        "set2 = {3, 4, 5}\n",
        "\n",
        "print(set1 | set2)\n",
        "\n",
        "print(set1.union(set2))\n",
        "\n",
        "print(set1 & set2)\n",
        "\n",
        "print(set1.intersection(set2))\n",
        "\n",
        "print(set1 - set2)\n",
        "\n",
        "print(set1.difference(set2))\n",
        "\n",
        "print(set1 ^ set2)\n",
        "\n",
        "print(set1.symmetric_difference(set2))"
      ]
    },
    {
      "cell_type": "code",
      "source": [
        "#frozen set\n",
        "set1 = frozenset((1, 2, 3))\n",
        "set2 = frozenset((3, 4, 5))\n",
        "\n",
        "print(set1 | set2)\n",
        "\n",
        "print(set1.union(set2))\n",
        "\n",
        "print(set1 & set2)\n",
        "\n",
        "print(set1.intersection(set2))\n",
        "\n",
        "print(set1 - set2)\n",
        "\n",
        "print(set1.difference(set2))\n",
        "\n",
        "print(set1 ^ set2)\n",
        "\n",
        "print(set1.symmetric_difference(set2))"
      ],
      "metadata": {
        "colab": {
          "base_uri": "https://localhost:8080/"
        },
        "id": "KzeSbKLBaQY8",
        "outputId": "abc8249c-5db9-4416-adb7-36f79c549f7b"
      },
      "execution_count": 4,
      "outputs": [
        {
          "output_type": "stream",
          "name": "stdout",
          "text": [
            "frozenset({1, 2, 3, 4, 5})\n",
            "frozenset({1, 2, 3, 4, 5})\n",
            "frozenset({3})\n",
            "frozenset({3})\n",
            "frozenset({1, 2})\n",
            "frozenset({1, 2})\n",
            "frozenset({1, 2, 4, 5})\n",
            "frozenset({1, 2, 4, 5})\n"
          ]
        }
      ]
    },
    {
      "cell_type": "markdown",
      "source": [
        "# set methods"
      ],
      "metadata": {
        "id": "WolYjFfhdIsk"
      }
    },
    {
      "cell_type": "markdown",
      "source": [
        "#1.add()\n",
        "Adds an element to the set\\\n",
        "If the element already exists, the add() method does not add the element."
      ],
      "metadata": {
        "id": "h94AkWoQdM5L"
      }
    },
    {
      "cell_type": "code",
      "source": [
        "fruits = {\"apple\", \"banana\", \"cherry\"}\n",
        "\n",
        "fruits.add(\"orange\")\n",
        "\n",
        "print(fruits)"
      ],
      "metadata": {
        "colab": {
          "base_uri": "https://localhost:8080/"
        },
        "id": "VVcsBdTNdU6C",
        "outputId": "e582ccc2-c95c-4e2b-c19d-6914fa90dd86"
      },
      "execution_count": 14,
      "outputs": [
        {
          "output_type": "stream",
          "name": "stdout",
          "text": [
            "{'banana', 'apple', 'orange', 'cherry'}\n"
          ]
        }
      ]
    },
    {
      "cell_type": "code",
      "source": [
        "fruits1=frozenset(fruits)\n",
        "fruits1.add('mango')\n",
        "print(fruits1)"
      ],
      "metadata": {
        "colab": {
          "base_uri": "https://localhost:8080/",
          "height": 200
        },
        "id": "t7W99MmRiIjL",
        "outputId": "8547f71f-6d50-4ba0-c3d8-75df04a0a30d"
      },
      "execution_count": 30,
      "outputs": [
        {
          "output_type": "error",
          "ename": "AttributeError",
          "evalue": "ignored",
          "traceback": [
            "\u001b[0;31m---------------------------------------------------------------------------\u001b[0m",
            "\u001b[0;31mAttributeError\u001b[0m                            Traceback (most recent call last)",
            "\u001b[0;32m<ipython-input-30-9e592c0488ac>\u001b[0m in \u001b[0;36m<module>\u001b[0;34m()\u001b[0m\n\u001b[1;32m      1\u001b[0m \u001b[0mfruits1\u001b[0m\u001b[0;34m=\u001b[0m\u001b[0mfrozenset\u001b[0m\u001b[0;34m(\u001b[0m\u001b[0mfruits\u001b[0m\u001b[0;34m)\u001b[0m\u001b[0;34m\u001b[0m\u001b[0;34m\u001b[0m\u001b[0m\n\u001b[0;32m----> 2\u001b[0;31m \u001b[0mfruits1\u001b[0m\u001b[0;34m.\u001b[0m\u001b[0madd\u001b[0m\u001b[0;34m(\u001b[0m\u001b[0;34m'mango'\u001b[0m\u001b[0;34m)\u001b[0m\u001b[0;34m\u001b[0m\u001b[0;34m\u001b[0m\u001b[0m\n\u001b[0m\u001b[1;32m      3\u001b[0m \u001b[0mprint\u001b[0m\u001b[0;34m(\u001b[0m\u001b[0mfruits1\u001b[0m\u001b[0;34m)\u001b[0m\u001b[0;34m\u001b[0m\u001b[0;34m\u001b[0m\u001b[0m\n",
            "\u001b[0;31mAttributeError\u001b[0m: 'frozenset' object has no attribute 'add'"
          ]
        }
      ]
    },
    {
      "cell_type": "markdown",
      "source": [
        "#2.clear()\n",
        "The clear() method removes all elements in a set."
      ],
      "metadata": {
        "id": "wndIG2o-djbb"
      }
    },
    {
      "cell_type": "code",
      "source": [
        "fruits = {\"apple\", \"banana\", \"cherry\"}\n",
        "\n",
        "fruits.clear()\n",
        "\n",
        "print(fruits)\n",
        "type(fruits)"
      ],
      "metadata": {
        "colab": {
          "base_uri": "https://localhost:8080/"
        },
        "id": "IRR-wLx5d1A4",
        "outputId": "acbdb63e-3b50-4a3e-f67e-f3c6aa16aeba"
      },
      "execution_count": 32,
      "outputs": [
        {
          "output_type": "stream",
          "name": "stdout",
          "text": [
            "set()\n"
          ]
        },
        {
          "output_type": "execute_result",
          "data": {
            "text/plain": [
              "set"
            ]
          },
          "metadata": {},
          "execution_count": 32
        }
      ]
    },
    {
      "cell_type": "markdown",
      "source": [
        "#3.copy()\n",
        "The copy() method copies the set."
      ],
      "metadata": {
        "id": "JEASZlEQd8PO"
      }
    },
    {
      "cell_type": "code",
      "source": [
        "fruits = {\"apple\", \"banana\", \"cherry\"}\n",
        "\n",
        "x = fruits.copy()\n",
        "\n",
        "print(x)\n",
        "x.add('mango')\n",
        "print(x)\n",
        "print(fruits)"
      ],
      "metadata": {
        "colab": {
          "base_uri": "https://localhost:8080/"
        },
        "id": "p-GHbFIid_Il",
        "outputId": "60a2afda-48de-4e70-b53f-3972c19b130f"
      },
      "execution_count": 36,
      "outputs": [
        {
          "output_type": "stream",
          "name": "stdout",
          "text": [
            "{'banana', 'apple', 'cherry'}\n",
            "{'banana', 'apple', 'mango', 'cherry'}\n",
            "{'banana', 'apple', 'cherry'}\n"
          ]
        }
      ]
    },
    {
      "cell_type": "markdown",
      "source": [
        ""
      ],
      "metadata": {
        "id": "aOCj79yOeSKG"
      }
    },
    {
      "cell_type": "markdown",
      "source": [
        "#4.difference()\n",
        "The difference() method returns a set that contains the difference between two sets.\n",
        "\n",
        "Meaning: The returned set contains items that exist only in the first set, and not in both sets."
      ],
      "metadata": {
        "id": "m9fbGpgJeD4_"
      }
    },
    {
      "cell_type": "code",
      "source": [
        "x = {\"apple\", \"banana\", \"cherry\"}\n",
        "y = {\"google\", \"microsoft\", \"apple\"}\n",
        "\n",
        "z = x.difference(y)\n",
        "\n",
        "print(z)\n",
        "print(x)"
      ],
      "metadata": {
        "colab": {
          "base_uri": "https://localhost:8080/"
        },
        "id": "Oc5Xs5IUePDo",
        "outputId": "752be091-10c2-4717-f140-92d2f8a8061f"
      },
      "execution_count": 37,
      "outputs": [
        {
          "output_type": "stream",
          "name": "stdout",
          "text": [
            "{'banana', 'cherry'}\n",
            "{'banana', 'apple', 'cherry'}\n"
          ]
        }
      ]
    },
    {
      "cell_type": "markdown",
      "source": [
        "#5.difference_update()\n",
        "The difference_update() method removes the items that exist in both sets.\n",
        "\n",
        "The difference_update() method is different from the difference() method, because the difference() method returns a new set, without the unwanted items, and the difference_update() method removes the unwanted items from the original set."
      ],
      "metadata": {
        "id": "JO1v82T1eTg4"
      }
    },
    {
      "cell_type": "code",
      "source": [
        "x = {\"apple\", \"banana\", \"cherry\"}\n",
        "y = {\"google\", \"microsoft\", \"apple\"}\n",
        "\n",
        "x.difference_update(y)\n",
        "\n",
        "print(x)"
      ],
      "metadata": {
        "colab": {
          "base_uri": "https://localhost:8080/"
        },
        "id": "cjAxVRAbejGk",
        "outputId": "11c39db7-4d2c-41d5-824a-821152385e4a"
      },
      "execution_count": 19,
      "outputs": [
        {
          "output_type": "stream",
          "name": "stdout",
          "text": [
            "{'banana', 'cherry'}\n"
          ]
        }
      ]
    },
    {
      "cell_type": "code",
      "source": [
        ""
      ],
      "metadata": {
        "id": "HhW4Uu98e2HP"
      },
      "execution_count": null,
      "outputs": []
    },
    {
      "cell_type": "markdown",
      "source": [
        "#6.discard()\n",
        "The discard() method removes the specified item from the set.\n",
        "\n",
        "This method is different from the remove() method, because the remove() method will raise an error if the specified item does not exist, and the discard() method will not."
      ],
      "metadata": {
        "id": "PIxhOMbYemvb"
      }
    },
    {
      "cell_type": "code",
      "source": [
        "fruits = {\"apple\", \"banana\", \"cherry\"}\n",
        "\n",
        "fruits.discard(\"banana\")\n",
        "\n",
        "print(fruits)"
      ],
      "metadata": {
        "colab": {
          "base_uri": "https://localhost:8080/"
        },
        "id": "eOyC7Y5We2xr",
        "outputId": "bfc3f5d7-b7e4-4eec-a7d6-2aded5f2e126"
      },
      "execution_count": 41,
      "outputs": [
        {
          "output_type": "stream",
          "name": "stdout",
          "text": [
            "{'apple', 'cherry'}\n"
          ]
        }
      ]
    },
    {
      "cell_type": "markdown",
      "source": [
        "#7.intersection()\n",
        "The intersection() method returns a set that contains the similarity between two or more sets.\n",
        "\n",
        "Meaning: The returned set contains only items that exist in both sets, or in all sets if the comparison is done with more than two sets.\n",
        "\n"
      ],
      "metadata": {
        "id": "2AY5MyAFe4yo"
      }
    },
    {
      "cell_type": "code",
      "source": [
        "x = {\"apple\", \"banana\", \"cherry\"}\n",
        "y = {\"google\", \"microsoft\", \"apple\"}\n",
        "\n",
        "z = x.intersection(y)\n",
        "\n",
        "print(z)"
      ],
      "metadata": {
        "colab": {
          "base_uri": "https://localhost:8080/"
        },
        "id": "aQ0RRfv4fDFF",
        "outputId": "76b0836b-b1a3-4c54-ef30-f629201d9a61"
      },
      "execution_count": 21,
      "outputs": [
        {
          "output_type": "stream",
          "name": "stdout",
          "text": [
            "{'apple'}\n"
          ]
        }
      ]
    },
    {
      "cell_type": "markdown",
      "source": [
        "#8.intersection_update()\n",
        "The intersection_update() method removes the items that is not present in both sets (or in all sets if the comparison is done between more than two sets).\n",
        "\n",
        "The intersection_update() method is different from the intersection() method, because the intersection() method returns a new set, without the unwanted items, and the intersection_update() method removes the unwanted items from the original set."
      ],
      "metadata": {
        "id": "B-0tIoRdfGQQ"
      }
    },
    {
      "cell_type": "code",
      "source": [
        "x = {\"apple\", \"banana\", \"cherry\"}\n",
        "y = {\"google\", \"microsoft\", \"apple\"}\n",
        "\n",
        "x.intersection_update(y)\n",
        "\n",
        "print(x)\n",
        "print(y)"
      ],
      "metadata": {
        "colab": {
          "base_uri": "https://localhost:8080/"
        },
        "id": "ODLVn5_lfRNB",
        "outputId": "08eeda78-420b-4b3b-bebe-e180ac017ac1"
      },
      "execution_count": 42,
      "outputs": [
        {
          "output_type": "stream",
          "name": "stdout",
          "text": [
            "{'apple'}\n",
            "{'apple', 'microsoft', 'google'}\n"
          ]
        }
      ]
    },
    {
      "cell_type": "markdown",
      "source": [
        "#9.isdisjoint()\n",
        "The isdisjoint() method returns True if none of the items are present in both sets, otherwise it returns False."
      ],
      "metadata": {
        "id": "v-KpJNgqfUqK"
      }
    },
    {
      "cell_type": "code",
      "source": [
        "x = {\"apple\", \"banana\", \"cherry\"}\n",
        "y = {\"google\", \"microsoft\", \"facebook\"}\n",
        "\n",
        "z = x.isdisjoint(y)\n",
        "\n",
        "print(z)"
      ],
      "metadata": {
        "colab": {
          "base_uri": "https://localhost:8080/"
        },
        "id": "YNvmMlkdfjFn",
        "outputId": "7a4da8ed-ad38-4362-9cef-33590e13ea6b"
      },
      "execution_count": 43,
      "outputs": [
        {
          "output_type": "stream",
          "name": "stdout",
          "text": [
            "True\n"
          ]
        }
      ]
    },
    {
      "cell_type": "markdown",
      "source": [
        "#10.issubset()\n",
        "The issubset() method returns True if all items in the set exists in the specified set, otherwise it retuns False."
      ],
      "metadata": {
        "id": "XOOdOi14fmSO"
      }
    },
    {
      "cell_type": "code",
      "source": [
        "x = {\"a\", \"b\", \"c\"}\n",
        "y = {\"f\", \"e\", \"d\", \"c\", \"b\", \"a\"}\n",
        "\n",
        "z = x.issubset(y)\n",
        "\n",
        "print(z)\n"
      ],
      "metadata": {
        "colab": {
          "base_uri": "https://localhost:8080/"
        },
        "id": "qxjvMhVyf6DO",
        "outputId": "4d5a28fe-8bd3-4741-ac11-5cd6150c4106"
      },
      "execution_count": 24,
      "outputs": [
        {
          "output_type": "stream",
          "name": "stdout",
          "text": [
            "True\n"
          ]
        }
      ]
    },
    {
      "cell_type": "markdown",
      "source": [
        ""
      ],
      "metadata": {
        "id": "2kUloTBkgUr-"
      }
    },
    {
      "cell_type": "markdown",
      "source": [
        "#11.issuperset()\n",
        "The issuperset() method returns True if all items in the specified set exists in the original set, otherwise it retuns False."
      ],
      "metadata": {
        "id": "dcUjAdtCgD6N"
      }
    },
    {
      "cell_type": "code",
      "source": [
        "x = {\"f\", \"e\", \"d\", \"c\", \"b\", \"a\"}\n",
        "y = {\"a\", \"b\", \"c\"}\n",
        "\n",
        "z = x.issuperset(y)\n",
        "\n",
        "print(z)"
      ],
      "metadata": {
        "colab": {
          "base_uri": "https://localhost:8080/"
        },
        "id": "YMcdqZZugP58",
        "outputId": "4c726a85-3b81-40e7-fb5a-d1172d3a7afa"
      },
      "execution_count": 23,
      "outputs": [
        {
          "output_type": "stream",
          "name": "stdout",
          "text": [
            "True\n"
          ]
        }
      ]
    },
    {
      "cell_type": "markdown",
      "source": [
        "#12.pop()\n",
        "The pop() method removes a random item from the set.\n",
        "\n",
        "This method returns the removed item."
      ],
      "metadata": {
        "id": "_O3eg1edgVfg"
      }
    },
    {
      "cell_type": "code",
      "source": [
        "fruits = {\"apple\", \"banana\", \"cherry\"}\n",
        "\n",
        "x = fruits.pop()\n",
        "\n",
        "print(x)\n",
        "print(fruits)"
      ],
      "metadata": {
        "colab": {
          "base_uri": "https://localhost:8080/"
        },
        "id": "doZEjYR2go3N",
        "outputId": "65f4f425-8919-4676-dafa-f152cf3f2e5e"
      },
      "execution_count": 44,
      "outputs": [
        {
          "output_type": "stream",
          "name": "stdout",
          "text": [
            "banana\n",
            "{'apple', 'cherry'}\n"
          ]
        }
      ]
    },
    {
      "cell_type": "markdown",
      "source": [
        "#13.remove()\n",
        "The remove() method removes the specified element from the set.\n",
        "\n",
        "This method is different from the discard() method, because the remove() method will raise an error if the specified item does not exist, and the discard() method will not."
      ],
      "metadata": {
        "id": "qppPlp4Ygx-a"
      }
    },
    {
      "cell_type": "code",
      "source": [
        "fruits = {\"apple\", \"banana\", \"cherry\"}\n",
        "\n",
        "fruits.remove(\"banana\")\n",
        "\n",
        "print(fruits)\n"
      ],
      "metadata": {
        "colab": {
          "base_uri": "https://localhost:8080/"
        },
        "id": "7cwPaoH_g0dz",
        "outputId": "88224674-060d-4e4f-e2dc-c605baa53aa5"
      },
      "execution_count": 26,
      "outputs": [
        {
          "output_type": "stream",
          "name": "stdout",
          "text": [
            "{'apple', 'cherry'}\n"
          ]
        }
      ]
    },
    {
      "cell_type": "markdown",
      "source": [
        "#14.symmetric_difference() \n",
        "The symmetric_difference() method returns a set that contains all items from both set, but not the items that are present in both sets.\n",
        "\n",
        "Meaning: The returned set contains a mix of items that are not present in both sets."
      ],
      "metadata": {
        "id": "0uuCUgGyg4Km"
      }
    },
    {
      "cell_type": "code",
      "source": [
        "x = {\"apple\", \"banana\", \"cherry\"}\n",
        "y = {\"google\", \"microsoft\", \"apple\"}\n",
        "\n",
        "z = x.symmetric_difference(y)\n",
        "\n",
        "print(z)"
      ],
      "metadata": {
        "colab": {
          "base_uri": "https://localhost:8080/"
        },
        "id": "Tl6StNjMhD9_",
        "outputId": "71442bf7-aec7-4b87-cb29-d067555c1ff7"
      },
      "execution_count": 27,
      "outputs": [
        {
          "output_type": "stream",
          "name": "stdout",
          "text": [
            "{'microsoft', 'banana', 'cherry', 'google'}\n"
          ]
        }
      ]
    },
    {
      "cell_type": "code",
      "source": [
        ""
      ],
      "metadata": {
        "id": "Le5PJar9hIg3"
      },
      "execution_count": null,
      "outputs": []
    },
    {
      "cell_type": "markdown",
      "source": [
        "#15.symmetric_difference_update()\n",
        "The symmetric_difference_update() method updates the original set by removing items that are present in both sets, and inserting the other items.\n"
      ],
      "metadata": {
        "id": "Z0Q1tyD2hJKl"
      }
    },
    {
      "cell_type": "code",
      "source": [
        "x = {\"apple\", \"banana\", \"cherry\"}\n",
        "y = {\"google\", \"microsoft\", \"apple\"}\n",
        "\n",
        "x.symmetric_difference_update(y)\n",
        "\n",
        "print(x)"
      ],
      "metadata": {
        "colab": {
          "base_uri": "https://localhost:8080/"
        },
        "id": "u9h8Xd-IhYhf",
        "outputId": "b3262a1b-53c7-4a31-c6a3-d8aba6684f61"
      },
      "execution_count": 28,
      "outputs": [
        {
          "output_type": "stream",
          "name": "stdout",
          "text": [
            "{'microsoft', 'banana', 'cherry', 'google'}\n"
          ]
        }
      ]
    },
    {
      "cell_type": "markdown",
      "source": [
        "#16.union()\n",
        "The union() method returns a set that contains all items from the original set, and all items from the specified set(s).\n",
        "\n",
        "You can specify as many sets you want, separated by commas.\n",
        "\n",
        "It does not have to be a set, it can be any iterable object.\n",
        "\n",
        "If an item is present in more than one set, the result will contain only one appearance of this item."
      ],
      "metadata": {
        "id": "zUv14dc1hbgP"
      }
    },
    {
      "cell_type": "code",
      "source": [
        "x = {\"apple\", \"banana\", \"cherry\"}\n",
        "y = {\"google\", \"microsoft\", \"apple\"}\n",
        "\n",
        "z = x.union(y)\n",
        "\n",
        "print(z)"
      ],
      "metadata": {
        "colab": {
          "base_uri": "https://localhost:8080/"
        },
        "id": "ts4qD499hlJs",
        "outputId": "7b3d76d9-ec4a-4dfc-c847-72083787c917"
      },
      "execution_count": 45,
      "outputs": [
        {
          "output_type": "stream",
          "name": "stdout",
          "text": [
            "{'apple', 'microsoft', 'banana', 'cherry', 'google'}\n"
          ]
        }
      ]
    },
    {
      "cell_type": "code",
      "source": [
        ""
      ],
      "metadata": {
        "id": "JWR0yZEmxkuK"
      },
      "execution_count": null,
      "outputs": []
    },
    {
      "cell_type": "code",
      "source": [
        "x = {\"apple\", \"banana\", \"cherry\"}\n",
        "y = [\"google\", \"microsoft\", \"apple\"]\n",
        "\n",
        "z = x.union(y)\n",
        "\n",
        "print(z)"
      ],
      "metadata": {
        "colab": {
          "base_uri": "https://localhost:8080/"
        },
        "id": "b2OqEzxmxHBH",
        "outputId": "8e856d21-6092-49bf-919d-f6f225d0ab3b"
      },
      "execution_count": 48,
      "outputs": [
        {
          "output_type": "stream",
          "name": "stdout",
          "text": [
            "{'microsoft', 'banana', 'apple', 'cherry', 'google'}\n"
          ]
        }
      ]
    },
    {
      "cell_type": "code",
      "source": [
        "x = {\"apple\", \"banana\", \"cherry\"}\n",
        "y = [\"google\", \"microsoft\", \"apple\"]\n",
        "z=('kalyan','master')\n",
        "\n",
        "z = x.union(y,z)\n",
        "\n",
        "print(z)"
      ],
      "metadata": {
        "colab": {
          "base_uri": "https://localhost:8080/"
        },
        "id": "hmLSl_uYxlcL",
        "outputId": "f80ab292-4284-4995-f1b8-8915839e3df5"
      },
      "execution_count": 49,
      "outputs": [
        {
          "output_type": "stream",
          "name": "stdout",
          "text": [
            "{'microsoft', 'kalyan', 'banana', 'apple', 'cherry', 'master', 'google'}\n"
          ]
        }
      ]
    },
    {
      "cell_type": "markdown",
      "source": [
        "#17.update()\n",
        "The update() method updates the current set, by adding items from another set (or any other iterable).\n",
        "\n",
        "If an item is present in both sets, only one appearance of this item will be present in the updated set."
      ],
      "metadata": {
        "id": "6aUfkKdKhsN7"
      }
    },
    {
      "cell_type": "code",
      "source": [
        "x = {\"apple\", \"banana\", \"cherry\"}\n",
        "y = {\"google\", \"microsoft\", \"apple\"}\n",
        "\n",
        "x.update(y)\n",
        "\n",
        "print(x)"
      ],
      "metadata": {
        "colab": {
          "base_uri": "https://localhost:8080/"
        },
        "id": "5Anopa6Xh5cB",
        "outputId": "4b964ec2-afe6-414e-d787-121c82141326"
      },
      "execution_count": 29,
      "outputs": [
        {
          "output_type": "stream",
          "name": "stdout",
          "text": [
            "{'apple', 'microsoft', 'banana', 'cherry', 'google'}\n"
          ]
        }
      ]
    },
    {
      "cell_type": "code",
      "source": [
        "x = {\"apple\", \"banana\", \"cherry\"}\n",
        "y = [\"google\", \"microsoft\", \"apple\"]\n",
        "\n",
        "x.update(y)\n",
        "\n",
        "print(x)"
      ],
      "metadata": {
        "colab": {
          "base_uri": "https://localhost:8080/"
        },
        "id": "fMpcuFzEyMZi",
        "outputId": "d439ee06-59f2-4132-ca37-ffc305c49d29"
      },
      "execution_count": 52,
      "outputs": [
        {
          "output_type": "stream",
          "name": "stdout",
          "text": [
            "{'microsoft', 'banana', 'apple', 'cherry', 'google'}\n"
          ]
        }
      ]
    }
  ]
}