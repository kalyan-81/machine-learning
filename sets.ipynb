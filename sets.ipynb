{
  "nbformat": 4,
  "nbformat_minor": 0,
  "metadata": {
    "colab": {
      "name": "sets.ipynb",
      "provenance": [],
      "collapsed_sections": [],
      "authorship_tag": "ABX9TyMmCswZ/jH/J86x9Pwwn/41",
      "include_colab_link": true
    },
    "kernelspec": {
      "name": "python3",
      "display_name": "Python 3"
    },
    "language_info": {
      "name": "python"
    }
  },
  "cells": [
    {
      "cell_type": "markdown",
      "metadata": {
        "id": "view-in-github",
        "colab_type": "text"
      },
      "source": [
        "<a href=\"https://colab.research.google.com/github/kalyan-81/machine-learning/blob/main/sets.ipynb\" target=\"_parent\"><img src=\"https://colab.research.google.com/assets/colab-badge.svg\" alt=\"Open In Colab\"/></a>"
      ]
    },
    {
      "cell_type": "markdown",
      "source": [
        "#L 12: Sets\n",
        "\n",
        "#Set\n",
        "Unordered collection of items i.e. they can't be indexed\\\n",
        "No duplicates allowed\\\n",
        "Mutable\\\n",
        "Used to perform mathematical operations like Union, intersection, etc.."
      ],
      "metadata": {
        "id": "ioFO5Iq14av7"
      }
    },
    {
      "cell_type": "code",
      "source": [
        "# initialization\n",
        "\n",
        "s = set()\n",
        "\n",
        "print(type(s))"
      ],
      "metadata": {
        "id": "eOZZ4i_a4zkP"
      },
      "execution_count": null,
      "outputs": []
    },
    {
      "cell_type": "code",
      "source": [
        "s = set([1, 4, 8, 0])\n",
        "\n",
        "print(s)\n",
        "\n",
        "print(type(s))"
      ],
      "metadata": {
        "id": "qnysqLrB5KXU"
      },
      "execution_count": null,
      "outputs": []
    },
    {
      "cell_type": "code",
      "source": [
        "# # Try\n",
        "\n",
        "s = {}\n",
        "\n",
        "print(type(s))"
      ],
      "metadata": {
        "id": "rVbMFT-D5KY2"
      },
      "execution_count": null,
      "outputs": []
    },
    {
      "cell_type": "code",
      "source": [
        "s = {1, 2, 3}\n",
        "\n",
        "print(s)\n",
        "\n",
        "print(type(s))"
      ],
      "metadata": {
        "id": "DLPgLwOc5Kap"
      },
      "execution_count": null,
      "outputs": []
    },
    {
      "cell_type": "code",
      "source": [
        "# # Duplicates\n",
        "\n",
        "s = {1, 2, 3, 1, 2}\n",
        "\n",
        "print(s)"
      ],
      "metadata": {
        "id": "A7axaD9_5Kb0"
      },
      "execution_count": null,
      "outputs": []
    },
    {
      "cell_type": "code",
      "source": [
        "# # try index\n",
        "\n",
        "s = {1, 2, 3}\n",
        "\n",
        "print(s[1])"
      ],
      "metadata": {
        "id": "ixAh_c5E5KfN"
      },
      "execution_count": null,
      "outputs": []
    },
    {
      "cell_type": "code",
      "execution_count": null,
      "metadata": {
        "id": "eYQO1ROT4Yez"
      },
      "outputs": [],
      "source": [
        "# Set Operations\n",
        "\n",
        "set1 = {1, 2, 3}\n",
        "set2 = {3, 4, 5}\n",
        "\n",
        "print(set1 | set2)\n",
        "\n",
        "print(set1.union(set2))\n",
        "\n",
        "print(set1 & set2)\n",
        "\n",
        "print(set1.intersection(set2))\n",
        "\n",
        "print(set1 - set2)\n",
        "\n",
        "print(set1.difference(set2))\n",
        "\n",
        "print(set1 ^ set2)\n",
        "\n",
        "print(set1.symmetric_difference(set2))"
      ]
    }
  ]
}