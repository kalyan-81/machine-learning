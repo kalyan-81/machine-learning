{
  "cells": [
    {
      "cell_type": "markdown",
      "metadata": {
        "id": "view-in-github",
        "colab_type": "text"
      },
      "source": [
        "<a href=\"https://colab.research.google.com/github/kalyan-81/machine-learning/blob/main/functions.ipynb\" target=\"_parent\"><img src=\"https://colab.research.google.com/assets/colab-badge.svg\" alt=\"Open In Colab\"/></a>"
      ]
    },
    {
      "cell_type": "markdown",
      "metadata": {
        "id": "7oAc0nd-_zxg"
      },
      "source": [
        "## Python Functions\n",
        "\n",
        "**what is function?**\n",
        "\n",
        "In computer programming, a function is a named section of a code that performs a specific task. \n",
        "\n",
        "This typically involves taking some input, manipulating the input and returning an output. "
      ]
    },
    {
      "cell_type": "markdown",
      "source": [
        "**Types of function**\n",
        "* Built-in functions\n",
        "* User-defined functions"
      ],
      "metadata": {
        "id": "JaO63xH2CGkT"
      }
    },
    {
      "cell_type": "markdown",
      "source": [
        "**Examples for Built-in functions:**\n",
        "\n",
        "**1.abs()**"
      ],
      "metadata": {
        "id": "HiW9M3JCCvsy"
      }
    },
    {
      "cell_type": "code",
      "source": [
        "#find the absolute value for -90\n",
        "num=-90\n",
        "print(abs(num))"
      ],
      "metadata": {
        "colab": {
          "base_uri": "https://localhost:8080/"
        },
        "id": "l1I-Al20C2-A",
        "outputId": "a0d2d5e5-c85e-40da-afc4-c1c4f8a0ca4d"
      },
      "execution_count": 2,
      "outputs": [
        {
          "output_type": "stream",
          "name": "stdout",
          "text": [
            "90\n"
          ]
        }
      ]
    },
    {
      "cell_type": "code",
      "source": [
        "print(abs.__doc__)"
      ],
      "metadata": {
        "colab": {
          "base_uri": "https://localhost:8080/"
        },
        "id": "SW4AsUPSfk11",
        "outputId": "f0403794-26e6-422a-f492-30d615848857"
      },
      "execution_count": 98,
      "outputs": [
        {
          "output_type": "stream",
          "name": "stdout",
          "text": [
            "Return the absolute value of the argument.\n"
          ]
        }
      ]
    },
    {
      "cell_type": "markdown",
      "source": [
        "**2.all()**\n",
        "\n",
        "return True: if all elements in an iterable are true.\n",
        "\n",
        "return False: if any element in an iterable is false."
      ],
      "metadata": {
        "id": "vpAi9rPBD3k6"
      }
    },
    {
      "cell_type": "code",
      "source": [
        "lst=[1,2,3,4,5]\n",
        "print(all(lst))"
      ],
      "metadata": {
        "colab": {
          "base_uri": "https://localhost:8080/"
        },
        "id": "-jKDrXmVLaIk",
        "outputId": "7adfef3e-9a98-4cae-d6db-7accf8e70535"
      },
      "execution_count": 99,
      "outputs": [
        {
          "output_type": "stream",
          "name": "stdout",
          "text": [
            "True\n"
          ]
        }
      ]
    },
    {
      "cell_type": "code",
      "source": [
        "lst=[1,2,3,0,4,5]\n",
        "print(all(lst))"
      ],
      "metadata": {
        "colab": {
          "base_uri": "https://localhost:8080/"
        },
        "id": "4GfGCGYpLg4L",
        "outputId": "4d74f0b8-65c8-4b50-c2d4-2bb49f8332ad"
      },
      "execution_count": 6,
      "outputs": [
        {
          "output_type": "stream",
          "name": "stdout",
          "text": [
            "False\n"
          ]
        }
      ]
    },
    {
      "cell_type": "code",
      "source": [
        "tup=(1,2,3,4)\n",
        "print(all(tup))"
      ],
      "metadata": {
        "colab": {
          "base_uri": "https://localhost:8080/"
        },
        "id": "Hw05Ph1CLpYu",
        "outputId": "152b6966-46d5-4ee0-9f37-3c22632ad48c"
      },
      "execution_count": 7,
      "outputs": [
        {
          "output_type": "stream",
          "name": "stdout",
          "text": [
            "True\n"
          ]
        }
      ]
    },
    {
      "cell_type": "code",
      "source": [
        "st={1,2,3,4,'m'}\n",
        "print(all(st))"
      ],
      "metadata": {
        "colab": {
          "base_uri": "https://localhost:8080/"
        },
        "id": "UhLxZH7CCF7-",
        "outputId": "743c65ac-5a2a-49ed-8738-b3e165484e12"
      },
      "execution_count": 11,
      "outputs": [
        {
          "output_type": "stream",
          "name": "stdout",
          "text": [
            "True\n"
          ]
        }
      ]
    },
    {
      "cell_type": "code",
      "source": [
        "string='master python'\n",
        "print(all(string))"
      ],
      "metadata": {
        "colab": {
          "base_uri": "https://localhost:8080/"
        },
        "id": "vwdkM05lMBO4",
        "outputId": "72158418-347d-4a3c-fffc-33e1ed760597"
      },
      "execution_count": 10,
      "outputs": [
        {
          "output_type": "stream",
          "name": "stdout",
          "text": [
            "True\n"
          ]
        }
      ]
    },
    {
      "cell_type": "code",
      "source": [
        "lst=[]\n",
        "print(all(lst))"
      ],
      "metadata": {
        "colab": {
          "base_uri": "https://localhost:8080/"
        },
        "id": "UeD_CDinNeHx",
        "outputId": "ce5543e4-c05a-4386-d1d5-c3ccae2a19fc"
      },
      "execution_count": 12,
      "outputs": [
        {
          "output_type": "stream",
          "name": "stdout",
          "text": [
            "True\n"
          ]
        }
      ]
    },
    {
      "cell_type": "code",
      "source": [
        "lst=[False,1,2,3]\n",
        "print(all(lst))"
      ],
      "metadata": {
        "colab": {
          "base_uri": "https://localhost:8080/"
        },
        "id": "B17AV-zmNjvV",
        "outputId": "f86f086b-2416-4650-8bd0-d8512a339c42"
      },
      "execution_count": 14,
      "outputs": [
        {
          "output_type": "stream",
          "name": "stdout",
          "text": [
            "False\n"
          ]
        }
      ]
    },
    {
      "cell_type": "markdown",
      "source": [
        "**3.dir()**\n",
        "The dir() function return a list of attributes of the object.\n",
        "\n",
        "if the object has dir() method, the method will be called and must return the list of attributes.\n"
      ],
      "metadata": {
        "id": "G0aW6UfLOHGa"
      }
    },
    {
      "cell_type": "code",
      "source": [
        "lst=[1,2,3,4,5]\n",
        "print(dir(lst))"
      ],
      "metadata": {
        "colab": {
          "base_uri": "https://localhost:8080/"
        },
        "id": "mLSOOkABO4T3",
        "outputId": "244106c6-90e0-4063-e929-3101bf1f594e"
      },
      "execution_count": 15,
      "outputs": [
        {
          "output_type": "stream",
          "name": "stdout",
          "text": [
            "['__add__', '__class__', '__contains__', '__delattr__', '__delitem__', '__dir__', '__doc__', '__eq__', '__format__', '__ge__', '__getattribute__', '__getitem__', '__gt__', '__hash__', '__iadd__', '__imul__', '__init__', '__init_subclass__', '__iter__', '__le__', '__len__', '__lt__', '__mul__', '__ne__', '__new__', '__reduce__', '__reduce_ex__', '__repr__', '__reversed__', '__rmul__', '__setattr__', '__setitem__', '__sizeof__', '__str__', '__subclasshook__', 'append', 'clear', 'copy', 'count', 'extend', 'index', 'insert', 'pop', 'remove', 'reverse', 'sort']\n"
          ]
        }
      ]
    },
    {
      "cell_type": "code",
      "source": [
        "print(dir(print))"
      ],
      "metadata": {
        "colab": {
          "base_uri": "https://localhost:8080/"
        },
        "id": "kq3T2FhuPqBA",
        "outputId": "f47a4822-d705-47df-f043-a70d608d6eb7"
      },
      "execution_count": 19,
      "outputs": [
        {
          "output_type": "stream",
          "name": "stdout",
          "text": [
            "['__call__', '__class__', '__delattr__', '__dir__', '__doc__', '__eq__', '__format__', '__ge__', '__getattribute__', '__gt__', '__hash__', '__init__', '__init_subclass__', '__le__', '__lt__', '__module__', '__name__', '__ne__', '__new__', '__qualname__', '__reduce__', '__reduce_ex__', '__repr__', '__self__', '__setattr__', '__sizeof__', '__str__', '__subclasshook__', '__text_signature__']\n"
          ]
        }
      ]
    },
    {
      "cell_type": "markdown",
      "source": [
        "**4. divmod()**\n",
        "\n",
        "divmod() method takes two numbers and returns a pair of numbers(a tuple) consisting of their quotient and remainder.\n",
        "\n"
      ],
      "metadata": {
        "id": "bIVQ2jQUPyyO"
      }
    },
    {
      "cell_type": "code",
      "source": [
        "print(divmod(7,4)) # it will prints quotient and remainder as a tuple\n"
      ],
      "metadata": {
        "colab": {
          "base_uri": "https://localhost:8080/"
        },
        "id": "4G4xXbySRDRT",
        "outputId": "072f6254-c63d-4209-d8f2-c55484d464f0"
      },
      "execution_count": 20,
      "outputs": [
        {
          "output_type": "stream",
          "name": "stdout",
          "text": [
            "(1, 3)\n"
          ]
        }
      ]
    },
    {
      "cell_type": "markdown",
      "source": [
        "**5. enumerate()**\n",
        "\n",
        "**enumerate()** function adds **counter** to an iterable and return it.\n",
        "\n",
        "syntax: enumerate(iterable,start=0)\n",
        "\n",
        "\n"
      ],
      "metadata": {
        "id": "ZsyEbTItRZek"
      }
    },
    {
      "cell_type": "code",
      "source": [
        "lst=[10,20,30,40,50,60]\n",
        "print(enumerate(lst))\n",
        "for x in enumerate(lst,5):\n",
        "  print(x)"
      ],
      "metadata": {
        "colab": {
          "base_uri": "https://localhost:8080/"
        },
        "id": "AyYbxGpiSNUb",
        "outputId": "c7683c6e-eb02-42a3-9817-bfb8a84607e3"
      },
      "execution_count": 100,
      "outputs": [
        {
          "output_type": "stream",
          "name": "stdout",
          "text": [
            "<enumerate object at 0x7f67ebb67190>\n",
            "(5, 10)\n",
            "(6, 20)\n",
            "(7, 30)\n",
            "(8, 40)\n",
            "(9, 50)\n",
            "(10, 60)\n"
          ]
        }
      ]
    },
    {
      "cell_type": "code",
      "source": [
        "lst=[10,20,30,40,50,60]\n",
        "print(enumerate(lst))\n",
        "for count,value in enumerate(lst):\n",
        "  print('index: {}, value:  {}'.format(count,value))"
      ],
      "metadata": {
        "colab": {
          "base_uri": "https://localhost:8080/"
        },
        "id": "vC8FEdd5S2vq",
        "outputId": "240e52ca-c017-4b5b-8fad-185506bdea87"
      },
      "execution_count": 23,
      "outputs": [
        {
          "output_type": "stream",
          "name": "stdout",
          "text": [
            "<enumerate object at 0x7f67ebbd48c0>\n",
            "index: 0, value:  10\n",
            "index: 1, value:  20\n",
            "index: 2, value:  30\n",
            "index: 3, value:  40\n",
            "index: 4, value:  50\n",
            "index: 5, value:  60\n"
          ]
        }
      ]
    },
    {
      "cell_type": "markdown",
      "source": [
        ""
      ],
      "metadata": {
        "id": "B2LeBklOTnM_"
      }
    },
    {
      "cell_type": "code",
      "source": [
        "lst=[10,20,30,40,50,60]\n",
        "print(enumerate(lst))\n",
        "for count,value in enumerate(lst,start=5):\n",
        "  print('index: {}, value:  {}'.format(count,value))"
      ],
      "metadata": {
        "colab": {
          "base_uri": "https://localhost:8080/"
        },
        "id": "fB3VrivvR-fu",
        "outputId": "6a44e021-8503-4a04-94d6-94c3c83d8c80"
      },
      "execution_count": 24,
      "outputs": [
        {
          "output_type": "stream",
          "name": "stdout",
          "text": [
            "<enumerate object at 0x7f67ebbc3410>\n",
            "index: 5, value:  10\n",
            "index: 6, value:  20\n",
            "index: 7, value:  30\n",
            "index: 8, value:  40\n",
            "index: 9, value:  50\n",
            "index: 10, value:  60\n"
          ]
        }
      ]
    },
    {
      "cell_type": "markdown",
      "source": [
        "**6. filter()**\n",
        "\n",
        "The filter() method constructs an iterator from elements of an iterable for which a function returns true.\n",
        "\n",
        "syntax: filter(function,iterable)\n"
      ],
      "metadata": {
        "id": "YDsSqv17To1j"
      }
    },
    {
      "cell_type": "code",
      "source": [
        "def Positive(num):\n",
        "  if num>0:\n",
        "    return num\n",
        "\n",
        "Positive(6)\n"
      ],
      "metadata": {
        "colab": {
          "base_uri": "https://localhost:8080/"
        },
        "id": "BX3FvpjDVVzy",
        "outputId": "33b65766-fd2f-47c1-c373-3c5d1f4cf7aa"
      },
      "execution_count": 101,
      "outputs": [
        {
          "output_type": "execute_result",
          "data": {
            "text/plain": [
              "6"
            ]
          },
          "metadata": {},
          "execution_count": 101
        }
      ]
    },
    {
      "cell_type": "code",
      "source": [
        "num_list=range(-10,10)\n",
        "print(list(num_list))\n",
        "pos_lst=list(filter(Positive,num_list))\n",
        "print(pos_lst)"
      ],
      "metadata": {
        "colab": {
          "base_uri": "https://localhost:8080/"
        },
        "id": "d_ZJ7SQdW5U3",
        "outputId": "0d6ac997-a031-47be-f926-97b2f9d9f2db"
      },
      "execution_count": 33,
      "outputs": [
        {
          "output_type": "stream",
          "name": "stdout",
          "text": [
            "[-10, -9, -8, -7, -6, -5, -4, -3, -2, -1, 0, 1, 2, 3, 4, 5, 6, 7, 8, 9]\n",
            "[1, 2, 3, 4, 5, 6, 7, 8, 9]\n"
          ]
        }
      ]
    },
    {
      "cell_type": "markdown",
      "source": [
        "# **7.isinstance()**\n",
        "\n",
        "the isinstance() function checks if the object(first argument) is a data type of second argument and return True otherwise False.\n",
        "\n",
        "\n",
        "\n"
      ],
      "metadata": {
        "id": "epY_5gyyZtGr"
      }
    },
    {
      "cell_type": "code",
      "source": [
        "lst=[1,2,3,4,5]\n",
        "print(isinstance(lst,list))"
      ],
      "metadata": {
        "colab": {
          "base_uri": "https://localhost:8080/"
        },
        "id": "uNNecLCmbGTS",
        "outputId": "45d1f925-06ed-48ee-8291-75cf46fd097f"
      },
      "execution_count": 34,
      "outputs": [
        {
          "output_type": "stream",
          "name": "stdout",
          "text": [
            "True\n"
          ]
        }
      ]
    },
    {
      "cell_type": "code",
      "source": [
        "t=(1,2,3,4,5)\n",
        "print(isinstance(t,list))"
      ],
      "metadata": {
        "colab": {
          "base_uri": "https://localhost:8080/"
        },
        "id": "Cmc9m-KcbQOW",
        "outputId": "a213d168-31fc-464c-f9a6-02c02c98d6b9"
      },
      "execution_count": 35,
      "outputs": [
        {
          "output_type": "stream",
          "name": "stdout",
          "text": [
            "False\n"
          ]
        }
      ]
    },
    {
      "cell_type": "markdown",
      "source": [
        "**8.map()**\n",
        "\n",
        "Map applies a function to all the items in an input_list.\n",
        "\n",
        "syntax: map(function,input_list)"
      ],
      "metadata": {
        "id": "w68rJ8LwbXcV"
      }
    },
    {
      "cell_type": "code",
      "source": [
        "#without map() to calculate power 2 of each element in the list.\n",
        "\n",
        "num_lst=[1,2,3,4,5,6]\n",
        "squared=[]\n",
        "for num in num_lst:\n",
        "  squared.append(num**2)\n",
        "print(squared)\n"
      ],
      "metadata": {
        "colab": {
          "base_uri": "https://localhost:8080/"
        },
        "id": "IsA1UKWDb_c8",
        "outputId": "7466d1f5-93b2-4bc8-fbcd-a48a93e0ee71"
      },
      "execution_count": 40,
      "outputs": [
        {
          "output_type": "stream",
          "name": "stdout",
          "text": [
            "[1, 4, 9, 16, 25, 36]\n"
          ]
        }
      ]
    },
    {
      "cell_type": "code",
      "source": [
        "#using map() function to calculate power 2 of each element in list.\n",
        "def square(num):\n",
        "  return num**2\n",
        "\n",
        "num_lst=[1,2,3,4,5,6]\n",
        "\n",
        "squared=list(map(square,num_lst))\n",
        "print(squared)\n"
      ],
      "metadata": {
        "colab": {
          "base_uri": "https://localhost:8080/"
        },
        "id": "BTwJJsA7OCTV",
        "outputId": "ae2088ad-4280-457d-951c-7becda6bb96c"
      },
      "execution_count": 104,
      "outputs": [
        {
          "output_type": "stream",
          "name": "stdout",
          "text": [
            "[1, 4, 9, 16, 25, 36]\n"
          ]
        }
      ]
    },
    {
      "cell_type": "markdown",
      "source": [
        "**9. reduce()**\n",
        "\n",
        "reduce() function is for perfoming some computation on list and returning the result.\n",
        "\n",
        "it applies a rolling computation to sequential pairs of values in alist.\n",
        "\n"
      ],
      "metadata": {
        "id": "LqjZTQtgqrVe"
      }
    },
    {
      "cell_type": "code",
      "source": [
        "#with reduce()\n",
        "from functools import reduce\n",
        "\n",
        "def mul(x,y):\n",
        "  return x*y\n",
        "\n",
        "lst=[1,2,3,4,5,6]\n",
        "\n",
        "product=reduce(mul,lst)\n",
        "\n",
        "print(product)"
      ],
      "metadata": {
        "colab": {
          "base_uri": "https://localhost:8080/"
        },
        "id": "gL5wtcrPrbtV",
        "outputId": "b59f7419-2da7-45ce-be81-d18a4aab1a52"
      },
      "execution_count": 107,
      "outputs": [
        {
          "output_type": "stream",
          "name": "stdout",
          "text": [
            "720\n"
          ]
        }
      ]
    },
    {
      "cell_type": "code",
      "source": [
        ""
      ],
      "metadata": {
        "id": "akRLKIRIOCfr"
      },
      "execution_count": null,
      "outputs": []
    },
    {
      "cell_type": "markdown",
      "source": [
        "#user-defined function:\n",
        "\n",
        "functions that we define  ourselves to do certain specific task are referred as user-defined functions.\n",
        "\n",
        "if we use functions written by others in the form of library, it can be termed as library functions.\n",
        "\n",
        "#Advantages.\n",
        "1. User-defined functions help to decompose a large program into small segements which make program easy to understand, maintain and debug.\n",
        "2. if repeated code occurs in a program. function can be used to include those codes and execute when needed by calling that function.\n",
        "3. programmars working on large project can divide the workload by making different functions.\n",
        "\n",
        "\n"
      ],
      "metadata": {
        "id": "nx-rVctYtyGJ"
      }
    },
    {
      "cell_type": "markdown",
      "source": [
        ""
      ],
      "metadata": {
        "id": "QuY9mb4tCFTl"
      }
    },
    {
      "cell_type": "markdown",
      "metadata": {
        "id": "fzCiX6uo_zxr"
      },
      "source": [
        "### Function Definition & Calling a Function"
      ]
    },
    {
      "cell_type": "code",
      "execution_count": 59,
      "metadata": {
        "ExecuteTime": {
          "end_time": "2018-08-22T08:34:39.355326Z",
          "start_time": "2018-08-22T08:34:39.351324Z"
        },
        "colab": {
          "base_uri": "https://localhost:8080/"
        },
        "id": "DAf-2qjm_zxs",
        "outputId": "194827ce-f328-400c-db2f-82237b477ff2"
      },
      "outputs": [
        {
          "output_type": "stream",
          "name": "stdout",
          "text": [
            "Hello World\n"
          ]
        }
      ],
      "source": [
        "def myFirstFunction():\n",
        "    '''This is my first function. It will print Hello World always.'''\n",
        "    print('Hello World')\n",
        "    \n",
        "myFirstFunction()\n",
        "\n",
        "# try to change indentation and line of the code."
      ]
    },
    {
      "cell_type": "code",
      "execution_count": null,
      "metadata": {
        "ExecuteTime": {
          "end_time": "2018-05-29T03:12:57.806089Z",
          "start_time": "2018-05-29T03:12:57.799554Z"
        },
        "scrolled": true,
        "id": "vtVSfTE4_zxt",
        "outputId": "89d02d10-ee13-4426-d47e-1b5ab1a2bbc2"
      },
      "outputs": [
        {
          "name": "stdout",
          "output_type": "stream",
          "text": [
            "This is my first function. It will print Hello World always.\n"
          ]
        }
      ],
      "source": [
        "print(myFirstFunction.__doc__)"
      ]
    },
    {
      "cell_type": "code",
      "execution_count": null,
      "metadata": {
        "id": "grt4BDw5_zxu",
        "outputId": "0ee2b6e0-32e2-4f27-f277-29cda97a2207"
      },
      "outputs": [
        {
          "name": "stdout",
          "output_type": "stream",
          "text": [
            "hello\n",
            " hi\n",
            "    how \n",
            "    are you?\n"
          ]
        }
      ],
      "source": [
        "def myf():\n",
        "    ''' hi\n",
        "    how \n",
        "    are you?'''\n",
        "    print('hello')\n",
        "\n",
        "myf()\n",
        "\n",
        "print(myf.__doc__)\n"
      ]
    },
    {
      "cell_type": "code",
      "source": [
        ""
      ],
      "metadata": {
        "id": "cDN_v8UwRNR3"
      },
      "execution_count": null,
      "outputs": []
    },
    {
      "cell_type": "markdown",
      "metadata": {
        "id": "vft4wUvg_zxw"
      },
      "source": [
        "### Function With Arguments/Parameters"
      ]
    },
    {
      "cell_type": "code",
      "execution_count": 61,
      "metadata": {
        "id": "xbOpAbLW_zxm"
      },
      "outputs": [],
      "source": [
        "# function definition\n",
        "\n",
        "def even_odd(var):\n",
        "    if var % 2 == 0:\n",
        "        return \"Even\"\n",
        "    else:\n",
        "        return \"Odd\""
      ]
    },
    {
      "cell_type": "code",
      "source": [
        "even_odd(5)"
      ],
      "metadata": {
        "colab": {
          "base_uri": "https://localhost:8080/",
          "height": 35
        },
        "id": "ckyn0rgGRN-v",
        "outputId": "04e7555b-00d4-4ae9-b8f8-420bd9ed1c69"
      },
      "execution_count": 63,
      "outputs": [
        {
          "output_type": "execute_result",
          "data": {
            "application/vnd.google.colaboratory.intrinsic+json": {
              "type": "string"
            },
            "text/plain": [
              "'Odd'"
            ]
          },
          "metadata": {},
          "execution_count": 63
        }
      ]
    },
    {
      "cell_type": "code",
      "source": [
        "even_odd(8)"
      ],
      "metadata": {
        "colab": {
          "base_uri": "https://localhost:8080/",
          "height": 35
        },
        "id": "jf8RHUSLS_JT",
        "outputId": "26e62076-f1c0-492b-97ba-255dcebc3430"
      },
      "execution_count": 64,
      "outputs": [
        {
          "output_type": "execute_result",
          "data": {
            "application/vnd.google.colaboratory.intrinsic+json": {
              "type": "string"
            },
            "text/plain": [
              "'Even'"
            ]
          },
          "metadata": {},
          "execution_count": 64
        }
      ]
    },
    {
      "cell_type": "code",
      "execution_count": 65,
      "metadata": {
        "colab": {
          "base_uri": "https://localhost:8080/"
        },
        "id": "7i-M5GVR_zxn",
        "outputId": "5b921cfa-be4c-43d0-f9cd-4195c3199b56"
      },
      "outputs": [
        {
          "output_type": "stream",
          "name": "stdout",
          "text": [
            "Enter a number: 9\n",
            "Odd\n"
          ]
        }
      ],
      "source": [
        "user_input = int(input(\"Enter a number: \"))\n",
        "\n",
        "print(even_odd(user_input))"
      ]
    },
    {
      "cell_type": "code",
      "execution_count": null,
      "metadata": {
        "id": "86ZWl3po_zxp",
        "outputId": "51de6011-c1bd-4a0b-974b-73cab50acde7"
      },
      "outputs": [
        {
          "name": "stdout",
          "output_type": "stream",
          "text": [
            "Enter a number: 981\n",
            "9810\n"
          ]
        }
      ],
      "source": [
        "# Write a program, to muliply a number with 10 if the given number is odd\n",
        "\n",
        "user_input = int(input(\"Enter a number: \"))\n",
        "\n",
        "if even_odd(user_input) == \"Odd\":\n",
        "    print(user_input * 10)"
      ]
    },
    {
      "cell_type": "code",
      "execution_count": 67,
      "metadata": {
        "ExecuteTime": {
          "end_time": "2018-08-22T08:42:21.463371Z",
          "start_time": "2018-08-22T08:42:21.458383Z"
        },
        "colab": {
          "base_uri": "https://localhost:8080/"
        },
        "id": "rPL6vwb3_zxx",
        "outputId": "b199e3bf-80fd-4019-b18b-16eeab5ce8b1"
      },
      "outputs": [
        {
          "output_type": "stream",
          "name": "stdout",
          "text": [
            "Hello kalyan\n",
            "This function wishes hello\n"
          ]
        }
      ],
      "source": [
        "# Function with arguments/parameter\n",
        "\n",
        "def sayHello(name):\n",
        "    '''This function wishes hello'''\n",
        "    print('Hello', name)\n",
        "    \n",
        "sayHello('kalyan')\n",
        "\n",
        "print(sayHello.__doc__)"
      ]
    },
    {
      "cell_type": "code",
      "source": [
        "sayHello('your name')"
      ],
      "metadata": {
        "colab": {
          "base_uri": "https://localhost:8080/"
        },
        "id": "st7wKTNnVlmQ",
        "outputId": "84556ad5-2ba0-4ff9-be12-03698c960a27"
      },
      "execution_count": 68,
      "outputs": [
        {
          "output_type": "stream",
          "name": "stdout",
          "text": [
            "Hello your name\n"
          ]
        }
      ]
    },
    {
      "cell_type": "code",
      "execution_count": null,
      "metadata": {
        "ExecuteTime": {
          "end_time": "2018-08-22T08:43:06.368643Z",
          "start_time": "2018-08-22T08:43:06.363658Z"
        },
        "id": "jKpJGcFH_zxy",
        "outputId": "5d546889-7241-4048-9b30-7f3dee4ea3e0"
      },
      "outputs": [
        {
          "name": "stdout",
          "output_type": "stream",
          "text": [
            "The square of 10 is 100\n",
            "The square of 5 is 25\n"
          ]
        }
      ],
      "source": [
        "# Write a function to take a number and square it\n",
        "\n",
        "def square(num):\n",
        "    '''This function prints square'''\n",
        "    print('The square of {} is {}'.format(num, num**2))\n",
        "\n",
        "square(10)\n",
        "square(5)"
      ]
    },
    {
      "cell_type": "markdown",
      "metadata": {
        "id": "ymsGKNyP_zxz"
      },
      "source": [
        "### Return Statement"
      ]
    },
    {
      "cell_type": "code",
      "execution_count": 71,
      "metadata": {
        "ExecuteTime": {
          "end_time": "2018-08-22T08:45:13.595739Z",
          "start_time": "2018-08-22T08:45:13.590754Z"
        },
        "scrolled": true,
        "colab": {
          "base_uri": "https://localhost:8080/"
        },
        "id": "CJW4bQ1n_zx0",
        "outputId": "9b4b8118-41fb-4996-cadb-9452c1cbd15f"
      },
      "outputs": [
        {
          "output_type": "stream",
          "name": "stdout",
          "text": [
            "100\n"
          ]
        }
      ],
      "source": [
        "def square(num):\n",
        "    '''This function returns square'''\n",
        "    return num*num\n",
        "\n",
        "sq = square(10)\n",
        "print(sq)"
      ]
    },
    {
      "cell_type": "code",
      "execution_count": 73,
      "metadata": {
        "colab": {
          "base_uri": "https://localhost:8080/"
        },
        "id": "qfBSbH6v_zx0",
        "outputId": "67adcdcc-339a-4b01-e139-409e3c30d28e"
      },
      "outputs": [
        {
          "output_type": "stream",
          "name": "stdout",
          "text": [
            "abc\n",
            "40\n"
          ]
        }
      ],
      "source": [
        "def fun():\n",
        "  print(\"abc\")\n",
        "  return 40\n",
        "    \n",
        "print(fun())"
      ]
    },
    {
      "cell_type": "code",
      "execution_count": null,
      "metadata": {
        "id": "A-8J4gsM_zx0",
        "outputId": "2c1e2554-d77d-4084-d2ae-84ec606fa49b"
      },
      "outputs": [
        {
          "name": "stdout",
          "output_type": "stream",
          "text": [
            "Abc\n"
          ]
        }
      ],
      "source": [
        "print(fun())"
      ]
    },
    {
      "cell_type": "code",
      "execution_count": null,
      "metadata": {
        "scrolled": true,
        "id": "OkwbjJLJ_zx1",
        "outputId": "c3833aed-e234-45c1-fbcf-5bcd047045b7"
      },
      "outputs": [
        {
          "name": "stdout",
          "output_type": "stream",
          "text": [
            "abc\n",
            "None\n"
          ]
        }
      ],
      "source": [
        "print(print('abc'))"
      ]
    },
    {
      "cell_type": "code",
      "execution_count": 74,
      "metadata": {
        "ExecuteTime": {
          "end_time": "2018-08-22T08:46:55.496063Z",
          "start_time": "2018-08-22T08:46:55.492076Z"
        },
        "scrolled": true,
        "colab": {
          "base_uri": "https://localhost:8080/"
        },
        "id": "_F5288fs_zx1",
        "outputId": "1cd54092-8814-48ee-c6cd-9baaf7ce407d"
      },
      "outputs": [
        {
          "output_type": "stream",
          "name": "stdout",
          "text": [
            "Hello\n",
            "None\n"
          ]
        }
      ],
      "source": [
        "def fun():\n",
        "    print('Hello')\n",
        "\n",
        "print(fun())"
      ]
    },
    {
      "cell_type": "code",
      "execution_count": 78,
      "metadata": {
        "ExecuteTime": {
          "end_time": "2018-08-22T08:51:54.294679Z",
          "start_time": "2018-08-22T08:51:54.289691Z"
        },
        "colab": {
          "base_uri": "https://localhost:8080/"
        },
        "id": "nJUxT3KL_zx1",
        "outputId": "fcba5fcc-0275-4c29-d9fc-8732503c62cf"
      },
      "outputs": [
        {
          "output_type": "stream",
          "name": "stdout",
          "text": [
            "(20, 10)\n",
            "<class 'tuple'>\n"
          ]
        }
      ],
      "source": [
        "# Multiple Returns\n",
        "\n",
        "def add_sub(a,b):\n",
        "    add = a+b\n",
        "    sub = a-b\n",
        "    return add,sub\n",
        "\n",
        "addition = add_sub(15,5)\n",
        "\n",
        "print(addition)\n",
        "\n",
        "print(type(addition))\n",
        "\n",
        "# try to remove subtraction"
      ]
    },
    {
      "cell_type": "markdown",
      "metadata": {
        "id": "xpoQsTvl_zx2"
      },
      "source": [
        "### Scope of Variables"
      ]
    },
    {
      "cell_type": "code",
      "execution_count": 46,
      "metadata": {
        "ExecuteTime": {
          "end_time": "2018-08-22T09:29:43.119120Z",
          "start_time": "2018-08-22T09:29:43.116126Z"
        },
        "colab": {
          "base_uri": "https://localhost:8080/"
        },
        "id": "q8aQqGO0_zx2",
        "outputId": "4b162867-aacb-4208-9b09-52eed294814e"
      },
      "outputs": [
        {
          "output_type": "stream",
          "name": "stdout",
          "text": [
            "30\n"
          ]
        }
      ],
      "source": [
        "# Global variable is accessible everywhere\n",
        "\n",
        "a = 10\n",
        "b = 20\n",
        "\n",
        "def fun_sum():\n",
        "    print(a+b)\n",
        "\n",
        "fun_sum()"
      ]
    },
    {
      "cell_type": "code",
      "execution_count": 81,
      "metadata": {
        "colab": {
          "base_uri": "https://localhost:8080/",
          "height": 201
        },
        "id": "mP6YecUe_zx3",
        "outputId": "795a7f8d-2f15-4d62-f2fe-6c360e534606"
      },
      "outputs": [
        {
          "output_type": "error",
          "ename": "NameError",
          "evalue": "ignored",
          "traceback": [
            "\u001b[0;31m---------------------------------------------------------------------------\u001b[0m",
            "\u001b[0;31mNameError\u001b[0m                                 Traceback (most recent call last)",
            "\u001b[0;32m<ipython-input-81-38975c8e8fb4>\u001b[0m in \u001b[0;36m<module>\u001b[0;34m()\u001b[0m\n\u001b[1;32m      5\u001b[0m     \u001b[0mm\u001b[0m\u001b[0;34m=\u001b[0m \u001b[0;36m20\u001b[0m\u001b[0;34m\u001b[0m\u001b[0;34m\u001b[0m\u001b[0m\n\u001b[1;32m      6\u001b[0m \u001b[0;34m\u001b[0m\u001b[0m\n\u001b[0;32m----> 7\u001b[0;31m \u001b[0mprint\u001b[0m\u001b[0;34m(\u001b[0m\u001b[0ml\u001b[0m \u001b[0;34m+\u001b[0m \u001b[0mm\u001b[0m\u001b[0;34m)\u001b[0m\u001b[0;34m\u001b[0m\u001b[0;34m\u001b[0m\u001b[0m\n\u001b[0m",
            "\u001b[0;31mNameError\u001b[0m: name 'l' is not defined"
          ]
        }
      ],
      "source": [
        "def fun():\n",
        "   \n",
        "    l= 10 \n",
        "    m= 20\n",
        "    \n",
        "print(l + m)"
      ]
    },
    {
      "cell_type": "code",
      "execution_count": 85,
      "metadata": {
        "ExecuteTime": {
          "end_time": "2018-08-22T09:37:06.989931Z",
          "start_time": "2018-08-22T09:37:06.982954Z"
        },
        "scrolled": true,
        "colab": {
          "base_uri": "https://localhost:8080/"
        },
        "id": "pl0Cx7gd_zx3",
        "outputId": "432339d0-a738-43d6-ad1e-74360a9d5d56"
      },
      "outputs": [
        {
          "output_type": "stream",
          "name": "stdout",
          "text": [
            "3\n"
          ]
        }
      ],
      "source": [
        "# Local Variable\n",
        "\n",
        "def fun_sum():\n",
        "    a1 = 1\n",
        "    b1 = 2\n",
        "\n",
        "    print(a1+b1)\n",
        "\n",
        "fun_sum()"
      ]
    },
    {
      "cell_type": "code",
      "execution_count": 86,
      "metadata": {
        "colab": {
          "base_uri": "https://localhost:8080/"
        },
        "id": "45U3wwiJ_zx3",
        "outputId": "d1ae74af-0405-445a-941d-e32f9011b822"
      },
      "outputs": [
        {
          "output_type": "stream",
          "name": "stdout",
          "text": [
            "3\n",
            "None\n",
            "20\n"
          ]
        }
      ],
      "source": [
        "def fun_sum():\n",
        "    x = 1\n",
        "    y = 2\n",
        "    print(x+y)\n",
        "\n",
        "def fun_mult():\n",
        "    x=10\n",
        "    y=2\n",
        "    print(x*y)\n",
        "\n",
        "print(fun_sum())\n",
        "fun_mult()"
      ]
    },
    {
      "cell_type": "code",
      "execution_count": 87,
      "metadata": {
        "colab": {
          "base_uri": "https://localhost:8080/"
        },
        "id": "rItyDYun_zx3",
        "outputId": "99ad9f5e-a0cc-45e6-8216-d338fa6ab2ba"
      },
      "outputs": [
        {
          "output_type": "stream",
          "name": "stdout",
          "text": [
            "3\n",
            "200\n"
          ]
        }
      ],
      "source": [
        "a = 10\n",
        "b = 20\n",
        "\n",
        "def fun_sum():\n",
        "    a = 1\n",
        "    b = 2\n",
        "    print(a+b)\n",
        "\n",
        "\n",
        "def fun_mult():\n",
        "    print(a*b)\n",
        "\n",
        "\n",
        "fun_sum()\n",
        "fun_mult()"
      ]
    },
    {
      "cell_type": "markdown",
      "metadata": {
        "id": "1b4SjUtz_zx4"
      },
      "source": [
        "### Global Variables"
      ]
    },
    {
      "cell_type": "code",
      "execution_count": 89,
      "metadata": {
        "colab": {
          "base_uri": "https://localhost:8080/",
          "height": 322
        },
        "id": "-uvqaTxy_zx4",
        "outputId": "c656585e-3364-4f58-ebb2-92cef7e88a7b"
      },
      "outputs": [
        {
          "output_type": "error",
          "ename": "UnboundLocalError",
          "evalue": "ignored",
          "traceback": [
            "\u001b[0;31m---------------------------------------------------------------------------\u001b[0m",
            "\u001b[0;31mUnboundLocalError\u001b[0m                         Traceback (most recent call last)",
            "\u001b[0;32m<ipython-input-89-1f930ca997de>\u001b[0m in \u001b[0;36m<module>\u001b[0;34m()\u001b[0m\n\u001b[1;32m      5\u001b[0m     \u001b[0mprint\u001b[0m\u001b[0;34m(\u001b[0m\u001b[0mtemp\u001b[0m\u001b[0;34m)\u001b[0m\u001b[0;34m\u001b[0m\u001b[0;34m\u001b[0m\u001b[0m\n\u001b[1;32m      6\u001b[0m \u001b[0;34m\u001b[0m\u001b[0m\n\u001b[0;32m----> 7\u001b[0;31m \u001b[0mfun\u001b[0m\u001b[0;34m(\u001b[0m\u001b[0;34m)\u001b[0m\u001b[0;34m\u001b[0m\u001b[0;34m\u001b[0m\u001b[0m\n\u001b[0m",
            "\u001b[0;32m<ipython-input-89-1f930ca997de>\u001b[0m in \u001b[0;36mfun\u001b[0;34m()\u001b[0m\n\u001b[1;32m      2\u001b[0m \u001b[0;34m\u001b[0m\u001b[0m\n\u001b[1;32m      3\u001b[0m \u001b[0;32mdef\u001b[0m \u001b[0mfun\u001b[0m\u001b[0;34m(\u001b[0m\u001b[0;34m)\u001b[0m\u001b[0;34m:\u001b[0m\u001b[0;34m\u001b[0m\u001b[0;34m\u001b[0m\u001b[0m\n\u001b[0;32m----> 4\u001b[0;31m     \u001b[0mtemp\u001b[0m\u001b[0;34m=\u001b[0m\u001b[0mtemp\u001b[0m \u001b[0;34m+\u001b[0m \u001b[0;36m5\u001b[0m\u001b[0;34m\u001b[0m\u001b[0;34m\u001b[0m\u001b[0m\n\u001b[0m\u001b[1;32m      5\u001b[0m     \u001b[0mprint\u001b[0m\u001b[0;34m(\u001b[0m\u001b[0mtemp\u001b[0m\u001b[0;34m)\u001b[0m\u001b[0;34m\u001b[0m\u001b[0;34m\u001b[0m\u001b[0m\n\u001b[1;32m      6\u001b[0m \u001b[0;34m\u001b[0m\u001b[0m\n",
            "\u001b[0;31mUnboundLocalError\u001b[0m: local variable 'temp' referenced before assignment"
          ]
        }
      ],
      "source": [
        "temp = 10\n",
        "\n",
        "def fun():\n",
        "    temp=temp + 5\n",
        "    print(temp)\n",
        "    \n",
        "fun()"
      ]
    },
    {
      "cell_type": "markdown",
      "metadata": {
        "id": "-19UY2Kz_zx4"
      },
      "source": [
        "Rules of `global` keyword:\n",
        "\n",
        "- If a variable is assigned a value anywhere within the function’s body, it’s assumed to be a local unless explicitly declared as global.\n",
        "- Variables that are only referenced inside a function are implicitly global.\n",
        "- We use global keyword to use a global variable inside a function.\n",
        "- There is no need to use global keyword outside a function."
      ]
    },
    {
      "cell_type": "code",
      "execution_count": 95,
      "metadata": {
        "colab": {
          "base_uri": "https://localhost:8080/"
        },
        "id": "CKXfL4qz_zx5",
        "outputId": "827bc102-2af5-4906-d7c6-5c9d48a5124f"
      },
      "outputs": [
        {
          "output_type": "stream",
          "name": "stdout",
          "text": [
            "15\n"
          ]
        }
      ],
      "source": [
        "\n",
        "temp=10\n",
        "def fun():\n",
        "    global temp\n",
        "    temp = temp + 5\n",
        "    print(temp)\n",
        "    \n",
        "fun()"
      ]
    },
    {
      "cell_type": "code",
      "source": [
        "temp=10\n",
        "def fun():\n",
        "    \n",
        "    t= temp + 5\n",
        "    print(t)\n",
        "    \n",
        "fun()"
      ],
      "metadata": {
        "colab": {
          "base_uri": "https://localhost:8080/"
        },
        "id": "C1SAJpd8ez1M",
        "outputId": "69fd2784-34e5-45e2-af05-73d5627b2e43"
      },
      "execution_count": 97,
      "outputs": [
        {
          "output_type": "stream",
          "name": "stdout",
          "text": [
            "15\n"
          ]
        }
      ]
    }
  ],
  "metadata": {
    "kernelspec": {
      "display_name": "Python 3",
      "language": "python",
      "name": "python3"
    },
    "language_info": {
      "codemirror_mode": {
        "name": "ipython",
        "version": 3
      },
      "file_extension": ".py",
      "mimetype": "text/x-python",
      "name": "python",
      "nbconvert_exporter": "python",
      "pygments_lexer": "ipython3",
      "version": "3.8.5"
    },
    "toc": {
      "nav_menu": {},
      "number_sections": true,
      "sideBar": true,
      "skip_h1_title": false,
      "title_cell": "Table of Contents",
      "title_sidebar": "Contents",
      "toc_cell": false,
      "toc_position": {},
      "toc_section_display": true,
      "toc_window_display": false
    },
    "varInspector": {
      "cols": {
        "lenName": 16,
        "lenType": 16,
        "lenVar": 40
      },
      "kernels_config": {
        "python": {
          "delete_cmd_postfix": "",
          "delete_cmd_prefix": "del ",
          "library": "var_list.py",
          "varRefreshCmd": "print(var_dic_list())"
        },
        "r": {
          "delete_cmd_postfix": ") ",
          "delete_cmd_prefix": "rm(",
          "library": "var_list.r",
          "varRefreshCmd": "cat(var_dic_list()) "
        }
      },
      "types_to_exclude": [
        "module",
        "function",
        "builtin_function_or_method",
        "instance",
        "_Feature"
      ],
      "window_display": false
    },
    "colab": {
      "name": "functions.ipynb",
      "provenance": [],
      "collapsed_sections": [],
      "include_colab_link": true
    }
  },
  "nbformat": 4,
  "nbformat_minor": 0
}