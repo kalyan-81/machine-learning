{
  "nbformat": 4,
  "nbformat_minor": 0,
  "metadata": {
    "colab": {
      "name": "machine learning part_1.ipynb",
      "provenance": [],
      "authorship_tag": "ABX9TyMd4lvgyEu6xvWWdWahGC5X",
      "include_colab_link": true
    },
    "kernelspec": {
      "name": "python3",
      "display_name": "Python 3"
    },
    "language_info": {
      "name": "python"
    }
  },
  "cells": [
    {
      "cell_type": "markdown",
      "metadata": {
        "id": "view-in-github",
        "colab_type": "text"
      },
      "source": [
        "<a href=\"https://colab.research.google.com/github/kalyan-81/machine-learning/blob/main/machine_learning_part_1.ipynb\" target=\"_parent\"><img src=\"https://colab.research.google.com/assets/colab-badge.svg\" alt=\"Open In Colab\"/></a>"
      ]
    },
    {
      "cell_type": "code",
      "execution_count": null,
      "metadata": {
        "id": "2oqjl012nWWZ"
      },
      "outputs": [],
      "source": [
        ""
      ]
    },
    {
      "cell_type": "markdown",
      "source": [
        "# MACHINE LEARNING"
      ],
      "metadata": {
        "id": "joLmdryisK3F"
      }
    },
    {
      "cell_type": "markdown",
      "source": [
        "#Types of machine learning problems\n",
        "\n",
        "1. **On basis of the nature of the learning “signal” or “feedback” available to a learning system**\n",
        "\n",
        "**Supervised learning:**  If the machine is presented with example inputs and their desired outputs, and the goal is to learn a general rule that maps inputs to outputs. The training process continues until the model achieves the desired level of accuracy on the training data. \n",
        "\n",
        "**Some real-life examples are:**\n",
        "\n",
        "**Image Classification:**\n",
        "\n",
        "You train the machine with images/labels. Then in the future you give a new image expecting that the machine will recognize the new object(predicting label for the new image).\n",
        "\n",
        "**Market Prediction/Regression:** \n",
        "\n",
        "You train the machine with historical market data and ask the machine to predict the new price in the future.\n",
        "\n",
        "**Unsupervised learning:**\n",
        "\n",
        "No labels are given to the learning algorithm, leaving it on its own to find structure in its input. \n",
        "\n",
        "It is used for clustering population in different groups. Unsupervised learning can be a goal in itself (discovering hidden patterns in data).\n",
        "\n",
        "**Clustering:**\n",
        "\n",
        "You ask the computer to separate similar data into clusters, this is essential in research and science.\n",
        "\n",
        "**High Dimension Visualization:**\n",
        "\n",
        "Use the computer to help us visualize high dimension data.\n",
        "\n",
        "**Generative Models:**\n",
        "\n",
        "After a model captures the probability distribution of your input data, it will be able to generate more data. This can be very useful to make your classifier more robust.\n",
        "\n",
        "**Semi-supervised learning:**\n",
        "\n",
        " Problems where you have a large amount of input data and only some of the data is labeled, are called semi-supervised learning problems. \n",
        " \n",
        " These problems sit in between both supervised and unsupervised learning. For example, a photo archive where only some of the images are labeled, (e.g. dog, cat, person) and the majority are unlabeled.\n",
        "\n",
        "\n",
        "**Reinforcement learning:**\n",
        "\n",
        " A computer program interacts with a dynamic environment in which it must perform a certain goal (such as driving a vehicle or playing a game against an opponent). \n",
        " \n",
        "The program is provided feedback in terms of rewards and punishments as it navigates its problem space.\n",
        "\n",
        "2. **On the basis of “output” desired from a machine learned system**\n",
        "\n",
        "**Classification:**\n",
        "\n",
        " Inputs are divided into two or more classes, and the learner must produce a model that assigns unseen inputs to one or more (multi-label classification) of these classes. \n",
        " \n",
        " This is typically tackled in a supervised way. Spam filtering is an example of classification, where the inputs are email (or other) messages and the classes are “spam” and “not spam”.\n",
        "\n",
        "**Regression:**\n",
        "\n",
        " It is also a supervised learning problem, but the outputs are continuous rather than discrete. For example, predicting the stock prices using historical data.\n",
        "\n",
        " **Clustering:**\n",
        " \n",
        "  Here, a set of inputs is to be divided into groups. Unlike in classification, the groups are not known beforehand, making this typically an unsupervised task.\n",
        "\n",
        "  **Density estimation:** \n",
        "  \n",
        "  The task is to find the distribution of inputs in some space.\n",
        "\n",
        "\n",
        "**Dimensionality reduction:** \n",
        "\n",
        "It simplifies inputs by mapping them into a lower-dimensional space. Topic modeling is a related problem, where a program is given a list of human language documents and is tasked to find out which documents cover similar topics."
      ],
      "metadata": {
        "id": "505982VJnbUz"
      }
    },
    {
      "cell_type": "markdown",
      "source": [
        "On the basis of these machine learning tasks/problems, we have a number of algorithms which are used to accomplish these tasks. \n",
        "\n",
        "Some commonly used machine learning algorithms are \n",
        "* Linear Regression, \n",
        "* Logistic Regression, \n",
        "* Decision Tree, \n",
        "* SVM(Support vector machines), \n",
        "* Naive Bayes, \n",
        "* KNN(K nearest neighbors), \n",
        "* K-Means, Random Forest, etc."
      ],
      "metadata": {
        "id": "fWdhZRyUnb9Y"
      }
    },
    {
      "cell_type": "markdown",
      "source": [
        "#Terminologies of Machine Learning\n",
        "\n",
        "**Model**\n",
        "\n",
        "A model is a specific representation learned from data by applying some machine learning algorithm. A model is also called **hypothesis**.\n",
        "\n",
        "**Feature**\n",
        "\n",
        "A feature is an individual measurable property of our data. A set of numeric features can be conveniently described by a feature vector. \n",
        "\n",
        "Feature vectors are fed as input to the model. For example, in order to predict a fruit, there may be features like color, smell, taste, etc.\n",
        "\n",
        "Note: Choosing informative, discriminating and independent features is a crucial step for effective algorithms. We generally employ a feature extractor to extract the relevant features from the raw data.\n",
        "\n",
        "**Target (Label)**\n",
        "\n",
        "A target variable or label is the value to be predicted by our model. For the fruit example discussed in the features section, the label with each set of input would be the name of the fruit like apple, orange, banana, etc.\n",
        "\n",
        "**Training**\n",
        "The idea is to give a set of inputs(features) and it’s expected outputs(labels), so after training, we will have a model (hypothesis) that will then map new data to one of the categories trained on.\n",
        "\n",
        "**Prediction**\n",
        "Once our model is ready, it can be fed a set of inputs to which it will provide a predicted output(label)."
      ],
      "metadata": {
        "id": "sFaxliuDnb--"
      }
    },
    {
      "cell_type": "markdown",
      "source": [
        "# what is machine learning.\n",
        "\n",
        "Machine Learning(ML) can be explained as automating and improving the learning process of computers based on their experiences without being actually programmed i.e. without any human assistance.\n",
        "\n",
        "The process starts with feeding good quality data and then training our machines(computers) by building machine learning models using the data and different algorithms. The choice of algorithms depends on what type of data do we have and what kind of task we are trying to automate.\n",
        "\n",
        "**Pre-requisites to learn ML:**\n",
        "\n",
        "Linear Algebra\\\n",
        "Statistics and Probability\\\n",
        "Calculus\\\n",
        "Graph theory\\\n",
        "Programming Skills – Language such as Python, R, MATLAB, C++ or Octave\n",
        "\n"
      ],
      "metadata": {
        "id": "mpF2T8gzncBY"
      }
    },
    {
      "cell_type": "markdown",
      "source": [
        "# Introduction to Data in Machine Learning\n",
        "\n",
        "**DATA:**\n",
        "\n",
        " It can be any unprocessed fact, value, text, sound, or picture that is not being interpreted and analyzed. \n",
        " \n",
        " Data is the most important part of all Data Analytics, Machine Learning, Artificial Intelligence. Without data, we can’t train any model and all modern research and automation will go in vain. \n",
        " \n",
        " Big Enterprises are spending lots of money just to gather as much certain data as possible.\n",
        "\n",
        "**INFORMATION:**\n",
        "\n",
        " Data that has been interpreted and manipulated and has now some meaningful inference for the users. \n",
        "\n",
        "**KNOWLEDGE:** \n",
        "\n",
        "Combination of inferred information, experiences, learning, and insights. Results in awareness or concept building for an individual or organization. "
      ],
      "metadata": {
        "id": "VB5y8fioncCy"
      }
    },
    {
      "cell_type": "markdown",
      "source": [
        "# How we split data in Machine Learning?  \n",
        "\n",
        "**Training Data:**\n",
        "\n",
        " The part of data we use to train our model. This is the data that your model actually sees(both input and output) and learns from.\n",
        "\n",
        "**Validation Data:**\n",
        "\n",
        " The part of data that is used to do a frequent evaluation of the model, fit on the training dataset along with improving involved hyperparameters (initially set parameters before the model begins learning). This data plays its part when the model is actually training.\n",
        "\n",
        "**Testing Data:**\n",
        "\n",
        " Once our model is completely trained, testing data provides an unbiased evaluation. When we feed in the inputs of Testing data, our model will predict some values(without seeing actual output).\n",
        "\n",
        " After prediction, we evaluate our model by comparing it with the actual output present in the testing data. This is how we evaluate and see how much our model has learned from the experiences feed in as training data, set at the time of training.\n",
        "\n",
        "# Properties of Data – \n",
        "\n",
        "**Volume:** Scale of Data. With the growing world population and technology at exposure, huge data is being generated each and every millisecond.\n",
        "\n",
        "**Variety:** Different forms of data – healthcare, images, videos, audio clippings.\n",
        "\n",
        "**Velocity:** Rate of data streaming and generation.\n",
        "Value: Meaningfulness of data in terms of information that researchers can infer from it.\n",
        "\n",
        "**Veracity:** Certainty and correctness in data we are working on."
      ],
      "metadata": {
        "id": "ET-GqVHWncFA"
      }
    },
    {
      "cell_type": "markdown",
      "source": [
        "# Best Python libraries for Machine Learning.\n",
        "\n",
        "Python libraries that used in Machine Learning are: \n",
        " \n",
        "\n",
        "* Numpy\n",
        "* Scipy\n",
        "* Scikit-learn\n",
        "* Theano\n",
        "* TensorFlow\n",
        "* Keras\n",
        "* PyTorch\n",
        "* Pandas\n",
        "* Matplotlib\n"
      ],
      "metadata": {
        "id": "Zhr7SaLVncGc"
      }
    },
    {
      "cell_type": "markdown",
      "source": [
        "# Machine Learning\n",
        "Machine Learning is making the computer learn from studying data and statistics.\n",
        "\n",
        "Machine Learning is a step into the direction of artificial intelligence (AI).\n",
        "\n",
        "Machine Learning is a program that analyses data and learns to predict the outcome.\n",
        "\n",
        "# Where To Start?\n",
        "In this tutorial we will go back to mathematics and study statistics, and how to calculate important numbers based on data sets.\n",
        "\n",
        "We will also learn how to use various Python modules to get the answers we need.\n",
        "\n",
        "And we will learn how to make functions that are able to predict the outcome based on what we have learned.\n",
        "\n",
        "# Data Set\n",
        "In the mind of a computer, a data set is any collection of data. It can be anything from an array to a complete database.\n",
        "\n",
        "**Example of an array:**\n",
        "\n",
        "[99, 86, 87, 88, 111, 86, 103, 87, 94, 78, 77, 85, 86]\n",
        "\n",
        "#Example of a database:\n",
        "```\n",
        "Carname\tColor\tAge\tSpeed\tAutoPass\n",
        "BMW\t     red\t  5\t   99\t  Y\n",
        "Volvo\t  black\t  7\t   86\t  Y\n",
        "VW\t    gray\t  8\t   87\t  N\n",
        "VW\t   white\t  7\t   88\t  Y\n",
        "Ford\t white\t  2\t  111\t  Y\n",
        "VW\t   white\t 17\t   86\t  Y\n",
        "Tesla\t  red\t   2\t  103\t  Y\n",
        "BMW\t   black\t 9\t   87\t  Y\n",
        "Volvo\t  gray\t 4\t   94\t  N\n",
        "Ford \t white\t 11\t   78\t  N\n",
        "Toyota\tgray\t 12\t   77\t  N\n",
        "VW\t   white\t  9\t   85\t  N\n",
        "Toyota\tblue\t  6\t   86\t  Y\n",
        "```\n",
        "By looking at the array, we can guess that the average value is probably around 80 or 90, and we are also able to determine the highest value and the lowest value, but what else can we do?\n",
        "\n",
        "And by looking at the database we can see that the most popular color is white, and the oldest car is 17 years, but what if we could predict if a car had an AutoPass, just by looking at the other values?\n",
        "\n",
        "That is what Machine Learning is for! Analyzing data and predicting the outcome!\n",
        "\n",
        "In Machine Learning it is common to work with very large data sets. In this tutorial we will try to make it as easy as possible to understand the different concepts of machine learning, and we will work with small easy-to-understand data sets.\n",
        "\n",
        "#Data Types\n",
        "To analyze data, it is important to know what type of data we are dealing with.\n",
        "\n",
        "We can split the data types into three main categories:\n",
        "```\n",
        "Numerical\n",
        "Categorical\n",
        "Ordinal\n",
        "```\n",
        "Numerical data are numbers, and can be split into two numerical categories:\n",
        "```\n",
        "Discrete Data\n",
        "- numbers that are limited to integers. Example: The number of cars passing by.\n",
        "Continuous Data\n",
        "- numbers that are of infinite value. Example: The price of an item, or the size of an item\n",
        "Categorical data are values that cannot be measured up against each other. \n",
        "```\n",
        "Example: a color value, or any yes/no values.\n",
        "\n",
        "Ordinal data are like categorical data, but can be measured up against each other. Example: school grades where A is better than B and so on.\n",
        "\n",
        "By knowing the data type of your data source, you will be able to know what technique to use when analyzing them.\n",
        "\n",
        "You will learn more about statistics and analyzing data in the next chapters.\n",
        "\n"
      ],
      "metadata": {
        "id": "uZt_aAxencJC"
      }
    },
    {
      "cell_type": "markdown",
      "source": [
        "# Mean, Median, and Mode\n",
        "What can we learn from looking at a group of numbers?\n",
        "\n",
        "In Machine Learning (and in mathematics) there are often three values that interests us:\n",
        "```\n",
        "Mean - The average value\n",
        "Median - The mid point value\n",
        "Mode - The most common value\n",
        "```\n",
        "Example: We have registered the speed of 13 cars:\n",
        "```\n",
        "speed = [99,86,87,88,111,86,103,87,94,78,77,85,86]\n",
        "```\n",
        "\n",
        "#What is the average, the middle, or the most common speed value?\n",
        "\n",
        "#Mean\n",
        "The mean value is the average value.\n",
        "\n",
        "To calculate the mean, find the sum of all values, and divide the sum by the number of values:\n",
        "```\n",
        "(99+86+87+88+111+86+103+87+94+78+77+85+86) / 13 = 89.77\n",
        "```\n",
        "\n",
        "The NumPy module has a method for this. Learn about the **NumPy module** in our NumPy Tutorial.\n",
        "\n",
        "Example\n",
        "**Use the NumPy.mean() method to find the average speed:**"
      ],
      "metadata": {
        "id": "TZ_LJCBKZyY0"
      }
    },
    {
      "cell_type": "code",
      "source": [
        ""
      ],
      "metadata": {
        "id": "e_VGV5mxh2Bj"
      },
      "execution_count": null,
      "outputs": []
    },
    {
      "cell_type": "code",
      "source": [
        "import numpy\n",
        "\n",
        "speed = [99,86,87,88,111,86,103,87,94,78,77,85,86]\n",
        "\n",
        "x = numpy.mean(speed)\n",
        "\n",
        "print(x)"
      ],
      "metadata": {
        "colab": {
          "base_uri": "https://localhost:8080/"
        },
        "id": "jHYA9nXTgpzt",
        "outputId": "7b5d33b6-cfca-42e1-f8c9-e29bf880787c"
      },
      "execution_count": null,
      "outputs": [
        {
          "output_type": "stream",
          "name": "stdout",
          "text": [
            "89.76923076923077\n"
          ]
        }
      ]
    },
    {
      "cell_type": "markdown",
      "source": [
        "#Median\n",
        "The median value is the value in the middle, after you have **sorted** all the values:\n",
        "\n",
        "77, 78, 85, 86, 86, 86, 87, 87, 88, 94, 99, 103, 111\n",
        "\n",
        "**It is important that the numbers are sorted before you can find the median.**\n",
        "\n",
        "The NumPy module has a method for this:\n",
        "\n",
        "Example\n",
        "\n",
        "Use the **NumPy.median()** method to find the middle value:"
      ],
      "metadata": {
        "id": "MXrbpXbTncKQ"
      }
    },
    {
      "cell_type": "code",
      "source": [
        "import numpy\n",
        "\n",
        "speed = [99,86,87,88,111,86,103,87,94,78,77,85,86]\n",
        "\n",
        "x = numpy.median(speed)\n",
        "\n",
        "print(x)"
      ],
      "metadata": {
        "colab": {
          "base_uri": "https://localhost:8080/"
        },
        "id": "rC8lt8E3h6UX",
        "outputId": "312f8617-30d3-432f-f859-15a4ce39257d"
      },
      "execution_count": null,
      "outputs": [
        {
          "output_type": "stream",
          "name": "stdout",
          "text": [
            "87.0\n"
          ]
        }
      ]
    },
    {
      "cell_type": "markdown",
      "source": [
        "If there are two numbers in the middle, divide the sum of those numbers by two.\n",
        "\n",
        "77, 78, 85, 86, 86, 86, 87, 87, 94, 98, 99, 103\n",
        "\n",
        "(86 + 87) / 2 = 86.5"
      ],
      "metadata": {
        "id": "QAQbC9voncLl"
      }
    },
    {
      "cell_type": "code",
      "source": [
        "import numpy\n",
        "\n",
        "speed = [99,86,87,88,86,103,87,94,78,77,85,86]\n",
        "\n",
        "x = numpy.median(speed)\n",
        "\n",
        "print(x)\n"
      ],
      "metadata": {
        "colab": {
          "base_uri": "https://localhost:8080/"
        },
        "id": "roJgT9xHiEEF",
        "outputId": "593a8cac-bbfb-4f0b-ebfa-956d85f89a0e"
      },
      "execution_count": null,
      "outputs": [
        {
          "output_type": "stream",
          "name": "stdout",
          "text": [
            "86.5\n"
          ]
        }
      ]
    },
    {
      "cell_type": "markdown",
      "source": [
        "# Mode\n",
        "The Mode value is the value that appears the most number of times:\n",
        "```\n",
        "99, 86, 87, 88, 111, 86, 103, 87, 94, 78, 77, 85, 86 = 86\n",
        "```\n",
        "\n",
        "The SciPy module has a method for this. Learn about the SciPy module in our SciPy Tutorial.\n",
        "\n",
        "Example\n",
        "```\n",
        "Use the SciPy mode() method to find the number that appears the most:\n",
        "```"
      ],
      "metadata": {
        "id": "r3V_cut9ncNs"
      }
    },
    {
      "cell_type": "code",
      "source": [
        "from scipy import stats\n",
        "\n",
        "speed = [99,86,87,88,111,86,103,87,94,78,77,85,86]\n",
        "\n",
        "x = stats.mode(speed)\n",
        "\n",
        "\n",
        "print(x)\n"
      ],
      "metadata": {
        "colab": {
          "base_uri": "https://localhost:8080/"
        },
        "id": "pHFKTtLZjnxT",
        "outputId": "f5f0dc1b-a9ca-4a3b-efd4-ec47874813f0"
      },
      "execution_count": null,
      "outputs": [
        {
          "output_type": "stream",
          "name": "stdout",
          "text": [
            "ModeResult(mode=array([86]), count=array([3]))\n"
          ]
        }
      ]
    },
    {
      "cell_type": "markdown",
      "source": [
        "# What is Standard Deviation?\n",
        "Standard deviation is a number that describes how **spread out** the values are.\n",
        "\n",
        "A **low standard deviation** means that most of the **numbers are close to the mean (average)** value.\n",
        "\n",
        "A **high standard deviation** means that the values are spread out over a wider range.\n",
        "\n",
        "Example: This time we have registered the speed of 7 cars:\n",
        "```\n",
        "speed = [86,87,88,86,87,85,86]\n",
        "```\n",
        "\n",
        "The standard deviation is:\n",
        "```\n",
        "0.9\n",
        "```\n",
        "\n",
        "**Meaning that most of the values are within the range of 0.9 from the mean value, which is 86.4.**\n",
        "\n",
        "Let us do the same with a selection of numbers with a wider range:\n",
        "```\n",
        "speed = [32,111,138,28,59,77,97]\n",
        "```\n",
        "\n",
        "The standard deviation is:\n",
        "```\n",
        "37.85\n",
        "```\n",
        "\n",
        "**Meaning that most of the values are within the range of 37.85 from the mean value, which is 77.4.**\n",
        "\n",
        "As you can see, a higher standard deviation indicates that the values are spread out over a wider range.\n",
        "\n",
        "**The NumPy module has a method to calculate the standard deviation:**\n",
        "\n",
        "Example\n",
        "\n",
        "Use the **NumPy std()** method to find the standard deviation:"
      ],
      "metadata": {
        "id": "0_ZyQTFWksVH"
      }
    },
    {
      "cell_type": "code",
      "source": [
        "import numpy\n",
        "\n",
        "speed = [86,87,88,86,87,85,86]\n",
        "\n",
        "x = numpy.std(speed)\n",
        "\n",
        "print(x)"
      ],
      "metadata": {
        "colab": {
          "base_uri": "https://localhost:8080/"
        },
        "id": "xvaTmg2emlUv",
        "outputId": "56d9e09b-13d8-41b3-9d1d-3d67e3a41a12"
      },
      "execution_count": null,
      "outputs": [
        {
          "output_type": "stream",
          "name": "stdout",
          "text": [
            "0.9035079029052513\n"
          ]
        }
      ]
    },
    {
      "cell_type": "code",
      "source": [
        "# wide range values\n",
        "import numpy\n",
        "\n",
        "speed = [32,111,138,28,59,77,97]\n",
        "\n",
        "x = numpy.std(speed)\n",
        "\n",
        "print(x)"
      ],
      "metadata": {
        "colab": {
          "base_uri": "https://localhost:8080/"
        },
        "id": "flKO_46wm2qY",
        "outputId": "71184078-7e31-4f0f-f12b-e4091f7bcccd"
      },
      "execution_count": null,
      "outputs": [
        {
          "output_type": "stream",
          "name": "stdout",
          "text": [
            "37.84501153334721\n"
          ]
        }
      ]
    },
    {
      "cell_type": "markdown",
      "source": [
        "#Variance\n",
        "Variance is another number that indicates how spread out the values are.\n",
        "\n",
        "In fact, if you take the square root of the variance, you get the standard deviation!\n",
        "\n",
        "Or the other way around, if you multiply the standard deviation by itself, you get the variance!\n",
        "\n",
        "To calculate the variance you have to do as follows:\n",
        "\n",
        "1. Find the mean:\n",
        "```\n",
        "(32+111+138+28+59+77+97) / 7 = 77.4\n",
        "```\n",
        "\n",
        "2. For each value: find the difference from the mean:\n",
        "```\n",
        " 32 - 77.4 = -45.4\n",
        "111 - 77.4 =  33.6\n",
        "138 - 77.4 =  60.6\n",
        " 28 - 77.4 = -49.4\n",
        " 59 - 77.4 = -18.4\n",
        " 77 - 77.4 = - 0.4\n",
        " 97 - 77.4 =  19.6\n",
        " ```\n",
        "\n",
        "3. For each difference: find the square value:\n",
        "```\n",
        "(-45.4)2 = 2061.16\n",
        " (33.6)2 = 1128.96\n",
        " (60.6)2 = 3672.36\n",
        "(-49.4)2 = 2440.36\n",
        "(-18.4)2 =  338.56\n",
        "(- 0.4)2 =    0.16\n",
        " (19.6)2 =  384.16\n",
        " ```\n",
        "4. The variance is the average number of these squared differences:\n",
        "```\n",
        "(2061.16+1128.96+3672.36+2440.36+338.56+0.16+384.16) / 7 = 1432.2\n",
        "```\n",
        "Luckily, NumPy has a method to calculate the variance:\n",
        "\n",
        "Example\n",
        "Use the **NumPy var()** method to find the variance:\n",
        "\n"
      ],
      "metadata": {
        "id": "5jFuBA1-m78C"
      }
    },
    {
      "cell_type": "code",
      "source": [
        "import numpy\n",
        "\n",
        "speed = [32,111,138,28,59,77,97]\n",
        "\n",
        "x = numpy.var(speed)\n",
        "\n",
        "print(x)"
      ],
      "metadata": {
        "colab": {
          "base_uri": "https://localhost:8080/"
        },
        "id": "BZatvpGPogTy",
        "outputId": "70b914f4-36e5-4bf6-d437-2c474409bd66"
      },
      "execution_count": null,
      "outputs": [
        {
          "output_type": "stream",
          "name": "stdout",
          "text": [
            "1432.2448979591834\n"
          ]
        }
      ]
    },
    {
      "cell_type": "markdown",
      "source": [
        "# Standard Deviation\n",
        "As we have learned, the formula to find the standard deviation is the square root of the variance:\n",
        "```\n",
        "√1432.25 = 37.85\n",
        "```\n",
        "Or, as in the example from before, use the NumPy to calculate the standard deviation:\n",
        "\n",
        "Example\n",
        "```\n",
        "Use the NumPy std() method to find the standard deviation:\n",
        "```"
      ],
      "metadata": {
        "id": "g4jGVdp0omoo"
      }
    },
    {
      "cell_type": "code",
      "source": [
        "import numpy\n",
        "\n",
        "speed = [32,111,138,28,59,77,97]\n",
        "\n",
        "x = numpy.std(speed)\n",
        "\n",
        "print(x)"
      ],
      "metadata": {
        "colab": {
          "base_uri": "https://localhost:8080/"
        },
        "id": "TQmBMDFAow1r",
        "outputId": "16555941-49a0-4c73-b977-a67346363cc0"
      },
      "execution_count": null,
      "outputs": [
        {
          "output_type": "stream",
          "name": "stdout",
          "text": [
            "37.84501153334721\n"
          ]
        }
      ]
    },
    {
      "cell_type": "markdown",
      "source": [
        "# Symbols\n",
        "\n",
        "**Standard Deviation** is often represented by the symbol Sigma: **σ**\n",
        "\n",
        "**Variance** is often represented by the symbol Sigma Square: **σ2**"
      ],
      "metadata": {
        "id": "lZ1YUeJ1o31C"
      }
    },
    {
      "cell_type": "markdown",
      "source": [
        "# Topic\n",
        "# Machine Learning - Percentiles\n",
        "**What are Percentiles?**\n",
        "\n",
        "Percentiles are used in statistics to give you a number that describes the value that a given percent of the values are lower than.\n",
        "\n",
        "Example: Let's say we have an array of the ages of all the people that lives in a street.\n",
        "```\n",
        "ages = [5,31,43,48,50,41,7,11,15,39,80,82,32,2,8,6,25,36,27,61,31]\n",
        "```\n",
        "**What is the 75. percentile? The answer is 43, meaning that 75% of the people are 43 or younger.**\n",
        "\n",
        "The **NumPy module** has a method for finding the specified **percentile:**\n",
        "\n",
        "Example\n",
        "\n",
        "Use the **NumPy percentile()** method to find the **percentiles:**\n"
      ],
      "metadata": {
        "id": "666OL14e0ewQ"
      }
    },
    {
      "cell_type": "code",
      "source": [
        "import numpy\n",
        "\n",
        "ages = [5,31,43,48,50,41,7,11,15,39,80,82,32,2,8,6,25,36,27,61,31]\n",
        "\n",
        "\n",
        "x = numpy.percentile(ages,75)\n",
        "\n",
        "print(x)"
      ],
      "metadata": {
        "colab": {
          "base_uri": "https://localhost:8080/"
        },
        "id": "JRlkC-gh2VSN",
        "outputId": "0e676947-f495-4d86-cdd5-fb44daa699e7"
      },
      "execution_count": null,
      "outputs": [
        {
          "output_type": "stream",
          "name": "stdout",
          "text": [
            "43.0\n"
          ]
        }
      ]
    },
    {
      "cell_type": "code",
      "source": [
        "# Example\n",
        "#What is the age that 90% of the people are younger than?\n",
        "\n",
        "import numpy\n",
        "\n",
        "ages = [5,31,43,48,50,41,7,11,15,39,80,82,32,2,8,6,25,36,27,61,31]\n",
        "\n",
        "x = numpy.percentile(ages, 90)\n",
        "\n",
        "print(x)"
      ],
      "metadata": {
        "id": "2rE7LVL5o1br",
        "colab": {
          "base_uri": "https://localhost:8080/"
        },
        "outputId": "e3718709-3a90-4fff-a7b7-38f41ed59dab"
      },
      "execution_count": null,
      "outputs": [
        {
          "output_type": "stream",
          "name": "stdout",
          "text": [
            "61.0\n"
          ]
        }
      ]
    },
    {
      "cell_type": "markdown",
      "source": [
        "# Data Distribution\n",
        "upto now we have worked with very small amounts of data in our examples, just to understand the different concepts.\n",
        "\n",
        "In the real world, the data sets are much bigger, but it can be difficult to gather real world data, at least at an early stage of a project.\n",
        "\n",
        "#How Can we Get Big Data Sets?\n",
        "To create big data sets for **testing**, we use the Python module **NumPy**, which comes with a number of methods to create **random data sets**, of **any size.**\n",
        "\n"
      ],
      "metadata": {
        "id": "s3Q1xk4CieIA"
      }
    },
    {
      "cell_type": "code",
      "source": [
        "# Example\n",
        "# Create an array containing 250 random floats between 0 and 5:\n",
        "\n",
        "import numpy\n",
        "\n",
        "x = numpy.random.uniform(0.0, 5.0, 250)\n",
        "\n",
        "print(x)"
      ],
      "metadata": {
        "colab": {
          "base_uri": "https://localhost:8080/"
        },
        "id": "i6BuT2fii7sn",
        "outputId": "d8625a95-9d66-41a1-f231-ef6a57465e90"
      },
      "execution_count": null,
      "outputs": [
        {
          "output_type": "stream",
          "name": "stdout",
          "text": [
            "[1.36009908 0.48479249 4.63219026 0.52233809 2.91905056 4.90798186\n",
            " 1.24942733 0.24115916 0.04058908 3.57074956 4.90661469 4.7224344\n",
            " 1.700094   1.19321852 3.39209164 2.84379117 4.06678685 4.35385273\n",
            " 3.20420723 4.79822738 4.59487206 2.33969355 4.12460762 2.04096385\n",
            " 4.55746123 3.02134886 0.19706321 3.15765159 1.27342692 1.27605315\n",
            " 2.03923137 3.55753463 4.16351975 0.70614793 1.03028241 3.94750238\n",
            " 1.99276352 2.55712438 2.90292166 0.69753373 2.1721174  3.79495844\n",
            " 4.80108642 2.88354502 4.26554992 1.37853393 3.48748904 0.14567027\n",
            " 0.99349727 1.92666901 1.3054992  3.6478283  0.04492527 1.97362186\n",
            " 4.64756962 2.95889514 1.91335372 0.25505998 3.19470763 1.06170981\n",
            " 1.11216645 4.54489565 3.25787624 4.20838192 2.09270098 4.19041765\n",
            " 1.86994137 0.9140079  4.73659651 3.46482767 1.97761421 4.01833293\n",
            " 0.61323138 0.58216933 3.23229895 4.70821669 4.82718687 4.48827481\n",
            " 2.68821055 4.16933906 4.85295684 2.30649945 1.83626907 2.856173\n",
            " 4.53651303 4.73518956 3.07937041 2.12558287 3.5189741  0.54935852\n",
            " 0.80803643 3.21196615 3.44545228 4.05450493 3.60824392 4.32050221\n",
            " 4.28121542 3.61672339 4.68556084 2.96189025 4.48129109 1.90220375\n",
            " 3.9173026  0.1504403  0.4155282  1.9736257  3.78521341 1.11692759\n",
            " 3.89712105 0.12687126 0.20883175 0.82553193 1.00428787 0.17943201\n",
            " 1.63310842 3.0608842  3.35753205 0.8952154  4.26136076 3.39286078\n",
            " 2.60667491 2.25059055 2.93953557 2.18299048 1.53861871 1.16588304\n",
            " 3.8459195  2.03955973 1.13667266 1.36877151 4.0302979  1.74954636\n",
            " 3.71109792 4.30289974 3.04669346 4.20226122 2.77687962 1.0196829\n",
            " 1.71942472 2.07587578 4.62268809 1.239914   3.32801298 4.88574593\n",
            " 4.08676482 3.38747082 3.82814491 0.03141052 3.44063482 0.28783961\n",
            " 1.27987247 0.39140058 0.46199576 1.57062579 4.36633005 3.15767011\n",
            " 2.23979517 1.77011787 3.09963747 2.94233818 3.52629905 4.89659364\n",
            " 4.23149056 2.8386239  2.08545649 1.79155286 0.75647955 3.85529256\n",
            " 2.08773507 3.07242745 2.2896221  3.03412735 1.80210626 2.64988435\n",
            " 4.72697473 1.36469309 0.80098366 2.12045821 3.46489355 3.03417066\n",
            " 1.44245857 1.88318347 0.12196221 3.90684453 4.5670288  4.5966993\n",
            " 0.40682247 4.45713009 2.31107462 2.0388851  4.6746545  0.46999543\n",
            " 3.64619704 4.28362851 2.18309157 3.99943617 4.9307395  1.03620722\n",
            " 1.59688983 4.11768266 2.07922473 4.94277112 3.48147708 0.25708636\n",
            " 4.53466725 1.02795051 4.02406073 4.71106573 2.08315681 3.40221848\n",
            " 1.31207802 1.09329013 1.21105617 1.08863101 0.07125857 1.04159096\n",
            " 2.57741815 3.97704949 1.80514854 0.6188684  0.36301914 1.8871839\n",
            " 3.25810002 4.77370912 0.77909339 0.37105787 3.56575366 4.26623943\n",
            " 4.01868097 2.58892854 4.71184991 2.67722485 0.80102705 2.13731949\n",
            " 3.81271676 2.66041845 0.91291244 3.40193795 0.04835073 0.38903085\n",
            " 0.97327412 3.38654362 1.94070254 2.61988029 2.77108544 4.87604686\n",
            " 2.54944758 0.7479598  1.50193265 2.49435662]\n"
          ]
        }
      ]
    },
    {
      "cell_type": "markdown",
      "source": [
        "#Histogram\n",
        "To visualize the data set we can draw a histogram with the data we collected.\n",
        "\n",
        "We will use the Python module Matplotlib to draw a histogram."
      ],
      "metadata": {
        "id": "ebPoAEk0jFFC"
      }
    },
    {
      "cell_type": "code",
      "source": [
        "#Example\n",
        "#Draw a histogram:\n",
        "\n",
        "import numpy\n",
        "import matplotlib.pyplot as plt\n",
        "\n",
        "x = numpy.random.uniform(0.0, 5.0, 250)\n",
        "\n",
        "plt.hist(x,5)\n",
        "plt.show()"
      ],
      "metadata": {
        "colab": {
          "base_uri": "https://localhost:8080/",
          "height": 265
        },
        "id": "QrkWi806jS4h",
        "outputId": "d93feb90-fe52-493d-92a2-c86972715c90"
      },
      "execution_count": null,
      "outputs": [
        {
          "output_type": "display_data",
          "data": {
            "text/plain": [
              "<Figure size 432x288 with 1 Axes>"
            ],
            "image/png": "[encoded data removed]"
          },
          "metadata": {
            "needs_background": "light"
          }
        }
      ]
    },
    {
      "cell_type": "markdown",
      "source": [
        "#Histogram Explained\n",
        "We use the array from the example above to draw a histogram with 5 bars.\n",
        "\n",
        "The first bar represents how many values in the array are between 0 and 1.\n",
        "\n",
        "The second bar represents how many values are between 1 and 2.\n",
        "\n",
        "Etc.\n",
        "\n",
        "Which gives us this result:\n",
        "```\n",
        "52 values are between 0 and 1\n",
        "48 values are between 1 and 2\n",
        "49 values are between 2 and 3\n",
        "51 values are between 3 and 4\n",
        "50 values are between 4 and 5\n",
        "```\n",
        "Note: The array values are random numbers and will not show the exact same result on your computer."
      ],
      "metadata": {
        "id": "PuW18zoJj1ex"
      }
    },
    {
      "cell_type": "markdown",
      "source": [
        "# Big Data Distributions\n",
        "\n",
        "An array containing 250 values is **not considered very big**, but now you know how to create a random set of values, and by changing the parameters, you can create the data set as big as you want.\n",
        "\n",
        "#Example\n",
        "\n"
      ],
      "metadata": {
        "id": "BUCGTUyhksg5"
      }
    },
    {
      "cell_type": "code",
      "source": [
        "#Create an array with 100000 random numbers, and display them using a histogram with 100 bars:\n",
        "\n",
        "import numpy\n",
        "import matplotlib.pyplot as plt\n",
        "\n",
        "x = numpy.random.uniform(0.0, 5.0, 100000)\n",
        "\n",
        "plt.hist(x, 100)\n",
        "plt.show()"
      ],
      "metadata": {
        "colab": {
          "base_uri": "https://localhost:8080/",
          "height": 265
        },
        "id": "8tKatOrslKWY",
        "outputId": "0df64864-bf23-4fba-d9f2-bfbcc9401520"
      },
      "execution_count": null,
      "outputs": [
        {
          "output_type": "display_data",
          "data": {
            "text/plain": [
              "<Figure size 432x288 with 1 Axes>"
            ],
            "image/png": "[encoded data removed]"
          },
          "metadata": {
            "needs_background": "light"
          }
        }
      ]
    },
    {
      "cell_type": "markdown",
      "source": [
        "#Normal Data Distribution\n",
        "In the above we learned how to create a completely random array, of a given size, and between two given values.\n",
        "\n",
        "Now we will learn how to create an array where the values are concentrated **around a given value called mean**.\n",
        "\n",
        "In probability theory this kind of data distribution is known as the **normal data distribution, or the Gaussian data distribution**, after the mathematician Carl Friedrich Gauss who came up with the formula of this data distribution.\n",
        "\n",
        "#Example"
      ],
      "metadata": {
        "id": "NCEAp-oxlhNL"
      }
    },
    {
      "cell_type": "code",
      "source": [
        "#A typical normal data distribution:\n",
        "\n",
        "import numpy\n",
        "import matplotlib.pyplot as plt\n",
        "\n",
        "x = numpy.random.normal(5.0, 1.0, 100000)\n",
        "\n",
        "plt.hist(x, 100)\n",
        "plt.show()\n",
        "print(x)\n",
        "print('mean',numpy.mean(x))\n",
        "print('standard deviation',numpy.std(x))\n",
        "print('variance',numpy.var(x))"
      ],
      "metadata": {
        "colab": {
          "base_uri": "https://localhost:8080/",
          "height": 334
        },
        "id": "Z_deEi01mgU7",
        "outputId": "9eb092e9-df45-457e-b359-739a8ef5617e"
      },
      "execution_count": null,
      "outputs": [
        {
          "output_type": "display_data",
          "data": {
            "text/plain": [
              "<Figure size 432x288 with 1 Axes>"
            ],
            "image/png": "[encoded data removed]"
          },
          "metadata": {
            "needs_background": "light"
          }
        },
        {
          "output_type": "stream",
          "name": "stdout",
          "text": [
            "[5.30926126 5.116258   4.8322291  ... 4.72545408 5.16774823 3.61542012]\n",
            "mean 5.0005231915275585\n",
            "standard deviation 0.9967534482235904\n",
            "variance 0.9935174365456176\n"
          ]
        }
      ]
    },
    {
      "cell_type": "markdown",
      "source": [
        "**Note: A normal distribution graph is also known as the bell curve because of it's characteristic shape of a bell.**\n",
        "\n",
        "#Histogram Explained\n",
        "We use the array from the numpy.random.normal() method, with 100000 values,  to draw a histogram with 100 bars.\n",
        "\n",
        "We specify that the **mean value is 5.0**, and the **standard deviation is 1.0.**\n",
        "\n",
        "Meaning that the values should be concentrated around 5.0, and rarely further away than 1.0 from the mean.\n",
        "\n",
        "And as you can see from the histogram, most values are between 4.0 and 6.0, with a top at approximately 5.0"
      ],
      "metadata": {
        "id": "qWlfJCyFneHk"
      }
    },
    {
      "cell_type": "code",
      "source": [
        "import numpy\n",
        "import matplotlib.pyplot as plt\n",
        "\n",
        "x = numpy.random.normal(10.0, 2.0, 100000)\n",
        "\n",
        "plt.hist(x, 100)\n",
        "plt.show()\n",
        "print(x)\n",
        "print('mean',numpy.mean(x))\n",
        "print('standard deviation',numpy.std(x))\n",
        "print('variance',numpy.var(x))"
      ],
      "metadata": {
        "colab": {
          "base_uri": "https://localhost:8080/",
          "height": 352
        },
        "id": "rUspazUkn3Wn",
        "outputId": "5633fde8-c141-4eb3-c78f-a400c4399eb3"
      },
      "execution_count": null,
      "outputs": [
        {
          "output_type": "display_data",
          "data": {
            "text/plain": [
              "<Figure size 432x288 with 1 Axes>"
            ],
            "image/png": "[encoded data removed]"
          },
          "metadata": {
            "needs_background": "light"
          }
        },
        {
          "output_type": "stream",
          "name": "stdout",
          "text": [
            "[ 7.97865135  9.57870195 10.12653774 ... 11.41111679  7.88638837\n",
            "  7.29399982]\n",
            "mean 9.991687597563558\n",
            "standard deviation 2.0056240020680836\n",
            "variance 4.022527637671597\n"
          ]
        }
      ]
    },
    {
      "cell_type": "markdown",
      "source": [
        "#Scatter Plot\n",
        "A scatter plot is a diagram where each value in the data set is represented by a dot.\n",
        "The Matplotlib module has a method for drawing scatter plots, it needs two arrays of the same length, one for the values of the x-axis, and one for the values of the y-axis:\n",
        "```\n",
        "x = [5,7,8,7,2,17,2,9,4,11,12,9,6]\n",
        "\n",
        "y = [99,86,87,88,111,86,103,87,94,78,77,85,86]\n",
        "```\n",
        "\n",
        "The **x array** represents the **age** of each car.\n",
        "\n",
        "The **y array** represents the **speed** of each car.\n",
        "\n"
      ],
      "metadata": {
        "id": "i4b7yxvYrRLE"
      }
    },
    {
      "cell_type": "code",
      "source": [
        "#Example\n",
        "#Use the scatter() method to draw a scatter plot diagram:\n",
        "\n",
        "import matplotlib.pyplot as plt\n",
        "\n",
        "x = [5,7,8,7,2,17,2,9,4,11,12,9,6]\n",
        "y = [99,86,87,88,111,86,103,87,94,78,77,85,86]\n",
        "\n",
        "plt.scatter(x, y)\n",
        "plt.show()"
      ],
      "metadata": {
        "colab": {
          "base_uri": "https://localhost:8080/",
          "height": 265
        },
        "id": "MhTES-WMsszT",
        "outputId": "19b976e4-8cb5-4e3a-8089-8ed0c4518a9a"
      },
      "execution_count": null,
      "outputs": [
        {
          "output_type": "display_data",
          "data": {
            "text/plain": [
              "<Figure size 432x288 with 1 Axes>"
            ],
            "image/png": "[encoded data removed]"
          },
          "metadata": {
            "needs_background": "light"
          }
        }
      ]
    },
    {
      "cell_type": "markdown",
      "source": [
        "What we can read from the diagram is that the two fastest cars were both **2 years old**, and the slowest car was **12 years old.**\n",
        "\n",
        "**Note: It seems that the newer the car, the faster it drives, but that could be a coincidence, after all we only registered 13 cars.**"
      ],
      "metadata": {
        "id": "QVpL-8hwtBSr"
      }
    },
    {
      "cell_type": "markdown",
      "source": [
        "In Machine Learning the data sets can contain thousands-, or even millions, of values.\n",
        "\n",
        "You might not have real world data when you are testing an algorithm, you might have to use randomly generated values.\n",
        "\n",
        "As we have learned in the previous chapter, the NumPy module can help us with that!\n",
        "\n",
        "Let us create two arrays that are both filled with 1000 random numbers from a normal data distribution.\n",
        "\n",
        "The first array will have the mean set to 5.0 with a standard deviation of 1.0.\n",
        "\n",
        "The second array will have the mean set to 10.0 with a standard deviation of 2.0:\n",
        "\n",
        "\n"
      ],
      "metadata": {
        "id": "RIUbp7A9tPI6"
      }
    },
    {
      "cell_type": "code",
      "source": [
        "#Example\n",
        "#A scatter plot with 1000 dots:\n",
        "\n",
        "import numpy\n",
        "import matplotlib.pyplot as plt\n",
        "\n",
        "x = numpy.random.normal(5.0, 1.0, 1000)\n",
        "y = numpy.random.normal(10.0, 2.0, 1000)\n",
        "\n",
        "plt.scatter(x, y)\n",
        "plt.show()"
      ],
      "metadata": {
        "colab": {
          "base_uri": "https://localhost:8080/",
          "height": 265
        },
        "id": "UlFXg6JAtna_",
        "outputId": "11f8eca7-d618-4a87-c01b-59f9159842d5"
      },
      "execution_count": null,
      "outputs": [
        {
          "output_type": "display_data",
          "data": {
            "text/plain": [
              "<Figure size 432x288 with 1 Axes>"
            ],
            "image/png": "[encoded data removed]"
          },
          "metadata": {
            "needs_background": "light"
          }
        }
      ]
    },
    {
      "cell_type": "markdown",
      "source": [
        "**We can see that the dots are concentrated around the value 5 on the x-axis, and 10 on the y-axis.**\n",
        "\n",
        "We can also see that the spread is wider on the **y-axis** than on the **x-axis.**"
      ],
      "metadata": {
        "id": "rrYhv7qDtxDY"
      }
    },
    {
      "cell_type": "markdown",
      "source": [
        "#Regression\n",
        "The term regression is used when you try to find the relationship between variables.\n",
        "\n",
        "In Machine Learning, and in statistical modeling, that relationship is used to predict the outcome of future events.\n",
        "\n",
        "#Linear Regression\n",
        "Linear regression uses the relationship between the data-points to draw a straight line through all them.\n",
        "\n",
        "This line can be used to predict future values."
      ],
      "metadata": {
        "id": "m4tEkJgpv6zb"
      }
    },
    {
      "cell_type": "markdown",
      "source": [
        "In Machine Learning, predicting the future is very important.\n",
        "\n",
        "#How Does it Work?\n",
        "Python has methods for finding a relationship between data-points and to draw a line of linear regression. We will show you how to use these methods instead of going through the mathematic formula.\n",
        "\n",
        "In the example below, the x-axis represents age, and the y-axis represents speed. We have registered the age and speed of 13 cars as they were passing a tollbooth. \n",
        "Let us see if the data we collected could be used in a linear regression:\n",
        "\n",
        "#Example"
      ],
      "metadata": {
        "id": "4SKHnBRIweIM"
      }
    },
    {
      "cell_type": "code",
      "source": [
        "#Start by drawing a scatter plot:\n",
        "\n",
        "import matplotlib.pyplot as plt\n",
        "\n",
        "x = [5,7,8,7,2,17,2,9,4,11,12,9,6]\n",
        "y = [99,86,87,88,111,86,103,87,94,78,77,85,86]\n",
        "\n",
        "plt.scatter(x, y)\n",
        "plt.show()"
      ],
      "metadata": {
        "colab": {
          "base_uri": "https://localhost:8080/",
          "height": 265
        },
        "id": "iM3kjBEbwp3O",
        "outputId": "ddd9f81e-6527-4a82-e7ae-6a340b270f68"
      },
      "execution_count": null,
      "outputs": [
        {
          "output_type": "display_data",
          "data": {
            "text/plain": [
              "<Figure size 432x288 with 1 Axes>"
            ],
            "image/png": "[encoded data removed]"
          },
          "metadata": {
            "needs_background": "light"
          }
        }
      ]
    },
    {
      "cell_type": "code",
      "source": [
        "#Import scipy and draw the line of Linear Regression:\n",
        "\n",
        "import matplotlib.pyplot as plt\n",
        "from scipy import stats\n",
        "\n",
        "x = [5,7,8,7,2,17,2,9,4,11,12,9,6]\n",
        "y = [99,86,87,88,111,86,103,87,94,78,77,85,86]\n",
        "\n",
        "slope, intercept, r, p, std_err = stats.linregress(x, y)\n",
        "\n",
        "def myfunc(x):\n",
        "  return slope * x + intercept\n",
        "\n",
        "mymodel = list(map(myfunc, x))\n",
        "print(mymodel)\n",
        "\n",
        "plt.scatter(x, y)\n",
        "plt.plot(x, mymodel)\n",
        "plt.show()"
      ],
      "metadata": {
        "colab": {
          "base_uri": "https://localhost:8080/",
          "height": 302
        },
        "id": "INGxDMmnwLD7",
        "outputId": "79d93ebd-ce1b-4957-b077-7d823bdda108"
      },
      "execution_count": null,
      "outputs": [
        {
          "output_type": "stream",
          "name": "stdout",
          "text": [
            "[94.3495217071376, 90.84694628403238, 89.09565857247976, 90.84694628403238, 99.60338484179543, 73.33406916850626, 99.60338484179543, 87.34437086092716, 96.10080941869022, 83.84179543782193, 82.09050772626932, 87.34437086092716, 92.59823399558499]\n"
          ]
        },
        {
          "output_type": "display_data",
          "data": {
            "text/plain": [
              "<Figure size 432x288 with 1 Axes>"
            ],
            "image/png": "[encoded data removed]"
          },
          "metadata": {
            "needs_background": "light"
          }
        }
      ]
    },
    {
      "cell_type": "markdown",
      "source": [
        "#Example Explained\n",
        "\n",
        "Import the modules you need.\n",
        "\n",
        "You can learn about the Matplotlib module in our Matplotlib Tutorial.\n",
        "\n",
        "You can learn about the SciPy module in our SciPy Tutorial.\n",
        "```\n",
        "import matplotlib.pyplot as plt\n",
        "from scipy import stats\n",
        "```\n",
        "\n",
        "Create the arrays that represent the values of the x and y axis:\n",
        "```\n",
        "x = [5,7,8,7,2,17,2,9,4,11,12,9,6]\n",
        "y = [99,86,87,88,111,86,103,87,94,78,77,85,86]\n",
        "```\n",
        "\n",
        "Execute a method that returns some important key values of Linear Regression:\n",
        "```\n",
        "slope, intercept, r, p, std_err = stats.linregress(x, y)\n",
        "```\n",
        "\n",
        "Create a function that uses the slope and intercept values to return a new value. This new value represents where on the y-axis the corresponding x value will be placed:\n",
        "```\n",
        "def myfunc(x):\n",
        "  return slope * x + intercept\n",
        "```\n",
        "\n",
        "Run each value of the x array through the function. This will result in a new array with new values for the y-axis:\n",
        "```\n",
        "mymodel = list(map(myfunc, x))\n",
        "```\n",
        "\n",
        "Draw the original scatter plot:\n",
        "```\n",
        "plt.scatter(x, y)\n",
        "```\n",
        "\n",
        "Draw the line of linear regression:\n",
        "```\n",
        "plt.plot(x, mymodel)\n",
        "```\n",
        "\n",
        "Display the diagram:\n",
        "```\n",
        "plt.show()\n",
        "```"
      ],
      "metadata": {
        "id": "b0tp8Qh4zfq6"
      }
    },
    {
      "cell_type": "markdown",
      "source": [
        "#R for Relationship\n",
        "It is important to know how the relationship between the values of the x-axis and the values of the y-axis is, if there are no relationship the linear regression can not be used to predict anything.\n",
        "\n",
        "This relationship - **the coefficient of correlation** - is called **r**.\n",
        "\n",
        "The **r value** ranges from **-1 to 1**, where **0** means no relationship, and **1 (and -1)** means **100% related.**\n",
        "\n",
        "Python and the Scipy module will compute this value for you, all you have to do is feed it with the x and y values.\n",
        "\n"
      ],
      "metadata": {
        "id": "VoTuc4n40dmG"
      }
    },
    {
      "cell_type": "code",
      "source": [
        "#Example\n",
        "#How well does my data fit in a linear regression?\n",
        "\n",
        "from scipy import stats\n",
        "\n",
        "x = [5,7,8,7,2,17,2,9,4,11,12,9,6]\n",
        "y = [99,86,87,88,111,86,103,87,94,78,77,85,86]\n",
        "\n",
        "slope, intercept, r, p, std_err = stats.linregress(x, y)\n",
        "\n",
        "print(r)"
      ],
      "metadata": {
        "colab": {
          "base_uri": "https://localhost:8080/"
        },
        "id": "I888OU4j03Ae",
        "outputId": "82fee293-4409-4ef0-a3e4-0073b85da827"
      },
      "execution_count": null,
      "outputs": [
        {
          "output_type": "stream",
          "name": "stdout",
          "text": [
            "-0.758591524376155\n"
          ]
        }
      ]
    },
    {
      "cell_type": "markdown",
      "source": [
        "**Note: The result -0.75 shows that there is a relationship, not perfect, but it indicates that we could use linear regression in future predictions.**"
      ],
      "metadata": {
        "id": "uP8Ex8TL1NfJ"
      }
    },
    {
      "cell_type": "markdown",
      "source": [
        "#Predict Future Values\n",
        "Now we can use the information we have gathered to predict future values.\n",
        "\n",
        "Example: Let us try to predict the speed of a 10 years old car.\n",
        "\n",
        "To do so, we need the same myfunc() function from the example above:\n",
        "```\n",
        "def myfunc(x):\n",
        "  return slope * x + intercept\n",
        "```\n",
        "\n"
      ],
      "metadata": {
        "id": "9_FuozLo1dfY"
      }
    },
    {
      "cell_type": "code",
      "source": [
        "#Example\n",
        "#Predict the speed of a 10 years old car:\n",
        "\n",
        "from scipy import stats\n",
        "\n",
        "x = [5,7,8,7,2,17,2,9,4,11,12,9,6]\n",
        "y = [99,86,87,88,111,86,103,87,94,78,77,85,86]\n",
        "\n",
        "slope, intercept, r, p, std_err = stats.linregress(x, y)\n",
        "\n",
        "def myfunc(x):\n",
        "  return slope * x + intercept\n",
        "\n",
        "speed = myfunc(10)\n",
        "\n",
        "print(speed)"
      ],
      "metadata": {
        "colab": {
          "base_uri": "https://localhost:8080/"
        },
        "id": "bcKl3_Nw1oeC",
        "outputId": "34c01a45-aa01-4b13-bc6e-cbc201cf539d"
      },
      "execution_count": null,
      "outputs": [
        {
          "output_type": "stream",
          "name": "stdout",
          "text": [
            "85.59308314937454\n"
          ]
        }
      ]
    },
    {
      "cell_type": "markdown",
      "source": [
        "![liner regress.PNG](data:image/png;base64,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)"
      ],
      "metadata": {
        "id": "7010eA9R60A2"
      }
    },
    {
      "cell_type": "markdown",
      "source": [
        "#Bad Fit?\n",
        "Let us create an example where linear regression would not be the best method to predict future values.\n",
        "\n",
        "#Example\n",
        "\n",
        "**These values for the x- and y-axis should result in a very bad fit for linear regression:**"
      ],
      "metadata": {
        "id": "XBprIKlq68r-"
      }
    },
    {
      "cell_type": "code",
      "source": [
        "import matplotlib.pyplot as plt\n",
        "from scipy import stats\n",
        "\n",
        "x = [89,43,36,36,95,10,66,34,38,20,26,29,48,64,6,5,36,66,72,40]\n",
        "y = [21,46,3,35,67,95,53,72,58,10,26,34,90,33,38,20,56,2,47,15]\n",
        "\n",
        "slope, intercept, r, p, std_err = stats.linregress(x, y)\n",
        "\n",
        "def myfunc(x):\n",
        "  return slope * x + intercept\n",
        "\n",
        "mymodel = list(map(myfunc, x))\n",
        "\n",
        "plt.scatter(x, y)\n",
        "plt.plot(x, mymodel)\n",
        "plt.show()"
      ],
      "metadata": {
        "colab": {
          "base_uri": "https://localhost:8080/",
          "height": 265
        },
        "id": "J78IqgBq7LsE",
        "outputId": "1492bc03-a3fc-4b6e-abd0-656674fc3fca"
      },
      "execution_count": null,
      "outputs": [
        {
          "output_type": "display_data",
          "data": {
            "text/plain": [
              "<Figure size 432x288 with 1 Axes>"
            ],
            "image/png": "[encoded data removed]"
          },
          "metadata": {
            "needs_background": "light"
          }
        }
      ]
    },
    {
      "cell_type": "markdown",
      "source": [
        "And the r for relationship?\n",
        "\n",
        "# Example\n",
        "\n",
        "You should get a very low r value."
      ],
      "metadata": {
        "id": "f2ttVmWV7VRr"
      }
    },
    {
      "cell_type": "code",
      "source": [
        "import numpy\n",
        "from scipy import stats\n",
        "\n",
        "x = [89,43,36,36,95,10,66,34,38,20,26,29,48,64,6,5,36,66,72,40]\n",
        "y = [21,46,3,35,67,95,53,72,58,10,26,34,90,33,38,20,56,2,47,15]\n",
        "\n",
        "slope, intercept, r, p, std_err = stats.linregress(x, y)\n",
        "\n",
        "print(r)"
      ],
      "metadata": {
        "colab": {
          "base_uri": "https://localhost:8080/"
        },
        "id": "-2AG0_c87X0i",
        "outputId": "14d29953-183c-4413-f05e-5d20ae8a0968"
      },
      "execution_count": null,
      "outputs": [
        {
          "output_type": "stream",
          "name": "stdout",
          "text": [
            "0.01331814154297491\n"
          ]
        }
      ]
    },
    {
      "cell_type": "markdown",
      "source": [
        "#The result: 0.013 indicates a very bad relationship, and tells us that this data set is not suitable for linear regression."
      ],
      "metadata": {
        "id": "OJsTX_Sl7ma5"
      }
    },
    {
      "cell_type": "code",
      "source": [
        ""
      ],
      "metadata": {
        "id": "n6EKkftJ7oqM"
      },
      "execution_count": null,
      "outputs": []
    },
    {
      "cell_type": "code",
      "source": [
        ""
      ],
      "metadata": {
        "id": "CMRc_Ws07QqG"
      },
      "execution_count": null,
      "outputs": []
    },
    {
      "cell_type": "markdown",
      "source": [
        "#Machine Learning - Polynomial Regression\n",
        "If your data points clearly will not fit a linear regression (a straight line through all data points), it might be ideal for polynomial regression.\n",
        "\n",
        "Polynomial regression, like linear regression, uses the relationship between the variables x and y to find the best way to draw a line through the data points.\n",
        "\n",
        "How Does it Work?\n",
        "Python has methods for finding a relationship between data-points and to draw a line of polynomial regression. We will show you how to use these methods instead of going through the mathematic formula.\n",
        "\n",
        "In the example below, we have registered 18 cars as they were passing a certain tollbooth.\n",
        "\n",
        "We have registered the car's speed, and the time of day (hour) the passing occurred.\n",
        "\n",
        "The x-axis represents the hours of the day and the y-axis represents the speed:\n",
        "\n"
      ],
      "metadata": {
        "id": "7vCpb2TMGFhm"
      }
    },
    {
      "cell_type": "code",
      "source": [
        "#Example\n",
        "#Start by drawing a scatter plot:\n",
        "\n",
        "import matplotlib.pyplot as plt\n",
        "\n",
        "x = [1,2,3,5,6,7,8,9,10,12,13,14,15,16,18,19,21,22]\n",
        "y = [100,90,80,60,60,55,60,65,70,70,75,76,78,79,90,99,99,100]\n",
        "\n",
        "plt.scatter(x, y)\n",
        "plt.show()"
      ],
      "metadata": {
        "colab": {
          "base_uri": "https://localhost:8080/",
          "height": 265
        },
        "id": "lj1i-wa7G83U",
        "outputId": "5df41e94-86d3-4966-9711-b9ca12902967"
      },
      "execution_count": null,
      "outputs": [
        {
          "output_type": "display_data",
          "data": {
            "text/plain": [
              "<Figure size 432x288 with 1 Axes>"
            ],
            "image/png": "[encoded data removed]"
          },
          "metadata": {
            "needs_background": "light"
          }
        }
      ]
    },
    {
      "cell_type": "code",
      "source": [
        "#Import numpy and matplotlib then draw the line of Polynomial Regression:\n",
        "\n",
        "import numpy\n",
        "import matplotlib.pyplot as plt\n",
        "\n",
        "#Create the arrays that represent the values of the x and y axis:\n",
        "\n",
        "x = [1,2,3,5,6,7,8,9,10,12,13,14,15,16,18,19,21,22]\n",
        "y = [100,90,80,60,60,55,60,65,70,70,75,76,78,79,90,99,99,100]\n",
        "\n",
        "#NumPy has a method that lets us make a polynomial model:\n",
        "\n",
        "mymodel = numpy.poly1d(numpy.polyfit(x, y, 3))\n",
        "\n",
        "#Then specify how the line will display, we start at position 1, and end at position 22:\n",
        "\n",
        "myline = numpy.linspace(1, 22, 100)\n",
        "\n",
        "#Draw the original scatter plot:\n",
        "\n",
        "plt.scatter(x, y)\n",
        "\n",
        "#Draw the line of polynomial regression:\n",
        "\n",
        "plt.plot(myline, mymodel(myline))\n",
        "\n",
        "#Display the diagram:\n",
        "\n",
        "plt.show()"
      ],
      "metadata": {
        "id": "DBESDmIk1R-Y",
        "colab": {
          "base_uri": "https://localhost:8080/",
          "height": 265
        },
        "outputId": "5cd9576b-e33c-4040-ae78-fd024841f750"
      },
      "execution_count": null,
      "outputs": [
        {
          "output_type": "display_data",
          "data": {
            "text/plain": [
              "<Figure size 432x288 with 1 Axes>"
            ],
            "image/png": "[encoded data removed]"
          },
          "metadata": {
            "needs_background": "light"
          }
        }
      ]
    },
    {
      "cell_type": "markdown",
      "source": [
        "R-Squared\n",
        "It is important to know how well the relationship between the values of the x- and y-axis is, if there are no relationship the polynomial regression can not be used to predict anything.\n",
        "\n",
        "The relationship is measured with a value called the r-squared.\n",
        "\n",
        "The r-squared value ranges from 0 to 1, where 0 means no relationship, and 1 means 100% related.\n",
        "\n",
        "Python and the Sklearn module will compute this value for you, all you have to do is feed it with the x and y arrays:\n",
        "\n"
      ],
      "metadata": {
        "id": "ZjT1k1o3IBtE"
      }
    },
    {
      "cell_type": "code",
      "source": [
        "#Example\n",
        "#How well does my data fit in a polynomial regression?\n",
        "\n",
        "import numpy\n",
        "from sklearn.metrics import r2_score\n",
        "\n",
        "x = [1,2,3,5,6,7,8,9,10,12,13,14,15,16,18,19,21,22]\n",
        "y = [100,90,80,60,60,55,60,65,70,70,75,76,78,79,90,99,99,100]\n",
        "\n",
        "mymodel = numpy.poly1d(numpy.polyfit(x, y, 3))\n",
        "\n",
        "print(r2_score(y, mymodel(x)))\n"
      ],
      "metadata": {
        "id": "r_-DifLu1Bur",
        "colab": {
          "base_uri": "https://localhost:8080/"
        },
        "outputId": "f1e48cb9-ca11-462d-9838-bd20ebc92bcc"
      },
      "execution_count": null,
      "outputs": [
        {
          "output_type": "stream",
          "name": "stdout",
          "text": [
            "0.9432150416451025\n"
          ]
        }
      ]
    },
    {
      "cell_type": "markdown",
      "source": [
        "**Note: The result 0.94 shows that there is a very good relationship, and we can use polynomial regression in future predictions.**"
      ],
      "metadata": {
        "id": "8QpzvhacJFVb"
      }
    },
    {
      "cell_type": "markdown",
      "source": [
        "Predict Future Values\n",
        "Now we can use the information we have gathered to predict future values.\n",
        "\n",
        "Example: Let us try to predict the speed of a car that passes the tollbooth at around 17 P.M:\n",
        "\n",
        "To do so, we need the same mymodel array from the example above:\n",
        "```\n",
        "mymodel = numpy.poly1d(numpy.polyfit(x, y, 3))\n",
        "```\n",
        "\n",
        "\n"
      ],
      "metadata": {
        "id": "pncV1gUVJZHa"
      }
    },
    {
      "cell_type": "code",
      "source": [
        "#Example\n",
        "#Predict the speed of a car passing at 17 P.M:\n",
        "\n",
        "import numpy\n",
        "from sklearn.metrics import r2_score\n",
        "\n",
        "x = [1,2,3,5,6,7,8,9,10,12,13,14,15,16,18,19,21,22]\n",
        "y = [100,90,80,60,60,55,60,65,70,70,75,76,78,79,90,99,99,100]\n",
        "\n",
        "mymodel = numpy.poly1d(numpy.polyfit(x, y, 3))\n",
        "\n",
        "speed = mymodel(17)\n",
        "print(speed)"
      ],
      "metadata": {
        "id": "mBqx2tR_z597",
        "colab": {
          "base_uri": "https://localhost:8080/"
        },
        "outputId": "ac014fbc-6071-4a55-91d0-8929bec8e7a0"
      },
      "execution_count": null,
      "outputs": [
        {
          "output_type": "stream",
          "name": "stdout",
          "text": [
            "88.87331269697991\n"
          ]
        }
      ]
    },
    {
      "cell_type": "markdown",
      "source": [
        "The example predicted a speed to be 88.87, which we also could read from the diagram:\n",
        "![polyreg.PNG](data:image/png;base64,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)"
      ],
      "metadata": {
        "id": "ym8-ufmlJhrI"
      }
    },
    {
      "cell_type": "markdown",
      "source": [
        "#Bad Fit?\n",
        "Let us create an example where polynomial regression would not be the best method to predict future values.\n",
        "\n"
      ],
      "metadata": {
        "id": "HcmPw3HXJ-Oa"
      }
    },
    {
      "cell_type": "code",
      "source": [
        "#Example\n",
        "#These values for the x- and y-axis should result in a very bad fit for polynomial regression:\n",
        "\n",
        "import numpy\n",
        "import matplotlib.pyplot as plt\n",
        "\n",
        "x = [89,43,36,36,95,10,66,34,38,20,26,29,48,64,6,5,36,66,72,40]\n",
        "y = [21,46,3,35,67,95,53,72,58,10,26,34,90,33,38,20,56,2,47,15]\n",
        "\n",
        "mymodel = numpy.poly1d(numpy.polyfit(x, y, 3))\n",
        "\n",
        "myline = numpy.linspace(2, 95, 100)\n",
        "\n",
        "plt.scatter(x, y)\n",
        "plt.plot(myline, mymodel(myline))\n",
        "plt.show()"
      ],
      "metadata": {
        "colab": {
          "base_uri": "https://localhost:8080/",
          "height": 265
        },
        "id": "rOF-aPReKGik",
        "outputId": "9fbf63b3-5f2a-47e5-9202-2d0573af29d3"
      },
      "execution_count": null,
      "outputs": [
        {
          "output_type": "display_data",
          "data": {
            "text/plain": [
              "<Figure size 432x288 with 1 Axes>"
            ],
            "image/png": "[encoded data removed]"
          },
          "metadata": {
            "needs_background": "light"
          }
        }
      ]
    },
    {
      "cell_type": "markdown",
      "source": [
        "#And the r-squared value?\n",
        "\n"
      ],
      "metadata": {
        "id": "OGU9VFCsKPGL"
      }
    },
    {
      "cell_type": "code",
      "source": [
        "#Example\n",
        "#You should get a very low r-squared value.\n",
        "\n",
        "import numpy\n",
        "from sklearn.metrics import r2_score\n",
        "\n",
        "x = [89,43,36,36,95,10,66,34,38,20,26,29,48,64,6,5,36,66,72,40]\n",
        "y = [21,46,3,35,67,95,53,72,58,10,26,34,90,33,38,20,56,2,47,15]\n",
        "\n",
        "mymodel = numpy.poly1d(numpy.polyfit(x, y, 3))\n",
        "\n",
        "print(r2_score(y, mymodel(x)))"
      ],
      "metadata": {
        "colab": {
          "base_uri": "https://localhost:8080/"
        },
        "id": "_ROCyHdiKSfE",
        "outputId": "45ae5716-f5a7-4399-bd89-ff2261fb62a6"
      },
      "execution_count": null,
      "outputs": [
        {
          "output_type": "stream",
          "name": "stdout",
          "text": [
            "0.009952707566680652\n"
          ]
        }
      ]
    },
    {
      "cell_type": "markdown",
      "source": [
        "**The result:** 0.00995 indicates a very bad relationship, and tells us that this data set is not suitable for polynomial regression."
      ],
      "metadata": {
        "id": "Ig6XimnPKecK"
      }
    },
    {
      "cell_type": "code",
      "source": [
        ""
      ],
      "metadata": {
        "id": "4F1GHvM4KK1E"
      },
      "execution_count": null,
      "outputs": []
    },
    {
      "cell_type": "markdown",
      "source": [
        "#Multiple Regression\n",
        "Multiple regression is like linear regression, but with more than one independent value, meaning that we try to predict a value based on two or more variables.\n"
      ],
      "metadata": {
        "id": "PM3KzUvKcAbm"
      }
    },
    {
      "cell_type": "markdown",
      "source": [
        "#How Does it Work?\n",
        "In Python we have modules that will do the work for us. Start by importing the Pandas module."
      ],
      "metadata": {
        "id": "PiUexUcYciyY"
      }
    },
    {
      "cell_type": "code",
      "source": [
        "import pandas as pd\n",
        "df=pd.read_csv('/content/cars.csv')"
      ],
      "metadata": {
        "id": "o9xMDlN0cF2C"
      },
      "execution_count": null,
      "outputs": []
    },
    {
      "cell_type": "code",
      "source": [
        "df"
      ],
      "metadata": {
        "colab": {
          "base_uri": "https://localhost:8080/",
          "height": 1000
        },
        "id": "A9Bz5gPtc0vw",
        "outputId": "d4387f15-fea0-4a05-f9a1-29fa14dbd118"
      },
      "execution_count": null,
      "outputs": [
        {
          "output_type": "execute_result",
          "data": {
            "text/plain": [
              "           Car       Model  Volume  Weight  CO2\n",
              "0       Toyoty        Aygo    1000     790   99\n",
              "1   Mitsubishi  Space Star    1200    1160   95\n",
              "2        Skoda      Citigo    1000     929   95\n",
              "3         Fiat         500     900     865   90\n",
              "4         Mini      Cooper    1500    1140  105\n",
              "5           VW         Up!    1000     929  105\n",
              "6        Skoda       Fabia    1400    1109   90\n",
              "7     Mercedes     A-Class    1500    1365   92\n",
              "8         Ford      Fiesta    1500    1112   98\n",
              "9         Audi          A1    1600    1150   99\n",
              "10     Hyundai         I20    1100     980   99\n",
              "11      Suzuki       Swift    1300     990  101\n",
              "12        Ford      Fiesta    1000    1112   99\n",
              "13       Honda       Civic    1600    1252   94\n",
              "14      Hundai         I30    1600    1326   97\n",
              "15        Opel       Astra    1600    1330   97\n",
              "16         BMW           1    1600    1365   99\n",
              "17       Mazda           3    2200    1280  104\n",
              "18       Skoda       Rapid    1600    1119  104\n",
              "19        Ford       Focus    2000    1328  105\n",
              "20        Ford      Mondeo    1600    1584   94\n",
              "21        Opel    Insignia    2000    1428   99\n",
              "22    Mercedes     C-Class    2100    1365   99\n",
              "23       Skoda     Octavia    1600    1415   99\n",
              "24       Volvo         S60    2000    1415   99\n",
              "25    Mercedes         CLA    1500    1465  102\n",
              "26        Audi          A4    2000    1490  104\n",
              "27        Audi          A6    2000    1725  114\n",
              "28       Volvo         V70    1600    1523  109\n",
              "29         BMW           5    2000    1705  114\n",
              "30    Mercedes     E-Class    2100    1605  115\n",
              "31       Volvo        XC70    2000    1746  117\n",
              "32        Ford       B-Max    1600    1235  104\n",
              "33         BMW         216    1600    1390  108\n",
              "34        Opel      Zafira    1600    1405  109\n",
              "35    Mercedes         SLK    2500    1395  120"
            ],
            "text/html": [
              "\n",
              "  <div id=\"df-16021ca1-06b2-40d3-90d7-7c4ccbdf6f24\">\n",
              "    <div class=\"colab-df-container\">\n",
              "      <div>\n",
              "<style scoped>\n",
              "    .dataframe tbody tr th:only-of-type {\n",
              "        vertical-align: middle;\n",
              "    }\n",
              "\n",
              "    .dataframe tbody tr th {\n",
              "        vertical-align: top;\n",
              "    }\n",
              "\n",
              "    .dataframe thead th {\n",
              "        text-align: right;\n",
              "    }\n",
              "</style>\n",
              "<table border=\"1\" class=\"dataframe\">\n",
              "  <thead>\n",
              "    <tr style=\"text-align: right;\">\n",
              "      <th></th>\n",
              "      <th>Car</th>\n",
              "      <th>Model</th>\n",
              "      <th>Volume</th>\n",
              "      <th>Weight</th>\n",
              "      <th>CO2</th>\n",
              "    </tr>\n",
              "  </thead>\n",
              "  <tbody>\n",
              "    <tr>\n",
              "      <th>0</th>\n",
              "      <td>Toyoty</td>\n",
              "      <td>Aygo</td>\n",
              "      <td>1000</td>\n",
              "      <td>790</td>\n",
              "      <td>99</td>\n",
              "    </tr>\n",
              "    <tr>\n",
              "      <th>1</th>\n",
              "      <td>Mitsubishi</td>\n",
              "      <td>Space Star</td>\n",
              "      <td>1200</td>\n",
              "      <td>1160</td>\n",
              "      <td>95</td>\n",
              "    </tr>\n",
              "    <tr>\n",
              "      <th>2</th>\n",
              "      <td>Skoda</td>\n",
              "      <td>Citigo</td>\n",
              "      <td>1000</td>\n",
              "      <td>929</td>\n",
              "      <td>95</td>\n",
              "    </tr>\n",
              "    <tr>\n",
              "      <th>3</th>\n",
              "      <td>Fiat</td>\n",
              "      <td>500</td>\n",
              "      <td>900</td>\n",
              "      <td>865</td>\n",
              "      <td>90</td>\n",
              "    </tr>\n",
              "    <tr>\n",
              "      <th>4</th>\n",
              "      <td>Mini</td>\n",
              "      <td>Cooper</td>\n",
              "      <td>1500</td>\n",
              "      <td>1140</td>\n",
              "      <td>105</td>\n",
              "    </tr>\n",
              "    <tr>\n",
              "      <th>5</th>\n",
              "      <td>VW</td>\n",
              "      <td>Up!</td>\n",
              "      <td>1000</td>\n",
              "      <td>929</td>\n",
              "      <td>105</td>\n",
              "    </tr>\n",
              "    <tr>\n",
              "      <th>6</th>\n",
              "      <td>Skoda</td>\n",
              "      <td>Fabia</td>\n",
              "      <td>1400</td>\n",
              "      <td>1109</td>\n",
              "      <td>90</td>\n",
              "    </tr>\n",
              "    <tr>\n",
              "      <th>7</th>\n",
              "      <td>Mercedes</td>\n",
              "      <td>A-Class</td>\n",
              "      <td>1500</td>\n",
              "      <td>1365</td>\n",
              "      <td>92</td>\n",
              "    </tr>\n",
              "    <tr>\n",
              "      <th>8</th>\n",
              "      <td>Ford</td>\n",
              "      <td>Fiesta</td>\n",
              "      <td>1500</td>\n",
              "      <td>1112</td>\n",
              "      <td>98</td>\n",
              "    </tr>\n",
              "    <tr>\n",
              "      <th>9</th>\n",
              "      <td>Audi</td>\n",
              "      <td>A1</td>\n",
              "      <td>1600</td>\n",
              "      <td>1150</td>\n",
              "      <td>99</td>\n",
              "    </tr>\n",
              "    <tr>\n",
              "      <th>10</th>\n",
              "      <td>Hyundai</td>\n",
              "      <td>I20</td>\n",
              "      <td>1100</td>\n",
              "      <td>980</td>\n",
              "      <td>99</td>\n",
              "    </tr>\n",
              "    <tr>\n",
              "      <th>11</th>\n",
              "      <td>Suzuki</td>\n",
              "      <td>Swift</td>\n",
              "      <td>1300</td>\n",
              "      <td>990</td>\n",
              "      <td>101</td>\n",
              "    </tr>\n",
              "    <tr>\n",
              "      <th>12</th>\n",
              "      <td>Ford</td>\n",
              "      <td>Fiesta</td>\n",
              "      <td>1000</td>\n",
              "      <td>1112</td>\n",
              "      <td>99</td>\n",
              "    </tr>\n",
              "    <tr>\n",
              "      <th>13</th>\n",
              "      <td>Honda</td>\n",
              "      <td>Civic</td>\n",
              "      <td>1600</td>\n",
              "      <td>1252</td>\n",
              "      <td>94</td>\n",
              "    </tr>\n",
              "    <tr>\n",
              "      <th>14</th>\n",
              "      <td>Hundai</td>\n",
              "      <td>I30</td>\n",
              "      <td>1600</td>\n",
              "      <td>1326</td>\n",
              "      <td>97</td>\n",
              "    </tr>\n",
              "    <tr>\n",
              "      <th>15</th>\n",
              "      <td>Opel</td>\n",
              "      <td>Astra</td>\n",
              "      <td>1600</td>\n",
              "      <td>1330</td>\n",
              "      <td>97</td>\n",
              "    </tr>\n",
              "    <tr>\n",
              "      <th>16</th>\n",
              "      <td>BMW</td>\n",
              "      <td>1</td>\n",
              "      <td>1600</td>\n",
              "      <td>1365</td>\n",
              "      <td>99</td>\n",
              "    </tr>\n",
              "    <tr>\n",
              "      <th>17</th>\n",
              "      <td>Mazda</td>\n",
              "      <td>3</td>\n",
              "      <td>2200</td>\n",
              "      <td>1280</td>\n",
              "      <td>104</td>\n",
              "    </tr>\n",
              "    <tr>\n",
              "      <th>18</th>\n",
              "      <td>Skoda</td>\n",
              "      <td>Rapid</td>\n",
              "      <td>1600</td>\n",
              "      <td>1119</td>\n",
              "      <td>104</td>\n",
              "    </tr>\n",
              "    <tr>\n",
              "      <th>19</th>\n",
              "      <td>Ford</td>\n",
              "      <td>Focus</td>\n",
              "      <td>2000</td>\n",
              "      <td>1328</td>\n",
              "      <td>105</td>\n",
              "    </tr>\n",
              "    <tr>\n",
              "      <th>20</th>\n",
              "      <td>Ford</td>\n",
              "      <td>Mondeo</td>\n",
              "      <td>1600</td>\n",
              "      <td>1584</td>\n",
              "      <td>94</td>\n",
              "    </tr>\n",
              "    <tr>\n",
              "      <th>21</th>\n",
              "      <td>Opel</td>\n",
              "      <td>Insignia</td>\n",
              "      <td>2000</td>\n",
              "      <td>1428</td>\n",
              "      <td>99</td>\n",
              "    </tr>\n",
              "    <tr>\n",
              "      <th>22</th>\n",
              "      <td>Mercedes</td>\n",
              "      <td>C-Class</td>\n",
              "      <td>2100</td>\n",
              "      <td>1365</td>\n",
              "      <td>99</td>\n",
              "    </tr>\n",
              "    <tr>\n",
              "      <th>23</th>\n",
              "      <td>Skoda</td>\n",
              "      <td>Octavia</td>\n",
              "      <td>1600</td>\n",
              "      <td>1415</td>\n",
              "      <td>99</td>\n",
              "    </tr>\n",
              "    <tr>\n",
              "      <th>24</th>\n",
              "      <td>Volvo</td>\n",
              "      <td>S60</td>\n",
              "      <td>2000</td>\n",
              "      <td>1415</td>\n",
              "      <td>99</td>\n",
              "    </tr>\n",
              "    <tr>\n",
              "      <th>25</th>\n",
              "      <td>Mercedes</td>\n",
              "      <td>CLA</td>\n",
              "      <td>1500</td>\n",
              "      <td>1465</td>\n",
              "      <td>102</td>\n",
              "    </tr>\n",
              "    <tr>\n",
              "      <th>26</th>\n",
              "      <td>Audi</td>\n",
              "      <td>A4</td>\n",
              "      <td>2000</td>\n",
              "      <td>1490</td>\n",
              "      <td>104</td>\n",
              "    </tr>\n",
              "    <tr>\n",
              "      <th>27</th>\n",
              "      <td>Audi</td>\n",
              "      <td>A6</td>\n",
              "      <td>2000</td>\n",
              "      <td>1725</td>\n",
              "      <td>114</td>\n",
              "    </tr>\n",
              "    <tr>\n",
              "      <th>28</th>\n",
              "      <td>Volvo</td>\n",
              "      <td>V70</td>\n",
              "      <td>1600</td>\n",
              "      <td>1523</td>\n",
              "      <td>109</td>\n",
              "    </tr>\n",
              "    <tr>\n",
              "      <th>29</th>\n",
              "      <td>BMW</td>\n",
              "      <td>5</td>\n",
              "      <td>2000</td>\n",
              "      <td>1705</td>\n",
              "      <td>114</td>\n",
              "    </tr>\n",
              "    <tr>\n",
              "      <th>30</th>\n",
              "      <td>Mercedes</td>\n",
              "      <td>E-Class</td>\n",
              "      <td>2100</td>\n",
              "      <td>1605</td>\n",
              "      <td>115</td>\n",
              "    </tr>\n",
              "    <tr>\n",
              "      <th>31</th>\n",
              "      <td>Volvo</td>\n",
              "      <td>XC70</td>\n",
              "      <td>2000</td>\n",
              "      <td>1746</td>\n",
              "      <td>117</td>\n",
              "    </tr>\n",
              "    <tr>\n",
              "      <th>32</th>\n",
              "      <td>Ford</td>\n",
              "      <td>B-Max</td>\n",
              "      <td>1600</td>\n",
              "      <td>1235</td>\n",
              "      <td>104</td>\n",
              "    </tr>\n",
              "    <tr>\n",
              "      <th>33</th>\n",
              "      <td>BMW</td>\n",
              "      <td>216</td>\n",
              "      <td>1600</td>\n",
              "      <td>1390</td>\n",
              "      <td>108</td>\n",
              "    </tr>\n",
              "    <tr>\n",
              "      <th>34</th>\n",
              "      <td>Opel</td>\n",
              "      <td>Zafira</td>\n",
              "      <td>1600</td>\n",
              "      <td>1405</td>\n",
              "      <td>109</td>\n",
              "    </tr>\n",
              "    <tr>\n",
              "      <th>35</th>\n",
              "      <td>Mercedes</td>\n",
              "      <td>SLK</td>\n",
              "      <td>2500</td>\n",
              "      <td>1395</td>\n",
              "      <td>120</td>\n",
              "    </tr>\n",
              "  </tbody>\n",
              "</table>\n",
              "</div>\n",
              "      <button class=\"colab-df-convert\" onclick=\"convertToInteractive('df-16021ca1-06b2-40d3-90d7-7c4ccbdf6f24')\"\n",
              "              title=\"Convert this dataframe to an interactive table.\"\n",
              "              style=\"display:none;\">\n",
              "        \n",
              "  <svg xmlns=\"http://www.w3.org/2000/svg\" height=\"24px\"viewBox=\"0 0 24 24\"\n",
              "       width=\"24px\">\n",
              "    <path d=\"M0 0h24v24H0V0z\" fill=\"none\"/>\n",
              "    <path d=\"M18.56 5.44l.94 2.06.94-2.06 2.06-.94-2.06-.94-.94-2.06-.94 2.06-2.06.94zm-11 1L8.5 8.5l.94-2.06 2.06-.94-2.06-.94L8.5 2.5l-.94 2.06-2.06.94zm10 10l.94 2.06.94-2.06 2.06-.94-2.06-.94-.94-2.06-.94 2.06-2.06.94z\"/><path d=\"M17.41 7.96l-1.37-1.37c-.4-.4-.92-.59-1.43-.59-.52 0-1.04.2-1.43.59L10.3 9.45l-7.72 7.72c-.78.78-.78 2.05 0 2.83L4 21.41c.39.39.9.59 1.41.59.51 0 1.02-.2 1.41-.59l7.78-7.78 2.81-2.81c.8-.78.8-2.07 0-2.86zM5.41 20L4 18.59l7.72-7.72 1.47 1.35L5.41 20z\"/>\n",
              "  </svg>\n",
              "      </button>\n",
              "      \n",
              "  <style>\n",
              "    .colab-df-container {\n",
              "      display:flex;\n",
              "      flex-wrap:wrap;\n",
              "      gap: 12px;\n",
              "    }\n",
              "\n",
              "    .colab-df-convert {\n",
              "      background-color: #E8F0FE;\n",
              "      border: none;\n",
              "      border-radius: 50%;\n",
              "      cursor: pointer;\n",
              "      display: none;\n",
              "      fill: #1967D2;\n",
              "      height: 32px;\n",
              "      padding: 0 0 0 0;\n",
              "      width: 32px;\n",
              "    }\n",
              "\n",
              "    .colab-df-convert:hover {\n",
              "      background-color: #E2EBFA;\n",
              "      box-shadow: 0px 1px 2px rgba(60, 64, 67, 0.3), 0px 1px 3px 1px rgba(60, 64, 67, 0.15);\n",
              "      fill: #174EA6;\n",
              "    }\n",
              "\n",
              "    [theme=dark] .colab-df-convert {\n",
              "      background-color: #3B4455;\n",
              "      fill: #D2E3FC;\n",
              "    }\n",
              "\n",
              "    [theme=dark] .colab-df-convert:hover {\n",
              "      background-color: #434B5C;\n",
              "      box-shadow: 0px 1px 3px 1px rgba(0, 0, 0, 0.15);\n",
              "      filter: drop-shadow(0px 1px 2px rgba(0, 0, 0, 0.3));\n",
              "      fill: #FFFFFF;\n",
              "    }\n",
              "  </style>\n",
              "\n",
              "      <script>\n",
              "        const buttonEl =\n",
              "          document.querySelector('#df-16021ca1-06b2-40d3-90d7-7c4ccbdf6f24 button.colab-df-convert');\n",
              "        buttonEl.style.display =\n",
              "          google.colab.kernel.accessAllowed ? 'block' : 'none';\n",
              "\n",
              "        async function convertToInteractive(key) {\n",
              "          const element = document.querySelector('#df-16021ca1-06b2-40d3-90d7-7c4ccbdf6f24');\n",
              "          const dataTable =\n",
              "            await google.colab.kernel.invokeFunction('convertToInteractive',\n",
              "                                                     [key], {});\n",
              "          if (!dataTable) return;\n",
              "\n",
              "          const docLinkHtml = 'Like what you see? Visit the ' +\n",
              "            '<a target=\"_blank\" href=https://colab.research.google.com/notebooks/data_table.ipynb>data table notebook</a>'\n",
              "            + ' to learn more about interactive tables.';\n",
              "          element.innerHTML = '';\n",
              "          dataTable['output_type'] = 'display_data';\n",
              "          await google.colab.output.renderOutput(dataTable, element);\n",
              "          const docLink = document.createElement('div');\n",
              "          docLink.innerHTML = docLinkHtml;\n",
              "          element.appendChild(docLink);\n",
              "        }\n",
              "      </script>\n",
              "    </div>\n",
              "  </div>\n",
              "  "
            ]
          },
          "metadata": {},
          "execution_count": 18
        }
      ]
    },
    {
      "cell_type": "markdown",
      "source": [
        "Then make a list of the independent values and call this variable X.\n",
        "\n",
        "Put the dependent values in a variable called y."
      ],
      "metadata": {
        "id": "wvshKzTxdDNY"
      }
    },
    {
      "cell_type": "code",
      "source": [
        "X = df[['Weight', 'Volume']]\n",
        "y = df['CO2']"
      ],
      "metadata": {
        "id": "8VTr6p0GdGsx"
      },
      "execution_count": null,
      "outputs": []
    },
    {
      "cell_type": "code",
      "source": [
        "X"
      ],
      "metadata": {
        "colab": {
          "base_uri": "https://localhost:8080/",
          "height": 1000
        },
        "id": "loQ2UB1tdNVg",
        "outputId": "4b749014-9ae1-48c5-b341-531df4a85ded"
      },
      "execution_count": null,
      "outputs": [
        {
          "output_type": "execute_result",
          "data": {
            "text/plain": [
              "    Weight  Volume\n",
              "0      790    1000\n",
              "1     1160    1200\n",
              "2      929    1000\n",
              "3      865     900\n",
              "4     1140    1500\n",
              "5      929    1000\n",
              "6     1109    1400\n",
              "7     1365    1500\n",
              "8     1112    1500\n",
              "9     1150    1600\n",
              "10     980    1100\n",
              "11     990    1300\n",
              "12    1112    1000\n",
              "13    1252    1600\n",
              "14    1326    1600\n",
              "15    1330    1600\n",
              "16    1365    1600\n",
              "17    1280    2200\n",
              "18    1119    1600\n",
              "19    1328    2000\n",
              "20    1584    1600\n",
              "21    1428    2000\n",
              "22    1365    2100\n",
              "23    1415    1600\n",
              "24    1415    2000\n",
              "25    1465    1500\n",
              "26    1490    2000\n",
              "27    1725    2000\n",
              "28    1523    1600\n",
              "29    1705    2000\n",
              "30    1605    2100\n",
              "31    1746    2000\n",
              "32    1235    1600\n",
              "33    1390    1600\n",
              "34    1405    1600\n",
              "35    1395    2500"
            ],
            "text/html": [
              "\n",
              "  <div id=\"df-8a5c1bb0-d7bd-42c8-9710-7cf4fc225b1b\">\n",
              "    <div class=\"colab-df-container\">\n",
              "      <div>\n",
              "<style scoped>\n",
              "    .dataframe tbody tr th:only-of-type {\n",
              "        vertical-align: middle;\n",
              "    }\n",
              "\n",
              "    .dataframe tbody tr th {\n",
              "        vertical-align: top;\n",
              "    }\n",
              "\n",
              "    .dataframe thead th {\n",
              "        text-align: right;\n",
              "    }\n",
              "</style>\n",
              "<table border=\"1\" class=\"dataframe\">\n",
              "  <thead>\n",
              "    <tr style=\"text-align: right;\">\n",
              "      <th></th>\n",
              "      <th>Weight</th>\n",
              "      <th>Volume</th>\n",
              "    </tr>\n",
              "  </thead>\n",
              "  <tbody>\n",
              "    <tr>\n",
              "      <th>0</th>\n",
              "      <td>790</td>\n",
              "      <td>1000</td>\n",
              "    </tr>\n",
              "    <tr>\n",
              "      <th>1</th>\n",
              "      <td>1160</td>\n",
              "      <td>1200</td>\n",
              "    </tr>\n",
              "    <tr>\n",
              "      <th>2</th>\n",
              "      <td>929</td>\n",
              "      <td>1000</td>\n",
              "    </tr>\n",
              "    <tr>\n",
              "      <th>3</th>\n",
              "      <td>865</td>\n",
              "      <td>900</td>\n",
              "    </tr>\n",
              "    <tr>\n",
              "      <th>4</th>\n",
              "      <td>1140</td>\n",
              "      <td>1500</td>\n",
              "    </tr>\n",
              "    <tr>\n",
              "      <th>5</th>\n",
              "      <td>929</td>\n",
              "      <td>1000</td>\n",
              "    </tr>\n",
              "    <tr>\n",
              "      <th>6</th>\n",
              "      <td>1109</td>\n",
              "      <td>1400</td>\n",
              "    </tr>\n",
              "    <tr>\n",
              "      <th>7</th>\n",
              "      <td>1365</td>\n",
              "      <td>1500</td>\n",
              "    </tr>\n",
              "    <tr>\n",
              "      <th>8</th>\n",
              "      <td>1112</td>\n",
              "      <td>1500</td>\n",
              "    </tr>\n",
              "    <tr>\n",
              "      <th>9</th>\n",
              "      <td>1150</td>\n",
              "      <td>1600</td>\n",
              "    </tr>\n",
              "    <tr>\n",
              "      <th>10</th>\n",
              "      <td>980</td>\n",
              "      <td>1100</td>\n",
              "    </tr>\n",
              "    <tr>\n",
              "      <th>11</th>\n",
              "      <td>990</td>\n",
              "      <td>1300</td>\n",
              "    </tr>\n",
              "    <tr>\n",
              "      <th>12</th>\n",
              "      <td>1112</td>\n",
              "      <td>1000</td>\n",
              "    </tr>\n",
              "    <tr>\n",
              "      <th>13</th>\n",
              "      <td>1252</td>\n",
              "      <td>1600</td>\n",
              "    </tr>\n",
              "    <tr>\n",
              "      <th>14</th>\n",
              "      <td>1326</td>\n",
              "      <td>1600</td>\n",
              "    </tr>\n",
              "    <tr>\n",
              "      <th>15</th>\n",
              "      <td>1330</td>\n",
              "      <td>1600</td>\n",
              "    </tr>\n",
              "    <tr>\n",
              "      <th>16</th>\n",
              "      <td>1365</td>\n",
              "      <td>1600</td>\n",
              "    </tr>\n",
              "    <tr>\n",
              "      <th>17</th>\n",
              "      <td>1280</td>\n",
              "      <td>2200</td>\n",
              "    </tr>\n",
              "    <tr>\n",
              "      <th>18</th>\n",
              "      <td>1119</td>\n",
              "      <td>1600</td>\n",
              "    </tr>\n",
              "    <tr>\n",
              "      <th>19</th>\n",
              "      <td>1328</td>\n",
              "      <td>2000</td>\n",
              "    </tr>\n",
              "    <tr>\n",
              "      <th>20</th>\n",
              "      <td>1584</td>\n",
              "      <td>1600</td>\n",
              "    </tr>\n",
              "    <tr>\n",
              "      <th>21</th>\n",
              "      <td>1428</td>\n",
              "      <td>2000</td>\n",
              "    </tr>\n",
              "    <tr>\n",
              "      <th>22</th>\n",
              "      <td>1365</td>\n",
              "      <td>2100</td>\n",
              "    </tr>\n",
              "    <tr>\n",
              "      <th>23</th>\n",
              "      <td>1415</td>\n",
              "      <td>1600</td>\n",
              "    </tr>\n",
              "    <tr>\n",
              "      <th>24</th>\n",
              "      <td>1415</td>\n",
              "      <td>2000</td>\n",
              "    </tr>\n",
              "    <tr>\n",
              "      <th>25</th>\n",
              "      <td>1465</td>\n",
              "      <td>1500</td>\n",
              "    </tr>\n",
              "    <tr>\n",
              "      <th>26</th>\n",
              "      <td>1490</td>\n",
              "      <td>2000</td>\n",
              "    </tr>\n",
              "    <tr>\n",
              "      <th>27</th>\n",
              "      <td>1725</td>\n",
              "      <td>2000</td>\n",
              "    </tr>\n",
              "    <tr>\n",
              "      <th>28</th>\n",
              "      <td>1523</td>\n",
              "      <td>1600</td>\n",
              "    </tr>\n",
              "    <tr>\n",
              "      <th>29</th>\n",
              "      <td>1705</td>\n",
              "      <td>2000</td>\n",
              "    </tr>\n",
              "    <tr>\n",
              "      <th>30</th>\n",
              "      <td>1605</td>\n",
              "      <td>2100</td>\n",
              "    </tr>\n",
              "    <tr>\n",
              "      <th>31</th>\n",
              "      <td>1746</td>\n",
              "      <td>2000</td>\n",
              "    </tr>\n",
              "    <tr>\n",
              "      <th>32</th>\n",
              "      <td>1235</td>\n",
              "      <td>1600</td>\n",
              "    </tr>\n",
              "    <tr>\n",
              "      <th>33</th>\n",
              "      <td>1390</td>\n",
              "      <td>1600</td>\n",
              "    </tr>\n",
              "    <tr>\n",
              "      <th>34</th>\n",
              "      <td>1405</td>\n",
              "      <td>1600</td>\n",
              "    </tr>\n",
              "    <tr>\n",
              "      <th>35</th>\n",
              "      <td>1395</td>\n",
              "      <td>2500</td>\n",
              "    </tr>\n",
              "  </tbody>\n",
              "</table>\n",
              "</div>\n",
              "      <button class=\"colab-df-convert\" onclick=\"convertToInteractive('df-8a5c1bb0-d7bd-42c8-9710-7cf4fc225b1b')\"\n",
              "              title=\"Convert this dataframe to an interactive table.\"\n",
              "              style=\"display:none;\">\n",
              "        \n",
              "  <svg xmlns=\"http://www.w3.org/2000/svg\" height=\"24px\"viewBox=\"0 0 24 24\"\n",
              "       width=\"24px\">\n",
              "    <path d=\"M0 0h24v24H0V0z\" fill=\"none\"/>\n",
              "    <path d=\"M18.56 5.44l.94 2.06.94-2.06 2.06-.94-2.06-.94-.94-2.06-.94 2.06-2.06.94zm-11 1L8.5 8.5l.94-2.06 2.06-.94-2.06-.94L8.5 2.5l-.94 2.06-2.06.94zm10 10l.94 2.06.94-2.06 2.06-.94-2.06-.94-.94-2.06-.94 2.06-2.06.94z\"/><path d=\"M17.41 7.96l-1.37-1.37c-.4-.4-.92-.59-1.43-.59-.52 0-1.04.2-1.43.59L10.3 9.45l-7.72 7.72c-.78.78-.78 2.05 0 2.83L4 21.41c.39.39.9.59 1.41.59.51 0 1.02-.2 1.41-.59l7.78-7.78 2.81-2.81c.8-.78.8-2.07 0-2.86zM5.41 20L4 18.59l7.72-7.72 1.47 1.35L5.41 20z\"/>\n",
              "  </svg>\n",
              "      </button>\n",
              "      \n",
              "  <style>\n",
              "    .colab-df-container {\n",
              "      display:flex;\n",
              "      flex-wrap:wrap;\n",
              "      gap: 12px;\n",
              "    }\n",
              "\n",
              "    .colab-df-convert {\n",
              "      background-color: #E8F0FE;\n",
              "      border: none;\n",
              "      border-radius: 50%;\n",
              "      cursor: pointer;\n",
              "      display: none;\n",
              "      fill: #1967D2;\n",
              "      height: 32px;\n",
              "      padding: 0 0 0 0;\n",
              "      width: 32px;\n",
              "    }\n",
              "\n",
              "    .colab-df-convert:hover {\n",
              "      background-color: #E2EBFA;\n",
              "      box-shadow: 0px 1px 2px rgba(60, 64, 67, 0.3), 0px 1px 3px 1px rgba(60, 64, 67, 0.15);\n",
              "      fill: #174EA6;\n",
              "    }\n",
              "\n",
              "    [theme=dark] .colab-df-convert {\n",
              "      background-color: #3B4455;\n",
              "      fill: #D2E3FC;\n",
              "    }\n",
              "\n",
              "    [theme=dark] .colab-df-convert:hover {\n",
              "      background-color: #434B5C;\n",
              "      box-shadow: 0px 1px 3px 1px rgba(0, 0, 0, 0.15);\n",
              "      filter: drop-shadow(0px 1px 2px rgba(0, 0, 0, 0.3));\n",
              "      fill: #FFFFFF;\n",
              "    }\n",
              "  </style>\n",
              "\n",
              "      <script>\n",
              "        const buttonEl =\n",
              "          document.querySelector('#df-8a5c1bb0-d7bd-42c8-9710-7cf4fc225b1b button.colab-df-convert');\n",
              "        buttonEl.style.display =\n",
              "          google.colab.kernel.accessAllowed ? 'block' : 'none';\n",
              "\n",
              "        async function convertToInteractive(key) {\n",
              "          const element = document.querySelector('#df-8a5c1bb0-d7bd-42c8-9710-7cf4fc225b1b');\n",
              "          const dataTable =\n",
              "            await google.colab.kernel.invokeFunction('convertToInteractive',\n",
              "                                                     [key], {});\n",
              "          if (!dataTable) return;\n",
              "\n",
              "          const docLinkHtml = 'Like what you see? Visit the ' +\n",
              "            '<a target=\"_blank\" href=https://colab.research.google.com/notebooks/data_table.ipynb>data table notebook</a>'\n",
              "            + ' to learn more about interactive tables.';\n",
              "          element.innerHTML = '';\n",
              "          dataTable['output_type'] = 'display_data';\n",
              "          await google.colab.output.renderOutput(dataTable, element);\n",
              "          const docLink = document.createElement('div');\n",
              "          docLink.innerHTML = docLinkHtml;\n",
              "          element.appendChild(docLink);\n",
              "        }\n",
              "      </script>\n",
              "    </div>\n",
              "  </div>\n",
              "  "
            ]
          },
          "metadata": {},
          "execution_count": 20
        }
      ]
    },
    {
      "cell_type": "markdown",
      "source": [
        "**Tip:** It is common to name the list of independent values with a upper case X, and the list of dependent values with a lower case y.\n",
        "\n",
        "We will use some methods from the sklearn module, so we will have to import that module as well:"
      ],
      "metadata": {
        "id": "PSzaQ4pZdZkT"
      }
    },
    {
      "cell_type": "code",
      "source": [
        "from sklearn import linear_model"
      ],
      "metadata": {
        "id": "0iiWAoO5yGji"
      },
      "execution_count": null,
      "outputs": []
    },
    {
      "cell_type": "markdown",
      "source": [
        "From the sklearn module we will use the **LinearRegression()**method to create a linear regression object.\n",
        "\n",
        "This object has a method called **fit()** that takes the independent and dependent values as parameters and fills the regression object with data that describes the relationship:"
      ],
      "metadata": {
        "id": "1tGXY2pidj3W"
      }
    },
    {
      "cell_type": "code",
      "source": [
        "regr = linear_model.LinearRegression()\n",
        "regr.fit(X, y)"
      ],
      "metadata": {
        "id": "A-xhRk5ndhnI",
        "colab": {
          "base_uri": "https://localhost:8080/"
        },
        "outputId": "6329dc9e-e260-4ffd-a652-696da916e9a9"
      },
      "execution_count": null,
      "outputs": [
        {
          "output_type": "execute_result",
          "data": {
            "text/plain": [
              "LinearRegression()"
            ]
          },
          "metadata": {},
          "execution_count": 22
        }
      ]
    },
    {
      "cell_type": "markdown",
      "source": [
        "Now we have a regression object that are ready to predict CO2 values based on a car's weight and volume:"
      ],
      "metadata": {
        "id": "UoHL4IUaJE3R"
      }
    },
    {
      "cell_type": "code",
      "source": [
        "#predict the CO2 emission of a car where the weight is 2300kg, and the volume is 1300cm3:\n",
        "predictedCO2 = regr.predict([[2300, 1300]])"
      ],
      "metadata": {
        "colab": {
          "base_uri": "https://localhost:8080/"
        },
        "id": "znggyRp9JS55",
        "outputId": "a9f3ebf4-f973-485c-fd5d-a1775813c9dd"
      },
      "execution_count": null,
      "outputs": [
        {
          "output_type": "stream",
          "name": "stderr",
          "text": [
            "/usr/local/lib/python3.7/dist-packages/sklearn/base.py:451: UserWarning: X does not have valid feature names, but LinearRegression was fitted with feature names\n",
            "  \"X does not have valid feature names, but\"\n"
          ]
        }
      ]
    },
    {
      "cell_type": "code",
      "source": [
        "#See the whole example in action:\n",
        "\n",
        "import pandas\n",
        "from sklearn import linear_model\n",
        "\n",
        "df = pandas.read_csv(\"cars.csv\")\n",
        "\n",
        "X = df[['Weight', 'Volume']]\n",
        "y = df['CO2']\n",
        "\n",
        "regr = linear_model.LinearRegression()\n",
        "regr.fit(X, y)\n",
        "\n",
        "#predict the CO2 emission of a car where the weight is 2300kg, and the volume is 1300cm3:\n",
        "predictedCO2 = regr.predict([[2300, 1300]])\n",
        "\n",
        "print(predictedCO2)"
      ],
      "metadata": {
        "colab": {
          "base_uri": "https://localhost:8080/"
        },
        "id": "MA3UK519JucH",
        "outputId": "b637a90b-0536-4b78-d776-66158ecbfa25"
      },
      "execution_count": null,
      "outputs": [
        {
          "output_type": "stream",
          "name": "stdout",
          "text": [
            "[107.2087328]\n"
          ]
        },
        {
          "output_type": "stream",
          "name": "stderr",
          "text": [
            "/usr/local/lib/python3.7/dist-packages/sklearn/base.py:451: UserWarning: X does not have valid feature names, but LinearRegression was fitted with feature names\n",
            "  \"X does not have valid feature names, but\"\n"
          ]
        }
      ]
    },
    {
      "cell_type": "markdown",
      "source": [
        "We have predicted that a car with 1.3 liter engine, and a weight of 2300 kg, will release approximately 107 grams of CO2 for every kilometer it drives.\n",
        "\n"
      ],
      "metadata": {
        "id": "ey7rDGnJKmfz"
      }
    },
    {
      "cell_type": "markdown",
      "source": [
        "#Coefficient\n",
        "The coefficient is **a factor** that describes the relationship with an unknown variable.\n",
        "\n",
        "**Example:** if x is a variable, then 2x is x two times. x is the unknown variable, and the number 2 is the coefficient.\n",
        "\n",
        "In this case, we can ask for the coefficient value of weight against CO2, and for volume against CO2. The answer(s) we get tells us what would happen if we increase, or decrease, one of the independent values."
      ],
      "metadata": {
        "id": "yD1BPNVkKpx2"
      }
    },
    {
      "cell_type": "code",
      "source": [
        "#Print the coefficient values of the regression object:\n",
        "\n",
        "import pandas\n",
        "from sklearn import linear_model\n",
        "\n",
        "df = pandas.read_csv(\"cars.csv\")\n",
        "\n",
        "X = df[['Weight', 'Volume']]\n",
        "y = df['CO2']\n",
        "\n",
        "regr = linear_model.LinearRegression()\n",
        "regr.fit(X, y)\n",
        "\n",
        "print(regr.coef_)"
      ],
      "metadata": {
        "colab": {
          "base_uri": "https://localhost:8080/"
        },
        "id": "cQtdzy-bLabB",
        "outputId": "c55f76a6-f02b-448f-fc74-b551bc02ed6b"
      },
      "execution_count": null,
      "outputs": [
        {
          "output_type": "stream",
          "name": "stdout",
          "text": [
            "[0.00755095 0.00780526]\n"
          ]
        }
      ]
    },
    {
      "cell_type": "code",
      "source": [
        ""
      ],
      "metadata": {
        "id": "f1h6yreAMTNH"
      },
      "execution_count": null,
      "outputs": []
    },
    {
      "cell_type": "markdown",
      "source": [
        "#The result array represents the coefficient values of weight and volume.\n",
        "```\n",
        "Weight: 0.00755095\n",
        "Volume: 0.00780526\n",
        "```\n",
        "\n",
        "These values tell us that if the weight increase by 1kg, the CO2 emission increases by 0.00755095g.\n",
        "\n",
        "And if the engine size (Volume) increases by 1 cm3, the CO2 emission increases by 0.00780526 g.\n",
        "\n",
        "I think that is a fair guess, but let test it!\n",
        "\n",
        "We have already predicted that if a car with a 1300cm3 engine weighs 2300kg, the CO2 emission will be approximately 107g.\n",
        "\n",
        "#What if we increase the weight with 1000kg?"
      ],
      "metadata": {
        "id": "9MqLcjxQMUkg"
      }
    },
    {
      "cell_type": "code",
      "source": [
        "#Copy the example from before, but change the weight from 2300 to 3300:\n",
        "\n",
        "import pandas\n",
        "from sklearn import linear_model\n",
        "\n",
        "df = pandas.read_csv(\"cars.csv\")\n",
        "\n",
        "X = df[['Weight', 'Volume']]\n",
        "y = df['CO2']\n",
        "\n",
        "regr = linear_model.LinearRegression()\n",
        "regr.fit(X, y)\n",
        "\n",
        "predictedCO2 = regr.predict([[3300, 1300]])\n",
        "\n",
        "print(predictedCO2)"
      ],
      "metadata": {
        "colab": {
          "base_uri": "https://localhost:8080/"
        },
        "id": "rgXnRWF4MhVz",
        "outputId": "db999ec6-8c56-4859-c206-6e117ec2a94f"
      },
      "execution_count": null,
      "outputs": [
        {
          "output_type": "stream",
          "name": "stdout",
          "text": [
            "[114.75968007]\n"
          ]
        },
        {
          "output_type": "stream",
          "name": "stderr",
          "text": [
            "/usr/local/lib/python3.7/dist-packages/sklearn/base.py:451: UserWarning: X does not have valid feature names, but LinearRegression was fitted with feature names\n",
            "  \"X does not have valid feature names, but\"\n"
          ]
        }
      ]
    },
    {
      "cell_type": "markdown",
      "source": [
        "We have predicted that a car with 1.3 liter engine, and a weight of 3300 kg, will release approximately 115 grams of CO2 for every kilometer it drives.\n",
        "\n",
        "Which shows that the coefficient of 0.00755095 is correct:\n",
        "\n",
        "107.2087328 + (1000 * 0.00755095) = 114.75968"
      ],
      "metadata": {
        "id": "IlXYkdirMyFE"
      }
    },
    {
      "cell_type": "markdown",
      "source": [
        "#Machine Learning - Scale\n",
        "\n",
        "#Scale Features\n",
        "When your data has **different values**, and even **different measurement units**, it can be difficult to compare them. What is **kilograms** compared to **meters?** Or **altitude** compared to **time?**\n",
        "\n",
        "The **answer** to this problem is **scaling**. We can scale data into new values that are easier to compare.\n",
        "\n",
        "Take a look at the table below, it is the same data set that we used in the multiple regression chapter, but this time the volume column contains values in liters instead of cm3 (1.0 instead of 1000).\n"
      ],
      "metadata": {
        "id": "LJ8m4CoMM6c2"
      }
    },
    {
      "cell_type": "code",
      "source": [
        "import pandas as pd\n",
        "df=pd.read_csv('/content/cars2.csv')"
      ],
      "metadata": {
        "id": "9tMYJcmjiBuX"
      },
      "execution_count": 1,
      "outputs": []
    },
    {
      "cell_type": "code",
      "source": [
        "df"
      ],
      "metadata": {
        "colab": {
          "base_uri": "https://localhost:8080/",
          "height": 1000
        },
        "id": "D54ITm39gq2C",
        "outputId": "edbd8331-0f7d-4e38-88fe-33b1b8e34b48"
      },
      "execution_count": 2,
      "outputs": [
        {
          "output_type": "execute_result",
          "data": {
            "text/plain": [
              "           Car       Model  Volume  Weight  CO2\n",
              "0       Toyoty        Aygo     1.0     790   99\n",
              "1   Mitsubishi  Space Star     1.2    1160   95\n",
              "2        Skoda      Citigo     1.0     929   95\n",
              "3         Fiat         500     0.9     865   90\n",
              "4         Mini      Cooper     1.5    1140  105\n",
              "5           VW         Up!     1.0     929  105\n",
              "6        Skoda       Fabia     1.4    1109   90\n",
              "7     Mercedes     A-Class     1.5    1365   92\n",
              "8         Ford      Fiesta     1.5    1112   98\n",
              "9         Audi          A1     1.6    1150   99\n",
              "10     Hyundai         I20     1.1     980   99\n",
              "11      Suzuki       Swift     1.3     990  101\n",
              "12        Ford      Fiesta     1.0    1112   99\n",
              "13       Honda       Civic     1.6    1252   94\n",
              "14      Hundai         I30     1.6    1326   97\n",
              "15        Opel       Astra     1.6    1330   97\n",
              "16         BMW           1     1.6    1365   99\n",
              "17       Mazda           3     2.2    1280  104\n",
              "18       Skoda       Rapid     1.6    1119  104\n",
              "19        Ford       Focus     2.0    1328  105\n",
              "20        Ford      Mondeo     1.6    1584   94\n",
              "21        Opel    Insignia     2.0    1428   99\n",
              "22    Mercedes     C-Class     2.1    1365   99\n",
              "23       Skoda     Octavia     1.6    1415   99\n",
              "24       Volvo         S60     2.0    1415   99\n",
              "25    Mercedes         CLA     1.5    1465  102\n",
              "26        Audi          A4     2.0    1490  104\n",
              "27        Audi          A6     2.0    1725  114\n",
              "28       Volvo         V70     1.6    1523  109\n",
              "29         BMW           5     2.0    1705  114\n",
              "30    Mercedes     E-Class     2.1    1605  115\n",
              "31       Volvo        XC70     2.0    1746  117\n",
              "32        Ford       B-Max     1.6    1235  104\n",
              "33         BMW         216     1.6    1390  108\n",
              "34        Opel      Zafira     1.6    1405  109\n",
              "35    Mercedes         SLK     2.5    1395  120"
            ],
            "text/html": [
              "\n",
              "  <div id=\"df-1a3e5bc5-380c-491c-a0d4-5d53f0601c06\">\n",
              "    <div class=\"colab-df-container\">\n",
              "      <div>\n",
              "<style scoped>\n",
              "    .dataframe tbody tr th:only-of-type {\n",
              "        vertical-align: middle;\n",
              "    }\n",
              "\n",
              "    .dataframe tbody tr th {\n",
              "        vertical-align: top;\n",
              "    }\n",
              "\n",
              "    .dataframe thead th {\n",
              "        text-align: right;\n",
              "    }\n",
              "</style>\n",
              "<table border=\"1\" class=\"dataframe\">\n",
              "  <thead>\n",
              "    <tr style=\"text-align: right;\">\n",
              "      <th></th>\n",
              "      <th>Car</th>\n",
              "      <th>Model</th>\n",
              "      <th>Volume</th>\n",
              "      <th>Weight</th>\n",
              "      <th>CO2</th>\n",
              "    </tr>\n",
              "  </thead>\n",
              "  <tbody>\n",
              "    <tr>\n",
              "      <th>0</th>\n",
              "      <td>Toyoty</td>\n",
              "      <td>Aygo</td>\n",
              "      <td>1.0</td>\n",
              "      <td>790</td>\n",
              "      <td>99</td>\n",
              "    </tr>\n",
              "    <tr>\n",
              "      <th>1</th>\n",
              "      <td>Mitsubishi</td>\n",
              "      <td>Space Star</td>\n",
              "      <td>1.2</td>\n",
              "      <td>1160</td>\n",
              "      <td>95</td>\n",
              "    </tr>\n",
              "    <tr>\n",
              "      <th>2</th>\n",
              "      <td>Skoda</td>\n",
              "      <td>Citigo</td>\n",
              "      <td>1.0</td>\n",
              "      <td>929</td>\n",
              "      <td>95</td>\n",
              "    </tr>\n",
              "    <tr>\n",
              "      <th>3</th>\n",
              "      <td>Fiat</td>\n",
              "      <td>500</td>\n",
              "      <td>0.9</td>\n",
              "      <td>865</td>\n",
              "      <td>90</td>\n",
              "    </tr>\n",
              "    <tr>\n",
              "      <th>4</th>\n",
              "      <td>Mini</td>\n",
              "      <td>Cooper</td>\n",
              "      <td>1.5</td>\n",
              "      <td>1140</td>\n",
              "      <td>105</td>\n",
              "    </tr>\n",
              "    <tr>\n",
              "      <th>5</th>\n",
              "      <td>VW</td>\n",
              "      <td>Up!</td>\n",
              "      <td>1.0</td>\n",
              "      <td>929</td>\n",
              "      <td>105</td>\n",
              "    </tr>\n",
              "    <tr>\n",
              "      <th>6</th>\n",
              "      <td>Skoda</td>\n",
              "      <td>Fabia</td>\n",
              "      <td>1.4</td>\n",
              "      <td>1109</td>\n",
              "      <td>90</td>\n",
              "    </tr>\n",
              "    <tr>\n",
              "      <th>7</th>\n",
              "      <td>Mercedes</td>\n",
              "      <td>A-Class</td>\n",
              "      <td>1.5</td>\n",
              "      <td>1365</td>\n",
              "      <td>92</td>\n",
              "    </tr>\n",
              "    <tr>\n",
              "      <th>8</th>\n",
              "      <td>Ford</td>\n",
              "      <td>Fiesta</td>\n",
              "      <td>1.5</td>\n",
              "      <td>1112</td>\n",
              "      <td>98</td>\n",
              "    </tr>\n",
              "    <tr>\n",
              "      <th>9</th>\n",
              "      <td>Audi</td>\n",
              "      <td>A1</td>\n",
              "      <td>1.6</td>\n",
              "      <td>1150</td>\n",
              "      <td>99</td>\n",
              "    </tr>\n",
              "    <tr>\n",
              "      <th>10</th>\n",
              "      <td>Hyundai</td>\n",
              "      <td>I20</td>\n",
              "      <td>1.1</td>\n",
              "      <td>980</td>\n",
              "      <td>99</td>\n",
              "    </tr>\n",
              "    <tr>\n",
              "      <th>11</th>\n",
              "      <td>Suzuki</td>\n",
              "      <td>Swift</td>\n",
              "      <td>1.3</td>\n",
              "      <td>990</td>\n",
              "      <td>101</td>\n",
              "    </tr>\n",
              "    <tr>\n",
              "      <th>12</th>\n",
              "      <td>Ford</td>\n",
              "      <td>Fiesta</td>\n",
              "      <td>1.0</td>\n",
              "      <td>1112</td>\n",
              "      <td>99</td>\n",
              "    </tr>\n",
              "    <tr>\n",
              "      <th>13</th>\n",
              "      <td>Honda</td>\n",
              "      <td>Civic</td>\n",
              "      <td>1.6</td>\n",
              "      <td>1252</td>\n",
              "      <td>94</td>\n",
              "    </tr>\n",
              "    <tr>\n",
              "      <th>14</th>\n",
              "      <td>Hundai</td>\n",
              "      <td>I30</td>\n",
              "      <td>1.6</td>\n",
              "      <td>1326</td>\n",
              "      <td>97</td>\n",
              "    </tr>\n",
              "    <tr>\n",
              "      <th>15</th>\n",
              "      <td>Opel</td>\n",
              "      <td>Astra</td>\n",
              "      <td>1.6</td>\n",
              "      <td>1330</td>\n",
              "      <td>97</td>\n",
              "    </tr>\n",
              "    <tr>\n",
              "      <th>16</th>\n",
              "      <td>BMW</td>\n",
              "      <td>1</td>\n",
              "      <td>1.6</td>\n",
              "      <td>1365</td>\n",
              "      <td>99</td>\n",
              "    </tr>\n",
              "    <tr>\n",
              "      <th>17</th>\n",
              "      <td>Mazda</td>\n",
              "      <td>3</td>\n",
              "      <td>2.2</td>\n",
              "      <td>1280</td>\n",
              "      <td>104</td>\n",
              "    </tr>\n",
              "    <tr>\n",
              "      <th>18</th>\n",
              "      <td>Skoda</td>\n",
              "      <td>Rapid</td>\n",
              "      <td>1.6</td>\n",
              "      <td>1119</td>\n",
              "      <td>104</td>\n",
              "    </tr>\n",
              "    <tr>\n",
              "      <th>19</th>\n",
              "      <td>Ford</td>\n",
              "      <td>Focus</td>\n",
              "      <td>2.0</td>\n",
              "      <td>1328</td>\n",
              "      <td>105</td>\n",
              "    </tr>\n",
              "    <tr>\n",
              "      <th>20</th>\n",
              "      <td>Ford</td>\n",
              "      <td>Mondeo</td>\n",
              "      <td>1.6</td>\n",
              "      <td>1584</td>\n",
              "      <td>94</td>\n",
              "    </tr>\n",
              "    <tr>\n",
              "      <th>21</th>\n",
              "      <td>Opel</td>\n",
              "      <td>Insignia</td>\n",
              "      <td>2.0</td>\n",
              "      <td>1428</td>\n",
              "      <td>99</td>\n",
              "    </tr>\n",
              "    <tr>\n",
              "      <th>22</th>\n",
              "      <td>Mercedes</td>\n",
              "      <td>C-Class</td>\n",
              "      <td>2.1</td>\n",
              "      <td>1365</td>\n",
              "      <td>99</td>\n",
              "    </tr>\n",
              "    <tr>\n",
              "      <th>23</th>\n",
              "      <td>Skoda</td>\n",
              "      <td>Octavia</td>\n",
              "      <td>1.6</td>\n",
              "      <td>1415</td>\n",
              "      <td>99</td>\n",
              "    </tr>\n",
              "    <tr>\n",
              "      <th>24</th>\n",
              "      <td>Volvo</td>\n",
              "      <td>S60</td>\n",
              "      <td>2.0</td>\n",
              "      <td>1415</td>\n",
              "      <td>99</td>\n",
              "    </tr>\n",
              "    <tr>\n",
              "      <th>25</th>\n",
              "      <td>Mercedes</td>\n",
              "      <td>CLA</td>\n",
              "      <td>1.5</td>\n",
              "      <td>1465</td>\n",
              "      <td>102</td>\n",
              "    </tr>\n",
              "    <tr>\n",
              "      <th>26</th>\n",
              "      <td>Audi</td>\n",
              "      <td>A4</td>\n",
              "      <td>2.0</td>\n",
              "      <td>1490</td>\n",
              "      <td>104</td>\n",
              "    </tr>\n",
              "    <tr>\n",
              "      <th>27</th>\n",
              "      <td>Audi</td>\n",
              "      <td>A6</td>\n",
              "      <td>2.0</td>\n",
              "      <td>1725</td>\n",
              "      <td>114</td>\n",
              "    </tr>\n",
              "    <tr>\n",
              "      <th>28</th>\n",
              "      <td>Volvo</td>\n",
              "      <td>V70</td>\n",
              "      <td>1.6</td>\n",
              "      <td>1523</td>\n",
              "      <td>109</td>\n",
              "    </tr>\n",
              "    <tr>\n",
              "      <th>29</th>\n",
              "      <td>BMW</td>\n",
              "      <td>5</td>\n",
              "      <td>2.0</td>\n",
              "      <td>1705</td>\n",
              "      <td>114</td>\n",
              "    </tr>\n",
              "    <tr>\n",
              "      <th>30</th>\n",
              "      <td>Mercedes</td>\n",
              "      <td>E-Class</td>\n",
              "      <td>2.1</td>\n",
              "      <td>1605</td>\n",
              "      <td>115</td>\n",
              "    </tr>\n",
              "    <tr>\n",
              "      <th>31</th>\n",
              "      <td>Volvo</td>\n",
              "      <td>XC70</td>\n",
              "      <td>2.0</td>\n",
              "      <td>1746</td>\n",
              "      <td>117</td>\n",
              "    </tr>\n",
              "    <tr>\n",
              "      <th>32</th>\n",
              "      <td>Ford</td>\n",
              "      <td>B-Max</td>\n",
              "      <td>1.6</td>\n",
              "      <td>1235</td>\n",
              "      <td>104</td>\n",
              "    </tr>\n",
              "    <tr>\n",
              "      <th>33</th>\n",
              "      <td>BMW</td>\n",
              "      <td>216</td>\n",
              "      <td>1.6</td>\n",
              "      <td>1390</td>\n",
              "      <td>108</td>\n",
              "    </tr>\n",
              "    <tr>\n",
              "      <th>34</th>\n",
              "      <td>Opel</td>\n",
              "      <td>Zafira</td>\n",
              "      <td>1.6</td>\n",
              "      <td>1405</td>\n",
              "      <td>109</td>\n",
              "    </tr>\n",
              "    <tr>\n",
              "      <th>35</th>\n",
              "      <td>Mercedes</td>\n",
              "      <td>SLK</td>\n",
              "      <td>2.5</td>\n",
              "      <td>1395</td>\n",
              "      <td>120</td>\n",
              "    </tr>\n",
              "  </tbody>\n",
              "</table>\n",
              "</div>\n",
              "      <button class=\"colab-df-convert\" onclick=\"convertToInteractive('df-1a3e5bc5-380c-491c-a0d4-5d53f0601c06')\"\n",
              "              title=\"Convert this dataframe to an interactive table.\"\n",
              "              style=\"display:none;\">\n",
              "        \n",
              "  <svg xmlns=\"http://www.w3.org/2000/svg\" height=\"24px\"viewBox=\"0 0 24 24\"\n",
              "       width=\"24px\">\n",
              "    <path d=\"M0 0h24v24H0V0z\" fill=\"none\"/>\n",
              "    <path d=\"M18.56 5.44l.94 2.06.94-2.06 2.06-.94-2.06-.94-.94-2.06-.94 2.06-2.06.94zm-11 1L8.5 8.5l.94-2.06 2.06-.94-2.06-.94L8.5 2.5l-.94 2.06-2.06.94zm10 10l.94 2.06.94-2.06 2.06-.94-2.06-.94-.94-2.06-.94 2.06-2.06.94z\"/><path d=\"M17.41 7.96l-1.37-1.37c-.4-.4-.92-.59-1.43-.59-.52 0-1.04.2-1.43.59L10.3 9.45l-7.72 7.72c-.78.78-.78 2.05 0 2.83L4 21.41c.39.39.9.59 1.41.59.51 0 1.02-.2 1.41-.59l7.78-7.78 2.81-2.81c.8-.78.8-2.07 0-2.86zM5.41 20L4 18.59l7.72-7.72 1.47 1.35L5.41 20z\"/>\n",
              "  </svg>\n",
              "      </button>\n",
              "      \n",
              "  <style>\n",
              "    .colab-df-container {\n",
              "      display:flex;\n",
              "      flex-wrap:wrap;\n",
              "      gap: 12px;\n",
              "    }\n",
              "\n",
              "    .colab-df-convert {\n",
              "      background-color: #E8F0FE;\n",
              "      border: none;\n",
              "      border-radius: 50%;\n",
              "      cursor: pointer;\n",
              "      display: none;\n",
              "      fill: #1967D2;\n",
              "      height: 32px;\n",
              "      padding: 0 0 0 0;\n",
              "      width: 32px;\n",
              "    }\n",
              "\n",
              "    .colab-df-convert:hover {\n",
              "      background-color: #E2EBFA;\n",
              "      box-shadow: 0px 1px 2px rgba(60, 64, 67, 0.3), 0px 1px 3px 1px rgba(60, 64, 67, 0.15);\n",
              "      fill: #174EA6;\n",
              "    }\n",
              "\n",
              "    [theme=dark] .colab-df-convert {\n",
              "      background-color: #3B4455;\n",
              "      fill: #D2E3FC;\n",
              "    }\n",
              "\n",
              "    [theme=dark] .colab-df-convert:hover {\n",
              "      background-color: #434B5C;\n",
              "      box-shadow: 0px 1px 3px 1px rgba(0, 0, 0, 0.15);\n",
              "      filter: drop-shadow(0px 1px 2px rgba(0, 0, 0, 0.3));\n",
              "      fill: #FFFFFF;\n",
              "    }\n",
              "  </style>\n",
              "\n",
              "      <script>\n",
              "        const buttonEl =\n",
              "          document.querySelector('#df-1a3e5bc5-380c-491c-a0d4-5d53f0601c06 button.colab-df-convert');\n",
              "        buttonEl.style.display =\n",
              "          google.colab.kernel.accessAllowed ? 'block' : 'none';\n",
              "\n",
              "        async function convertToInteractive(key) {\n",
              "          const element = document.querySelector('#df-1a3e5bc5-380c-491c-a0d4-5d53f0601c06');\n",
              "          const dataTable =\n",
              "            await google.colab.kernel.invokeFunction('convertToInteractive',\n",
              "                                                     [key], {});\n",
              "          if (!dataTable) return;\n",
              "\n",
              "          const docLinkHtml = 'Like what you see? Visit the ' +\n",
              "            '<a target=\"_blank\" href=https://colab.research.google.com/notebooks/data_table.ipynb>data table notebook</a>'\n",
              "            + ' to learn more about interactive tables.';\n",
              "          element.innerHTML = '';\n",
              "          dataTable['output_type'] = 'display_data';\n",
              "          await google.colab.output.renderOutput(dataTable, element);\n",
              "          const docLink = document.createElement('div');\n",
              "          docLink.innerHTML = docLinkHtml;\n",
              "          element.appendChild(docLink);\n",
              "        }\n",
              "      </script>\n",
              "    </div>\n",
              "  </div>\n",
              "  "
            ]
          },
          "metadata": {},
          "execution_count": 2
        }
      ]
    },
    {
      "cell_type": "code",
      "source": [
        ""
      ],
      "metadata": {
        "id": "T8O9RRPKiqFe"
      },
      "execution_count": null,
      "outputs": []
    },
    {
      "cell_type": "markdown",
      "source": [
        "It can be difficult to compare the volume 1.0 with the weight 790, but if we scale them both into comparable values, we can easily see how much one value is compared to the other.\n",
        "\n",
        "There are different methods for scaling data, in this tutorial we will use a method called **standardization.**\n",
        "\n",
        "The standardization method uses this formula:\n",
        "```\n",
        "z = (x - u) / s\n",
        "```\n",
        "\n",
        "Where **z** is the new value, **x** is the original value, **u** is the mean and **s** is the standard deviation.\n",
        "\n",
        "If you take the weight column from the data set above, the first value is **790**, and the scaled value will be:\n",
        "```\n",
        "(790 - 1292.23) / 238.74 = -2.1\n",
        "```\n",
        "If you take the volume column from the data set above, the first value is 1.0, and the scaled value will be:\n",
        "```\n",
        "(1.0 - 1.61) / 0.38 = -1.59\n",
        "```\n",
        "Now you can compare -2.1 with -1.59 instead of comparing 790 with 1.0.\n",
        "\n",
        "You do not have to do this manually, the Python **sklearn** module has a method called **StandardScaler()** which returns a Scaler object with methods for transforming data sets."
      ],
      "metadata": {
        "id": "AE-rbE3qi-BC"
      }
    },
    {
      "cell_type": "code",
      "source": [
        "#Scale all values in the Weight and Volume columns:\n",
        "\n",
        "import pandas\n",
        "from sklearn import linear_model\n",
        "from sklearn.preprocessing import StandardScaler\n",
        "scale = StandardScaler()\n",
        "\n",
        "df = pandas.read_csv(\"cars2.csv\")\n",
        "\n",
        "X = df[['Weight', 'Volume']]\n",
        "\n",
        "scaledX = scale.fit_transform(X)\n",
        "\n",
        "print(scaledX)"
      ],
      "metadata": {
        "colab": {
          "base_uri": "https://localhost:8080/"
        },
        "id": "3ubdGabnj3tU",
        "outputId": "d5fdce7a-670c-49cd-e0bc-4e5ac2a9caab"
      },
      "execution_count": 3,
      "outputs": [
        {
          "output_type": "stream",
          "name": "stdout",
          "text": [
            "[[-2.10389253 -1.59336644]\n",
            " [-0.55407235 -1.07190106]\n",
            " [-1.52166278 -1.59336644]\n",
            " [-1.78973979 -1.85409913]\n",
            " [-0.63784641 -0.28970299]\n",
            " [-1.52166278 -1.59336644]\n",
            " [-0.76769621 -0.55043568]\n",
            " [ 0.3046118  -0.28970299]\n",
            " [-0.7551301  -0.28970299]\n",
            " [-0.59595938 -0.0289703 ]\n",
            " [-1.30803892 -1.33263375]\n",
            " [-1.26615189 -0.81116837]\n",
            " [-0.7551301  -1.59336644]\n",
            " [-0.16871166 -0.0289703 ]\n",
            " [ 0.14125238 -0.0289703 ]\n",
            " [ 0.15800719 -0.0289703 ]\n",
            " [ 0.3046118  -0.0289703 ]\n",
            " [-0.05142797  1.53542584]\n",
            " [-0.72580918 -0.0289703 ]\n",
            " [ 0.14962979  1.01396046]\n",
            " [ 1.2219378  -0.0289703 ]\n",
            " [ 0.5685001   1.01396046]\n",
            " [ 0.3046118   1.27469315]\n",
            " [ 0.51404696 -0.0289703 ]\n",
            " [ 0.51404696  1.01396046]\n",
            " [ 0.72348212 -0.28970299]\n",
            " [ 0.8281997   1.01396046]\n",
            " [ 1.81254495  1.01396046]\n",
            " [ 0.96642691 -0.0289703 ]\n",
            " [ 1.72877089  1.01396046]\n",
            " [ 1.30990057  1.27469315]\n",
            " [ 1.90050772  1.01396046]\n",
            " [-0.23991961 -0.0289703 ]\n",
            " [ 0.40932938 -0.0289703 ]\n",
            " [ 0.47215993 -0.0289703 ]\n",
            " [ 0.4302729   2.31762392]]\n"
          ]
        }
      ]
    },
    {
      "cell_type": "markdown",
      "source": [
        "**Note that the first two values are -2.1 and -1.59, which corresponds to our calculations:**"
      ],
      "metadata": {
        "id": "JO4VqCASkJLX"
      }
    },
    {
      "cell_type": "markdown",
      "source": [
        "#Predict CO2 Values\n",
        "The task in the Multiple Regression chapter was to predict the CO2 emission from a car when you only knew its weight and volume.\n",
        "\n",
        "When the data set is scaled, you will have to use the scale when you predict values:"
      ],
      "metadata": {
        "id": "4PTB1M0LkjrQ"
      }
    },
    {
      "cell_type": "code",
      "source": [
        "import pandas\n",
        "from sklearn import linear_model\n",
        "from sklearn.preprocessing import StandardScaler\n",
        "scale = StandardScaler()\n",
        "\n",
        "df = pandas.read_csv(\"cars2.csv\")\n",
        "\n",
        "X = df[['Weight', 'Volume']]\n",
        "y = df['CO2']\n",
        "\n",
        "scaledX = scale.fit_transform(X)\n",
        "\n",
        "regr = linear_model.LinearRegression()\n",
        "regr.fit(scaledX, y)\n",
        "\n",
        "scaled = scale.transform([[2300, 1.3]])\n",
        "\n",
        "predictedCO2 = regr.predict([scaled[0]])\n",
        "print(predictedCO2)"
      ],
      "metadata": {
        "colab": {
          "base_uri": "https://localhost:8080/"
        },
        "id": "gbYIWJMpkNsx",
        "outputId": "aea96a2d-38ce-4e79-8c60-65415c3c71c2"
      },
      "execution_count": 4,
      "outputs": [
        {
          "output_type": "stream",
          "name": "stdout",
          "text": [
            "[107.2087328]\n"
          ]
        },
        {
          "output_type": "stream",
          "name": "stderr",
          "text": [
            "/usr/local/lib/python3.7/dist-packages/sklearn/base.py:451: UserWarning: X does not have valid feature names, but StandardScaler was fitted with feature names\n",
            "  \"X does not have valid feature names, but\"\n"
          ]
        }
      ]
    },
    {
      "cell_type": "code",
      "source": [
        ""
      ],
      "metadata": {
        "id": "L2ZPOYsjkBfR"
      },
      "execution_count": null,
      "outputs": []
    },
    {
      "cell_type": "markdown",
      "source": [
        "#Machine Learning - Train/Test\n",
        "#Evaluate Your Model\n",
        "In Machine Learning we create models to predict the outcome of certain events, like in the previous chapter where we predicted the CO2 emission of a car when we knew the weight and engine size.\n",
        "\n",
        "To measure if the model is good enough, we can use a method called Train/Test.\n",
        "\n",
        "**What is Train/Test**\n",
        "Train/Test is a method to measure the accuracy of your model.\n",
        "\n",
        "It is called Train/Test because you split the the data set into two sets: a training set and a testing set.\n",
        "\n",
        "80% for training, and 20% for testing.\n",
        "\n",
        "You train the model using the training set.\n",
        "\n",
        "You test the model using the testing set.\n",
        "\n",
        "**Train the model means create the model.**\n",
        "\n",
        "**Test the model means test the accuracy of the model.**\n",
        "#Start With a Data Set\n",
        "Start with a data set you want to test.\n",
        "\n",
        "Our data set illustrates 100 customers in a shop, and their shopping habits."
      ],
      "metadata": {
        "id": "5wRX0UZCmWWf"
      }
    },
    {
      "cell_type": "code",
      "source": [
        "import numpy\n",
        "import matplotlib.pyplot as plt\n",
        "numpy.random.seed(2)\n",
        "#The x axis represents the number of minutes before making a purchase.\n",
        "x = numpy.random.normal(3, 1, 100) \n",
        "\n",
        "#The y axis represents the amount of money spent on the purchase.\n",
        "y = numpy.random.normal(150, 40, 100) / x\n",
        "\n",
        "plt.scatter(x, y)\n",
        "plt.show()"
      ],
      "metadata": {
        "colab": {
          "base_uri": "https://localhost:8080/",
          "height": 265
        },
        "id": "QkgH8SqnmwSG",
        "outputId": "dbb1e168-8953-4648-9e53-1204f77a69ca"
      },
      "execution_count": 5,
      "outputs": [
        {
          "output_type": "display_data",
          "data": {
            "text/plain": [
              "<Figure size 432x288 with 1 Axes>"
            ],
            "image/png": "[encoded data removed]"
          },
          "metadata": {
            "needs_background": "light"
          }
        }
      ]
    },
    {
      "cell_type": "markdown",
      "source": [
        "#Split Into Train/Test\n",
        "The training set should be a random selection of 80% of the original data.\n",
        "\n",
        "The testing set should be the remaining 20%.\n",
        "\n"
      ],
      "metadata": {
        "id": "dWIDg4yqnXdr"
      }
    },
    {
      "cell_type": "code",
      "source": [
        "train_x = x[:80]\n",
        "train_y = y[:80]\n",
        "\n",
        "test_x = x[80:]\n",
        "test_y = y[80:]"
      ],
      "metadata": {
        "id": "l6vDfuQbniYd"
      },
      "execution_count": 7,
      "outputs": []
    },
    {
      "cell_type": "markdown",
      "source": [
        "#Display the Training Set\n",
        "Display the same scatter plot with the training set:\n",
        "\n",
        "Example\n"
      ],
      "metadata": {
        "id": "5HQb_iffn12R"
      }
    },
    {
      "cell_type": "code",
      "source": [
        "plt.scatter(train_x, train_y)\n",
        "plt.show()"
      ],
      "metadata": {
        "colab": {
          "base_uri": "https://localhost:8080/",
          "height": 265
        },
        "id": "3zthKv72n8GW",
        "outputId": "fbcbf98e-f5dd-4d1d-9439-31bdff38a89c"
      },
      "execution_count": 8,
      "outputs": [
        {
          "output_type": "display_data",
          "data": {
            "text/plain": [
              "<Figure size 432x288 with 1 Axes>"
            ],
            "image/png": "[encoded data removed]"
          },
          "metadata": {
            "needs_background": "light"
          }
        }
      ]
    },
    {
      "cell_type": "markdown",
      "source": [
        "It looks like the original data set, so it seems to be a fair selection:"
      ],
      "metadata": {
        "id": "9BcclvXhoCMo"
      }
    },
    {
      "cell_type": "markdown",
      "source": [
        "#Display the Testing Set\n",
        "To make sure the testing set is not completely different, we will take a look at the testing set as well.\n",
        "\n",
        "Example\n"
      ],
      "metadata": {
        "id": "ZZFb0eovoImq"
      }
    },
    {
      "cell_type": "code",
      "source": [
        "plt.scatter(test_x, test_y)\n",
        "plt.show()"
      ],
      "metadata": {
        "colab": {
          "base_uri": "https://localhost:8080/",
          "height": 265
        },
        "id": "an0xq3Q9oNaJ",
        "outputId": "9ec12d6e-ae99-4de7-a82c-2da75cba21e2"
      },
      "execution_count": 9,
      "outputs": [
        {
          "output_type": "display_data",
          "data": {
            "text/plain": [
              "<Figure size 432x288 with 1 Axes>"
            ],
            "image/png": "[encoded data removed]"
          },
          "metadata": {
            "needs_background": "light"
          }
        }
      ]
    },
    {
      "cell_type": "markdown",
      "source": [
        "The testing set also looks like the original data set:\n",
        "#Fit the Data Set\n",
        "What does the data set look like? In my opinion I think the best fit would be a polynomial regression, so let us draw a line of polynomial regression.\n",
        "\n",
        "To draw a line through the data points, we use the plot() method of the matplotlib module:\n",
        "\n",
        "Example\n",
        "Draw a polynomial regression line through the data points:\n",
        "\n"
      ],
      "metadata": {
        "id": "70PEE8KwoTOl"
      }
    },
    {
      "cell_type": "code",
      "source": [
        "import numpy\n",
        "import matplotlib.pyplot as plt\n",
        "numpy.random.seed(2)\n",
        "\n",
        "x = numpy.random.normal(3, 1, 100)\n",
        "y = numpy.random.normal(150, 40, 100) / x\n",
        "\n",
        "train_x = x[:80]\n",
        "train_y = y[:80]\n",
        "\n",
        "test_x = x[80:]\n",
        "test_y = y[80:]\n",
        "\n",
        "mymodel = numpy.poly1d(numpy.polyfit(train_x, train_y, 4))\n",
        "\n",
        "myline = numpy.linspace(0, 6, 100)\n",
        "\n",
        "plt.scatter(train_x, train_y)\n",
        "plt.plot(myline, mymodel(myline))\n",
        "plt.show()"
      ],
      "metadata": {
        "colab": {
          "base_uri": "https://localhost:8080/",
          "height": 266
        },
        "id": "6JpJNujOolYt",
        "outputId": "a5a925c4-20e3-43ef-8128-153f33fee54a"
      },
      "execution_count": 10,
      "outputs": [
        {
          "output_type": "display_data",
          "data": {
            "text/plain": [
              "<Figure size 432x288 with 1 Axes>"
            ],
            "image/png": "[encoded data removed]"
          },
          "metadata": {
            "needs_background": "light"
          }
        }
      ]
    },
    {
      "cell_type": "markdown",
      "source": [
        "The result can back my suggestion of the data set fitting a polynomial regression, even though it would give us some weird results if we try to predict values outside of the data set. Example: the line indicates that a customer spending 6 minutes in the shop would make a purchase worth 200. That is probably a sign of overfitting.\n",
        "\n",
        "But what about the R-squared score? The R-squared score is a good indicator of how well my data set is fitting the model.\n",
        "\n",
        "#R2\n",
        "Remember R2, also known as R-squared?\n",
        "\n",
        "It measures the relationship between the x axis and the y axis, and the value ranges from 0 to 1, where 0 means no relationship, and 1 means totally related.\n",
        "\n",
        "The **sklearn** module has a method called **r2_score()** that will help us find this relationship.\n",
        "\n",
        "In this case we would like to measure the relationship between the minutes a customer stays in the shop and how much money they spend.\n",
        "\n",
        "Example\n",
        "How well does my training data fit in a polynomial regression?\n",
        "\n"
      ],
      "metadata": {
        "id": "Zrro-TgEor2T"
      }
    },
    {
      "cell_type": "code",
      "source": [
        "import numpy\n",
        "from sklearn.metrics import r2_score\n",
        "numpy.random.seed(2)\n",
        "\n",
        "x = numpy.random.normal(3, 1, 100)\n",
        "y = numpy.random.normal(150, 40, 100) / x\n",
        "\n",
        "train_x = x[:80]\n",
        "train_y = y[:80]\n",
        "\n",
        "test_x = x[80:]\n",
        "test_y = y[80:]\n",
        "\n",
        "mymodel = numpy.poly1d(numpy.polyfit(train_x, train_y, 4))\n",
        "\n",
        "r2 = r2_score(train_y, mymodel(train_x))\n",
        "\n",
        "print(r2)"
      ],
      "metadata": {
        "colab": {
          "base_uri": "https://localhost:8080/"
        },
        "id": "_TzBVLC5pT-T",
        "outputId": "90ce0235-3400-4896-cdb0-e8ac0fb07ccc"
      },
      "execution_count": 11,
      "outputs": [
        {
          "output_type": "stream",
          "name": "stdout",
          "text": [
            "0.79886455446298\n"
          ]
        }
      ]
    },
    {
      "cell_type": "markdown",
      "source": [
        "**Note: The result 0.799 shows that there is a OK relationship.**"
      ],
      "metadata": {
        "id": "fDvQODT_pVNG"
      }
    },
    {
      "cell_type": "markdown",
      "source": [
        "#Bring in the Testing Set\n",
        "Now we have made a model that is OK, at least when it comes to training data.\n",
        "\n",
        "Now we want to test the model with the testing data as well, to see if gives us the same result.\n",
        "\n"
      ],
      "metadata": {
        "id": "5zuy1echpe90"
      }
    },
    {
      "cell_type": "code",
      "source": [
        "#Let us find the R2 score when using testing data:\n",
        "\n",
        "import numpy\n",
        "from sklearn.metrics import r2_score\n",
        "numpy.random.seed(2)\n",
        "\n",
        "x = numpy.random.normal(3, 1, 100)\n",
        "y = numpy.random.normal(150, 40, 100) / x\n",
        "\n",
        "train_x = x[:80]\n",
        "train_y = y[:80]\n",
        "\n",
        "test_x = x[80:]\n",
        "test_y = y[80:]\n",
        "\n",
        "mymodel = numpy.poly1d(numpy.polyfit(train_x, train_y, 4))\n",
        "\n",
        "r2 = r2_score(test_y, mymodel(test_x))\n",
        "\n",
        "print(r2)"
      ],
      "metadata": {
        "colab": {
          "base_uri": "https://localhost:8080/"
        },
        "id": "j7fzcLTMpm8J",
        "outputId": "ad4bebd8-5422-4d5e-a6ca-f4b293059493"
      },
      "execution_count": 12,
      "outputs": [
        {
          "output_type": "stream",
          "name": "stdout",
          "text": [
            "0.8086921460343566\n"
          ]
        }
      ]
    },
    {
      "cell_type": "markdown",
      "source": [
        "**Note: The result 0.809 shows that the model fits the testing set as well, and we are confident that we can use the model to predict future values.**\n",
        "\n",
        "#Predict Values\n",
        "Now that we have established that our model is OK, we can start predicting new values.\n",
        "\n",
        "#Example\n",
        "\n",
        "How much money will a buying customer spend, if she or he stays in the shop for 5 minutes?\n",
        "\n"
      ],
      "metadata": {
        "id": "lS0FkBXXpuiO"
      }
    },
    {
      "cell_type": "code",
      "source": [
        "print(mymodel(5))"
      ],
      "metadata": {
        "colab": {
          "base_uri": "https://localhost:8080/"
        },
        "id": "DG0ktbbgp2_6",
        "outputId": "ae26503a-ea0b-4fff-e834-613e54bc5504"
      },
      "execution_count": 13,
      "outputs": [
        {
          "output_type": "stream",
          "name": "stdout",
          "text": [
            "22.8796259181172\n"
          ]
        }
      ]
    },
    {
      "cell_type": "markdown",
      "source": [
        ""
      ],
      "metadata": {
        "id": "0aMk7Rnrp8K3"
      }
    },
    {
      "cell_type": "code",
      "source": [
        ""
      ],
      "metadata": {
        "id": "XRbcU5-6n-qh"
      },
      "execution_count": null,
      "outputs": []
    }
  ]
}