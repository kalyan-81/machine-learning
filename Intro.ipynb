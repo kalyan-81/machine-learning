{
  "cells": [
    {
      "cell_type": "markdown",
      "metadata": {
        "id": "view-in-github",
        "colab_type": "text"
      },
      "source": [
        "<a href=\"https://colab.research.google.com/github/kalyan-81/machine-learning/blob/main/Intro.ipynb\" target=\"_parent\"><img src=\"https://colab.research.google.com/assets/colab-badge.svg\" alt=\"Open In Colab\"/></a>"
      ]
    },
    {
      "cell_type": "markdown",
      "metadata": {
        "id": "mv_Abb5tGTtW"
      },
      "source": [
        "# Lecture 2 : Python Programming Introduction"
      ]
    },
    {
      "cell_type": "markdown",
      "metadata": {
        "id": "jqAdCeyQGTtd"
      },
      "source": [
        "<b>Father of Python</b> - GUIDO VAN ROSSUM"
      ]
    },
    {
      "cell_type": "markdown",
      "metadata": {
        "id": "43XKVOCDGTtd"
      },
      "source": [
        "# Where can we use Python?\n",
        "1. Desktop Applications (Calculator, Notepad, etc..)\n",
        "2. Web Applications (Youtube, Dropbox, Google, Instagram, Quora, Spotify)\n",
        "3. Scientific and Numeric Computing (Scipy, Numpy)\n",
        "4. Database Applications (Library Management Systems, Pharmaceutical)\n",
        "5. Network Applications (Network Sniffer, Network Parameter extraction, Routing Algo's like OSPF)\n",
        "6. Developing Games (Battlefield, Sims 4, PUBG)\n",
        "7. Data Science (Pandas, Matplotlib, Seaborn, etc)\n",
        "8. Machine Learning (scikit)\n",
        "9. AI (AIMA - AI: A Modern Approach)\n",
        "10. IOT (Raspberry pi, Phillips(works great with low level code in c++))\n"
      ]
    },
    {
      "cell_type": "markdown",
      "metadata": {
        "id": "8sHalSFmGTte"
      },
      "source": [
        "# Features of Python:\n",
        "1. Simple and easy to learn\n",
        "2. Free and open source.\n",
        "3. General Purpose and high level programming language.\n",
        "4. Platform independent.\n",
        "5. Case Sensitive.\n",
        "6. Interpreted Language.\n",
        "7. Dynamically typed.\n",
        "8. Rich Library.\n",
        "9. We can write concise code using python."
      ]
    },
    {
      "cell_type": "code",
      "execution_count": null,
      "metadata": {
        "scrolled": true,
        "colab": {
          "base_uri": "https://localhost:8080/"
        },
        "id": "Z9mdny86GTtf",
        "outputId": "39495c69-b33f-4359-d3bb-0926a3f2dbda"
      },
      "outputs": [
        {
          "output_type": "stream",
          "name": "stdout",
          "text": [
            "Hello\n",
            "Hello\n",
            "World\n",
            "world\n"
          ]
        }
      ],
      "source": [
        "print(\"Hello\")\n",
        "print('Hello')\n",
        "print(\"World\")\n",
        "print('world')"
      ]
    },
    {
      "cell_type": "code",
      "execution_count": null,
      "metadata": {
        "colab": {
          "base_uri": "https://localhost:8080/"
        },
        "id": "Rso_ZoVNGTtg",
        "outputId": "e768d9e6-e3fb-4606-8c1e-e5748dc61d61"
      },
      "outputs": [
        {
          "output_type": "stream",
          "name": "stdout",
          "text": [
            "30\n"
          ]
        }
      ],
      "source": [
        "a = 10\n",
        "b = 20\n",
        "print(a+b)"
      ]
    },
    {
      "cell_type": "code",
      "execution_count": null,
      "metadata": {
        "colab": {
          "base_uri": "https://localhost:8080/"
        },
        "id": "TiLdwFagGTth",
        "outputId": "9b43b8a0-1a79-4c2d-e6e9-60d6941001df"
      },
      "outputs": [
        {
          "output_type": "stream",
          "name": "stdout",
          "text": [
            "80\n"
          ]
        }
      ],
      "source": [
        "a = 10\n",
        "b = 8\n",
        "print(a*b)\n",
        "\n"
      ]
    },
    {
      "cell_type": "code",
      "execution_count": null,
      "metadata": {
        "colab": {
          "base_uri": "https://localhost:8080/"
        },
        "id": "j0MkbjuDGTth",
        "outputId": "1d42ca02-7b87-47bd-edba-c64209e16c82"
      },
      "outputs": [
        {
          "output_type": "stream",
          "name": "stdout",
          "text": [
            "30\n"
          ]
        }
      ],
      "source": [
        "a, b = 10, 20\n",
        "print(a+b)"
      ]
    },
    {
      "cell_type": "markdown",
      "metadata": {
        "id": "r9p7V5EhGTti"
      },
      "source": [
        "# Hello World"
      ]
    },
    {
      "cell_type": "code",
      "execution_count": null,
      "metadata": {
        "scrolled": true,
        "colab": {
          "base_uri": "https://localhost:8080/"
        },
        "id": "XD0JTW_qGTtj",
        "outputId": "81b1f557-6cc8-4916-c70c-15ef5d07f52d"
      },
      "outputs": [
        {
          "output_type": "stream",
          "name": "stdout",
          "text": [
            "Hello World\n",
            "Hello world\n"
          ]
        }
      ],
      "source": [
        "print('Hello World')\n",
        "print(\"Hello world\")"
      ]
    },
    {
      "cell_type": "code",
      "source": [
        "print(\"hello 'my' world\")"
      ],
      "metadata": {
        "colab": {
          "base_uri": "https://localhost:8080/"
        },
        "id": "MbD01cjPbKZc",
        "outputId": "fa46e1be-6b72-4db1-e9da-937b5e8d7e44"
      },
      "execution_count": null,
      "outputs": [
        {
          "output_type": "stream",
          "name": "stdout",
          "text": [
            "hello 'my' world\n"
          ]
        }
      ]
    },
    {
      "cell_type": "markdown",
      "source": [
        "# **Keywords:**\n",
        "Keywords are reserved words in python.\n",
        "\n",
        "keywords can't be used for identifiers."
      ],
      "metadata": {
        "id": "QtkcnRnRO5FA"
      }
    },
    {
      "cell_type": "code",
      "source": [
        "import keyword\n",
        "print(keyword.kwlist)"
      ],
      "metadata": {
        "colab": {
          "base_uri": "https://localhost:8080/"
        },
        "id": "GVLC8KJjPTxu",
        "outputId": "ffed5285-52e5-4d9f-abd7-7108f3676ee8"
      },
      "execution_count": null,
      "outputs": [
        {
          "output_type": "stream",
          "name": "stdout",
          "text": [
            "['False', 'None', 'True', 'and', 'as', 'assert', 'async', 'await', 'break', 'class', 'continue', 'def', 'del', 'elif', 'else', 'except', 'finally', 'for', 'from', 'global', 'if', 'import', 'in', 'is', 'lambda', 'nonlocal', 'not', 'or', 'pass', 'raise', 'return', 'try', 'while', 'with', 'yield']\n"
          ]
        }
      ]
    },
    {
      "cell_type": "code",
      "source": [
        "#how many keywords in python\n",
        "import keyword\n",
        "print(len(keyword.kwlist))"
      ],
      "metadata": {
        "colab": {
          "base_uri": "https://localhost:8080/"
        },
        "id": "RCdUpbLnPcVJ",
        "outputId": "15286782-d0c2-4854-b26d-d220c27582c4"
      },
      "execution_count": null,
      "outputs": [
        {
          "output_type": "stream",
          "name": "stdout",
          "text": [
            "35\n"
          ]
        }
      ]
    },
    {
      "cell_type": "markdown",
      "metadata": {
        "id": "VWUxUcE3GTtk"
      },
      "source": [
        "# Identifiers"
      ]
    },
    {
      "cell_type": "markdown",
      "metadata": {
        "id": "XlArJZixGTtk"
      },
      "source": [
        "Rules to define identifiers:\n",
        "1. Allowed characters => Alphabets, Digits and Underscore Symbol\n",
        "2. Identifier should never start with a digit\n",
        "3. Case Sensitive.\n",
        "4. No length limit.\n",
        "5. Can't use reserved words for identifier.\n",
        "6. identifiers should not include special characters.($, @, ! .etc)\n"
      ]
    },
    {
      "cell_type": "code",
      "source": [
        ""
      ],
      "metadata": {
        "id": "fOaWeu4qQnKf"
      },
      "execution_count": null,
      "outputs": []
    },
    {
      "cell_type": "code",
      "execution_count": null,
      "metadata": {
        "colab": {
          "base_uri": "https://localhost:8080/"
        },
        "id": "pvUGQBLRGTtl",
        "outputId": "f5f64926-dc0f-4f35-da8b-3235c00375a7"
      },
      "outputs": [
        {
          "output_type": "stream",
          "name": "stdout",
          "text": [
            "10\n",
            "20\n",
            "45\n",
            "30\n",
            "94666994252576\n",
            "94666994252896\n"
          ]
        }
      ],
      "source": [
        "# valid identifiers\n",
        "abc123 = 10\n",
        "print(abc123)\n",
        "Abc123 = 20\n",
        "print(Abc123)\n",
        "abc_123=45\n",
        "print(abc_123)\n",
        "_12C=30\n",
        "print(_12C)\n",
        "\n",
        "print(id(abc123))\n",
        "print(id(Abc123))"
      ]
    },
    {
      "cell_type": "code",
      "source": [
        "abc=10\n",
        "abc=20\n",
        "print(abc)"
      ],
      "metadata": {
        "colab": {
          "base_uri": "https://localhost:8080/"
        },
        "id": "mjRcWveXfLYc",
        "outputId": "8f545582-81ed-455c-9cd0-758c9bdea425"
      },
      "execution_count": null,
      "outputs": [
        {
          "output_type": "stream",
          "name": "stdout",
          "text": [
            "20\n"
          ]
        }
      ]
    },
    {
      "cell_type": "code",
      "source": [
        "# Invalid Identifiers\n",
        "#2abc=10\n",
        "#@abc=20\n",
        "# acd=67\n",
        "#ac-12=56\n",
        "\n"
      ],
      "metadata": {
        "colab": {
          "base_uri": "https://localhost:8080/",
          "height": 131
        },
        "id": "fyJ8wG5FN-e8",
        "outputId": "9fb75b3b-7f18-4ab2-af8d-c6c7e1dd4d57"
      },
      "execution_count": null,
      "outputs": [
        {
          "output_type": "error",
          "ename": "SyntaxError",
          "evalue": "ignored",
          "traceback": [
            "\u001b[0;36m  File \u001b[0;32m\"<ipython-input-39-04c6584bce2e>\"\u001b[0;36m, line \u001b[0;32m5\u001b[0m\n\u001b[0;31m    ac-12=56\u001b[0m\n\u001b[0m            ^\u001b[0m\n\u001b[0;31mSyntaxError\u001b[0m\u001b[0;31m:\u001b[0m can't assign to operator\n"
          ]
        }
      ]
    },
    {
      "cell_type": "code",
      "execution_count": null,
      "metadata": {
        "id": "fNZfhByeGTtl"
      },
      "outputs": [],
      "source": [
        "# d = 10;\n",
        "\n",
        "# print(d);\n",
        "\n",
        "# print(id(d));\n",
        "\n",
        "# print(type(d))"
      ]
    },
    {
      "cell_type": "code",
      "source": [
        ""
      ],
      "metadata": {
        "id": "oyr40SdgDaBQ"
      },
      "execution_count": null,
      "outputs": []
    },
    {
      "cell_type": "code",
      "source": [
        ""
      ],
      "metadata": {
        "id": "Br7bABMbDaED"
      },
      "execution_count": null,
      "outputs": []
    },
    {
      "cell_type": "code",
      "source": [
        ""
      ],
      "metadata": {
        "id": "wRFBy3uBDaQ8"
      },
      "execution_count": null,
      "outputs": []
    },
    {
      "cell_type": "markdown",
      "metadata": {
        "id": "hRUPXRJoGTtm"
      },
      "source": [
        "# Lecture 4: Data Types"
      ]
    },
    {
      "cell_type": "markdown",
      "metadata": {
        "id": "479U1UzkGTtm"
      },
      "source": [
        "As we know that python is Dynamically typed programming language, than why do we need to learn about data type at all?\n",
        "\n",
        "Although python automatically understands the data type, but it is important to know about data types so that we can utilize the power of data structures in future.\n",
        "\n",
        "Basic Data Types available in python are:\n",
        "<pre>\n",
        "    <b>Numeric</b> - int, float, complex (Immutable)\n",
        "    <b>Boolean</b> - bool (True/False)\n",
        "    <b>Strings</b> (Immutable)\n",
        "    <b>List</b> (Mutable, mostly used to store homogeneous data types)\n",
        "    <b>Tuple</b> (Immutable, faster compared to List)\n",
        "    <b>Set</b> (Unordered collection of items, mutable, removes duplicates)\n",
        "    <b>Dictionary</b> (Unordered collection of Key-Value Pairs, Mutable, Keys are Unique - values may not be unique)\n",
        "</pre>"
      ]
    },
    {
      "cell_type": "markdown",
      "metadata": {
        "id": "A_hnpHZqGTtm"
      },
      "source": [
        "### Numeric Datatypes -> int, float, complex\n",
        "\n",
        "We can use the **type()** function to know which class a variable or a value belongs to and the **isinstance()** function to check if an object belongs to a particular class."
      ]
    },
    {
      "cell_type": "code",
      "execution_count": null,
      "metadata": {
        "id": "j4Y_aBbzGTtn",
        "colab": {
          "base_uri": "https://localhost:8080/"
        },
        "outputId": "2df91581-0c02-4abf-e63e-1d16ffdb7e1b"
      },
      "outputs": [
        {
          "output_type": "stream",
          "name": "stdout",
          "text": [
            "<class 'int'>\n",
            "<class 'float'>\n",
            "<class 'complex'>\n"
          ]
        }
      ],
      "source": [
        "a = 5\n",
        "\n",
        "b = 5.0\n",
        "\n",
        "c = 5 + 3j\n",
        "\n",
        "print(type(a))\n",
        "\n",
        "print(type(b))\n",
        "\n",
        "print(type(c))"
      ]
    },
    {
      "cell_type": "code",
      "execution_count": null,
      "metadata": {
        "id": "WNsLs64ZGTtn",
        "colab": {
          "base_uri": "https://localhost:8080/"
        },
        "outputId": "daba609a-e8cc-428b-e0dd-93362c93f148"
      },
      "outputs": [
        {
          "output_type": "stream",
          "name": "stdout",
          "text": [
            "120000.0\n",
            "<class 'float'>\n"
          ]
        }
      ],
      "source": [
        "f = 12E4\n",
        "\n",
        "# # f = 1.23e34 and f = 1.23e+34 are equivalent\n",
        "\n",
        "print(f)\n",
        "\n",
        "print(type(f))"
      ]
    },
    {
      "cell_type": "code",
      "execution_count": null,
      "metadata": {
        "id": "9QW3adolGTto",
        "colab": {
          "base_uri": "https://localhost:8080/"
        },
        "outputId": "472b6f75-2d57-4fbe-a072-d62a3fcd90d8"
      },
      "outputs": [
        {
          "output_type": "stream",
          "name": "stdout",
          "text": [
            "<class 'complex'>\n",
            "(15+20j)\n",
            "True\n",
            "10.0\n",
            "20.0\n"
          ]
        }
      ],
      "source": [
        "c = 10+20j\n",
        "\n",
        "print(type(c))\n",
        "\n",
        "print(c + 5)\n",
        "\n",
        "print(isinstance(c, complex))\n",
        "\n",
        "print(c.real)\n",
        "\n",
        "print(c.imag)"
      ]
    },
    {
      "cell_type": "code",
      "source": [
        ""
      ],
      "metadata": {
        "id": "O1PP_5vzQ440"
      },
      "execution_count": null,
      "outputs": []
    },
    {
      "cell_type": "markdown",
      "source": [
        "# Boolean data types\n",
        "* True\n",
        "* False"
      ],
      "metadata": {
        "id": "QsUPohKlvUSk"
      }
    },
    {
      "cell_type": "code",
      "execution_count": null,
      "metadata": {
        "colab": {
          "base_uri": "https://localhost:8080/"
        },
        "id": "zUNcv1OFGTto",
        "outputId": "7189f0d2-525a-41ca-83a4-3b46bf80668a"
      },
      "outputs": [
        {
          "output_type": "stream",
          "name": "stdout",
          "text": [
            "<class 'bool'>\n"
          ]
        }
      ],
      "source": [
        "a = True\n",
        "\n",
        "print(type(a))"
      ]
    },
    {
      "cell_type": "code",
      "source": [
        "a=False\n",
        "print(type(a))"
      ],
      "metadata": {
        "colab": {
          "base_uri": "https://localhost:8080/"
        },
        "id": "Fkqqguk4vgKS",
        "outputId": "8a60c504-fc12-44f4-deeb-d683122fd0d2"
      },
      "execution_count": null,
      "outputs": [
        {
          "output_type": "stream",
          "name": "stdout",
          "text": [
            "<class 'bool'>\n"
          ]
        }
      ]
    },
    {
      "cell_type": "code",
      "execution_count": null,
      "metadata": {
        "id": "aMqmh5fUGTtp",
        "colab": {
          "base_uri": "https://localhost:8080/"
        },
        "outputId": "271f25f8-bbbb-41eb-b6d1-cf11eb2bde68"
      },
      "outputs": [
        {
          "output_type": "stream",
          "name": "stdout",
          "text": [
            "<class 'float'>\n",
            "<class 'bool'>\n"
          ]
        }
      ],
      "source": [
        "a = 10.6e-2\n",
        "b = False\n",
        "\n",
        "print(type(a))\n",
        "print(type(b))"
      ]
    },
    {
      "cell_type": "markdown",
      "source": [
        "# string data type\n",
        "\n",
        "A string in Python consists of a series or sequence of characters - letters, numbers, and special characters.\n",
        "\n",
        "Strings can be indexed - often synonymously called subscripted as well.\n",
        "\n",
        "Similar to C, the first character of a string has the index 0.\n",
        "\n",
        "We can use single quotes or double quotes to represent strings.\n",
        "\n",
        "Multi-line strings can be denoted using triple quotes, ''' or \"\"\".\n",
        "\n",
        "strings are immutable, meaning, value of elements of a list can't be altered."
      ],
      "metadata": {
        "id": "XN4O7Acww9vT"
      }
    },
    {
      "cell_type": "code",
      "source": [
        "channel= \"This is master python\"\n",
        "print(channel)"
      ],
      "metadata": {
        "colab": {
          "base_uri": "https://localhost:8080/"
        },
        "id": "vOxB47zQyjxr",
        "outputId": "d7595a06-3bfb-4876-f2d8-42dab82976e5"
      },
      "execution_count": null,
      "outputs": [
        {
          "output_type": "stream",
          "name": "stdout",
          "text": [
            "This is master python\n"
          ]
        }
      ]
    },
    {
      "cell_type": "code",
      "source": [
        "channel= 'This is master python'\n",
        "print(channel)\n",
        "print(type(channel))"
      ],
      "metadata": {
        "colab": {
          "base_uri": "https://localhost:8080/"
        },
        "id": "G5kST_HgQ7g6",
        "outputId": "9949b568-10b3-4966-de64-c1d9fa8a51b5"
      },
      "execution_count": null,
      "outputs": [
        {
          "output_type": "stream",
          "name": "stdout",
          "text": [
            "This is master python\n",
            "<class 'str'>\n"
          ]
        }
      ]
    },
    {
      "cell_type": "code",
      "source": [
        "print(channel[6])"
      ],
      "metadata": {
        "colab": {
          "base_uri": "https://localhost:8080/"
        },
        "id": "Nbof_TgXy3J_",
        "outputId": "04318872-e4e6-421a-87b0-c0ebff9fff4b"
      },
      "execution_count": null,
      "outputs": [
        {
          "output_type": "stream",
          "name": "stdout",
          "text": [
            "s\n"
          ]
        }
      ]
    },
    {
      "cell_type": "code",
      "source": [
        "print(channel.index('m'))"
      ],
      "metadata": {
        "colab": {
          "base_uri": "https://localhost:8080/"
        },
        "id": "Ifk0y4a4RthA",
        "outputId": "393e9ba9-5e87-42ce-fbea-8b3f0e603e72"
      },
      "execution_count": null,
      "outputs": [
        {
          "output_type": "stream",
          "name": "stdout",
          "text": [
            "8\n"
          ]
        }
      ]
    },
    {
      "cell_type": "code",
      "source": [
        "channel[0]='t'\n",
        "print(channel)"
      ],
      "metadata": {
        "colab": {
          "base_uri": "https://localhost:8080/",
          "height": 183
        },
        "id": "nwRsDpI8z9nn",
        "outputId": "1dafa0fe-9be4-4456-ba98-1499c909c517"
      },
      "execution_count": null,
      "outputs": [
        {
          "output_type": "error",
          "ename": "TypeError",
          "evalue": "ignored",
          "traceback": [
            "\u001b[0;31m---------------------------------------------------------------------------\u001b[0m",
            "\u001b[0;31mTypeError\u001b[0m                                 Traceback (most recent call last)",
            "\u001b[0;32m<ipython-input-43-c17a457ea0a5>\u001b[0m in \u001b[0;36m<module>\u001b[0;34m()\u001b[0m\n\u001b[0;32m----> 1\u001b[0;31m \u001b[0mchannel\u001b[0m\u001b[0;34m[\u001b[0m\u001b[0;36m0\u001b[0m\u001b[0;34m]\u001b[0m\u001b[0;34m=\u001b[0m\u001b[0;34m't'\u001b[0m\u001b[0;34m\u001b[0m\u001b[0;34m\u001b[0m\u001b[0m\n\u001b[0m\u001b[1;32m      2\u001b[0m \u001b[0mprint\u001b[0m\u001b[0;34m(\u001b[0m\u001b[0mchannel\u001b[0m\u001b[0;34m)\u001b[0m\u001b[0;34m\u001b[0m\u001b[0;34m\u001b[0m\u001b[0m\n",
            "\u001b[0;31mTypeError\u001b[0m: 'str' object does not support item assignment"
          ]
        }
      ]
    },
    {
      "cell_type": "markdown",
      "source": [
        "#List data type\n",
        "List is an ordered sequence of items. It is one of the most used datatype in Python and is very flexible. All the items in a list do not need to be of the same type.\n",
        "\n",
        "Declaring a list is , Items separated by commas are enclosed within brackets [ ].\n",
        "\n",
        "Lists are mutable, meaning, value of elements of a list can be altered."
      ],
      "metadata": {
        "id": "GkQbOU4_zCkK"
      }
    },
    {
      "cell_type": "code",
      "source": [
        "a = [10, 40.5, \"Hello\",1]\n",
        "print(a[1])   "
      ],
      "metadata": {
        "colab": {
          "base_uri": "https://localhost:8080/"
        },
        "id": "dyAvyv2PzJPZ",
        "outputId": "07412c45-dac3-4cfe-d298-cb4aa37890f7"
      },
      "execution_count": null,
      "outputs": [
        {
          "output_type": "stream",
          "name": "stdout",
          "text": [
            "40.5\n"
          ]
        }
      ]
    },
    {
      "cell_type": "code",
      "source": [
        "a[1]='Hi'\n",
        "print(a)"
      ],
      "metadata": {
        "colab": {
          "base_uri": "https://localhost:8080/"
        },
        "id": "iL18DZzMzdiT",
        "outputId": "9f76fae0-ffd5-4392-e876-c0f1bf7c3762"
      },
      "execution_count": null,
      "outputs": [
        {
          "output_type": "stream",
          "name": "stdout",
          "text": [
            "[10, 'Hi', 'Hello', 1]\n"
          ]
        }
      ]
    },
    {
      "cell_type": "markdown",
      "source": [
        "# Tuple data type\n",
        "Tuple is an ordered sequence of items same as list.The only difference is that tuples are immutable. Tuples once created cannot be modified.\n",
        "\n",
        "Declaring a tuple is , Items separated by commas are enclosed within brackets **( )**."
      ],
      "metadata": {
        "id": "xKGbNBfo71ft"
      }
    },
    {
      "cell_type": "code",
      "source": [
        "t = (1, 1.5, \"ML\")\n",
        "print(t)\n",
        "print(type(t))"
      ],
      "metadata": {
        "colab": {
          "base_uri": "https://localhost:8080/"
        },
        "id": "3ogYQeBczJZo",
        "outputId": "3858aff7-4bf6-477a-90d3-872b585445bf"
      },
      "execution_count": null,
      "outputs": [
        {
          "output_type": "stream",
          "name": "stdout",
          "text": [
            "(1, 1.5, 'ML')\n",
            "<class 'tuple'>\n"
          ]
        }
      ]
    },
    {
      "cell_type": "code",
      "source": [
        "print(t[1]) #extract particular element"
      ],
      "metadata": {
        "colab": {
          "base_uri": "https://localhost:8080/"
        },
        "id": "XfRuLAfNzJbP",
        "outputId": "f0407098-2949-49d0-8fbe-2935965c9a24"
      },
      "execution_count": null,
      "outputs": [
        {
          "output_type": "stream",
          "name": "stdout",
          "text": [
            "1.5\n"
          ]
        }
      ]
    },
    {
      "cell_type": "code",
      "source": [
        "t[1]=5  #tuples are immutable\n",
        "print(t)"
      ],
      "metadata": {
        "colab": {
          "base_uri": "https://localhost:8080/",
          "height": 183
        },
        "id": "lYHQ20JqzJeF",
        "outputId": "69217692-2001-4742-a654-9632d885235c"
      },
      "execution_count": null,
      "outputs": [
        {
          "output_type": "error",
          "ename": "TypeError",
          "evalue": "ignored",
          "traceback": [
            "\u001b[0;31m---------------------------------------------------------------------------\u001b[0m",
            "\u001b[0;31mTypeError\u001b[0m                                 Traceback (most recent call last)",
            "\u001b[0;32m<ipython-input-50-b76e4fba0a7e>\u001b[0m in \u001b[0;36m<module>\u001b[0;34m()\u001b[0m\n\u001b[0;32m----> 1\u001b[0;31m \u001b[0mt\u001b[0m\u001b[0;34m[\u001b[0m\u001b[0;36m1\u001b[0m\u001b[0;34m]\u001b[0m\u001b[0;34m=\u001b[0m\u001b[0;36m5\u001b[0m  \u001b[0;31m#tuples are immutable\u001b[0m\u001b[0;34m\u001b[0m\u001b[0;34m\u001b[0m\u001b[0m\n\u001b[0m\u001b[1;32m      2\u001b[0m \u001b[0mprint\u001b[0m\u001b[0;34m(\u001b[0m\u001b[0mt\u001b[0m\u001b[0;34m)\u001b[0m\u001b[0;34m\u001b[0m\u001b[0;34m\u001b[0m\u001b[0m\n",
            "\u001b[0;31mTypeError\u001b[0m: 'tuple' object does not support item assignment"
          ]
        }
      ]
    },
    {
      "cell_type": "markdown",
      "source": [
        "#Set data type\n",
        "Set is an unordered collection of unique items. Set is defined by values separated by comma inside braces { }. \n",
        "Items in a set are not ordered and immutable.\n"
      ],
      "metadata": {
        "id": "vfAvTY1V8vCF"
      }
    },
    {
      "cell_type": "code",
      "source": [
        "a = {10, 30, 20, 40, 5}\n",
        "print(a)"
      ],
      "metadata": {
        "colab": {
          "base_uri": "https://localhost:8080/"
        },
        "id": "Chzu2WOc85cq",
        "outputId": "48ef490e-f259-413e-db16-2527de942fdc"
      },
      "execution_count": null,
      "outputs": [
        {
          "output_type": "stream",
          "name": "stdout",
          "text": [
            "{5, 40, 10, 20, 30}\n"
          ]
        }
      ]
    },
    {
      "cell_type": "code",
      "source": [
        "print(type(a)) "
      ],
      "metadata": {
        "colab": {
          "base_uri": "https://localhost:8080/"
        },
        "id": "WjSb-0EE-awK",
        "outputId": "86a3302a-c06a-4586-e1a6-b7d1a104920e"
      },
      "execution_count": null,
      "outputs": [
        {
          "output_type": "stream",
          "name": "stdout",
          "text": [
            "<class 'set'>\n"
          ]
        }
      ]
    },
    {
      "cell_type": "code",
      "source": [
        "#automatically set won't consider duplicate elements\n",
        "s = {10, 20, 20, 30, 30, 30}\n",
        "print(s)  "
      ],
      "metadata": {
        "colab": {
          "base_uri": "https://localhost:8080/"
        },
        "id": "1T3qSqDX-j1D",
        "outputId": "9676d04e-d1f8-4688-9b38-5c77eadc6324"
      },
      "execution_count": null,
      "outputs": [
        {
          "output_type": "stream",
          "name": "stdout",
          "text": [
            "{10, 20, 30}\n"
          ]
        }
      ]
    },
    {
      "cell_type": "code",
      "source": [
        "print(s[1])"
      ],
      "metadata": {
        "colab": {
          "base_uri": "https://localhost:8080/",
          "height": 166
        },
        "id": "ecniRnEa-wcF",
        "outputId": "8922d8b3-a43a-483a-f0ad-c6a8dc2b3dd4"
      },
      "execution_count": null,
      "outputs": [
        {
          "output_type": "error",
          "ename": "TypeError",
          "evalue": "ignored",
          "traceback": [
            "\u001b[0;31m---------------------------------------------------------------------------\u001b[0m",
            "\u001b[0;31mTypeError\u001b[0m                                 Traceback (most recent call last)",
            "\u001b[0;32m<ipython-input-19-c1d0669698c5>\u001b[0m in \u001b[0;36m<module>\u001b[0;34m()\u001b[0m\n\u001b[0;32m----> 1\u001b[0;31m \u001b[0mprint\u001b[0m\u001b[0;34m(\u001b[0m\u001b[0ms\u001b[0m\u001b[0;34m[\u001b[0m\u001b[0;36m1\u001b[0m\u001b[0;34m]\u001b[0m\u001b[0;34m)\u001b[0m\u001b[0;34m\u001b[0m\u001b[0;34m\u001b[0m\u001b[0m\n\u001b[0m",
            "\u001b[0;31mTypeError\u001b[0m: 'set' object is not subscriptable"
          ]
        }
      ]
    },
    {
      "cell_type": "markdown",
      "source": [
        "# Dictionary data type\n",
        "Dictionary is an unordered collection of key-value pairs.\n",
        "\n",
        "In Python, dictionaries are defined within braces **{}** with each item being a pair in the form **key:value**.\n",
        "\n",
        " Key and value can be of any type.\n",
        "\n",
        " key's are immutable but values are mutable."
      ],
      "metadata": {
        "id": "sFY1LSuq-5-q"
      }
    },
    {
      "cell_type": "code",
      "source": [
        "d = {'a': \"apple\", 'b': \"bat\", 'c': 'cat',3:100,4:'master'}\n",
        "print(d[3])"
      ],
      "metadata": {
        "colab": {
          "base_uri": "https://localhost:8080/"
        },
        "id": "FJke1ZqE_M0M",
        "outputId": "f32d6652-9f4b-4257-af82-3071cb234e82"
      },
      "execution_count": null,
      "outputs": [
        {
          "output_type": "stream",
          "name": "stdout",
          "text": [
            "100\n"
          ]
        }
      ]
    },
    {
      "cell_type": "code",
      "source": [
        "d['a']='APPLE'\n",
        "print(d)"
      ],
      "metadata": {
        "colab": {
          "base_uri": "https://localhost:8080/"
        },
        "id": "B3NTo0ig_nFM",
        "outputId": "702622a3-dd5b-41ec-acb8-b99020ac6ce6"
      },
      "execution_count": null,
      "outputs": [
        {
          "output_type": "stream",
          "name": "stdout",
          "text": [
            "{'a': 'APPLE', 'b': 'bat', 'c': 'cat', 3: 100, 4: 'master'}\n"
          ]
        }
      ]
    },
    {
      "cell_type": "markdown",
      "source": [
        "#Type casting\n",
        "Conversion between Data types\n",
        "\n",
        "We can convert between different data types by using different type conversion functions like **int()**, **float()**, **str()**, **list()**, **tuple()** etc."
      ],
      "metadata": {
        "id": "fCTw13JhAav3"
      }
    },
    {
      "cell_type": "code",
      "source": [
        "float(5)     #convert interger to float using float() method"
      ],
      "metadata": {
        "colab": {
          "base_uri": "https://localhost:8080/"
        },
        "id": "f4SMSq1X-9Tr",
        "outputId": "952c2f7d-429a-4e43-e378-79d06c650454"
      },
      "execution_count": null,
      "outputs": [
        {
          "output_type": "execute_result",
          "data": {
            "text/plain": [
              "5.0"
            ]
          },
          "metadata": {},
          "execution_count": 58
        }
      ]
    },
    {
      "cell_type": "code",
      "source": [
        "int(100.5)   #convert float to integer using int() method"
      ],
      "metadata": {
        "colab": {
          "base_uri": "https://localhost:8080/"
        },
        "id": "1TJxLUZfBIK7",
        "outputId": "a68bd4f6-19b1-470e-c0f5-6a4f8dff4a0a"
      },
      "execution_count": null,
      "outputs": [
        {
          "output_type": "execute_result",
          "data": {
            "text/plain": [
              "100"
            ]
          },
          "metadata": {},
          "execution_count": 59
        }
      ]
    },
    {
      "cell_type": "code",
      "source": [
        "#Conversion to and from string must contain compatible values.\n",
        "int(\"two\")"
      ],
      "metadata": {
        "colab": {
          "base_uri": "https://localhost:8080/",
          "height": 183
        },
        "id": "OtCj-GNsBLV_",
        "outputId": "c6133ea0-3cc9-4163-f915-c2f13ad3f6fd"
      },
      "execution_count": null,
      "outputs": [
        {
          "output_type": "error",
          "ename": "ValueError",
          "evalue": "ignored",
          "traceback": [
            "\u001b[0;31m---------------------------------------------------------------------------\u001b[0m",
            "\u001b[0;31mValueError\u001b[0m                                Traceback (most recent call last)",
            "\u001b[0;32m<ipython-input-61-e2408a880461>\u001b[0m in \u001b[0;36m<module>\u001b[0;34m()\u001b[0m\n\u001b[1;32m      1\u001b[0m \u001b[0;31m#Conversion to and from string must contain compatible values.\u001b[0m\u001b[0;34m\u001b[0m\u001b[0;34m\u001b[0m\u001b[0;34m\u001b[0m\u001b[0m\n\u001b[0;32m----> 2\u001b[0;31m \u001b[0mint\u001b[0m\u001b[0;34m(\u001b[0m\u001b[0;34m\"two\"\u001b[0m\u001b[0;34m)\u001b[0m\u001b[0;34m\u001b[0m\u001b[0;34m\u001b[0m\u001b[0m\n\u001b[0m",
            "\u001b[0;31mValueError\u001b[0m: invalid literal for int() with base 10: 'two'"
          ]
        }
      ]
    },
    {
      "cell_type": "code",
      "source": [
        "int('10')"
      ],
      "metadata": {
        "colab": {
          "base_uri": "https://localhost:8080/"
        },
        "id": "n4VjrbEtYjaZ",
        "outputId": "40d43396-373c-4040-db0c-41c30c6f50a8"
      },
      "execution_count": null,
      "outputs": [
        {
          "output_type": "execute_result",
          "data": {
            "text/plain": [
              "10"
            ]
          },
          "metadata": {},
          "execution_count": 60
        }
      ]
    },
    {
      "cell_type": "code",
      "source": [
        "complex(2)"
      ],
      "metadata": {
        "colab": {
          "base_uri": "https://localhost:8080/"
        },
        "id": "rqMK0a4dBt0b",
        "outputId": "34cce34e-ab74-42b0-8593-c547d34b74da"
      },
      "execution_count": null,
      "outputs": [
        {
          "output_type": "execute_result",
          "data": {
            "text/plain": [
              "(2+0j)"
            ]
          },
          "metadata": {},
          "execution_count": 26
        }
      ]
    },
    {
      "cell_type": "code",
      "source": [
        "int(1+2j)"
      ],
      "metadata": {
        "colab": {
          "base_uri": "https://localhost:8080/",
          "height": 166
        },
        "id": "nKZ86DJQBz5n",
        "outputId": "bf068e3d-c30d-4189-d61a-26bd3f40f86f"
      },
      "execution_count": null,
      "outputs": [
        {
          "output_type": "error",
          "ename": "TypeError",
          "evalue": "ignored",
          "traceback": [
            "\u001b[0;31m---------------------------------------------------------------------------\u001b[0m",
            "\u001b[0;31mTypeError\u001b[0m                                 Traceback (most recent call last)",
            "\u001b[0;32m<ipython-input-27-92955e8f77c0>\u001b[0m in \u001b[0;36m<module>\u001b[0;34m()\u001b[0m\n\u001b[0;32m----> 1\u001b[0;31m \u001b[0mint\u001b[0m\u001b[0;34m(\u001b[0m\u001b[0;36m1\u001b[0m\u001b[0;34m+\u001b[0m\u001b[0;36m2j\u001b[0m\u001b[0;34m)\u001b[0m\u001b[0;34m\u001b[0m\u001b[0;34m\u001b[0m\u001b[0m\n\u001b[0m",
            "\u001b[0;31mTypeError\u001b[0m: can't convert complex to int"
          ]
        }
      ]
    },
    {
      "cell_type": "markdown",
      "source": [
        "We can convert one sequence to other"
      ],
      "metadata": {
        "id": "x6Ok-VcnCC3j"
      }
    },
    {
      "cell_type": "code",
      "source": [
        "a = [1, 2, 3]\n",
        "print(a)\n",
        "print(type(a))      #type of a is list \n",
        "\n",
        "s = set(a)          #convert list to set using set() method\n",
        "print(s)\n",
        "print(type(s))      #now type of s is set\n",
        "\n",
        "t=tuple(a)\n",
        "print(t)\n",
        "print(type(t))"
      ],
      "metadata": {
        "colab": {
          "base_uri": "https://localhost:8080/"
        },
        "id": "qjA4iJv4B-3U",
        "outputId": "6ba05d6a-a5e8-47b6-b21f-893cb5d59b29"
      },
      "execution_count": null,
      "outputs": [
        {
          "output_type": "stream",
          "name": "stdout",
          "text": [
            "[1, 2, 3]\n",
            "<class 'list'>\n",
            "{1, 2, 3}\n",
            "<class 'set'>\n",
            "(1, 2, 3)\n",
            "<class 'tuple'>\n"
          ]
        }
      ]
    },
    {
      "cell_type": "code",
      "source": [
        "dict(a)"
      ],
      "metadata": {
        "colab": {
          "base_uri": "https://localhost:8080/",
          "height": 166
        },
        "id": "jTijuFHPCmLz",
        "outputId": "96d00e2d-50c8-4cf8-d7c9-284e01b3dd3a"
      },
      "execution_count": null,
      "outputs": [
        {
          "output_type": "error",
          "ename": "TypeError",
          "evalue": "ignored",
          "traceback": [
            "\u001b[0;31m---------------------------------------------------------------------------\u001b[0m",
            "\u001b[0;31mTypeError\u001b[0m                                 Traceback (most recent call last)",
            "\u001b[0;32m<ipython-input-31-03db1ad60af5>\u001b[0m in \u001b[0;36m<module>\u001b[0;34m()\u001b[0m\n\u001b[0;32m----> 1\u001b[0;31m \u001b[0mdict\u001b[0m\u001b[0;34m(\u001b[0m\u001b[0ma\u001b[0m\u001b[0;34m)\u001b[0m\u001b[0;34m\u001b[0m\u001b[0;34m\u001b[0m\u001b[0m\n\u001b[0m",
            "\u001b[0;31mTypeError\u001b[0m: cannot convert dictionary update sequence element #0 to a sequence"
          ]
        }
      ]
    },
    {
      "cell_type": "code",
      "source": [
        "list(\"Hello\")       #convert String to list using list() method"
      ],
      "metadata": {
        "colab": {
          "base_uri": "https://localhost:8080/"
        },
        "id": "g0E5qtNbCVV5",
        "outputId": "28d04de4-a69e-4408-d7f3-fa3166e6b3c5"
      },
      "execution_count": null,
      "outputs": [
        {
          "output_type": "execute_result",
          "data": {
            "text/plain": [
              "['H', 'e', 'l', 'l', 'o']"
            ]
          },
          "metadata": {},
          "execution_count": 30
        }
      ]
    },
    {
      "cell_type": "code",
      "source": [
        "tuple(\"Hello\") "
      ],
      "metadata": {
        "colab": {
          "base_uri": "https://localhost:8080/"
        },
        "id": "zS4XORJ2C3Fk",
        "outputId": "8a4fc11f-ca62-4ee0-ed16-c85a99faedae"
      },
      "execution_count": null,
      "outputs": [
        {
          "output_type": "execute_result",
          "data": {
            "text/plain": [
              "('H', 'e', 'l', 'l', 'o')"
            ]
          },
          "metadata": {},
          "execution_count": 62
        }
      ]
    },
    {
      "cell_type": "code",
      "source": [
        "END"
      ],
      "metadata": {
        "id": "ICb8vKmhC3HC"
      },
      "execution_count": null,
      "outputs": []
    },
    {
      "cell_type": "code",
      "source": [
        ""
      ],
      "metadata": {
        "id": "qSE8mmjlC3RX"
      },
      "execution_count": null,
      "outputs": []
    },
    {
      "cell_type": "code",
      "source": [
        ""
      ],
      "metadata": {
        "id": "5PNxPLsXC3Tz"
      },
      "execution_count": null,
      "outputs": []
    },
    {
      "cell_type": "code",
      "source": [
        ""
      ],
      "metadata": {
        "id": "FqxgeMPqC3Yq"
      },
      "execution_count": null,
      "outputs": []
    },
    {
      "cell_type": "code",
      "source": [
        ""
      ],
      "metadata": {
        "id": "wCsWdmxUC3bU"
      },
      "execution_count": null,
      "outputs": []
    },
    {
      "cell_type": "markdown",
      "metadata": {
        "id": "W_7XiEkWGTtq"
      },
      "source": [
        "#Lecture 5: Comments, input & output in Python\n",
        "**comments:**\n",
        "Comments are lines that exist in computer programs that are ignored by compilers and interpreters.\n",
        "\n",
        "Including comments in programs makes code more readable for humans as it provides some information or explanation about what each part of a program is doing.\n",
        "\n",
        "In general, it is a good idea to write comments while you are writing or updating a program as it is easy to forget your thought process later on, and comments written later may be less useful in the long term."
      ]
    },
    {
      "cell_type": "code",
      "execution_count": 6,
      "metadata": {
        "id": "7pXc3VjEGTtq",
        "outputId": "89aa9457-0537-4841-ef84-eb75d029b2b4",
        "colab": {
          "base_uri": "https://localhost:8080/"
        }
      },
      "outputs": [
        {
          "output_type": "stream",
          "name": "stdout",
          "text": [
            "master python\n"
          ]
        }
      ],
      "source": [
        "#This is a single line comment\n",
        "\n",
        "'''\n",
        "this is a \n",
        "multiline comment - 1\n",
        "'''\n",
        "\n",
        "\"\"\"\n",
        "this is a\n",
        "multiline comment - 2\n",
        "\"\"\"\n",
        "print(\"master python\")"
      ]
    },
    {
      "cell_type": "markdown",
      "metadata": {
        "id": "8acZhN8FGTtr"
      },
      "source": [
        "# Input & Output\n",
        "\n",
        "if we want to take the input from the user. In Python, we have the **input()** function to allow this.\n",
        "\n",
        "We use the **print()** function to output data to the standard output device"
      ]
    },
    {
      "cell_type": "code",
      "execution_count": 9,
      "metadata": {
        "id": "-Qo7Z-z6GTts",
        "outputId": "5bb63f42-0d52-4e52-8080-a25b01c51ad3",
        "colab": {
          "base_uri": "https://localhost:8080/"
        }
      },
      "outputs": [
        {
          "output_type": "stream",
          "name": "stdout",
          "text": [
            "8125364509\n",
            "8125364509\n",
            "<class 'str'>\n"
          ]
        }
      ],
      "source": [
        "b=input()\n",
        "print(b)\n",
        "print(type(b))"
      ]
    },
    {
      "cell_type": "code",
      "execution_count": 10,
      "metadata": {
        "id": "I6Y5SSZ6GTts",
        "outputId": "639c7c4b-f432-4ef2-99fe-6be2bc9f44de",
        "colab": {
          "base_uri": "https://localhost:8080/"
        }
      },
      "outputs": [
        {
          "output_type": "stream",
          "name": "stdout",
          "text": [
            "Enter a number: 123467789\n",
            "123467789\n"
          ]
        }
      ],
      "source": [
        "a = input(\"Enter a number: \")\n",
        "\n",
        "print(a)"
      ]
    },
    {
      "cell_type": "code",
      "execution_count": 12,
      "metadata": {
        "id": "QsC0aGoTGTts",
        "outputId": "c130bbcd-4b00-4113-8b43-1906ef018450",
        "colab": {
          "base_uri": "https://localhost:8080/"
        }
      },
      "outputs": [
        {
          "output_type": "stream",
          "name": "stdout",
          "text": [
            "a = 6\n",
            "b = 5\n",
            "11\n"
          ]
        }
      ],
      "source": [
        "# WAP to get two numbers from user and add them\n",
        "\n",
        "a = input(\"a = \")\n",
        "a=int(a)\n",
        "\n",
        "b = input(\"b = \")\n",
        "b=int(b)\n",
        "\n",
        "print(a + b)\n"
      ]
    },
    {
      "cell_type": "code",
      "source": [
        "a=int(input('a= '))\n",
        "b=int(input('b='))\n",
        "print(a+b)"
      ],
      "metadata": {
        "colab": {
          "base_uri": "https://localhost:8080/"
        },
        "id": "WrIz_KMGutbz",
        "outputId": "28e349b3-4adf-40ab-df9a-d038c7cb67c6"
      },
      "execution_count": 13,
      "outputs": [
        {
          "output_type": "stream",
          "name": "stdout",
          "text": [
            "a= 5\n",
            "b=6\n",
            "11\n"
          ]
        }
      ]
    },
    {
      "cell_type": "code",
      "execution_count": 17,
      "metadata": {
        "ExecuteTime": {
          "end_time": "2018-09-08T16:28:25.160601Z",
          "start_time": "2018-09-08T16:28:20.966402Z"
        },
        "id": "1Xq5jXOPGTtt",
        "outputId": "f341f852-465e-461f-9893-2d69add53ac7",
        "colab": {
          "base_uri": "https://localhost:8080/"
        }
      },
      "outputs": [
        {
          "output_type": "stream",
          "name": "stdout",
          "text": [
            "enter numeric: 56\n",
            "56.0\n",
            "<class 'float'>\n"
          ]
        }
      ],
      "source": [
        "a = float(input('enter numeric: '))\n",
        "print(a)\n",
        "print(type(a))"
      ]
    },
    {
      "cell_type": "code",
      "execution_count": 19,
      "metadata": {
        "ExecuteTime": {
          "end_time": "2018-08-14T05:07:37.345983Z",
          "start_time": "2018-08-14T05:07:35.914146Z"
        },
        "id": "3CM5CrUwGTtt",
        "outputId": "ad8e946f-fced-4e29-9ab4-00afa7c36320",
        "colab": {
          "base_uri": "https://localhost:8080/"
        }
      },
      "outputs": [
        {
          "output_type": "stream",
          "name": "stdout",
          "text": [
            "Enter a number: 45\n",
            "45\n",
            "45.000000\n",
            "45.0\n",
            "45\n"
          ]
        }
      ],
      "source": [
        "\"\"\"\n",
        "num = input()\n",
        "print(num)\n",
        "\"\"\"\n",
        "\n",
        "# this is a comment\n",
        "\n",
        "num = int(input(\"Enter a number: \"))\n",
        "\n",
        "print(num)\n",
        "\n",
        "print('%f' % num)\n",
        "print(float(num))\n",
        "\n",
        "print('{}'.format(num))"
      ]
    },
    {
      "cell_type": "code",
      "execution_count": 20,
      "metadata": {
        "ExecuteTime": {
          "end_time": "2018-05-22T03:29:06.004059Z",
          "start_time": "2018-05-22T03:29:05.984740Z"
        },
        "id": "O2tw1jNLGTtt",
        "outputId": "dc2492cd-ba97-454a-e12a-6708e4ab3b1f",
        "colab": {
          "base_uri": "https://localhost:8080/"
        }
      },
      "outputs": [
        {
          "output_type": "stream",
          "name": "stdout",
          "text": [
            "Please enter a number: 67543\n",
            "User has entered 67543. Thankyou\n"
          ]
        }
      ],
      "source": [
        "\n",
        "num = int(input('Please enter a number: '))\n",
        "\n",
        "print('User has entered %d. Thankyou' % num)\n"
      ]
    },
    {
      "cell_type": "code",
      "source": [
        "name,age=input('please enter name,age : ').split('*')\n",
        "print(type(name))"
      ],
      "metadata": {
        "colab": {
          "base_uri": "https://localhost:8080/"
        },
        "id": "SjFEoM6qnGJg",
        "outputId": "7056eea3-ac89-434c-9764-f9028199b653"
      },
      "execution_count": 23,
      "outputs": [
        {
          "output_type": "stream",
          "name": "stdout",
          "text": [
            "please enter name,age : kalyan*24\n",
            "<class 'str'>\n"
          ]
        }
      ]
    },
    {
      "cell_type": "code",
      "source": [
        "print(name)\n",
        "print(age)"
      ],
      "metadata": {
        "colab": {
          "base_uri": "https://localhost:8080/"
        },
        "id": "UCAZ06BTnn-5",
        "outputId": "7836f9c3-2f95-4785-ac5b-50469d02beb3"
      },
      "execution_count": 24,
      "outputs": [
        {
          "output_type": "stream",
          "name": "stdout",
          "text": [
            "kalyan\n",
            "24\n"
          ]
        }
      ]
    },
    {
      "cell_type": "code",
      "source": [
        "a,b,c,d,e=input(\"please enter 5 values with @ separator:\").split('@')\n",
        "print(a)\n",
        "print(b)\n",
        "#print(c)\n",
        "print(type(a))"
      ],
      "metadata": {
        "colab": {
          "base_uri": "https://localhost:8080/",
          "height": 253
        },
        "id": "LFpPYj6wn5wW",
        "outputId": "f2970358-f3f9-4e79-ad00-b4e8b084a824"
      },
      "execution_count": 28,
      "outputs": [
        {
          "name": "stdout",
          "output_type": "stream",
          "text": [
            "please enter 5 values with @ separator:1@2@3@4@5\n"
          ]
        },
        {
          "output_type": "error",
          "ename": "ValueError",
          "evalue": "ignored",
          "traceback": [
            "\u001b[0;31m---------------------------------------------------------------------------\u001b[0m",
            "\u001b[0;31mValueError\u001b[0m                                Traceback (most recent call last)",
            "\u001b[0;32m<ipython-input-28-c625dc5491d5>\u001b[0m in \u001b[0;36m<module>\u001b[0;34m()\u001b[0m\n\u001b[0;32m----> 1\u001b[0;31m \u001b[0ma\u001b[0m\u001b[0;34m,\u001b[0m\u001b[0mb\u001b[0m\u001b[0;34m=\u001b[0m\u001b[0minput\u001b[0m\u001b[0;34m(\u001b[0m\u001b[0;34m\"please enter 5 values with @ separator:\"\u001b[0m\u001b[0;34m)\u001b[0m\u001b[0;34m.\u001b[0m\u001b[0msplit\u001b[0m\u001b[0;34m(\u001b[0m\u001b[0;34m'@'\u001b[0m\u001b[0;34m)\u001b[0m\u001b[0;34m\u001b[0m\u001b[0;34m\u001b[0m\u001b[0m\n\u001b[0m\u001b[1;32m      2\u001b[0m \u001b[0mprint\u001b[0m\u001b[0;34m(\u001b[0m\u001b[0ma\u001b[0m\u001b[0;34m)\u001b[0m\u001b[0;34m\u001b[0m\u001b[0;34m\u001b[0m\u001b[0m\n\u001b[1;32m      3\u001b[0m \u001b[0mprint\u001b[0m\u001b[0;34m(\u001b[0m\u001b[0mb\u001b[0m\u001b[0;34m)\u001b[0m\u001b[0;34m\u001b[0m\u001b[0;34m\u001b[0m\u001b[0m\n\u001b[1;32m      4\u001b[0m \u001b[0;31m#print(c)\u001b[0m\u001b[0;34m\u001b[0m\u001b[0;34m\u001b[0m\u001b[0;34m\u001b[0m\u001b[0m\n\u001b[1;32m      5\u001b[0m \u001b[0mprint\u001b[0m\u001b[0;34m(\u001b[0m\u001b[0mtype\u001b[0m\u001b[0;34m(\u001b[0m\u001b[0ma\u001b[0m\u001b[0;34m)\u001b[0m\u001b[0;34m)\u001b[0m\u001b[0;34m\u001b[0m\u001b[0;34m\u001b[0m\u001b[0m\n",
            "\u001b[0;31mValueError\u001b[0m: too many values to unpack (expected 2)"
          ]
        }
      ]
    },
    {
      "cell_type": "code",
      "execution_count": 33,
      "metadata": {
        "ExecuteTime": {
          "end_time": "2018-09-08T16:40:08.434187Z",
          "start_time": "2018-09-08T16:40:08.428204Z"
        },
        "id": "Dp2xMXnaGTtu",
        "outputId": "ef8eadca-e765-49ee-a6eb-40c2ad662425",
        "colab": {
          "base_uri": "https://localhost:8080/",
          "height": 322
        }
      },
      "outputs": [
        {
          "output_type": "stream",
          "name": "stdout",
          "text": [
            "5 6 string\n",
            "5 6 string\n",
            "5 6 string\n",
            "5 6 string\n",
            "5 string 6\n"
          ]
        },
        {
          "output_type": "error",
          "ename": "IndexError",
          "evalue": "ignored",
          "traceback": [
            "\u001b[0;31m---------------------------------------------------------------------------\u001b[0m",
            "\u001b[0;31mIndexError\u001b[0m                                Traceback (most recent call last)",
            "\u001b[0;32m<ipython-input-33-837125c4f963>\u001b[0m in \u001b[0;36m<module>\u001b[0;34m()\u001b[0m\n\u001b[1;32m     15\u001b[0m \u001b[0mprint\u001b[0m\u001b[0;34m(\u001b[0m\u001b[0;34m'{age} {value} {roomno}'\u001b[0m\u001b[0;34m.\u001b[0m\u001b[0mformat\u001b[0m\u001b[0;34m(\u001b[0m\u001b[0mage\u001b[0m\u001b[0;34m=\u001b[0m\u001b[0ma\u001b[0m\u001b[0;34m,\u001b[0m\u001b[0mroomno\u001b[0m\u001b[0;34m=\u001b[0m\u001b[0mb\u001b[0m\u001b[0;34m,\u001b[0m\u001b[0mvalue\u001b[0m\u001b[0;34m=\u001b[0m\u001b[0mc\u001b[0m\u001b[0;34m)\u001b[0m\u001b[0;34m)\u001b[0m\u001b[0;34m\u001b[0m\u001b[0;34m\u001b[0m\u001b[0m\n\u001b[1;32m     16\u001b[0m \u001b[0;34m\u001b[0m\u001b[0m\n\u001b[0;32m---> 17\u001b[0;31m \u001b[0mprint\u001b[0m\u001b[0;34m(\u001b[0m\u001b[0;34m'{2} {4} {6}'\u001b[0m\u001b[0;34m.\u001b[0m\u001b[0mformat\u001b[0m\u001b[0;34m(\u001b[0m\u001b[0ma\u001b[0m\u001b[0;34m,\u001b[0m \u001b[0mb\u001b[0m\u001b[0;34m,\u001b[0m \u001b[0mc\u001b[0m\u001b[0;34m)\u001b[0m\u001b[0;34m)\u001b[0m\u001b[0;34m\u001b[0m\u001b[0;34m\u001b[0m\u001b[0m\n\u001b[0m\u001b[1;32m     18\u001b[0m \u001b[0;34m\u001b[0m\u001b[0m\n\u001b[1;32m     19\u001b[0m \u001b[0;31m# c a b\u001b[0m\u001b[0;34m\u001b[0m\u001b[0;34m\u001b[0m\u001b[0;34m\u001b[0m\u001b[0m\n",
            "\u001b[0;31mIndexError\u001b[0m: tuple index out of range"
          ]
        }
      ],
      "source": [
        "a = 5\n",
        "\n",
        "b = 6\n",
        "\n",
        "c = 'string'\n",
        "\n",
        "print(a, b, c)\n",
        "\n",
        "print('%d %d %s' % (a, b, c))\n",
        "\n",
        "print('{} {} {}'.format(a, b, c))\n",
        "\n",
        "print('{0} {1} {2}'.format(a, b, c))\n",
        "\n",
        "print('{age} {value} {roomno}'.format(age=a,roomno=b,value=c))\n",
        "\n",
        "print('{2} {4} {6}'.format(a, b, c))\n",
        "\n",
        "# c a b"
      ]
    },
    {
      "cell_type": "code",
      "execution_count": 45,
      "metadata": {
        "ExecuteTime": {
          "end_time": "2018-09-08T16:56:45.796698Z",
          "start_time": "2018-09-08T16:56:45.782732Z"
        },
        "id": "IxxuXPgGGTtu",
        "outputId": "003cad3f-2346-4ec1-e0ab-080eb0a717a4",
        "colab": {
          "base_uri": "https://localhost:8080/"
        }
      },
      "outputs": [
        {
          "output_type": "stream",
          "name": "stdout",
          "text": [
            "545454545454\n",
            "5 6 7\n",
            "Python 1 2\n",
            "1!2!3\n",
            "1,2,3!!\\ 123\n"
          ]
        }
      ],
      "source": [
        "# This entire statement won't be displayed\n",
        "\n",
        "print('54'*6)\n",
        "\n",
        "print(5,6,7) # sep = ' ', end = '\\n'\n",
        "\n",
        "print('Python', 1, 2)\n",
        "\n",
        "print(1,2,3, sep='!')\n",
        "\n",
        "print(1,2,3, sep=',', end='!!\\ ')\n",
        "\n",
        "print(123)"
      ]
    },
    {
      "cell_type": "code",
      "source": [
        "print(\"kalyan\",end='\\t')\n",
        "print('master',end='\\t')\n",
        "print('python')"
      ],
      "metadata": {
        "colab": {
          "base_uri": "https://localhost:8080/"
        },
        "id": "5mIzLvzW4Qzc",
        "outputId": "65fe4c40-7683-4285-9fe7-38222d6d04a6"
      },
      "execution_count": 44,
      "outputs": [
        {
          "output_type": "stream",
          "name": "stdout",
          "text": [
            "kalyan\tmaster\tpython\n"
          ]
        }
      ]
    },
    {
      "cell_type": "code",
      "execution_count": 47,
      "metadata": {
        "id": "QwbtYB3bGTtu",
        "outputId": "53ec1d9e-5f01-49b1-b08f-d08ad6cc309b",
        "colab": {
          "base_uri": "https://localhost:8080/",
          "height": 131
        }
      },
      "outputs": [
        {
          "output_type": "error",
          "ename": "SyntaxError",
          "evalue": "ignored",
          "traceback": [
            "\u001b[0;36m  File \u001b[0;32m\"<ipython-input-47-99aa620fa2c0>\"\u001b[0;36m, line \u001b[0;32m1\u001b[0m\n\u001b[0;31m    print('this line won't get displayed');\u001b[0m\n\u001b[0m                         ^\u001b[0m\n\u001b[0;31mSyntaxError\u001b[0m\u001b[0;31m:\u001b[0m invalid syntax\n"
          ]
        }
      ],
      "source": [
        "print('this line won't get displayed')"
      ]
    },
    {
      "cell_type": "code",
      "source": [
        "print('this line won\\'t get displayed')"
      ],
      "metadata": {
        "colab": {
          "base_uri": "https://localhost:8080/"
        },
        "id": "5nd-mMUy6i62",
        "outputId": "072891d8-8288-47fc-ac75-9c5f43710a52"
      },
      "execution_count": 48,
      "outputs": [
        {
          "output_type": "stream",
          "name": "stdout",
          "text": [
            "this line won't get displayed\n"
          ]
        }
      ]
    },
    {
      "cell_type": "code",
      "execution_count": null,
      "metadata": {
        "id": "poDIJLLcGTtv",
        "outputId": "659a9c43-4747-4905-b36a-c585b926d309"
      },
      "outputs": [
        {
          "name": "stdout",
          "output_type": "stream",
          "text": [
            "this line won't get displayed\n"
          ]
        }
      ],
      "source": [
        "print(\"this line won't get displayed\");"
      ]
    },
    {
      "cell_type": "code",
      "execution_count": null,
      "metadata": {
        "id": "_ICqzaDEGTtv",
        "outputId": "00e421b1-c1cd-47a4-e5d1-d4c4cffea706"
      },
      "outputs": [
        {
          "ename": "SyntaxError",
          "evalue": "invalid syntax (<ipython-input-25-67ebf0acd0f1>, line 1)",
          "output_type": "error",
          "traceback": [
            "\u001b[1;36m  File \u001b[1;32m\"<ipython-input-25-67ebf0acd0f1>\"\u001b[1;36m, line \u001b[1;32m1\u001b[0m\n\u001b[1;33m    print(\"this line won\"t get displayed\");\u001b[0m\n\u001b[1;37m                         ^\u001b[0m\n\u001b[1;31mSyntaxError\u001b[0m\u001b[1;31m:\u001b[0m invalid syntax\n"
          ]
        }
      ],
      "source": [
        "print(\"this line won\"t get displayed\");"
      ]
    },
    {
      "cell_type": "code",
      "execution_count": null,
      "metadata": {
        "id": "_BGju-CjGTtv",
        "outputId": "cc375acc-50df-4745-eef3-113e9d47a4dc"
      },
      "outputs": [
        {
          "name": "stdout",
          "output_type": "stream",
          "text": [
            "this line won\"t get displayed\n"
          ]
        }
      ],
      "source": [
        "print('this line won\"t get displayed');"
      ]
    },
    {
      "cell_type": "code",
      "execution_count": null,
      "metadata": {
        "id": "dBb025KsGTtv",
        "outputId": "31c320d0-acd0-45d5-cef2-439554ce9817"
      },
      "outputs": [
        {
          "name": "stdout",
          "output_type": "stream",
          "text": [
            "Ankit said \"hi, what's up?\"\n"
          ]
        }
      ],
      "source": [
        "print(\"Ankit said \\\"hi, what's up?\\\"\")"
      ]
    },
    {
      "cell_type": "code",
      "execution_count": null,
      "metadata": {
        "ExecuteTime": {
          "end_time": "2018-09-08T17:06:12.263853Z",
          "start_time": "2018-09-08T17:06:12.258865Z"
        },
        "id": "-PyzCGPqGTtw",
        "outputId": "c31ea3b5-2996-44a1-a406-92edf8ee64cd"
      },
      "outputs": [
        {
          "name": "stdout",
          "output_type": "stream",
          "text": [
            "this line won't get displayed\n"
          ]
        }
      ],
      "source": [
        "print('this line won\\'t get displayed')"
      ]
    },
    {
      "cell_type": "code",
      "execution_count": null,
      "metadata": {
        "ExecuteTime": {
          "end_time": "2018-09-08T17:07:54.574171Z",
          "start_time": "2018-09-08T17:07:54.569185Z"
        },
        "id": "aEI4N9QkGTtw",
        "outputId": "f08257d7-0443-46bb-b085-9046b41ac3d3"
      },
      "outputs": [
        {
          "name": "stdout",
          "output_type": "stream",
          "text": [
            "Ram says \"hi\"\n"
          ]
        }
      ],
      "source": [
        "print('Ram says \"hi\"')"
      ]
    },
    {
      "cell_type": "code",
      "execution_count": null,
      "metadata": {
        "id": "OUhNs5e9GTtw",
        "outputId": "fac0c173-06b4-4d9f-b7ba-ebad49c4acb2"
      },
      "outputs": [
        {
          "name": "stdout",
          "output_type": "stream",
          "text": [
            "this is\n",
            "a multi \tline \n",
            "statement\n"
          ]
        }
      ],
      "source": [
        "print('this is\\na multi \\tline \\nstatement')"
      ]
    },
    {
      "cell_type": "code",
      "execution_count": null,
      "metadata": {
        "ExecuteTime": {
          "end_time": "2018-09-08T17:08:28.727386Z",
          "start_time": "2018-09-08T17:08:28.722400Z"
        },
        "id": "nO8psSeLGTtw",
        "outputId": "e9cf0117-b122-4145-8fa1-ee6521c1b1cd"
      },
      "outputs": [
        {
          "name": "stdout",
          "output_type": "stream",
          "text": [
            "Ram said 'this line\n",
            "won't get \n",
            "displayed' \n"
          ]
        }
      ],
      "source": [
        "print('''Ram said 'this line\n",
        "won't get \n",
        "displayed' ''')"
      ]
    },
    {
      "cell_type": "code",
      "source": [
        ""
      ],
      "metadata": {
        "id": "VeJYsbXHscJF"
      },
      "execution_count": null,
      "outputs": []
    },
    {
      "cell_type": "code",
      "source": [
        "END"
      ],
      "metadata": {
        "id": "D9nKU9p4scR5"
      },
      "execution_count": null,
      "outputs": []
    },
    {
      "cell_type": "code",
      "source": [
        ""
      ],
      "metadata": {
        "id": "kfYSruKkscUv"
      },
      "execution_count": null,
      "outputs": []
    },
    {
      "cell_type": "code",
      "source": [
        ""
      ],
      "metadata": {
        "id": "xTx7poUJscax"
      },
      "execution_count": null,
      "outputs": []
    },
    {
      "cell_type": "markdown",
      "metadata": {
        "id": "gSb4V4ujGTtx"
      },
      "source": [
        "#Lecture 3: Operators in Python"
      ]
    },
    {
      "cell_type": "markdown",
      "metadata": {
        "ExecuteTime": {
          "end_time": "2018-09-09T07:29:59.457009Z",
          "start_time": "2018-09-09T07:29:59.454018Z"
        },
        "id": "9kX1EfEeGTtx"
      },
      "source": [
        "Operator is a symbol that perform certain operation.\n",
        "\n",
        "Operators available in python are:\n",
        "\n",
        "1. Arithmatic (+, -, * , /, %, //, **)\n",
        "2. Relational (>, >=, <, <=)\n",
        "3. Equality (==, !=)\n",
        "4. Logical (and, or, not)\n",
        "5. Bitwise (&, |, ^, ~, <<, >>)\n",
        "6. Assignment (=, +=, -=, *=, /=, etc..)\n",
        "7. Ternary\n",
        "8. Identity --> is, is not (used for address comparision)\n",
        "9. Membership --> in, not in"
      ]
    },
    {
      "cell_type": "code",
      "execution_count": null,
      "metadata": {
        "colab": {
          "base_uri": "https://localhost:8080/"
        },
        "id": "ZtviFYgJGTtx",
        "outputId": "fe0b9a61-e483-4247-ff6a-37ffc64948ca"
      },
      "outputs": [
        {
          "output_type": "stream",
          "name": "stdout",
          "text": [
            "a+b =  14\n",
            "a-b =  6\n",
            "a*b =  40\n",
            "a/b =  2.5\n",
            "a%b =  2\n",
            "a//b =  2\n",
            "a**b =  10000\n"
          ]
        }
      ],
      "source": [
        "# Arithmatic Operators\n",
        "\n",
        "a = 10\n",
        "b = 4\n",
        "print('a+b = ', a+b)\n",
        "print('a-b = ', a-b)\n",
        "print('a*b = ', a*b)\n",
        "print('a/b = ', a/b)\n",
        "print('a%b = ', a%b)\n",
        "print('a//b = ', a//b)\n",
        "print('a**b = ', a**b)"
      ]
    },
    {
      "cell_type": "code",
      "execution_count": null,
      "metadata": {
        "colab": {
          "base_uri": "https://localhost:8080/"
        },
        "id": "_xyYCKr9GTtx",
        "outputId": "b6eb8f3f-e9da-4f20-8ed9-939527a8389a"
      },
      "outputs": [
        {
          "output_type": "stream",
          "name": "stdout",
          "text": [
            "a<b =  False\n",
            "a<=b =  False\n",
            "a>b =  True\n",
            "a>=b =  True\n"
          ]
        }
      ],
      "source": [
        "# Relational Operators\n",
        "\n",
        "a = 10;\n",
        "b = 6;\n",
        "print('a<b = ', a<b);\n",
        "print('a<=b = ', a<=b);\n",
        "print('a>b = ', a>b);\n",
        "print('a>=b = ', a>=b);"
      ]
    },
    {
      "cell_type": "code",
      "execution_count": null,
      "metadata": {
        "colab": {
          "base_uri": "https://localhost:8080/"
        },
        "id": "WaiY9EhCGTty",
        "outputId": "adbcbd53-e50a-4688-e15b-b86e5959936f"
      },
      "outputs": [
        {
          "output_type": "stream",
          "name": "stdout",
          "text": [
            "a==b  False\n",
            "a!=b  True\n"
          ]
        }
      ],
      "source": [
        "# Equality Operators\n",
        "\n",
        "a = 10;\n",
        "b = 6;\n",
        "print('a==b ', a==b);\n",
        "print('a!=b ', a!=b);"
      ]
    },
    {
      "cell_type": "code",
      "execution_count": null,
      "metadata": {
        "colab": {
          "base_uri": "https://localhost:8080/"
        },
        "id": "me9XiY9oGTty",
        "outputId": "0f1e0261-8036-476b-9606-9c989eac7b14"
      },
      "outputs": [
        {
          "output_type": "stream",
          "name": "stdout",
          "text": [
            "False\n",
            "True\n",
            "True\n"
          ]
        }
      ],
      "source": [
        "# Logical Operators\n",
        "\n",
        "print(5 < 6 and 6 < 6)\n",
        "\n",
        "print(5 < 6 or 6 < 6)\n",
        "\n",
        "print(not(5 < 6 and 6 < 6))"
      ]
    },
    {
      "cell_type": "code",
      "source": [
        "print(3 and 6)\n",
        "\n",
        "print(0 and 3)\n",
        "print(3 and 0)\n",
        "print(3 or 6)\n",
        "print(0 or 3)\n",
        "print(3 or 0)\n",
        "print(not(3))\n",
        "print(not(0))"
      ],
      "metadata": {
        "colab": {
          "base_uri": "https://localhost:8080/"
        },
        "id": "D2em5_ml7urk",
        "outputId": "176449a6-7be4-43db-a536-707bf4c6a9a3"
      },
      "execution_count": null,
      "outputs": [
        {
          "output_type": "stream",
          "name": "stdout",
          "text": [
            "6\n",
            "0\n",
            "0\n",
            "3\n",
            "3\n",
            "3\n",
            "False\n",
            "True\n"
          ]
        }
      ]
    },
    {
      "cell_type": "code",
      "execution_count": null,
      "metadata": {
        "colab": {
          "base_uri": "https://localhost:8080/"
        },
        "id": "ezgpii3AGTty",
        "outputId": "3fd269ea-4e9a-4af6-bc1d-872476323ab6"
      },
      "outputs": [
        {
          "output_type": "stream",
          "name": "stdout",
          "text": [
            "0\n",
            "15\n",
            "15\n",
            "-6\n"
          ]
        }
      ],
      "source": [
        "# Bitwise\n",
        "# & -> if both bits are 1 then 1 otherwise 0\n",
        "# | -> if both bits are 0 then 0 otherwise 1\n",
        "# ^ -> if both bits are different then 1 otherwise 0\n",
        "# ~ -> bitwise complement\n",
        "\n",
        "print(5 & 10)\n",
        "\n",
        "print(5 | 10)\n",
        "\n",
        "print(5 ^ 10)\n",
        "\n",
        "print(~5)"
      ]
    },
    {
      "cell_type": "code",
      "execution_count": null,
      "metadata": {
        "colab": {
          "base_uri": "https://localhost:8080/"
        },
        "id": "7wCSg1_iGTty",
        "outputId": "41593c28-df36-4830-c111-0fcab97d3a9e"
      },
      "outputs": [
        {
          "output_type": "stream",
          "name": "stdout",
          "text": [
            "80\n",
            "1\n"
          ]
        }
      ],
      "source": [
        "# Shift Operators\n",
        "\n",
        "print(10 << 3);\n",
        "\n",
        "print(10 >> 3);"
      ]
    },
    {
      "cell_type": "code",
      "execution_count": null,
      "metadata": {
        "id": "IWC0ECMSGTtz"
      },
      "outputs": [],
      "source": [
        "# Assignment Operators\n",
        "\n",
        "x = 10;\n",
        "\n",
        "x += 10;\n",
        "\n",
        "print(x);"
      ]
    },
    {
      "cell_type": "code",
      "execution_count": null,
      "metadata": {
        "id": "MGfpteeJGTtz",
        "outputId": "dfadb665-7489-4d50-80d4-41feac90025e"
      },
      "outputs": [
        {
          "name": "stdout",
          "output_type": "stream",
          "text": [
            "5 6\n"
          ]
        }
      ],
      "source": [
        "# Ternary\n",
        "\n",
        "x = 5 if (5 < 6) else 6\n",
        "\n",
        "y = 5 if (5 > 6) else 6\n",
        "\n",
        "print(x, y)"
      ]
    },
    {
      "cell_type": "code",
      "source": [
        "#Identity operators\n",
        "a=20\n",
        "b=20\n",
        "c=10\n",
        "print(a is b)\n",
        "print(a is c)\n",
        "print(id(a))\n",
        "print(id(b))\n",
        "print(id(c))\n"
      ],
      "metadata": {
        "colab": {
          "base_uri": "https://localhost:8080/"
        },
        "id": "Eztp3WIcsY2N",
        "outputId": "e3a5e66f-751f-4b26-8e08-a6c69cedc842"
      },
      "execution_count": null,
      "outputs": [
        {
          "output_type": "stream",
          "name": "stdout",
          "text": [
            "True\n",
            "False\n",
            "94666994252896\n",
            "94666994252896\n",
            "94666994252576\n"
          ]
        }
      ]
    },
    {
      "cell_type": "code",
      "source": [
        "a=20\n",
        "b=10\n",
        "c=20\n",
        "print(a is not b)\n",
        "print(a is not c)\n",
        "print(id(a))\n",
        "print(id(b))\n",
        "print(id(c))\n"
      ],
      "metadata": {
        "colab": {
          "base_uri": "https://localhost:8080/"
        },
        "id": "PakoAuisv78V",
        "outputId": "60a96c11-b4b3-42da-ab11-e939459eab39"
      },
      "execution_count": null,
      "outputs": [
        {
          "output_type": "stream",
          "name": "stdout",
          "text": [
            "True\n",
            "False\n",
            "94666994252896\n",
            "94666994252576\n",
            "94666994252896\n"
          ]
        }
      ]
    },
    {
      "cell_type": "code",
      "source": [
        "#membership operators\n",
        "k=\"this is master python\"\n",
        "print('this' in k)\n",
        "print('python'  not in k)\n"
      ],
      "metadata": {
        "colab": {
          "base_uri": "https://localhost:8080/"
        },
        "id": "pSpANC9gv1H4",
        "outputId": "da593d6e-cc8b-4107-987e-3742fe3f97bd"
      },
      "execution_count": null,
      "outputs": [
        {
          "output_type": "stream",
          "name": "stdout",
          "text": [
            "True\n",
            "False\n"
          ]
        }
      ]
    },
    {
      "cell_type": "code",
      "source": [
        ""
      ],
      "metadata": {
        "id": "98CVAq-HsZBY"
      },
      "execution_count": null,
      "outputs": []
    },
    {
      "cell_type": "code",
      "source": [
        ""
      ],
      "metadata": {
        "id": "S0ZnzcC8sZC2"
      },
      "execution_count": null,
      "outputs": []
    },
    {
      "cell_type": "code",
      "source": [
        ""
      ],
      "metadata": {
        "id": "F_Y-YeN8sZFq"
      },
      "execution_count": null,
      "outputs": []
    },
    {
      "cell_type": "code",
      "source": [
        ""
      ],
      "metadata": {
        "id": "cMt686c0sZHY"
      },
      "execution_count": null,
      "outputs": []
    },
    {
      "cell_type": "code",
      "source": [
        ""
      ],
      "metadata": {
        "id": "i5FblOSvsZJH"
      },
      "execution_count": null,
      "outputs": []
    },
    {
      "cell_type": "code",
      "source": [
        ""
      ],
      "metadata": {
        "id": "vv-1Wl6MsZKf"
      },
      "execution_count": null,
      "outputs": []
    },
    {
      "cell_type": "code",
      "source": [
        ""
      ],
      "metadata": {
        "id": "Bg5C8zF-sZMF"
      },
      "execution_count": null,
      "outputs": []
    },
    {
      "cell_type": "code",
      "source": [
        ""
      ],
      "metadata": {
        "id": "LrHX2gdZsZQw"
      },
      "execution_count": null,
      "outputs": []
    },
    {
      "cell_type": "code",
      "source": [
        ""
      ],
      "metadata": {
        "id": "CeDGPdulsZSv"
      },
      "execution_count": null,
      "outputs": []
    },
    {
      "cell_type": "code",
      "source": [
        ""
      ],
      "metadata": {
        "id": "UVyDFzVcsZVz"
      },
      "execution_count": null,
      "outputs": []
    },
    {
      "cell_type": "markdown",
      "metadata": {
        "id": "LDdu2C2QGTtz"
      },
      "source": [
        "# Handson"
      ]
    },
    {
      "cell_type": "code",
      "execution_count": null,
      "metadata": {
        "id": "GCrKMBm3GTtz"
      },
      "outputs": [],
      "source": [
        "# Swap two numbers\n",
        "\n",
        "# Swap two numbers without using third number\n",
        "\n",
        "# Extract ith bit of a number\n",
        "\n",
        "# Given three numbers, one of them is different. Find the different number"
      ]
    },
    {
      "cell_type": "code",
      "execution_count": null,
      "metadata": {
        "id": "T8RHagyEGTtz",
        "outputId": "ac279e35-07ea-412c-a0ce-e4fc3daa854e"
      },
      "outputs": [
        {
          "name": "stdout",
          "output_type": "stream",
          "text": [
            "20 10\n"
          ]
        }
      ],
      "source": [
        "# Swap two numbers\n",
        "a = 10\n",
        "\n",
        "b = 20\n",
        "\n",
        "temp = a\n",
        "\n",
        "a = b\n",
        "\n",
        "b = temp\n",
        "\n",
        "print(a, b)"
      ]
    },
    {
      "cell_type": "code",
      "execution_count": null,
      "metadata": {
        "id": "LRIf0yy2GTt0",
        "outputId": "d1a030ab-5ea1-4bbd-a6a3-c6ce412b6d1a"
      },
      "outputs": [
        {
          "name": "stdout",
          "output_type": "stream",
          "text": [
            "20 10\n"
          ]
        }
      ],
      "source": [
        "# Swap two numbers without using third number\n",
        "a = 10\n",
        "\n",
        "b = 20 \n",
        "\n",
        "a = a + b\n",
        "\n",
        "b = a - b\n",
        "\n",
        "a = a - b\n",
        "\n",
        "print(a, b)"
      ]
    },
    {
      "cell_type": "code",
      "execution_count": null,
      "metadata": {
        "id": "uR9W9XZQGTt0",
        "outputId": "c69f12db-7e55-4230-c245-23b10525a5dc"
      },
      "outputs": [
        {
          "name": "stdout",
          "output_type": "stream",
          "text": [
            "20 10\n"
          ]
        }
      ],
      "source": [
        "# Swap two numbers without using third number\n",
        "a = 10\n",
        "\n",
        "b = 20\n",
        "\n",
        "a = a ^ b\n",
        "\n",
        "b = a ^ b\n",
        "\n",
        "a = a ^ b\n",
        "\n",
        "print(a, b)"
      ]
    },
    {
      "cell_type": "code",
      "execution_count": null,
      "metadata": {
        "id": "5eADz5xdGTt0",
        "outputId": "873a2115-d25b-438a-9b8f-d8214d6af3d7"
      },
      "outputs": [
        {
          "name": "stdout",
          "output_type": "stream",
          "text": [
            "20 10\n"
          ]
        }
      ],
      "source": [
        "# Swap two numbers without using third number\n",
        "a = 10\n",
        "\n",
        "b = 20\n",
        "\n",
        "a, b = b, a\n",
        "\n",
        "print(a, b)"
      ]
    },
    {
      "cell_type": "code",
      "execution_count": null,
      "metadata": {
        "id": "fzjJxxntGTt1",
        "outputId": "d63d1d4d-db26-4dd7-9e38-1824a189f2cd"
      },
      "outputs": [
        {
          "name": "stdout",
          "output_type": "stream",
          "text": [
            "num = 12\n",
            "i = 4\n",
            "0\n"
          ]
        }
      ],
      "source": [
        "# Extract ith bit of a number\n",
        "num = int(input(\"num = \"))\n",
        "\n",
        "i = int(input('i = '))\n",
        "\n",
        "mag_num = 1 << i\n",
        "\n",
        "bit = 1 if(num & mag_num > 0) else 0\n",
        "\n",
        "print(bit)\n",
        "\n",
        "\n",
        "\n"
      ]
    },
    {
      "cell_type": "code",
      "execution_count": null,
      "metadata": {
        "id": "xIbBcRXTGTt1",
        "outputId": "1a51d510-a1d8-4d30-b976-95ed496867c2"
      },
      "outputs": [
        {
          "name": "stdout",
          "output_type": "stream",
          "text": [
            "5\n"
          ]
        }
      ],
      "source": [
        "# Given three numbers, one of them is different. Find the different number\n",
        "a = 5\n",
        "\n",
        "b = 6\n",
        "\n",
        "c = 6\n",
        "\n",
        "print(a ^ b ^ c)"
      ]
    },
    {
      "cell_type": "code",
      "execution_count": null,
      "metadata": {
        "id": "51xypb6-GTt1"
      },
      "outputs": [],
      "source": [
        ""
      ]
    }
  ],
  "metadata": {
    "kernelspec": {
      "display_name": "Python 3",
      "language": "python",
      "name": "python3"
    },
    "language_info": {
      "codemirror_mode": {
        "name": "ipython",
        "version": 3
      },
      "file_extension": ".py",
      "mimetype": "text/x-python",
      "name": "python",
      "nbconvert_exporter": "python",
      "pygments_lexer": "ipython3",
      "version": "3.7.6"
    },
    "toc": {
      "nav_menu": {},
      "number_sections": true,
      "sideBar": true,
      "skip_h1_title": false,
      "title_cell": "Table of Contents",
      "title_sidebar": "Contents",
      "toc_cell": false,
      "toc_position": {},
      "toc_section_display": true,
      "toc_window_display": false
    },
    "varInspector": {
      "cols": {
        "lenName": 16,
        "lenType": 16,
        "lenVar": 40
      },
      "kernels_config": {
        "python": {
          "delete_cmd_postfix": "",
          "delete_cmd_prefix": "del ",
          "library": "var_list.py",
          "varRefreshCmd": "print(var_dic_list())"
        },
        "r": {
          "delete_cmd_postfix": ") ",
          "delete_cmd_prefix": "rm(",
          "library": "var_list.r",
          "varRefreshCmd": "cat(var_dic_list()) "
        }
      },
      "types_to_exclude": [
        "module",
        "function",
        "builtin_function_or_method",
        "instance",
        "_Feature"
      ],
      "window_display": false
    },
    "colab": {
      "name": "Intro.ipynb",
      "provenance": [],
      "collapsed_sections": [
        "gSb4V4ujGTtx",
        "LDdu2C2QGTtz"
      ],
      "include_colab_link": true
    }
  },
  "nbformat": 4,
  "nbformat_minor": 0
}