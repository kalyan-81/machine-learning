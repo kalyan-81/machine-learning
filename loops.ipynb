{
  "cells": [
    {
      "cell_type": "markdown",
      "metadata": {
        "id": "view-in-github",
        "colab_type": "text"
      },
      "source": [
        "<a href=\"https://colab.research.google.com/github/kalyan-81/machine-learning/blob/main/loops.ipynb\" target=\"_parent\"><img src=\"https://colab.research.google.com/assets/colab-badge.svg\" alt=\"Open In Colab\"/></a>"
      ]
    },
    {
      "cell_type": "markdown",
      "source": [
        "# Lecture 7: Loops in Python"
      ],
      "metadata": {
        "id": "HQyyBBgWmGi-"
      }
    },
    {
      "cell_type": "markdown",
      "source": [
        "**what is loop?**\n",
        "\n",
        "**Definition:** Loop is a programming element that repeat a portion of code a set number of times until the desired process is complete, and loops are essential to save time."
      ],
      "metadata": {
        "id": "xlfQ8J01mUZ3"
      }
    },
    {
      "cell_type": "code",
      "source": [
        "#write python program to print \"master python\" 10 times\n",
        "print(\"master python\")\n",
        "print(\"master python\")\n",
        "print(\"master python\")\n",
        "print(\"master python\")\n",
        "print(\"master python\")\n",
        "print(\"master python\")\n",
        "print(\"master python\")\n",
        "print(\"master python\")\n",
        "print(\"master python\")\n",
        "print(\"master python\")"
      ],
      "metadata": {
        "colab": {
          "base_uri": "https://localhost:8080/"
        },
        "id": "iUtbWzZYq9m1",
        "outputId": "a335dbae-07c1-4d0c-a0b7-5e0f2f31e42f"
      },
      "execution_count": 2,
      "outputs": [
        {
          "output_type": "stream",
          "name": "stdout",
          "text": [
            "master python\n",
            "master python\n",
            "master python\n",
            "master python\n",
            "master python\n",
            "master python\n",
            "master python\n",
            "master python\n",
            "master python\n"
          ]
        }
      ]
    },
    {
      "cell_type": "markdown",
      "metadata": {
        "id": "VhTkiH2PcZDG"
      },
      "source": [
        "## while loop\n",
        "The while loop in Python is used to iterate over a block of code as long as the test expression is True.\n",
        "\n",
        "syntax:\n",
        "\n",
        "while expression:\n",
        "\n",
        "        statements\n",
        "\n",
        "the statements in the loop executed only if the test_expression evaluates to True.\n",
        "\n",
        "after each iteration the test expression is checked again.\n",
        "\n",
        "this process continues until the test expression evaluates to False.\n",
        "\n",
        "![while loop.png](data:image/png;base64,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)\n",
        "\n"
      ]
    },
    {
      "cell_type": "code",
      "source": [
        "i=10\n",
        "while i:\n",
        "  print('master python')\n",
        "  i=i-1"
      ],
      "metadata": {
        "id": "UF-u5v-1k6mH",
        "colab": {
          "base_uri": "https://localhost:8080/"
        },
        "outputId": "2876af7d-b5d3-48af-c63f-174ea2218d85"
      },
      "execution_count": 4,
      "outputs": [
        {
          "output_type": "stream",
          "name": "stdout",
          "text": [
            "master python\n",
            "master python\n",
            "master python\n",
            "master python\n",
            "master python\n",
            "master python\n",
            "master python\n",
            "master python\n",
            "master python\n",
            "master python\n"
          ]
        }
      ]
    },
    {
      "cell_type": "code",
      "execution_count": null,
      "metadata": {
        "ExecuteTime": {
          "end_time": "2018-08-21T08:44:00.780767Z",
          "start_time": "2018-08-21T08:44:00.773487Z"
        },
        "id": "ISkpmiZwcZDL",
        "outputId": "f41098c6-b84f-4a44-b0ae-73900b29d2c8"
      },
      "outputs": [
        {
          "name": "stdout",
          "output_type": "stream",
          "text": [
            "The count is:   0\n",
            "The count is:   1\n",
            "The count is:   2\n",
            "Good bye! count is:  3\n"
          ]
        }
      ],
      "source": [
        "count = 0\n",
        "while(count < 3):\n",
        "    print('The count is:  ', count)\n",
        "    count = count + 1\n",
        "print('Good bye! count is: ', count)"
      ]
    },
    {
      "cell_type": "code",
      "execution_count": null,
      "metadata": {
        "ExecuteTime": {
          "end_time": "2018-08-21T04:47:35.753801Z",
          "start_time": "2018-08-21T04:47:35.739837Z"
        },
        "id": "pfPNhvUBcZDN",
        "outputId": "5837b56d-7570-432a-c9e5-6f1649adc0f5"
      },
      "outputs": [
        {
          "name": "stdout",
          "output_type": "stream",
          "text": [
            "Product = 120, Index = 5\n"
          ]
        }
      ],
      "source": [
        "tup = (1,2,3,4,5)\n",
        "\n",
        "prod = 1\n",
        "index = 0\n",
        "\n",
        "while(index < len(tup)):\n",
        "    prod *= tup[index]\n",
        "    index += 1\n",
        "\n",
        "print('Product = {}, Index = {}'.format(prod, index))"
      ]
    },
    {
      "cell_type": "markdown",
      "metadata": {
        "id": "CbQLnXs6cZDO"
      },
      "source": [
        "### while....else"
      ]
    },
    {
      "cell_type": "code",
      "execution_count": 18,
      "metadata": {
        "ExecuteTime": {
          "end_time": "2018-08-21T08:48:22.005254Z",
          "start_time": "2018-08-21T08:48:21.998422Z"
        },
        "id": "nxHH7XkjcZDO",
        "outputId": "e648bd25-bd7f-41b4-a05b-b3bef33073ca",
        "colab": {
          "base_uri": "https://localhost:8080/"
        }
      },
      "outputs": [
        {
          "output_type": "stream",
          "name": "stdout",
          "text": [
            "Product = 2\n"
          ]
        }
      ],
      "source": [
        "tup = (1,2,3,4,5)\n",
        "\n",
        "prod = 1\n",
        "index = 0\n",
        "\n",
        "while index < len(tup):\n",
        "    prod *= tup[index]\n",
        "    index += 1\n",
        "    if index==2:\n",
        "      break\n",
        "else:\n",
        "   print('No more numbers in tuple.')\n",
        "\n",
        "print('Product = {}'.format(prod))"
      ]
    },
    {
      "cell_type": "markdown",
      "metadata": {
        "id": "v6bmDy2fcZDP"
      },
      "source": [
        "## Membership Operators"
      ]
    },
    {
      "cell_type": "markdown",
      "metadata": {
        "id": "oJ5ZGJ_RcZDP"
      },
      "source": [
        "<b>in and not in</b> are membership operators in Python.\n",
        "\n",
        "Used to find whether a value or variable is found in a sequence."
      ]
    },
    {
      "cell_type": "code",
      "execution_count": 19,
      "metadata": {
        "ExecuteTime": {
          "end_time": "2018-08-21T08:38:36.995305Z",
          "start_time": "2018-08-21T08:38:36.990755Z"
        },
        "id": "XhRVkKLAcZDR",
        "outputId": "043a0ff7-d788-4d59-b131-53607c1ed566",
        "colab": {
          "base_uri": "https://localhost:8080/"
        }
      },
      "outputs": [
        {
          "output_type": "stream",
          "name": "stdout",
          "text": [
            "True\n"
          ]
        }
      ],
      "source": [
        "lst = [1,2,3,4]\n",
        "\n",
        "print(3 in lst)"
      ]
    },
    {
      "cell_type": "code",
      "execution_count": 20,
      "metadata": {
        "ExecuteTime": {
          "end_time": "2018-08-21T08:39:14.574036Z",
          "start_time": "2018-08-21T08:39:14.567866Z"
        },
        "id": "6DdHoWkucZDS",
        "outputId": "b5db800e-23b4-4fec-8374-3453e3a68497",
        "colab": {
          "base_uri": "https://localhost:8080/"
        }
      },
      "outputs": [
        {
          "output_type": "stream",
          "name": "stdout",
          "text": [
            "True\n"
          ]
        }
      ],
      "source": [
        "dict = {1:'a', 2:'b'}\n",
        "\n",
        "print(2 in dict)"
      ]
    },
    {
      "cell_type": "code",
      "execution_count": 22,
      "metadata": {
        "ExecuteTime": {
          "end_time": "2018-08-21T08:39:58.902962Z",
          "start_time": "2018-08-21T08:39:58.897579Z"
        },
        "id": "jjuIXLg5cZDS",
        "outputId": "c0a54211-c161-47cb-ff9a-4025216da7eb",
        "colab": {
          "base_uri": "https://localhost:8080/"
        }
      },
      "outputs": [
        {
          "output_type": "stream",
          "name": "stdout",
          "text": [
            "True\n"
          ]
        }
      ],
      "source": [
        "s = 'PythonP'\n",
        "\n",
        "print('P' in s)"
      ]
    },
    {
      "cell_type": "markdown",
      "metadata": {
        "id": "vnN1kWyxcZDT"
      },
      "source": [
        "## for loop![for loop.png](data:image/png;base64,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)"
      ]
    },
    {
      "cell_type": "code",
      "execution_count": 23,
      "metadata": {
        "id": "FlOHXcUCcZDT",
        "colab": {
          "base_uri": "https://localhost:8080/"
        },
        "outputId": "9c2aece8-3b2b-48ba-9bd9-f17f5503d56c"
      },
      "outputs": [
        {
          "output_type": "stream",
          "name": "stdout",
          "text": [
            "10\n",
            "20\n",
            "30\n",
            "40\n",
            "Finish\n"
          ]
        }
      ],
      "source": [
        "tup = (10, 20, 30, 40)\n",
        "\n",
        "for x in tup:\n",
        "       print(x)\n",
        "    \n",
        "print('Finish')"
      ]
    },
    {
      "cell_type": "code",
      "execution_count": 24,
      "metadata": {
        "ExecuteTime": {
          "end_time": "2018-08-21T05:02:33.551659Z",
          "start_time": "2018-08-21T05:02:33.545688Z"
        },
        "id": "2Rz8eoL6cZDU",
        "colab": {
          "base_uri": "https://localhost:8080/"
        },
        "outputId": "f7c7efa2-901f-40f9-b4f6-212a181da59b"
      },
      "outputs": [
        {
          "output_type": "stream",
          "name": "stdout",
          "text": [
            "Product = 120\n"
          ]
        }
      ],
      "source": [
        "tup = (1,2,3,4,5)\n",
        "\n",
        "prod = 1\n",
        "\n",
        "for item in tup:\n",
        "     prod *= item\n",
        "\n",
        "print('Product = {}'.format(prod))"
      ]
    },
    {
      "cell_type": "code",
      "source": [
        "print(range(0,10))"
      ],
      "metadata": {
        "colab": {
          "base_uri": "https://localhost:8080/"
        },
        "id": "bzBbUHN-_-go",
        "outputId": "e2e4c652-f253-489d-996c-89841c962d8a"
      },
      "execution_count": 26,
      "outputs": [
        {
          "output_type": "stream",
          "name": "stdout",
          "text": [
            "range(0, 10)\n"
          ]
        }
      ]
    },
    {
      "cell_type": "code",
      "source": [
        "for num in range(1,10,3):\n",
        "  print(num)"
      ],
      "metadata": {
        "colab": {
          "base_uri": "https://localhost:8080/"
        },
        "id": "pf5z5_GcAiaG",
        "outputId": "7f14d8e6-6018-4c28-8fa5-6fbea1ed9715"
      },
      "execution_count": 32,
      "outputs": [
        {
          "output_type": "stream",
          "name": "stdout",
          "text": [
            "1\n",
            "4\n",
            "7\n"
          ]
        }
      ]
    },
    {
      "cell_type": "code",
      "execution_count": 33,
      "metadata": {
        "ExecuteTime": {
          "end_time": "2018-08-21T09:25:03.146049Z",
          "start_time": "2018-08-21T09:25:03.141059Z"
        },
        "id": "Kz50K1xAcZDU",
        "outputId": "4c714359-77d1-4885-fad8-fb3b08f680e2",
        "colab": {
          "base_uri": "https://localhost:8080/"
        }
      },
      "outputs": [
        {
          "output_type": "stream",
          "name": "stdout",
          "text": [
            "The count is:   1\n",
            "The count is:   2\n",
            "The count is:   3\n",
            "The count is:   4\n",
            "The count is:   5\n",
            "The count is:   6\n",
            "The count is:   7\n",
            "The count is:   8\n",
            "The count is:   9\n",
            "Good bye!\n"
          ]
        }
      ],
      "source": [
        "for count in range(1, 10, 1):\n",
        "    print('The count is:  ', count)\n",
        "print('Good bye!')\n",
        "\n",
        "# try range(1, 10, 1)"
      ]
    },
    {
      "cell_type": "code",
      "execution_count": null,
      "metadata": {
        "ExecuteTime": {
          "end_time": "2018-08-21T05:10:06.781714Z",
          "start_time": "2018-08-21T05:10:06.774715Z"
        },
        "id": "iI9aVhSGcZDV",
        "outputId": "25938207-8e64-4274-a0eb-9dad7fc1945f"
      },
      "outputs": [
        {
          "name": "stdout",
          "output_type": "stream",
          "text": [
            "10\n",
            "20\n",
            "30\n",
            "40\n",
            "50\n",
            "60\n"
          ]
        }
      ],
      "source": [
        "# Iterating by sequence index\n",
        "lst = [10,20,30,40,50,60]\n",
        "for index in range(len(lst)):\n",
        "    print(lst[index])"
      ]
    },
    {
      "cell_type": "code",
      "source": [
        "lst = [10,20,30,40,50,60]\n",
        "for index in lst:\n",
        "    print(index)"
      ],
      "metadata": {
        "colab": {
          "base_uri": "https://localhost:8080/"
        },
        "id": "QrxzQTIZEH-G",
        "outputId": "b9103966-055d-4f52-bce5-dee46310dee9"
      },
      "execution_count": 34,
      "outputs": [
        {
          "output_type": "stream",
          "name": "stdout",
          "text": [
            "10\n",
            "20\n",
            "30\n",
            "40\n",
            "50\n",
            "60\n"
          ]
        }
      ]
    },
    {
      "cell_type": "code",
      "execution_count": 35,
      "metadata": {
        "ExecuteTime": {
          "end_time": "2018-08-21T05:15:12.102770Z",
          "start_time": "2018-08-21T05:15:12.093794Z"
        },
        "id": "xkYpU17xcZDV",
        "outputId": "426e8ea8-344e-421f-c5a9-920bae36992e",
        "colab": {
          "base_uri": "https://localhost:8080/"
        }
      },
      "outputs": [
        {
          "output_type": "stream",
          "name": "stdout",
          "text": [
            "LIST ITERATION: \n",
            "10 20 30 40 50 60 \n",
            "TUPLE ITERATION: \n",
            "10 20 30 40 50 60 \n",
            "STRING ITERATION: \n",
            "P y t h o n \n",
            "DICTIONARY ITERATION: \n",
            "xyz 123\n",
            "abc 345\n"
          ]
        }
      ],
      "source": [
        "# Iterating element by element \n",
        "\n",
        "print('LIST ITERATION: ')\n",
        "lst = [10,20,30,40,50,60]\n",
        "for element in lst:\n",
        "    print(element, end=' ')\n",
        "print()\n",
        "\n",
        "print('TUPLE ITERATION: ')\n",
        "tup = (10,20,30,40,50,60)\n",
        "for element in tup:\n",
        "    print(element, end=' ')\n",
        "print()\n",
        "\n",
        "print('STRING ITERATION: ')\n",
        "myStr = 'Python'\n",
        "for element in myStr:\n",
        "    print(element, end=' ')\n",
        "print()\n",
        "\n",
        "print('DICTIONARY ITERATION: ')\n",
        "dict = {}\n",
        "dict['xyz'] = 123\n",
        "dict['abc'] = 345\n",
        "for key in dict:\n",
        "    print(key, dict[key])"
      ]
    },
    {
      "cell_type": "markdown",
      "metadata": {
        "id": "4fk_yK9ncZDX"
      },
      "source": [
        "### for.....else"
      ]
    },
    {
      "cell_type": "code",
      "execution_count": 36,
      "metadata": {
        "ExecuteTime": {
          "end_time": "2018-08-21T05:15:58.458431Z",
          "start_time": "2018-08-21T05:15:58.451450Z"
        },
        "id": "R5P1nEMpcZDY",
        "colab": {
          "base_uri": "https://localhost:8080/"
        },
        "outputId": "1d056b1d-8dc7-4547-88bf-684e93f4a96d"
      },
      "outputs": [
        {
          "output_type": "stream",
          "name": "stdout",
          "text": [
            "You have exhausted the list\n",
            "Product = 120\n"
          ]
        }
      ],
      "source": [
        "tup = (1,2,3,4,5)\n",
        "\n",
        "prod = 1\n",
        "\n",
        "for item in tup:\n",
        "     prod *= item\n",
        "else:\n",
        "    print('You have exhausted the list')\n",
        "\n",
        "print('Product = {}'.format(prod))"
      ]
    },
    {
      "cell_type": "markdown",
      "metadata": {
        "id": "gv3REP5vcZDZ"
      },
      "source": [
        "## Nested Loops"
      ]
    },
    {
      "cell_type": "code",
      "execution_count": 37,
      "metadata": {
        "ExecuteTime": {
          "end_time": "2018-08-21T09:33:18.530097Z",
          "start_time": "2018-08-21T09:33:18.515138Z"
        },
        "id": "QeSQcH5mcZDa",
        "outputId": "d43750b2-45d3-4639-e1b4-e5ed93b5993f",
        "colab": {
          "base_uri": "https://localhost:8080/"
        }
      },
      "outputs": [
        {
          "output_type": "stream",
          "name": "stdout",
          "text": [
            "i: 0, j:0\n",
            "i: 0, j:1\n",
            "i: 0, j:2\n",
            "i: 1, j:0\n",
            "i: 1, j:1\n",
            "i: 1, j:2\n",
            "i: 2, j:0\n",
            "i: 2, j:1\n",
            "i: 2, j:2\n",
            "i: 3, j:0\n",
            "i: 3, j:1\n",
            "i: 3, j:2\n",
            "i: 4, j:0\n",
            "i: 4, j:1\n",
            "i: 4, j:2\n",
            "i: 5, j:0\n",
            "i: 5, j:1\n",
            "i: 5, j:2\n",
            "i: 6, j:0\n",
            "i: 6, j:1\n",
            "i: 6, j:2\n",
            "i: 7, j:0\n",
            "i: 7, j:1\n",
            "i: 7, j:2\n",
            "i: 8, j:0\n",
            "i: 8, j:1\n",
            "i: 8, j:2\n",
            "i: 9, j:0\n",
            "i: 9, j:1\n",
            "i: 9, j:2\n",
            "I am outside the while loop\n"
          ]
        }
      ],
      "source": [
        "i = 0\n",
        "\n",
        "while i < 10:\n",
        "    j = 0\n",
        "    while j < 3:\n",
        "        print('i: {}, j:{}'.format(i, j))\n",
        "        j += 1\n",
        "        \n",
        "    i += 1\n",
        "    \n",
        "print('I am outside the while loop')"
      ]
    },
    {
      "cell_type": "markdown",
      "metadata": {
        "id": "bJ528sTLcZDa"
      },
      "source": [
        "## BREAK & CONTINUE"
      ]
    },
    {
      "cell_type": "markdown",
      "metadata": {
        "ExecuteTime": {
          "end_time": "2018-05-27T04:06:33.272402Z",
          "start_time": "2018-05-27T04:06:33.265224Z"
        },
        "id": "40e33AIDcZDa"
      },
      "source": [
        "![1.jpg](data:image/jpeg;base64,/9j/4AAQSkZJRgABAgAAZABkAAD/7AARRHVja3kAAQAEAAAAZAAA/+4AJkFkb2JlAGTAAAAAAQMAFQQDBgoNAAATAAAAVDcAAGr2AAB/wP/bAIQAAQEBAQEBAQEBAQEBAQEBAQEBAQEBAQEBAQEBAQEBAQEBAQEBAQEBAQEBAQICAgICAgICAgICAwMDAwMDAwMDAwEBAQEBAQECAQECAgIBAgIDAwMDAwMDAwMDAwMDAwMDAwMDAwMDAwMDAwMDAwMDAwMDAwMDAwMDAwMDAwMDAwMD/8IAEQgBXQFAAwERAAIRAQMRAf/EARkAAQACAgMBAQAAAAAAAAAAAAAGBwUIAgMECQEBAQACAwEBAAAAAAAAAAAAAAACBAMFBgEHEAABBAIBAQUIAgMBAQAAAAAEAgMFBgEHABZQERITFRAwQBQ1FzcIIHBggCEiIxEAAQQABAMEAwoLBQUFCQAAAwECBAUAERIGIRMUMSIVB0EjlRBRYTJC09RFdRYgMEAzk7MkNLQ1N1BxlCXVgVJiQxdgoTaXCHCRsdFygoNEZBIAAQMDAgIHBQUHBQAAAAAAARECAwAhEjEEQRNQUWFxgSIyIHCRUhSAscFCBUBgoWJyIyTxgkNzFRMBAQACAQMCBQMFAQEBAAAAAREAITFBUWEQcSBAUIGRMGBwgPChscHR4fH/2gAMAwEAAhEDEQAAAfv4AAAAAAAAAAAAAAAAAAAAAAAAAAAAAAAAAAAAAAAAAAAAAAAAAAAAAAAAAAAAAAAAVNusc510pBWkAAMZl8w+fyV05AAAAAAAAAAAAAAD5z/UqNUbrH6I+/Sb5Re0y1k9SiPn2AIN11fRT6LU2t4yxYHz+38pDgeAtUrIuQyhTp9KDcEAAAAAAAAAAAAAAAArIs0AAAAAAAAAAAAAApIz57jDkdIuSEsskRSBmzvMMR0kBexq0TQ5F6lHnQcj9LhMmAAAAAAAVOTIwRiCPnWS0/CdlNE4IodB+GTLkIaV0WKTIpc8ByIubGmQAAAAAAAINsYeeTtinmumABXJ+ntPEWKAAAAAAAAAAAAAD5u/VaPkyeb7/Nrk2189EDWopk7SxyzyuSLmHLSNwTcIAAAAAAAAAAAAAAAAAAAAAAAAAAA6TUUAAAAAFwFQdxWh16GawS9cFDdHh3Z+f27r0GUAAAAAAAAAR81FNugAAAADIFKdJhp/eYrx57NSHQ4Y7a82I5fNefO5gAAAAAAAABHzV83AAAABiwZQAjxIQCPEhBHgSEFflgAEEJ2AAAAR81fNwAAAAanFokcIiV6eMlxZJbpqYTIjZyI2ZM3ZNaCrSyTaY1iKtO04m5JIwACPmr5uAAAAAAAAAAAAAAAARokoAAI+avm4AAAAAAAAAAAAAAAAAAAI+avm4AAAAAAAAAAAAAAAAAAAI+avm4B8bTfw2WMAZY9IBHiQgA8J+ntI8CQgr8sAAghOwAAAAAeU0XMkfCA2RPv2akm4JRpHiFmDJoX8YEpQzx6jiRs8RMja01XMQSc2mNYirQYQ+hQAAAAAMIZsAAAAAAAAAAAAEaJKAAAAAAAAAAAAAAAAAAAAAAAVEeIAAAAAAAAAAAAAAAAAFwHqAAAAAAAAAAAAAAAAAAAAAAAAAAAAAAAAAAAAAAAAAAAABUG8xaad5VsbVZJJUlZ+onLaUtdNXkl5DTzFzkpKEO8xh2GTMmcCKHrMQbAlwgAAAAAAAHz4+m0phRlFLsZjQnGLkdquNsQvUZKNO8xhsiYMo0pEsM2xNbzwnQZ8xZlTZsuEAAAAAAAAAA8YPYAYgy4BgTPAwJ3mXAMQdBjCYghxMQAAAAAAADU4swxRHSujDlhk7LYNWSUGIOBEyQG2hpcCxz3lYG7prmQM8pwNmSeAAAAAAHmO46DxnM5nkPcdp4D2HiOR+nAzB4D9PID9MwYc7T9IkT8AAAAAAGpXa1sNn8tzSZLy57NURWBFARMlxgjJmSPeW6XCAAAAAAAAAAAAas9jX7YtoeQsDWwrogh2EuJCYQrczRYZcpcIAAAAAAAAAAAAABE7sZZSkBE7sZZSkAAAAAAAAABjD51lkAAAAAF3mvn0enqN29a9+czQLZQoTpMP0e+V3tz+CtAAAAAAAAACPmr5uAAAAAADCWI9frK4fYvcj7MfuWwe5DH6AAAAAAAAAI+avm4AAAAKiMwZAwxiCOklJ0ZQqMyx7jBkeJeWWQcrUl51ncXAUyeo4HWWYZcAj5q+bgAAAApcnJHzFEUPKSkyBZJRBOyHHA4HabAGrBNDuBHDZUpAx50kTNjCSgEfNXzcAAAAAAAAAAAAAAAAAAAEfNXzcAAAAAAAAAAAAAAAAAAAEfNXzcAwhmwAAAAAAAAAAAAAAAAAYI+XJsGfCA2RPv4VgXAYAxh4CMkkLNMMRQ8pwJORQwhOiWkTIeZo6zuLgKZOYPOXOdgAAAB8bTfw2WNdy+StDwkZMSTEmJ1FfGbPcYIw57TMFpGu5PDpOBGzZYo0wwImbXHpAAAAAAAAAAAAAAAAAAAAAAAAAAAAAAAAAAAAAAAAAP/aAAgBAQABBQL+gbbcomnDxUhiVjv5GlIBDg5difh/jtqVFyT2DfxauBb4urm2mwVWATVq9uU83X8/aY8CoU6rRZdjqlHpcfQofbi6mmm+ph2nUmpoxmAn9xiina0h5WSc02IyYFrlsemPyg1tNtU/rsSPWDQ669Wp/SGaPmP0eKgi4VRdTztjsHFTi8XL421WCRiDqfJny8BPTvo/C7CeEPm79wgVuMjxsX1hMPBShEuGa6SyND2BwOmi211T1dsxVgEgZtxA41olSp2FvTUtIuK8tEXMmTVpFuqyHWrgY+Zx3Jgd2NuqxVyFzcEclLiQGUGU0cH7+fqMdYDIeLGhYyfgfWeGV2QOZXSM5GVRcOhDwkmxG1mspruDmSnxRqWU1CKgVYlIqovxx4dPLawDTHm34GrlQjvI6ITHnhUpQq4aITEJ4ZWpYqaJpSiHDaY4U8TW5aTsAgzIQvv7JPi1eEsdniKpBV2dxYo/+MdaYmUsVXsodsi63Y4e2wsBZQ7E58Z+yy6xmmbkTG3miwEL6BHc/Ydciij2rOtmqGQE0TW7dFv1AegM6qDlNErp9y1voNrVcbrykWURigQaKvkvWVcZrdv14upqu3a7jiGm/v8Aab59/tN8+/2m+ff7TfPv9pvn3+03z7/ab59/tN8+/wBpvn3+03z7/ab59/tN8ql/pt55uCxTlbFXuxwKKL26XBwlf2uTYYuy7ikZahVC49ZZ+ElvpWhY2Od096TFc9JiuekxXPSYrnpMVz0mK56TFc9JiuekxXPSYrnpMVxgQUXmwKYVcw2dNIyBfaWNe4GR1LIzlPTo3DkXU6UmnHfCS30rQP4b9wQaMIoMwaQG9oUmLIO+2MkmpUb2BSTRzrsmKzJexVjD9W9qLCGqZ9zLfStA/hv3GwAySpihgLjqtfc4xiY9ASC53IilJwzBjBhrqmuyWnQpvMYmLBkBnddDxzEVN0h2NGcgpIVkCDRHepUZptcs4nzEVeDU1YojyXCIGtjShXJWwRLd3lvJcInfl3CrMuKXMw+C0xP8Zb6VoH8N/HjRQwsj/KW+laB/DfY0t9K0D+G+xpb6VoH8N8s37GWXUV7pG39d7DTwuUAAWy62Q17YqTFmAf4EkshjDvtFD8jJJqVG9TF9V9g1jDMlPaFYQzpP3j7KCGRP15p0eN9hazzcFSftWyaB+mM6QqvwY1ciNgAmETkKH6fFXHIXUEx07iTR/wARhLrVbODH6PpBKS63espw3hSRY3yB7ICG3Wn6NVSoXMIDJrzrxhALZtBaE9UJY+ZHrsQaMBVsRypmh1sZcVxqwRLmwQ/KcJ/+ThMkoN533kfGx0SP8VHRQ0Xns8m7QYpHX1f519X+dfV/nX1f519X+dfV/nX1f519X+dfV/nX1f519X+dfV/nX1f519X+dfV/nX1f519X+dfV/nX1f519X+dfV/nX1f519X+dfV/nX1f519X+dfV/nX1f519X+dfV/nX1f519X+dfV/nX1f519X+dfV/jDyCGf8aHvEA9YM7xfdtV72W41VtyytrrNYtt5Gq5VUs8ZcYLdGx5nXcFIbQFi4AjeVXCqNy2nNwWt9f2wy3wdutcVSoFnckf6R97Ke7DCbvgHHILeFalya3uGHnT6FtMXYDev9qibGVr++SFnuNe3VB2CXid8V6Yk0XSOXePgb/pU642yE1STDFTWsrwXRb5T9j3ap3DV1it7tOhM12vbPpxd7qF41patiV0fWswLQappqQiNXUMC5xcNtOhJ2PUIHWtrhazZ9WyOutSsaouFn49SW5DWutdUTFLKoWobBW71S9QWOD2BXdfbJGuFW1LcASQdPSQleQBc8Xj4V0hhjLBDBTXtGPEMc9sdJgyw/sDkwT3XDxGjPaEeJIsZkwcSQ8/EFSXszPxGJb4HYGTczNAGdFql3MdYXLuhjNKkzMB4NzHxLLcv07Q5BssaW+U9PCm+/XYqS46Zp5yGyIebSLHRbrCJelPyZZ5rbjwcPb5aYVDNPgDiycaHfi5mITf3jJo6c5YpeJZt1hPS4bJyDpD0gc6+VV3zSq971bLTmUpSlLzDJDfyIPyygw1j/KC+WiNjmxxxhxG3WmnkIAAbxlhhWWI8AZDQILCmQQhuNx4DL/Eiio58sPjHp0f48x0flbseA+/xyPAeW4EG848GIQ4uugPTnvtyXM+m1LcWyM0Gt69PXJ17l2ukRQ4QrabcVXl7zrYcHjedbGhqhtC0Stk15epSQ1pqTa85dqTr/Y3zteit0xJjlP3JC3GZrt0jrLN/E7WqNrvNeslSs9wpfs2jRSr5Bz9K2Da4VzTlglB7fpaUsMjX6RseFkdSUy6USO13TNjUGsRGo7w7DMasus0/B6zOipWugXMSb+NlJyKhM+2bnIqtxnwpryhg6hbP2Cula8z9keeZ+yPPM/ZHnmfsjzzP2R55n7I88z9keeZ+yPPM/ZHnmfsjzzP2R5TVbIVzfiGHI/M3NJhdhRdj1pTGZsmsUguZOLpGpZU2Wf+ElvpWgfw37w+NjpUduKjGRXmWSWh67XxAm4WHaYwILgn4SW+laB/DfuLJZXoMyqzBE7CTU4NCNkWZIgebtG4AjLg8lhV0jmY2KkXJJg0nIg0PZPLqglwBIXD2T1kWBsGSWhbgRITsZbw5IwohIg2LTEqGr11cfwNNElXBBcuNcibmAKXyQLlwrbKW8SNJkLkEG6bdARngDh5IL2y30rQP4b9xZKgzYD4GJag4ixwhUms+GnTkrpkl5RFGNMAErpY0PUa4RXmTsHZFGqc4muKgisTEBVJKHOEq07lAdSl3H6zUCIMpaUrTC66JizWaiQ0B6NZ+pX4azuWPNHcamOTENZTZuRq8y6QTUpRh16GmGrBDxrUPF+2W+laB/DfY0t9K0D+G+xpb6VoH8N8j5KOlh+xJRKlxmqdrxlR119+qzzcFtfquyaB+506OqAmxrHE2i5EwUhElunxsvYWYoky0JFyu6Ry2YW4PKr712jG40ElZgszNDwzTNxj1szFtwIELbkN1wWdeIj4SxoTVxLeQ5ORFnYlDJWRZiI6SsoA7dWuGZRuvTRMtMwZcvixNXMB0ziC5ca5PXQBkou6ACEyF4BjyEKS4n3Nm/XOy7dvdI1BrvXieWOhtTsgKMyGPMwkk9MGQs/6izTJGIUvX76Y0itlrgavDPwMNYYcqSy7UJJ0QKsHfKixlgTAwFamIAVmmy7tbXUpaVfrFaIhyJMPEjGxWvSY8oSsEiqiYayhzsbDWceeiaO5EyHH4azuWN2nyi8F0+Tf47CTczKMtIYZ/wAT/9oACAECAAEFAv6BCAeOU835Lv8AJCMuLIYUM/8AHQ5uGoyNWW4C8YgMYwn5wr+EJg357ylhzc06okb+mRRlmECiPGEFD/Kudi1PBfz8F5sdIkv/ADLv+IwYo5a8QGHHkQiCCCYZIrwkE0zJHA/Idhxp6AFqns+ZGnqjiWppoc7qHueNP+eb/wB+lR5OBunk4DjonGTIFkMssKPUYgwR0EjsKNn2wQiJlL6GJePRIxx0VHmgzAoODiPmiv6eggGzzYKK9SKk28NE9iwxoccSKaICf2UyO8R/Acd4p3sOt5Vhz5djz4x4WWPUOkuQQw2iQmmUMp7CbddZVl51S0qUnKiiVry+/lXjX4f9ef/aAAgBAwABBQL+gVKwnmP++4xnvx8c4nvWvw+LCfFlOPDj+Dnh8Pf4m28d2f6Zznw4yrCcYz39jP8Ad4XP/ScY7v8AEnM5xzzf+eZ3Yw534y53oSrxdhrT4ueXxafFjy+9Plf8Snw/79+LHf5v/pS//LuVYSpXh4lWFY7CW14lYb7uZQrwrStSVN5VxOO7H9POK8KXF+DCP+47FcSpWMpUpPZWc4x/DOcYx2G9zvz3LxlCe/wp7/8Ay3nv7D7u/ndj2d2Od2P9e//aAAgBAgIGPwL3AuEWIaxquc4o1o7TRiVrk4tKg9x9sRhFJS9OgeWlzSlio8D+37tvLhOEY1b6leLOvcDhTZv0gRt3B3J5wCBGWx1/4teyt5uP0wtH+aMCALBHLj91uBp+6LWsLyqDT2R9D6/zen0KF9X+tb3cPa3EwTvYuJBS4t+FbPcynLcvhOR4lHlF8Pc03bsLWudxcUGi60NrBeU/C2pXqrl5xyW1Ych0MDGn0S/3PT1Ox1vr1U7abmOPmct5UoSPISgIOh4iuZhHH2MCD4fuluW7lA1u1e5T+Ugt83hUYhnB20sLpGvLSPRqCFKJ41HHsp2yQPY5xdiQWhnqVlz/AE/NUGcjvpZ8kdy3B4LdRy9dUS/GtsJFl2s7ZbOYWFWMOrT2oRe9MjlePqyFcz5OoE/N1jh0HIZI+ZFLEYyMsbFOKHqocqIN2zIHxNYumepJS5+Fc9oyaWlrhorXa3GnfTN3BC7BrXDF0pcfNazkGJ7hW3kjhRm35qK8uJ5jUu48Rr+AqPnN/wAtgQv+ccMh1j5vj9vuPdtGUcjXmynEMKOytbh8RRbNJFHvG7vllxccfQ0hotc5O6uvgKlg3XKc+LMcsvc0ktBu0tabDwr6Pdx55hyOyIxxY52g1VKfM57IttGiudop0AQEk07bTJm3q0INwR2EdBt2r480e5f+t48zfEgUQWlTvjP4EAY99qm/UZo5jLI56AFqBrwl7a366O7DNwUXDzM0LS05eW5uURKm20P1LNpIWlrmuHNBAutg0g06YOkcDxeVd4p7nwyXlFvyOc5hfY6FrXaamlkC7RqqMgDoSBcrfiQPhWAhbB5fS1/MHfkrvv6GG83DZHTMPlxIA0IKqPuIo7jbtk+n5bmo4jLzNI1AA16LfyQuDC53Y0an+PsCDbjKUrbuCn+A6E3RYzmO+if5UVfMyyce6oJd3BF9WdjK6RmKBR6SW8CfA91M58EYnjhk9LQkjhdn9sYiw4L5k1FbZm3jw3gbJmZNuGNcBoREpDnC/ilfp8+OM0jdxkeUIiQGWVgPUfEVCNoxn/nlnkkHqk+YvOuQP5fy8Og84XOa/rBSjIXO5h1K3rJtnChK+R5lGhyKjuNZl7su88dfjWCnDq4fZ6//2gAIAQMCBj8C9xS/t41pH6Jamh/y0ns+amjtFOA0X3NLSnof+alH7phOuri615hej1ijwISuzoPxq5utJWJNG+tW0+32lWXFKBHGshScaUdBrX+1KDAlJagSmVJ7oP5q1XobEaUh16Lv7CnToQf1UQDbKrGy0V9Pf+NOHC3bRX1dB3+z/wD/2gAIAQEBBj8C/wDYDALYjsZkm2nMramqp4JbK1s5rmPKoYkUWWfLCNz3uc5rGonbnlnEsEh2Ff1QkL0VrFdCsYy5qiilxXK5RFaqe+qe8qp+HLmkYYo4cY8p44wnHkEZHE4rmRwMzeYzkbk1qcXLwxXXUUE2LHs4opYY9jGfDnCYVM2tkxn5uET/AN6e8qp+X+Wclu4N3RG2l9YxyMrbVQR6ZI225SpKqWpGeldJlKPSV6q7XqX38T6vzOlXdjQw/L+CHYMmxNZyll3qFnMtDBkQWDHI3mUrQ8t2XNVmXoyx5U0nmFHspaL5STiX1fJlTgNmSw2FX0oLzlFGSRJE1zCvYR2rqBoq8W4qdvDsJ1oKoithhnWT2EmlCNzuS0zxsGxeQJUG3JPitTG1fNyviyrCNWw7jaO56yKhXvm1lpFPYUJNA80a2HuOKxquyd+8ehOOPKzbm/KKotrXdBtxbgv9zbz+8Umhqdx2g49tNgHg7eXqJ9vKcVsSK1VZp6fuZ5qmPIagvUuVryb98wquxiKa3gG8FjivkFUTHGI2yFWvAzp1EV+rkLysHoamVNNVeLWdjXRJhUKymi2MhZDaavXJHpWwXOXlI9XP48XLiYm71VIhHFZV6fFNS3qV88lejfCfXovq3/H9V7/ox5RUcOdZPkRd6eW+3tzdJ4nXz4fWMPFsBdYowFR3JI71o3KjV45481NvVsckGgrN1Vzqev1HdFitm0EGRM6PnveqMNKVXOyXLVjdcObuY+z40qHFATcQByjLX8yyhNYh2Qv2lYM0ipHkaewBXquSZ48167ZFBV16VE/bUc+6PL4m5XUW56s8kH3ik0kSxclhGlVtQNzJ/JXihXaV4I7HnJY+VW6KCYF+39u57d2EPdIwU0l9ly7S2j+OnkS4tlN26KVzUC9CZia5yatOPM6H5Qx5ZKd//p2llC6KKzQttdrcG6qxjrMRsifOLHEERCDTvHC5nxmqmJ8/y7kWdhKrv/THc1lfOjxZ4gP3bHsqQqgrSSBhZKuICyGp3c9B+4vFHJjck7be6dvNmp5Q7pTdW2KQW7m3dlPStYjLXcrb2RJjs3BAtDaFIPQ96lejM2Y8obHbgZzLzePkzc2O5JU+XOk+MXqVNDYVbbZ0szhtZBnSnMC3u8oSaE4Nwwg2nf8A+oEVXuX7w+OtuPvIlzrkqZlr1OUNIDvU8rV3NGn/AJmrGzpv3ppK7e4W3ab6pHh3em99xvLElOmxt2JayDVpFr5jWmCTQxjdLUYvFqY8zW1k7dhtztibZ+8UOzdIXbUYfRf5etE1wmtaRwvzmpy8c+V3df8AYRN86pXjRdsh2m5vNZ0XhYLQ9uxyA5XM6rq5Ds3a8tPDL0/l1HFgQ1kpMkHLJykQAqaPFhyjFiN6wjOS52hH6+HxNKLmuWIM+yFy5J2q/Xqjq04nd8RmNjKrRN0u06XZP7vFMQAghvsbK1ldJXwWGZHQj2sUhSmkPa9AxwDTvO0u7ezFaI1J/nttKPGiVIrERBKkdjzFkEseQ1rI44zdS+r1JnllhqLUH8cddLt9KVJQl/zBrGmV3X6OX0KBejubo/2enG4ZdyHOU3cw6mBW9cFQhMeIB44viBBgCOM3vvcRze6mfDF1ZGr16mjPHBJiQ5wJ8d/WKPpTCshMQKxn8zvO05syXhnhZR4sWN38hLCtI9tHMPQ12tkkAxIiorslarUwUsOL10liJyovPZG5y6kRU55UVg8mrnx97Ey9ldbNfDPZvIGZKESR6meQPISSIDR6B5d3u9mLEFhSyYD4dIu4Yw2yBTJEus1GamoQ2sSNNVwsuVqfx9ODzB1kVg0jc6K2PdRZpClVFVkSWNoROr5C+nVmjcbtsbfrQJV2Mh8iIeSCckIYIQZD48JwBCao8ncE45r8OedLImw301NJpLazaJ00cp0qOEccw5MkLAD6UgRLmjdTvjYgwnwWRWWwZJqwo7OJNO5Iw+erLCHHTXWlfGTWiOc73u3D36Xv0Mc7QNNT3aUz0sb8p7vRidzk3ZFjw5sIEOECOyNAjM6ZhjJeN77s5BFz4qvcXh8FdIWmKOht7Lwqut1mBcQ0lxCAA8ldy0IGNJMFyNdrVfg4pgww7dllr4l+bb8ywZJY9RnHJdH6gUNgXFNGaiNcVc28tHfKyX3KwDbSwNDtINtJLBOQLooHxUjIJIzWAG9jU5i/Gc7FhIHTFkUdRYpV2dt1gRPDJaQQpCggOGr5IIpTNa52tvHPLsxaGj0pptPRymw7ezbMEJ4T5CU6RYThufLSIhm6++Pt4YuY8KjJZDoosWfYSUnhjCbCkRllKQaPERxDNGxyoz5SMXinDOJOBmoJkYEoKrwXlSBNKPNPQuh/5BFmy2A5kaFOiesisPzOpZlFe9znN4QCue9jfS5/oxDrIrWoKIAYtTWIznERqc2Q9qZ+sOTNzvhXFeePNfW2VVKWVXzmBZIQbns5ZhljvcxpgmZwVM0/vxVmLd6byolHkxrUdcFof2hjwmjvrudkoHx3aV9bq4duAvHblbeDu3X7rh8MRGknEGgSMWBzWDbDUDUajEf3cu3E0Jrcxp0q7BuAdgSHHXkWQQMCqrDVenNGf3/VrkiMdp9GeJcXxWAkyQRjmywbfiAjtC3SigNX9Q9slr01ZqpEXvcMWLllMkns5LZJ+nhCroY1YzQxkaCF5RhTJePHvLgooUzoJLtHLl9OOVysiMc/1BVQb9Y0VvHszzxaUJ758mHYMPo/y0AXRjSpKyTmRWGVxdb3L3VVETBbYE5wJLtutoQ/s7CIBw5BZI52T3aSOY8n5tUyXLtxZW7rUDrOdXOrxFhU8aujAzfzWyyw2HMybKaVrV1OVM2pp7MXQZ18+dEv0lLYgStjRXPPJjNjc8ZmEe4SjYxMmomWeIRbO6JaDgVUylDH6IUMfh8kAwI1VGYj1kIxnfJn3+HBMuMdq2cWZCiCcGMJaSJHntZp5YubZjKryqMfDPQ1Xen3Lqch1KtzKBKcNWI1AKCKONoR2peZqRmfoxXxiXBpFHUWK2lZUrEEN4ZKEKaOh57SK+QCKQzla3Q3jl72LJGnU/iNxYW65sRnKdPIhFAmTnakHl28M/cDcs3IoHxOqHDB4REIgIstzFKBXuKnO4DRNTkzxYx0uDDobez8VsajpBOIaS4gjHYKw5iEBGkmC1Xt0Kvw8VxaCFcmjUt5MZOtatsQTyFN6rn9NP5jXxWS+Q3X3HrjdoRTi09PYw6KKdza9plso7IcgRwQ5RCsbG5LVVj8mk/OYjQ47dIIkcMYDc89IQDaIbc/Tkxv5BOvZkWxmRoCBcWNUwiWFgTnyQxW9PEFk8ul50V3+6xFcvBMStx3RSx66IwCv0xzFlELLMKPFihiMapySpEg7WIzL4y8ckzXCz0qL6kyOQCwtxVrquw7jRv5qR3PJqA9Cd1yL2oqdqL+FuTa8Vx1tdqCpDW7XhVgWM3BHlSq7kGzyMrhQ36v91cLbQYdtBAk2fB5F1XGrJnMr5RIpSJGP3lAR482O9Ke8uaJB3Dt+X19PZNM+FM5MiPz2AkGivegZQgyGN5wHZampmmL0cSHbRF2/ezdvyltK40BkqVBQaklVri8JtcTmpyzN4P7ezLP8sMOepvva2KZ+0Ej+L85Hkn1SWisWB+x5rGGn5//AO3Ffufb9/uAsFL7b8EUatNLg18rVueFHPLk10mGyQ+ZAdmoiLkjFai8cNr/ABa6utJSl66/n+I2K8xc+W6Tyg5iH8lMuHuVqi8U+7n3x23/ANQVpuq8QbsHnmW/UXRftXLXISE0/wDKV2fdzxt7/p/3fKY3mlWJ5lLt1t10L67wliS+sdlz/A1KOCk1QdzVw/OczG6I2y33MXyznec3luDZBoR7SNygGWELdkjbpiu6qPUpbuc4BB5CR2at7Fx5zba24y2pNg12+vKd9vGqjWSrA2rcUMU+8JEAqPPMakqVoWSo1VVbmi93NMee5wwOg8p5UHytQJRRL6PAnj/zuK+VXLHb4rJimusk5ouD172ehc8T/L+ep7Fke3vZcypkJdxCNqH7rkzqMnXu6UrmKwQXIjTa8uDvSmJ0K0RIu7Ie1r6F5lwCv3C2whVKWsqPMDNgNdlEcoVGidOxpl7W+nHnrtny7mWDb51/va82RCBGvXTfuy2noYkWVVSJoFNz0QZEjsV/Uc1EVEzxbG8pG2XgyeSe7W+YZGrbdMu5HV41pm2XWry3bz6lDqXL12jV6M8eSdhXDshTN5eUs+w3lMky58oltYJX7esIqWKySkYiwDynsjtybyhojE4Nx5tpQzt1yrhu4atN0gv3SHVEOd0cnph7ZQwmI2G4aO18XLk0eXqeT/bDykcjBjY4j3L2NYxNTnL8CImP6hUH6U/zGP6hUH6U/wAxj+oVB+lP8xj+oVB+lP8AMY/qFQfpT/MY/qFQfpT/ADGP6hUH6U/zGP6hUH6U/wAxj+oVB+lP8xj+oVB+lP8AMY/qFQfpT/MY/qFQfpT/ADGJ/wB0tw1994X0viHQue7pet6jpebrYzLn9ITL/wChcbCk0LZh5M/zJoKuRWwShCW5iSa67I6peaRkEQZZ449TnKiNyz9GLstts+ZG3Dt3d1LtS125BtY1k9X3ysWum11h0sQM1JI3KrBuYFVcmSq3txfzd2bNm0FxT3FRSQ6nxWLJgXUu/CM1WsLcZo8CtQTWud1buLYvLdmqrwxu9Ym3q925Nnlq+sqo+8KqVRSYlv6yNPBu9kdkBsccYR3mRwdY1CrclcqJjzCJBEHbW4tmztjNPMptwwdx1rom49xV42Fg3UWPHCTXDGcZmqNFHnli1m11WcO2ospYdNfyDtRu5HAc8cyZWwkHrSqEZmkchz8j9rU7fyWy+z5n8OTHl+QsCEQjqESueSKB73Lzz8XOcxVVcfy2v/wcf5vH8tr/APBx/m8fy2v/AMHH+bx/La//AAcf5vH8tr/8HH+bx/La/wDwcf5vH8tr/wDBx/m8fy2v/wAHH+bx/La//Bx/m8fy2v8A8HH+bx/La/8Awcf5vDumjR4+vLXyAjFr056dXLa3Vp1LihZX3aUFjtzc9dumvnvrGW4errY8+OMJ4L5kFCCek5VX1ifFxM8S3NKstwW+9KHel5fOrgx2zZG3zjLCrYtaOSo4EAYmaGesI5mrtXgiJTmmErpEaxgXFXYiAGWsC0rDc6LIfDk/s0wPa14n8HscvZ24udsXG6K3qrKbVzY9nSbLraOKFao6SY4LKnFPkju4zzZq5hStb72Xp3xCnbo58nfTtmknSIu3q+rhwH7Ps3WAWQKuFIYBkaWzIelzle3LUryKuLtKmzL92rWR18PbBQao9BYGdrnLTy+fqBXTiOUixeXoYRc2K1M0X8ksvs+Z/Dkx5e/YAv15/wATFZIKg3TZKRIrcnKpZDhlMg00ouXqwuXNck4YFMhlQ8YyOURWo5EejXuYqoj0a7LU1fwLAMdXq+slrBlamaUQ6CGXJi/LboKnH8DqghlBZzjg0TI74xtQCOE53Lfx0OVvBfdnhGGUN1dKWIV0iO8LCvRjX64z3cDByd2p/wDLEOqer+rnAkyAIjM2KOJy+dqf8lfWpl7/ALrqYMaxmSAvjjmGiQnmhwHymo8KTJOaNHmNdS5Z5J2/geBuBYBmK05BPPCMGLIZHRqlfGkvRGHa3WnFuf4qy+z5n8OTHl79gC/Xn/E0eiAOUEEK3lq5bSwgqvSRCqZrujb6nkc4b2PRdRHZsXu4qhEAkcpY45RGJIPIzU42OQi8/wDMPePJXCb3GOzRMUHX8/7t+KL94OTztPK5K9Ikvkd/oVP+c9HZ6csbYSJw2M60neK9Mkvo1XkmWJ1H/M6BbH43/LwBr3TBbGLvUiIqrKaxaHkM5Lc/3htMSa1+XZ/8MX3hACRaMm9YSyUUE4Yvu++EFXFIMOid4eYnLV2nvKJ2NyjFuWDEqpUuJyCVY7J1dVl9T1Mb1znyEiTl060R2hupfRwxZBj18GKGNNaxsyqdMWqsnqFus8Mc71g9GlEflwVVxKW5/luQ0k/vHY4w2j/dfX8TK34uL+uilMsyK2zKgdEpCsjFsyLFc0hGJq1CVMuKri3ixzzK+HM2Ek6fNa+TIN4gsqWItqqqr3knjD3uHFVxcwHBrpsCPSuNP3HVLZoKUJq6Sx7EJs/8zeLURVFxyTh8G96/b5jJKISxlUAkHNV6gHWBRhI75DFVHtK1dKOXVqxRm20Ij7H7rXHXy3skKpr3pI7uVIPIRGPlCkuXWicGo5PRlipOOzghsWRJaXsBrbZLawI8C6/Fuse8POiTcnI5Eb7ycMsPZqezWxzdY10vbqTLUx3yXt9GNykW0vHJCtIWlCzVUc9Frgu1TvVJ1WlVyTs4JjbzhdWu+/vI5dyK7q0kNrUkyvEOs1ZR21/SctBJ2diJxzxcWckk0VhA3xbEhSWmJqDGjTlL0oRkzE2LK5ruZknfT+5PcpXvlKjK6HcwpjumlqgZR3RWiEqtAurWo14tzTG4UN1a76TciJtrLq0kNrUkRfD1h6MgNr0icxSr2dqr6MbobN61d5JbBTaaC6tDpByi9AtXoyCg8+bz17Pf443mC3IUln4XT/d6GF8pyutyVxE50SOBcnGFIQXFexqr764q0n59cldCSbq4u6tIw+p1L7/Oz/Csvs+Z/Dkx5e/YAv15/wCwLO0GpeptWwWSkc5FGiV4yiBym6UVvdMuriuf4dl9nzP4cmPL37AF+vP/AGPZfZ8z+HJjy9+wBfrz/wBj2X2fM/hyY8vfsAX68/uWGzvMbb6XtPqSdR7lpUZAs5dHLeRYp5FebRWz5QFa4BuU6IzmidknZhibY3LBkznM1Op5SrX3I+HfTw6YgjnaL5Tw8wf/ABe40cuQ0L3xpkxGqj1/Za9rHzDLpa5EaFpE7e3PhgRxO1iMNhROyVNQyNR7HZORHJm1fT+AKxhK9YxnHaxSM5b840gsUmbV7PWhX8GRMkv5UeKAsmQTJzuWEDHFK/SxHPdpY1V4Iq4BKA7UGSEZwuyVuoRmIQbtLkRyZtd6fc6oIZQWc44NEyO+MbUAjhOdy38dDlbwXC02b+tbXts1TR6vpXyXxUXmdmvmsXh73umq4kaxkLGOaJJnjhEWrjy443ENGLMVURpWZaezLUqJnx/Ak1DQWEebFC6S5k2EaI0sdsjpufHcVE5wXlTuuTg7L8aYBM+WcRAvyXJdBGqx2S+hclwGFA3B5jQocdnLjxIm/LyNGAPt0BAErBDZx7ETH/ivzP8A/MPcH0jBdleWETeu9fuwNa6zm2VrabjQVu8mqeJs2eR0argwnNaF7nuG10hr+KpoxGsd+7hZQta5hvCdvOZMtmuaupEJbOzr4JxuTtE2WnwpiFTRJVpMBBEgmSbm0m3FgXL5R5s4pjO+BqZDYnBrWpwxambXMMMG2cxlS0sBP/bJIYozpHC3kqdhmPZyPzZWd5/HLEGEomgcCOxrwsknmMGT4xGskyfXFZrVclX0YpE3Jr+6vRzM9XP6BbjU3leIcnhkgPzWr5Wfw4p2W+tNmfdlVp2uSckHxHqsuOn1yyUrtPJ1ce3LjljZot69Z4L4PZOYCWkp6GsEmk8ODOGHUQslKpR8tjuOvgnHGywzWCjUaH3Kk0dmKf4eyX4pK6BlmyG9h26W6+XmunX24pmSNy174w7SSeC6WyzdST4wymayslPT9r5EZ2aDc5V4JkmfDKCVlclWLVJaKMx53hViSSrz4yyfXpHO5Vc1HdicE4ZYpOu533fdbtS+5XN0dN05lj9Zye/0HU5cz5PZnhZsLqRbWh7/AKWbAK7qVEGpEovEDhR+ZfC0kqujLu+9jzEMkeTLEpOtp0c2UFxJA9vvHEPHFmN5GGV+bEVFa9HIuWLANVaeFPJX1Q7ieFZ5XRZi8pNB2OVXjaQuoZUZlkxy58Mbhj2EGACmiHgikWVQ618LtFKqIjown/tYigLoQujhqd73HF5BpTSfFYbpxUGxkpJAq41wubxkIxFVfDnOyyXUmL82xxGQS7Fc0EkI5KPk2CTszmCUqI80tAOambf+a3LtTCnrrOt0LUoyxrILbRCvkIUWibYpPIRrZzHK5jl4OdmuDR+cePzhuHzoxOVIFqTLWEmS6CN9C43fLhWF0+fGt92R4EYspXx5UlrHsiyzg5X7RLIVUdr9LsbXfQdUsnwyb983uWXnzlhj5Xiin7izltc9OXHLP5OWNubgcSaK1EOX1BHGI5ZYHuPFZDkNNqyihYxrmNTLJyZ+4pWSlUZtvxqUb+mlo11n42d3S5qBMl0kTvfE+HFYrerXf6bsXxT97Qzaxs83P5ueQUpfC0Zl8n/dx/8Atr5gJu7/APrQza1th/sClElZ/wDjxuUUYkg28m7ze3bwREkvLFCkmE8hhjavJCB7echHL7yZ9ifjUh1cCHXRGuc9I0GMGIDW9c3v5QGMZrevavav5XYLGUq+J2Ui1kcxyO/aZLAjIg8mt0iyAmScf7QPFL4nzYxigJy6eyIzmBeo36CMjKwjdTeCouS4+tvYdr9Fx9bew7X6Lj629h2v0XH1t7DtfouPrb2Ha/RcfW3sO1+i4+tvYdr9Fx9bew7X6Lj629h2v0XH1t7DtfouPrb2Ha/RcfW3sO1+i4+tvYdr9Fx9bew7X6Lj629h2v0XH1t7DtfouPrb2Ha/RcfW3sO1+i4+tvYdr9Fx9bew7X6Lj629h2v0XH1t7DtfouPrb2Ha/RcfW3sO1+i4+tvYdr9Fx9bew7X6Lj629h2v0XH1t7DtfouPrb2Ha/RcfW3sO1+i4+tvYdr9Fx9bew7X6Lj629h2v0XH1t7DtfouPrb2Ha/RcfW3sO1+i4CcerlnEMzNbXMdoI1Ht1MciOY7JexeKf8AZu920aR4dYUM6hrXusiw4kezmbkrn2VXHp3OlKWaYogkZo0MepBPRqORM8Q5FXR7kutrWflm3dcSmhVlclqEwNyXUKbbzTlmMFGheGVncYp11ucxGt1vxtm42595K+Hucm3JsfdEPb9NcQYES1nwxpXWsa0uIKx5M5kjl5sYVWehc+OH7q21uFlWyoPVhmVhKeDYNtPFr6pqkcsuXqJC6Ucxzu41deKqqBT3O5L+6bMNX0lEGOSU6HXNG+dOkmmSYkOJFBzmtRXv1EI5GtReOUHcNR1CQ5qGbyJgunmxJMU5IsuFNBqIgZUSSFzHojnJmmaKrclWJKpNv2dnKm2NZGWxFCiy6qAKRbQIZo8pSWkA7LKeGS5sPJhBqX4+SYrbeftPeEO0vLnwCi2hKgVybmtLJzCFYgwx7WTXAh8gLyuOWS1gxsVXcckWbumdWX8OTWbkbs6w2xIjQh3sTc5NPKrjap6VjQlG9CtkdRyVEueerNuLnd0XYe6YVtFFYiFAs4dTKFWkjQVlCurV0HcHKLt3PJFIAryq7hoxHnztubi2/IbFgcxb6JXxG2RDwxmJNq2wLOx1QXPXhr5buPxcS9w3HVPiRXRgsjQI6y7CfNmyBQ4NfXxWq1ZEybLM1jEza3Nc3KjUVU3fNn7S3hX2+xQQpu4dqviVJr0dVPY4wLiCg7jw6fXNjDI8isPzB8p/d+Lq3fuOtDcXW3dmV9fOsLyrjwSV04thGBMSrqCybGK+XZw40kbpLHNGwCvRrn6+7jcYrCg3VSFodmz/ADBihtYEKOfcW0q9pXEsacXiK6Tv5fAErpypqTWje9pksm1O5NtQW7Smb5rrTcNeGLGt9r1zmtsLOIKNLlzBoDWj2sKNjyiVHtRUVMeHz6Dc+1CStvyN10hNxQooR3234mh0mZASDOnEbIAIrCPjlawyDei5LxyfYV+19zVu33wpc6v3JZjqPC54oUkcYwUbX206dEnO5mtgiharhscvBUyXqKba+5423ztmOrtzzh1CVU50CQ2OYLhxLeVZQJBHO1CYcDNbEXPSuSL5kisl3DSV+3om0jB2vumgoqiRt5ljX2RZElLWqurY1oOxWvcd3P5aAarUbnxxRQW7f3TWVW7izgbP3PaQIwKXcZa4ZTFaDlzSz4PVBA98bqQi57EzTJeGKeIHbu7otZdbklbNj7jn10EFO3dMcs9jKlXssjSDrKHXuewomEEmtGuVr0I0ZthJX3aWgKBm4nWLq5yULoj5SREjsseZm6ZzF7NGjtTXqRW/kVjuSHfiq2npah0EHJM8kfeG3pch9NdEVH6FBFhSiDyTvd9eHHEUrLKK4MfycgeWitQJkc+xiypUo9vxc5EjHfJz0fGRcbU2HV3e1A11FX7dSdKn1tuabJtdvTAzAkiPjzwgFXmdFYjmPGpPjd5OGQdtPt9kxOsbELfyG1N735lbdxraCtOi2xOmjKkIbSoZDOd3tKt4ZbW3DafcO23RSRbWus6y2prMuzrOFPl82KSMAkuXaQJsAY2rr1k1vV3Y3hiBVPgUNYYPPeeHtiKaHSCMeQUzuiBJc4+So9NTncXvzXJM8kl0NfPj1tj11RaV8qWEkiGkyltIloAUsQnjMsY7ouhysXU3VnxyyXbztxk2Q7de2r8lvGgrXWdhsqzhkjkiEq7WNNL4i5JAno5SsyUbk7qfKxP23G2v5PRptncJLsKYVFcLs2bBYEbGKcXPZP8AGWlC17ZGnIaNREbmmvG9dg2N3GY/d7790UNW2wPRbUBbw2RY1bTjtpZrA8CI8fMXWRiu1KnBc3uFW7xNtk5a8EKBWk22O0GwkSHFYBTTvE3uVJJXMz0jTS3319ErbnVBhSesrrOBIlRUnQUm1kpkkQrCE5WpLgyWtcMjM/ivz45ZLuuDTwfK7Y+5L6NDr4dxsqlthBjRk5zZkuYyaRCSpgRnd0jEyYInec53ZjzV23QTSW2z59EKVQ1BAnk31dcaYILZrShZy5kOzIHno1GtcImaIioqrjce4N5XO3x3Vx5U2Plvt2DQw7IdXUxLmIVTWdkSeVZsuaskqZsREYxmeWa5Kn/T2wlqjDbNFtSTPit4tc2oZWOmxxk7dD28xrXdvYuFNMpPKgEiFQSK2u3Dtzb9nDv5tgqRwhmXHNM2KyMcDHrKEHiQjk0qxEyWbvSS/Zm3GHpJVY+i2DEu4dPbz5MhpmW1tAspjooFi6e4IDO1fj8O87fMp2x9u5VVjDkVOwYd9ArdyTZv5qbewJ818SOyI/1jWARXKT4z1yzxuvcG47nYkuu37Cqa3dMKoqdwxJLIdJVWVbC8DNKuJDIhypYqplNz0XLuo3Gwazc+46Gw2p5XSDS9tNqq6dFu7iQkORX1br5x5JIcVlVFkrk2Pq5yp3sbHpnXEFxNqebJfMWQZAH0S4RJu4ZXhwW/GZKRt01NS93uLg1k+/r3bEdQMjB24laxLId+kpHPsXWWnmuAsbNNOvTxy5aKmtfyUSGMIKyCpHAhSMGpjua97Qi1KnMK5g3LpTjki4aeMYUgL89BgEYUT9LlY7SQaua7S5qp/f8AgSxRjIV8GR0stqI9OTIRjSctdTURV0PReGafgdXXnSRH5pgcxGFH60D1GVukrBv7r097JfR7s4MQ6GLWyVhzW6Cs5MhGo5R5kY1H8F7W5piPXkMjZksRjRwZPzIOPo5zkcjdCaNadq/gdTCMhwc0weY1HtTmRyOCZuT2tXuEYqYbTqdPEXQ1sGxtBc1hobkKbmaOT+d4ZatXwYNUAmI+xjoVSxuUdrmoB7WFXW8TRORrnJ2KvupRLMRLV2emIoj5uyjdYuReVyFyjd743/f+RbfaANqowAs5+uvs4cLvRIcjmvGh3Iojw2lY5xF4OGTQ3vYqWmbKY8sdkhGSjjOrWGY17FDy+AY5W99o17zNXe4429EJNPWVFhaqC3sI5nRXsE0KvBGdLaqOjClk4Ocipwb25Z42xXRbuSzbk61nBsbVlu8r8xxzGjwFt+c4oxGlpoXv5oiZZ4BAS5nM26Xe5alt6sxee6oZHYVsVtqq6+nWSj2IbV8VuWrJMX/g0wqwJG+okI9itiYbkrCww8wrrl45RQCMVjGdTk7Jr80zTG4Qi3HXQRvlQ0qZLtyOtPD9fK6mvPeOEAwupVPVcNbeZl8OLOK1ktha+YwR+dcvvobiPC1c6+we568p2nU4efcV3vriT1891ZFVGIWcyd4a4GZWIxWzdY+QryZN7eOeXpxedNdvPZwvFXoVtmprMIPEyNjHcVDLKY14stL/AEp2Yta9t5MaOVshtwSdaS1OOHZvlSgOskQqoGKETU1KxqNGiN95MWlRZTZDpIaV0yddA3QW1qiAR/KNPaYhP8om95XfJVGt1cEyxvkVdd+KTIZ7CRSpJtEtJZQAqwvacHNKUkoIyovZm1VTLFBMrbOTd2xNpW86Xz5xrB3iL4gCjAjHvIyK9TZt5TclRETNOzFNOS3jmZKiSXXcc25n2UqYR4FIN46V8MDas0OWmStYqo0fDj2rLCF7xFLGOMRBu0EGR4nNY9j0VFY9rlzRfQuNr1auMJhZ1I0c5hDslWKVEJx9wpNI4ioYRJKMaqcNfezzzxt20BYWCEnb7lVRYvVESvSAeTa84PRoqBc55A69bkV2a/AmRgt3Hz4sqmlq+PLvUkxQXJbqO1IMYJJCijHaPNGBampG9iYrs7WtTkUllBNnOjJyZq2EVEhl9b6uUqtX1a97h2YuFHZgg2UDcfSwWTdyvrhMrwmF04Pu90ahniso658zmZvc74OONnoa0rhLAPe9dzJsZnRc+mc0HV6iJ0/Oc5Ebry1Z8MbxJMvZlbLposIm2YsWxfDYVSQUkCKKONyMs1mTV5b80fpbw4Yv1vbmbTTaqgqZdLEjz313MmSKxZMozQCcxLA3iicnT3sk4enB0vb2dUcvY1XZ9IGyfXZ3bhyNbhjG9jnmYVfzbPjuyzRcm4ppFjq60tfGedSJkR7lYmRCJ/vlZk5fhX8cikEN6o17EV7GuVGFREI1FVF7pETinpwjWojWtRGta1MmtanBERE4IiJhwZARHC/g8RhtKN6f8THorXY6Lo4vR9nSdOLpss9X5jRyvjcezHRvixnRERGpFcASx9LeLW8lW8vJq/Bh4emj8kiI0guSPlkRrUYiPZp0uRGNROPoTD4jIEJkUq5kjMigbHIvDi8KM5bl4elMIGKAMYSKqoKOJgRoq9qowaNbmuFEYbCjdlqGVjXsdkqOTNrkVq5OTD2shRGNK3SRrIwWoRvbpeiMye3P38K5wRK5wuQ5VGxVcDivJVcuIuPxezBRRoMSOM/54YIwRMNmitXmsYxrSd1cuONYIcUL8lTWKOIbsl7U1NYi5Lj9nhxQZOI5OTHELJxdPNd3Gp3iaE1e/lh8oMGIKSTPXIHGCw79XxtZWsQjtXp4+4NWRgMUKkUKtCNvKUv51R5N7il+Vl24Y1AB0jJzht5TMmG4rzWJlk0mbl73bxxzehh83VzOZ0wdevPVr16NWrVxzwpVgw1KruYpFjBV6vVdSvV+jVq1cc8MkmhRDSR5cuQWMEh2aeLdBXMV7dK9nH3FIWDDKR3xnkjBe93o4ucxVXhgRixIxTA/MFIATyBy7OU9zVcP/ZgRZEWMcoF1BIYAyEC7tzE97VcNc/ewW7kjFKKSDHhMDIjhKwHTmKZDic9rnNK7m5fj5cuuHuGIco9X3lpaSmv423kjzq5HPsoNzbVYX+IjkOCLLmZLqdw0pnyYUxQbnsfDwV0p9HZWMOOKRZRYc+xf00Utfz40cj3ijkK1xH5IjX/FVJb90WG7tc2Q1ltZ7b+60vSxBNWM6r8Nqe4EiKrSclNSO7Vyz9xby4bMO0kyJWV9dWgSVZ21rYE5UKsro7iBYWXJdnkjntbkiqq8MMub/Z+66Szmbgj7YpdqnBVyr2/tZscMmG2r6GzkVzoxRvfqIQ40GoCauxNVlbW9Juqqm0e5qval5twtbGkXtbY3HLdXn6eLOKGdAlBIhBvjEK8jPiMcuSLuezvabc235+1LOqqLDbM+FDNuCROv44pdDHr48GfKiSS2kcubEUzdOTtWTU1Y82G221Nyii7Sh7CNT7MFEozbmY69i2rp6seCyZClrJWOMyISV6saKnBc24Lu6aLc+9JrLm5jpXxNu0VRuNwwbgJVtgDqY12tQ5atiZvespHOENVXN/xhXlzs3cviAqWzuCTa+srg0l+WLNlMFVbW5t8WWacQbEGxslAtV7VzJ6ceZO7N0WVvHrNr7w3FHLDv6CrpbDbFbWV9dYLSOFR2Vuls6CyZpQzndQYmaafi4nBtdr7u2ycO05++KwF3CrxkvtuVw+bJNXLGs5IWWA2Oarop3iIzWmfDNUq6gFBuimZuGkPuDbNjewIsSJfV8N0dk10Rgp0mUJwFktVvMY1pR99iq1WK7dtFEgXcSTs2wi1thIs650ODOLLCQzCVEhSP60DWi7yqjFyVrslY9jl/KZO16Oy29XVdtH5NwW2hWUmfmKVFlRVrSxJgY4U1R1QnNGXPPhlgFHe2NCK9S6p7ORLqYdgCpUFTdxrJggxpkubMaUkaPpVVIqa+PZ7tZHrLMdRfba3LT7w25PkAWVDFeUbjLESdHa5jixCskPa7Li3NHZOyyWimW1ttCv3xtPeMXdO3yVMG5LtsgIsF0J1VasmylsCpO6o7nlFoViaGtTg5zrW0vLyoduzcm/8AZe8bklfEmDpY0DZaxgV9NWjOQksj0gx8ueTSr3O4pw47+uYN5Ah2V/uby93btnqIxzRq+z2JUirkDbsY5rjxZ+T/AM3xZqReOWS+Ye7X3uz5O8N7g2c2KN1Tb/duoXbi2EWRGeAdhHtJoHVc3IZOcx6nTW5Eb3MS6TcNptezqlmWdnCdTV9rEsGz7i0kWc1JRZs+RHJDa+SqCa0bXonxnOwXZwrTZc2spa6xj7QsCQLzryzJFgaZELuSMyaGP0omyHIRkZ6PdwycmS5+ZO2d03+0S0vmRM3Dezi0dTdBsq7cd1Gro4SxFm2xIzqeH4c1/IejivXhzcsHn73v9uyJ1dsC+2JtplBBsI8bO+iMiTNw3TphnEWYUYGIscKclvFUXPHlPYEs4hWeXewZGz5g2CMjrGSatpYKTIyrwEBHVblyd3snJjdsjcd/X21HOsIpdoV8SuZDkUdcwJElRp0hrUdNIUrmZK5Xr3FdmiPQbPy2rbaTGRFubWNR1iPYV/V2swZyxobeUN+h5Rxnrm7Jvd7fwD3F3MZArYz4ozyiMKRo3zZYIMZFaAZSLzZcljOCfK978mlyWojnR4xzNR3xVcITnoi5ZLkqtxT7qq63ycBX3cNs2KGfP3sKYMTnOYjZA48GUFpM2fJI5Phx+5+SHtLfn+k4/c/JD2lvz/Scfufkh7S35/pOP3PyQ9pb8/0nH7n5Ie0t+f6Tj9z8kPaW/P8AScfufkh7S35/pOP3PyQ9pb8/0nH7n5Ie0t+f6Tj9z8kPaW/P9Jx+5+SHtLfn+k4sf+oQdkC/dPCPubJvpGr966/xHxuJF0Zep5PLzz7+r0Y8thyrQlJGJ5sbaZItgymQDV4X1W4mkkimkyZDKNi90vyF443dW7Z3fuF+2onnBsuj2tuYdzJsZjY1kYA72BEt5BDrZV0SQ5ulhFKB6O460cudytPu6+mU95uza0fm2lrMbYbSppiih3xPvdKW4mR49nMY39o6f9j5yq1j3cV3/KvLp9ptY1ltYO34G1vNCTuK3ppU46DsIk3fLosCZVU844Qu7yLoC8rUz1cfPGmbYLOq6Sx8piVMP75TN8QYEmx3PH8SBD3NMhxznAWTCar2oxzRF1ImfHG7i7ktbR2+AXDgbh2vLOYdXtaO1xPB42363nPiPq5UHIjZzUUkxeL1z4fktl9nzP4cmPL37AF+vP8AjektIEKyi6kf00+KCZH1tz0v5MhhB6m59uWAQQ10AUKK5j40McOOyLHeJ2sTwR2jQQnDfxRWomS4JHkCEcBmOGUJmNKIo3Jk5hBvRWPY5O1FxJrYtFTRq6Z+9wI9ZCDClZpkvUxRgaA+aJ8pFw6KKprRxnsjifHHBisA4cR6kijcJokGrIxFzGmWTF7MOmpGjpMeJAPloEaSXARUcgXH081RI5M9OeWf5LZfZ8z+HJjy9+wBfrz/AImmihgSpnXySrIUER8lejjxZBjsjI04f2xFY13HNqDRy4iWUuM6Kc6OVzOS8IntVdQyxkIUzngcJyd7PvKi4jKUMmXJnSWxIMGGxpJUqQ5FdpYj3jG1jGpm5zlRGpiEWRVWY7Cwkkhw6bRGfPMYetzlRWyFioBoma1epNKNwkpYtikxbTwRKbkM8T8VREcsVGc3kadDkdzNejSvv8MX0q2jS2Oj7gZU1tUwMd9gpTx47gQG8h/JKd5HuXUr8svTi0sJkWfCLTHDGn1phBWcM0rl9KjdB3R3jkoVFY/WjcsOMWum1rkciIOb0y81jmNIwwCRZEgRBOa730XPBZLYsqaokRUiwmjfJLm5G5CaUoRqqZ58XJwTEncFkabNZFNYOLnBhw5jRgmPAkfpgSnxtQcss+Zx9OLBp4djX9BVrd/tsdrHSqlOanWgEMhConql7j0a/wCDPsJNFT2oY3S9XEIVsJyTxZKrRx+RNLplOy+I/Tl7+Nyz7E8sEasnn1R7CBFhmq4wYgpDwO6OTL6pGNdnqXvrioY2HMraWXVWdhzLEUVizRR2heGULllOYImMVV46c0ci4hxehsoTLQJz08uaEQwWgozeYVQaDEMNeT6xqEa3UPjiRKe172RgFkOYJEUjmhG4itGjlaivcjeHFOOKySMjjLaGpwjihUBJcZbxqvhOnBQ/7OzQ1yuXNfiLp1ZYix7WLOc6XdTqkVqkYAq7qkkSlhw+BGEe/pg8XNYrdXaueeRqpUsYcePUSTdHLgQmgmPBZDjeJxZ45hZSiIhERrFG1FTivHA6w9ikqum1c+xFG6MAXRVDKjiELnszKZGtIvFcs8HEsOxJBhzhVk65GEXhsOcVw2ckrnGadUG8rWvc1itark9ygjJYoSquiWTHV6wwNWP0FQ46KkzicnMkpr9GXZ2Ymx219nPZVDCW4lQQieCsYdvMZzuYcTyuQPrHINHaWcVwdkaDZWrIUOPYWR64Inir4cofOAQ3PMBz3EjpzNLEVdHHCgjQLS0IlXHu84AAuH4YdCO6nWaQHLQ0fxVRHLqTTnxyi2ER2uNMAOQFypkugjUciOb8l7exU9C/gWX2fM/hyY8vfsAX68/4mFOc9WOiQrCOqdTOFqKUTmwHokaQJrGxymIr8snERUaubeGIFWJVckWONhHq8r+YfSnPK3muc5jSFzVGpk1ueSIiYqp9bJDGtKWW+VEWUx5IhmmHyZEeQ0aoRrSM+UnFMUtj1VWK/ppUo49AZa1RQywvimjORxOqTVHVO/8A73owGeOfDXcLNwv3CR5AmSre8oWxnwGja9ZDY7Asbk/4/D4eFgybOgSLCVuGPuMWuG9a1TjitjkhSYyvUj4bmOez42rTkq8cWERlZtEEmaQWqMCDLWqkxx5dyaxz2meXi7S5ODVy4Liwac0fKdKSQKBB6nw6vajNKsi9WQhvXLxd2J2ZYKlY+Iyb3OS6cMxYqesZzOaOOUJXZi1ZZOTvZYt9uyp9U4M5sp0Y0eNLYQciZLdKMp1Id7XhRXqjURqL8K4NbBPFVztrNoghkCIQXVDlGksOdjXM5kVeYiOaio5Uxa2Y3U0AkuvdFjVlWOelP1mrmDsJQDGa5HtVqM0i0py8/TjcUWynVDom5OsLL6KLNZIBKkRGRWOjKaU8aBHy0XS5HKvv4rnXNhALHr6SfQNDAAYT3xpUYMZJLimc79pe1neTJGNyTLtXEVTxNskZBEQQbOJAkAujerULCGcrlAwjxOVCKmrV/tw5jkza9qtcnvtcmSp/tTFNMNaDk9DJU85vLInUpDiLDpmi73d6ITlzz4ccUsNZYVdV7qduEj9D8ihcawL07E7UJlMTj2cMNvusodDYj6pAdHYavDHzxzFXPrMuvyHlq/N/8OBXbJlCg4wpMCOF0OwV/h0iUw3rlSYiOmowSJqTJmfycTpY4m27CHYWjrMj7aCclnEWSRpJYY5ROQZGa83D1ZaVX0+5XWkOZRCFTklvrhSYk95HddD6Q/WuFLY0mSKqs0aMvTni9SvsK8MHdAQDtWyI5ySIjmxEgyX1+gqMf1IPQT4q9mLMdHPhAg3lbArJ7Z4DmkxWwYPhjZEJwiNYQjoXyX5JqTPEuqonxI8ZuzauodMsRSS6I43yYyOjcnSMktg+OTuGINWF7iDgxhgQjuDiKxO8RU46eY/NcvR+BZfZ8z+HJjy9+wBfrz/2PZfZ8z+HJjy9+wBfrz/2PZfZ8z+HJjy9+wBfrz+4kyrnw7GI5zmJJgyQywa2Lk9nNA97NbF7U7U/sWxa1Fc50GW1rWpm5zlARERETiqquNpbauNpeZLLOnqhxJrY+wr84UM0pXLyypGRHtyd24/8KeZ//l5uD6Pgu9fLCXvXZX3nGtjZwrKqtNuIW3YTTPK2FPG2NaQZrnNM9r2ka2Q5/BE0YjV2/dvMvmucwPi23msh2znOXSikqXZV845HL2CdET4FxDuYka0hx5okKyPcVc2nsB5+g0KeEJ2/A5EVj04tVU44dDj1siQ0NJY2Zi9IQrNYkAyE5CMkCRkIZ3qklyoqpm3LEKWcBIxzx2PMEolA9hcsieqc8jmMc9M25uVdOWIcAcOZZ2U9pSR4EBoVLyQZc2QZ5zACELc8kVV4r2enEOOyotpdpLhLYvqYwo6y4cRiox5JSvkMA3I3cRGucrndmKl1dFn2sm5CWRDgxBCbIaGO5WSHylkGCGOgSNVi95c3pw9/FJJmxpdnc3BbZoIMEAGmIyvnyhke/U8EYI40djEcqu4qvpxX2A484xLKa+tj16MCKYyeJzmHjSeecccDgvZxzf8A3Z4FIJElQHk16okxBtkCVhHj7/JKYWTtGpqo5c2qi4A4gpEqRMkshwYURjXyZcl6OcjGI94xsa1jVVznORrUTAnliWEaQ69i7dPCMIKSYljMVOUp/X8t0VWuR2tjn5p2IuNxOgV86VMotYCaQgfHGZ1aSeKWb9sERa4OSIVUyJx4NXtw+9tq60hDhw4JTvLGjp1pJTRs11zBSy6hPO9MtfLyRyZ+nB560dwJweW4cPTBNImMLp0vhOFOdHK1Edmub25YPf282QUUc8/mlkQY8OQxoZj444vSwzyBKRr8mNXV3l7cTeviy6enibWS5UFgKP1K5TSNWZ+zEkE0vB3UHnnqb2Y6AlfZVcp8NLGIOxEEfWQFejOcLknNpexzk1Ddk5uf9+UyzkMMUEILpBWR2seZWM+Noa94mKqJ77kwMUY3US5aTBA6ZQn6WRHqy2f7anM9SjQMRcsld3k4ZccUsSfEnhm2dc84Z5o4Qw7E8MY1n9M1hOY1BqTgqsa1ydnDLPcAipYxRQmVKiqrKBCilhdUGQrnNkxZkp8rqVBr7+WjgiYvKixsUsRQodbKjv6MENWLMWTrYqBz16UGnauAASHYtgyrF1RFuXBElbIsmuePpxrzuo0vMNWNfy9Lnpl7g6w9ikqum1c+xFG6MAXRVDKjiELnszKZGtIvFcs8FZ0VkSvjWLamVdDCJa6PYOe0SifmZJKjGZ6McRBq1HrliU1YVkavr5rK6xuAhEtfCmPcxiiKrjNkOQLytQjmsVGquLIK11vIHTGCK1lR44XRobJDAvEdXLJa8rF53Y1NaaVVUyyza9io5j2o5rk4o5rkzaqfAqfirDePmNuBKKn1JBo9tUqsn2cSjiPIkUEiwNrrYEo6ucc3KbLZzSuyXswxdsbagxpzWaXXEpFsLknDvr4jMUpwNL8pgeWP/h9ywnofkll1YYY85E/IcpDs50hRjOgVEsITWIPToV/ecirxwGJHa5oI42hE1xCFc0bE0tRSmeQr1RPS5VXEC/pZMMVhEimrzAsWGfEkwzP5uWqOvNEQReKZduIl7XzKptt4P4RYikx5Xh5G9R1bTREGVTjcE7nZI7PU3tXFHIo7CJ1ldXTayW+yjmeKQyfLfPLJEMBGuYUcwrnIxXZKmSZpigChauwmUj7dHDtYjy1s8FpNLK9YMa80Jwam6Vb6c/RiNVjrdpZ84xpkIkOa2r1Oc/lEhcsnUgkNGqan/K49mI1bIl9YUTjPV6czlCQpXEbHj855C8gCLkmpVVf+7FXLrpAI9lTzutirKY8kUyPCQBo50E5pGtKx/wAZvFMsHkunQ1vz7igbkV/JMlWh63QyNB0a1k9M0Tfj/HVcbqFZzwFkboY9CFix3DHFU1d0TmsG96q9gM+5mubmpx44LUzPu7JIKLDhQmvjTTQjxwIwZvEhEIjnOMBnDRwa7jx7MXLokipDLsTxiw69g7AtFXIFcjqMZJLJavlse5XZOaiORvyUyxa7asZ9asaapZEY0ONKaYUwlh4lmfmyHMfHQ6ZZIiO0+lcWcm+sIKlstvLRaa2OZg4umT1IjN579RvW5vdnp7dKcEwpZUDbIlZF6dkynhSI8466h5vkKReUxpGszc1ufe95ExYV6qjUnQpUNXLnk3qQPDq4ZLw14DKJZjO7wuwDKzGT1trNSWDrW8e6JkKQ0Wn3h42e/qgOXbNbYwi9x+UkkyHGjsePj3WMcDNc+OS4n20yZRFHbJBZYCjRJ43tZXAOKP0allvQbnKbv69efoyxIuZcyhI2eKHGnCjQ7Bi8iFzeX0qkmPQZXKXir9afBgapE21MghsHzQTpUE/jwWOO6SIaGY7kPNGIuTCL6E7PR7grtkyhQcYUmBHC6HYK/wAOkSmG9cqTER01GCRNSZMz+TibUpYQvu3YXa3J2KA/ijdUsc99eJ/M6fkrJEmRF76Ji3qx2EJu3r23dbzUeA62gnGMGTLixnoTp+WcwODl4sRV4Lje1YA0SDVWNlXNmyTgkPmuE2DFV/QcWxXI9GaVV3ZgQB8BhGwTEVc10DajG8fTwT/sp//aAAgBAQMBPyH+AV79fDop7w0qDABGxVJTI0oIoC/EAeNvDyvx1oNuXkxTX1hnJUNoC/PaDx9u05PInDGlKMg0uNI1QLAgeJX3W8A7tsToFCb1XxGG53lPESvpCfpoeBNKm3DT0XCCrGjKn0XQtN+aQ0KOsuBHaqRjs3g9JstbwMKjFHXh5M+9SQXsgzaGcfKV/XVgNu4x+zB4J2sVgcRQgqcwMdeI91ldlJR6BDPJ1uEpPtD9UEe+ZuZpo8d97pDPkCXFY9Qfi/luBgMAg6exicnSID+o7UdKeJZqmuJdzgQVDnTcUbJiTu+Tk4tfQtJNRPSvglbWdvzwf4Q5ZBwcGRKs0dmj1tWtaJolyHaIAIYmBIRwqV1bDtJ2h7YV25p1WadGzcwOekQ+qG+nxgg4CuEy5ovjLz1xCcuBMJNxYO2kCCXYjlHI9qN5ClDenXCKvAu3cVCsBrUA3HFpBd2XonHenOaNPy+BLFrrFA1q8ymVX0d0sILXqta2x1m6ImN9sS5vyQRY3CHleCW740IOriff9N4dmNgBRrCIM1hG5SeSKYIgkDmdqkUYR0Mtsd8U/wDVE3rgHrl2EH5CeETm/gPLh/I7s5AuByutugUF6ZtGHRBJqrbqBT5BaDey3aZ3qim9TpkCEchEyq19uJ3LpB4fvfo4UWMsOwulPShbdubCDpHDoBbtN0SLYwUEkaCSadghLx2A6YgGcExinQiqwSFjdjn+7t+cNaOi2YHAfoXPRgAOs0UwRltZH5d2mRtF9e5HLxg7KwUyjmcwExszargk7CDCKetubI7tw1s+wby5uCCjCoRONmkWZ3bJ8e9o7dFAZVZf7aZHxu7D0ODAyNWpJ0mUydFXcDUQ1YUBRmN0dM3BkNAQQcVhJbrxZsqAITavHlSSJbRS/IEG/E9AqI6DoJgkeabBnBcThgbwqr4wvG1R0AD4UFsnphFMkCQPOVA5R95hX4Ag4tHUCs16gUwsiZrWEEgV94AaFL51EseoLkqvHoHncRzfNi8YTxJAZ4hSK3RRTj/QEaFpHX5ZvdAcVopzlDjRayIW0MgU4Or7R0bNsGSA2Xmm8lg4KSowCHpAl7aUxvJc0UqBuIMcHxc2mKEblNq1ihZ+EkrdJxwnF1OJBU0ULS04URhqqTxOTTcDDpQxkJQjkzz/AFfkVCOnyjL+qtWrVq1atWrVq1b/AHCB/mc3B1GGMnGMiO7FiB57uv8AbWEDsJlLWrnd208KyabQCiYB6Ga0WVML+S1z9SVstqGSw5rXOQIR8qX/ACNF2CCsv6hcuXLly5cuXLl/7LuEoAvFe+JdbQJTCyEo74bM4OGPCSnJiYChelymbta7KqBiYhA6BR27EQ4X+4OBXAd9pzweltxhth6lWR8/y61q/sO0d6zBNnjJ97C8mEGs3Ka+A6xQzMoX8ofAlNtQJlsWuscxEPRPWWmhvEE96RSeIqzay0HQ9UurvXVIlQHpIz10aHLfVT7Qr8oXWpc2N6TXqOpFd6oNZvtZRE3jymG5RxfVq1hOOBW3Vl2dTlO+zxj2oSHDdttMcOmsMrBcbxMrUuSXJBi40tZI+FvTD6/GS6Q0cqq1Xkj160/z1L/LVzWLXkeRMcFOZhxnT2/v86c0VxTg7MNT1v1NyZiIp+18PBZRNOWE587i6Ml3GxzXyy1l5RAnYTyvBLdc7FXRwVcyKtFJ2wwB0yDDQTo4IgbsunB0OtB1B2B2nPBhZIeHPAYpwO3JOO6sHZIpSubmbOUsJzZKDuciACJXbUBhWfrDlL7NAwaZX5+jl1qVkcdMrbuKJJ+2i60utLraB5nCM08hnqNF3BzuFJzQjZEIubjvW84c/aHqHOyWfXYSVgE6/AvhXCW1KCPub+EsK0kVEInEJoXHQOa5CEEzAJ19EptqBMti11jmIgOfZddUZ/0167OERgKwq356HwN+TSUNt8DSUdfqgWgGwO9w44dPQIigqSmI36CrUTpHhV7lAgSPt0XwGiJHvRsBt3YxKcvU6jIDVu0aPLc+sjQBWlSAKgTaxmgAAGmO7xI8oPZHGssqpUSXBEkNQ8vDSVI0HAeAsBsMxxKp27x0wpsNJemwXFevJ9arAg5OXwsKTbuDgfYgm0gtUd+3sYrwewOBC0Qusc4vwAaROo1w4qZ27o0LfZ5X4wiHgG+8g96uVFbe4P4yiMrPekxBcGVaq3G6g3ZUK0f7BpoLNSDnmgFhdV5YMcW2IAXUa+CBjMKELWuZTdMVBmmawifYogGP3yq5bJ04NAlTUhzEDim8fSgAbOurO11jzTODZ/4y3l2EcC6QjPSH6gmM9nvnPzrtX5tLhA+aoUWlDd/UBd7y3mPpWDYzPFl+LL8WX4svxZfiy/Fl+LL8WX4svxZfiy/Fl+LL8WX4svxZfiy/Fl+LL8WX4svxZfiy/Fl+LL8WX4svxZfiy/Fl+LL8WX4svxZfiy/AUBW72dATT+29xuKkmOEuECYpoF70+R6BuxDMlfH3ZqospBzAwXQgBRW0yDgVA+S7aYhRvgvCoCM97itFdiKZv94ZikOlns/HNFSTvZEhjuYxCY6h/Z1iBKs9j79URaHhuLTRDdElncwMXVi/zJRP5ExDG0fPMEVdCWmKQ0zSbCfAQliimJhEoTLuLk52aHOXsSwRbMfCKvIkPomHLfxRCp18K21Ay32lvoPEwBKDFxpLLghAIIG1qsbaF2el+cQyUm5AinAjnFmaXkBQYY11yAiPkWvy7XSfK/3YV3Q9bWAjwvY6THNAaQw8CGGLrDD6dWsR1/J3WOqRHzCLqojN9iTmeUwNSU0dGWk8Hb0OKJCJhEsdhgFJ8p+/GgR6WLy2up3FNNfXRObtiQxEEI55q8ZAIeTAPNlrPyyGbMAn2wSDaY1kIrNj5dgEWqwDAAaGL44iXRcjCNU1rXJAqtJBpuGBps6Y+dG2awNVOf5w91ZQXMmt77LW49WqygEqJqckgPmrnGIBRutik1fLhBW7Sex7gX7hmk1BgKhPtdXyyMJ8aRq3mGrVIOdyX8UJKRHQTk+BldmKjuVVuZz8DsaZ3I1QS6G0iPqKcI2ckHPffVo4hmGNv2Ab8Fur8HmTxIorcajNawWLfCFxIB+6abyIzj9ikLrddeukxKfNt1Jmprs+SLF3K6XtoW9RMXlpfFVqQ5mkWFDRoRNlOsmwQb5bJ9Pq9EsyiYJE8csE9aSSjGQnqwrcIckhkK3f7qipX4dpFdkgx6o1+WUOVszXcnfH4ixs5ycw87WqiqQbaOAWi907Gc1CATiXoCMDtlqLQxvrdB2ugVOALCzRVCoHF1xiOgcf2awu1bBmuE+5N+RgIhbm/wDbze3tvI0mDSW5kHDP0B1MxQp9Qg8pjS4hcaCV5SiERYg1dGBb0fuamtpFzp9M3C9nTR3WCgVcEnUQ9oz9hO1De55eUoQUikIS7KCkiiHhKQyx9m23I2dIdmjj9ZMj6EBkCTiIXAX1AIg8BIBoML4sNRED8J1M7RiPBLoPyN4JCmBoAaSUNDATkO+Cv79AgBwZ2ZfOhb0u04zZRoBSCqc63nYd+Bs8AlNJcifxgrA4G0oxzO2xFHNdTXXxg8KQjhAQV0umZ4TaTfWs5OuMCyiaGBZxq5leDOfh3v3ZgOSvo6xII1Wkk7HfcBVwwXLE3KiUt7z+yl+vei3eIzXW1SWfUW7xI8NCXRb7IE9FnCLmABcYA28ZK9O3ddPb3mDFCMwwRkWsblRgLGiolEmj9fR0DpjMPWmQQ5sFRF4WgBGOURgfJNIQ6BDOUyfHsd1c6iIwManc6gLALbuEsd++ppcv7Q4MA8f0hgsbunOxoYoQNkQc2mYs46HvmmQp9TE89zUgQteXxvHtutqc53r7sKhVY8vO6s84DMYmajMD82KKj6ipP8uig3zQlkzIFvb7QFHew+ExdYibsnAaetTXe7e+5xTIaXAUgapUMtby3VtK4WZR8I0vDXg94qMSK4IHmm7wNpTBXt6UIlRMzKdLmRRV3mOHJMi2Z5oyoAQvLOhvFVbSLzsScDuYvBMVonlmloz9snIjpnsLW4WRfPYdVJ9EwSBp/Iavq0wxlB0RaoNMpPlasq62jrkiNmVd+KJwXGoX6j58+fPnz58+fPnFT72vZg720S0Ix1iH0AojM7D0dvIwO1QBWpX/AGdQ59DAtkYszwpZWmS7hnF4AGkRRZkk5lcxNOOajCBGVH0IutfL71ggiwnNhXObq357Cey3G8e2w+kvqIBEysNdbJqAIeMYnDop4kOtorLgc2IGUYSC0rPny63mF0MV1edJgdTR9Qxhgax7oAaz77gDUkPZaiCEeY6Em7Bit71i95Wa3JYdNVushGFmIAtQD4Zmn1KoTbZAlKgZfjtSADWSwFJwujwWF29e3LPbNAyTt6b6tlJVeZZMVsqBZ6xw5DGwvNUwodFeyXlC4XLS2MZV01OAaF6pB7wqPTCZJOXLANRVD9iMDMKHBr4KD1GVNS4Oq19NG0wvGywGCyAcKIMjiNzmktje1lrkRvi7A5i57hjR6sB6f/G2VvpEzK2prmVdXXivj3PfX5k04BIjBCDSqASKpHHX7EHn7BlYTGdnNCDuCdjshP1i63dDSH8qRMKgGBRCRbTHnmjCAI+NFowcZyz1zRmj7RdMrotQMIkkb9WKAEl1KsjK/RAQ2vckVmN3n3dCRHFclS0NKFSN8miV37ACGNQfX7HEMtck0EShTwvoewpJcNyqEaESRFBKW4lEppJbrO3yEapNnSLI3ElS7XOjqOfENv8AqK4KNyIC8OORU9U5yvs8oXCJTGMGyqN3SAOog4VmcGREaYq5PF+4kj7cYB61y+dM08rdNfdJPCE/NgXn2rHoOEUOT0bzZp1Kn9ydA4MXaV21jOegJo42HS1YoQn4mRCVLvFJpFQDfBPoSRKVDj9rl1pdaXWqYz2e2c/eukPoqB/wEZ5XQDa4Su6shRi9D0FWonSPSr3KBQAfbovhNEQHejYdoR0/6eoY/FwSHWcP4opJdvDG1PtP8DSpclApQNczED1hiK3kwEXsEycDrKob6TnVfLEowKrvXdQvNIoJXKwFTw9NgajRk3JtSt3kKWsJrFhsf6GRrS16TYIPJ6qJjnQY1FMTJixXuic2GMg5zekogNSdFBQTsSKmbyZPh51V9PuveAwJaHKuOpeluKSDjd9zRaICWKXh0HcdOEQM7BnlYGhDnBZl8tLdujaqb0cp8DXDXQCFdLC3kyiIlnI0mneCvpbp6EBxTjpnIRv8jDqfVBgvpEb4uwOYue4ZderplQkOkBdKYXF76xKJ9NqZqlztiqwy2Ga5W6j8UbOVU/SgHmcIzDyWOIQXcHG4UnNqdkAAY25NGBg3fMZyoXS7sY4I5J1cMcuG+EE4sHcGBFO8bLSvHO9kBzeXo5oPkbOpCqV5vRuUqmn7QxV4kE1mQ4SqZlgzZME2GWXzodWO7kUvi+H7jG6aWfIaNQfHRWzCuc7S3caVGV25LlSV9xIh3tBw5J8Gg2JFJwwAZ4b3oO6D3JM5R6yJ6m8TY6gOUQfwvgrZ0LIwJoxwQUgkN2kchSQAb8s6FLB66NoOGYvQpxVaM3xxjw/vFRBpkfYxOVm5O4zQzSeXBACYICBrAY+dM08rdNfdJBWIEGdPU4OhcGMVaalmZHq2jAROR/8APOlFLN8Cgp8AEq2g9/tT/9oACAECAwE/If4BTqcnxFTuoACvbOUrn3C6h8bGAdKBWbeh3emMMemyn5D590vWbntQ3KNSGNhfDqIJaA2OrziWuamlliA7CJqNONQDtYXmW8u3y/Ch+APsPtdTj2ZMr05MXZOQ2N9sMdwH0HRONDx/DVg9QBxbLjjXdh1w/RL1AAVOAAW/jOy8fLdXW9bPbv8ARuSId9NfmT/vGD9UdNIT8pZnZIDpfrs7ev7SkFUNQnobULA54z3Q1ZlZTlHTYPGV0rQYkLfiOaJOcODlRqAt7qMQ7WYikVq6xymzMIkEaOvdLkbE836HzGpsq1NF9uA3/wArARWndugzptyOL+rEg5F1BwmVOUK0Uu0uFHF6gI7JqS9wEeADFYehXY9ps9bVNB0n9fXGw5pTuICq1JRLMN3kiQmBXIPEEuElTZHluOF2111g1qYHswFBy6xYMB6bMyBF0QBVOvH2tqgCGqgTR5B19DZeqtIkn5Q7aMHb5ucQ9jq4yUwCyBFNTUSONOWAsD2GTkNA1R3ZFFRxQQjrqEJy7woB0EoAbaewcEN8/wAPtcJ6+Ofm4cHQ6s6jXtyamSgFALXka2Ie5Pcjk4Tpfo16eBssCi869xcenkI1VYAV448/SwEp4lsBseiON74+BGI0CFpzIaR+30QjAxUXoQ4PXq4ypQpTJUwJrUjNUGEKZTY4N02+/BwHBEILZKKNch6mlHI6HdqAiRpodYWxaAU1qegr1xHX6HrQXKX5I4kMOxVea2t84DVRRGI+HOShqnuDT7ZVKVa2uitunPfrlLyt2du84vn+nr//2gAIAQMDAT8h/gEXdr2xRdnxrC5CHD8/Q3Z/GsA2X/O/9xKju/8AuRbs+H2r/uQJbBzoa6fj+GjpszpGyexPf6N1fsyTdlP95LKvv+0jXzn785ouCCe+LZgEPe+caQPe1+ceHwjeXvmyh4vf6GpIxKzjyMK+2D0zbikBXsT/AB1ziO09O2Vtb9O3t/X2X8Un+e2dYJXPu5ziEbg/9yiZPHnBRCvoZ0HfQ0Qs0fk4cRc5LYgD/GbN8ue/TNko8azgwe3H8PvYvuAz85xvLxi219k+jUYC5yxTc/39LgdzPpAhwthH/c2C1A384npQ+x13v/5lLVokpP8Axim7R6+7vibLvs7dp/71+hoEFM0SaznTgZAJnQhMhb1/p6//2gAMAwEAAhEDEQAAEAAAAAAAAAAAAAAAAAAAAAAAAAAAAAAAAAAAAAAAAAAAAAAAAAAAAAAAAAAAAAAAABGAAAkAAAAAAAAAAAAAAB2IBJU4AIJAAAAAAAAAAAAAAAAABAAAAAAAAAAAAAAAIBBABJJIBBAJAAAAAAABAJBBIBJBBBBIAAAAAAAAQgAABIAAAAAAAAAAAAABjQJAAAJAAAAAAAAAAAAAAAAAAAAAAAAAAAAJJJJJJIvL0AAAAAAAAAAIAAAAABHCCAAAAAAAAAAIAAAAAAAAAAAAABAAAAAIAAABIAABJIIJIBJBAAAIAAAAAAAAAAAAAAAIAAAIAAAAAAAAAAAAAAAAAAAIAAAAAAAAAAAAAAAAAAAIJAAAAAAIAAAAIAAAAAAJIAIAIIBAJAIAJJAAAAAAAAAAAAAAAAAAABAAAAAAAAAAAAAAAAAAAAAAABAAAAAAAAAAAAAAAAAAAAAAAAAAAAAAAAAAAAAAAAAAAAAAAAAAAAAAAAAAAAAAABTFzIJBJBJJJAAAAAAAAB/VLABIAIAAJAAAAAAAAAABIAAAAAAAAIBAAAAAAAAABAIIBAABBAAJBAAAAAABAJABAJJAJJAAAAAAAAAB9xJIIBJAAAAAAAAAAAAAGBAAIAJAAAAAAAAAAAAAABABAAAAAAAAAAAAAAAAAI2s4AAAAAAAAAAIAAAAAAaTEAAAAAAAAAAIAAAAIBBABIBIAJBIAAAIAAABJIJJBBIJJIABBAAIAAAAAAAAAAAAAAAAAAAIAAAAAAAAAAAAAAAAAAAIAAAAAAAAAAAAAAAAAAABIBAAIIAIAJBBIIBAAAAAJBABAAJBAJIBIIBAAAAAAAAAAAAAAAAAAAAAAAAAAAAAAAAAAAAAAAAAAP/aAAgBAQMBPxD+ARYlwNvnRQL+OZOMFB5nwX3xoEPGj/wXHmGKGAkL2nbwel8fP4YXS275HCEBK6UF5SFIVuqJsxS/N9NYYABMDOc5sO8RBlqoU1Q3OozMHSk9DQoIwND2gotZep3S2lLrNaFiFF7fbZOdLAb7iuTMWbFHQU2wTBMgvp9hZlBgknXJmVHAqeqtQbBt4hti8A3YaOvD1avANHx3YheZF7kaKQrVEKgLiqsDbLqQyPI+HieYi1U4JSBm9PINJFEQJl1AXSGpCoxkmsECvAKvxxyWgChxzjrWpZiPTTX9BoqUgYc6FFhIhXzpmMgSIkStPo8rUBRWwGNKm7Bd/ie3kUBp4tYbTr+ITAjNiSE2CeDvcjsFVOUpR5JYniUdaaMQEo3J1LZJ9x2Vv858iMy05jy9QTtwywaGxif58xThNkiEZ83QxdmdBuTow41kkZABaM+CrE6FC7QcPK4GBDrUEZSoO4UwYa42Grhqdkgyv/VTY9BHlwpcmy1PDYFkbwrkMaioKtlSc5yBbVC/2cQelE9D7FD/AAmW9exCUdtTm54xiAqF21JjDq8FhCQ5j9UoJBzRaSbFvwx7McpGjHXyAJWF+dgKcKgS4GX4PF2NxlxRqehQJAzmSr6sPIzQt99OCkHa4lFC0CFltIEYh1iGZzykU0ByhWyRKMX1YIpWkAXTEPFtw2Gf6EPWbpmdoTNRcxhVEnbdkAMRZIHAggmgoQQfhved21CNIUYiQ6zH8FuFvJa/cDquhfl0HwDIPpaU/h6LIR6CWkNAFk1NrQyvQ14Bri+d4N4b+db26Pdha8Xo/wACj42N4tkFcL/AXjPSAUZ+BQ4tGePHswrhhAFKe0Fc4jHzvDMyV8g5bUvyBqszp/FeZJAwjUI+GSO7djKVihIYwDWL+/iKduARq3FO6CRjkAIUmlIrUfF5GI3M+CxGeDQQK7ff4lYJCoPnbIBnhBPMRJCwHY6Q/h8ckvdMv/MvKPrkaJW+k/w+eokQmdwVDsFsRUkjQShlpD4nCHilFsiJ5+79QNdD2apJKxv+TpCa2Z+0zfGKguxNJvBziFUWalAGTtHrqlq47h3JlZakOIbWeLxCwKkzFprmhkjTWFE6Eiryg+sTRBWRpkFIwHR+qePHjx48ePHjx49/ZQTGwczZIUVTRP0nOmViiCBgdIoHCJAJb+TH1LqC5u8oyQ4r4lQA+SbGN3u2zu5BRkXGpvBIT1R+WNtJAb3WiskAKGH6lKlSpUqVKlSpUv7gD9SDfxpVSv8A7TpQ3DgBFKS91baLxKVhZQKPa5Jc+MrNUhQ3tvegSVphEj7+E448B0pu/PbEshXV+f8AVSPW8EKUlOvEsVDOQph4twCIdhC+pL91WOgCYhSdPgaFweN8HEB6A9VrdM4nkJmiusNstp1AQRvVFpnHqJ1ISh4dkVq5fgFyLHv+/lOJiil+TpHiz5CM0fRnHJnmh40AzFaCpALmCAeEoo7s5hNeqPbTZuC8klZlsM7BOX/vp+CmovluVIHJJ1TlgqENdaDEx8vG1MhYjBwkl7gQBgVfefalkcqti2LYi9tPcxkRdyVcYulslG/gk7xt80+/gBDgwxWhZj9g6IzgEl1uorLmg4IK0IZUB+gndArCqxf8VNj0EezGMxXjjxRbJKe+2aCpKn2hDAW2GWm6jaBGV1aMeheChHwO/hHaIi7qNHjhTERQxTSDokdGlLdpzLORpsKS4a3Q4ESk7eTVuQrsjGn6PSPIyMA01q5Ti0o/tmkepHqR4xxVAwSD7lLMMFJu51aIxf0JiVw9jwdZjRASB2wlAJYDvBUA0+AFe1oBMhXdZ1fC/oyW8ijBnCAKiE5KcKlMTAIno0Lg8b4OID0Bi1nPXGK9hmYoCo+ohM6hAKJAgpE+C146cf6wqRag/UTIAg3TFSY4d4eniSurrB9TN+lpZFhq8EmUlbqSOD6wNRWACRQtCKCSfMIZBieXooLAH5/TeAqvu7tv9JVSGHIC2sghZk06Vo+AJ0vOoQaDbFCtm1ap3JJUu9SzTee7CVyQdCQOL9vB+ZmSIqGSEEq1jgs5SbYHTfxyDfUR2AGnO2EVNgjTxW4oxhQvpEJi1EEqbDNfzYTARhMQvZIPiQ0pAlSwSya34JtBx2NLWTI5QKzk5CDBGUjrrL5cDQn/AIMtnVKOhjjzzEt1aCNL6x1NuNKkb9g3oC3WBIRpyDzH05G2GGzNJDMq6MBCscCuxY3sg05N+vpIm5XX0OvVicmOTFuSPcF36oKSBJx1wrudTfzcgBTCic2Rol0D6e/279jr1OT3IforFixYsWLFixYsWLFixYsWLFixYsWLFixYsWLFixYsWME/kAbRDvABE/bdMShXyvWLeaTXlYnQ4msvKZq40iau3g6uBlOxp3nyuegiyUQDloE9jUbKyhIEQi3PkOCsuLUGRK0LxtnFQ2of7PVRrPil+C+AQpjlYpthgZt4HIVGRYW+718xVKhONwLwTGFyg6GQkKNhSX8t8Q3X0WgmLyMQo2YS944j3R33249EJNxna0BR6RiqjvOu+6guAw9vGKYZ7/VcCI7sQVvcnvXzEDMFNTKBOxyrB2rcYTjCTdUDD92hUcwAsYu4YPuT1gDq/JLPyHMqAe9oGiVuVSZU68kJlOAkgx6I4NpBt0ZkU1PXE+DyxAT4YK7ESeLEoZNlWzxvDo/pEOUBmHacDl84OXAYvs/zDgHH1IbASau9pFqi0pLVdq1rmT8WOZ72ZCint9zJlq6E6m6mZEgXogDpNmO1RQQ7rR7HYIUDFphlK6fsOKMjZS2aygeX9RGoWFcG5tSefNLiq7utvk+iEa5sxwxqalrIpvOEYfRMQwnEe560IBEuld5pJJClej6WFWg1b5MzCtuycSGpiBP5aJX0YUPCjF1KPMVrzZRJ9pED1pAf+MoLYQJsIepdnqJxq5DiTEejdAFF3V6cjaQQ6MpPaY/I7EM9WxAjkiyGNvWmFa4fUAIGwXDiEXCd6+sDX/QkNivqmsghqEax7Dk/JLFeK+WsKJWYmHnoGPDRY1hsIUHDfO7xYRCGDdxHZ52Le1Twb5Iq9cB8pAoYiX+SjG5RXCGK/wDxcLiSOylUYzHuIjgBZBvITbFkZgoNcFUqwghleSeeSAyoFOXEBBhbajAjkKXd/APoRICPrrxO78lmb9qtMLI2+fiuhjt3GIL2ZQq64WsxN7Z32MzTYAJcO8wOyB4LusrlJYocbq7MppFhC8MDkXL3OyWAPZJCckLnMpSMUh0jgTNjMX6X3vSL8SbyIAOlB4w25ypjMLAPBlPFSKRlvYsY3fb1vKTFkoApuMTasZjRbyafqkCxvM8y1ISKBgKVWwRgoAAAJgIgiIChKQcEHFiltDmk9SzGt9W8Nz1d+HaR2ggJgsBAyvpFKRIACwwsNbJf5Q17GLHc6sCOqoCuc8qjOIDrcRDYOCaIY8hmCCB3LiTEGpQ5HMpTycR970wlhICtwUzpua7nARpSDnH3cWSVMoHRe6OINX0Na1O0lb6AeJhWoyiK5yej0mVhVpDUbK/36np/0lrvH7RjuMJcppum7wRstRIrQox7J6EaIuba8IogDgzlfvyzdk6abvA0GMwlrEAQtuNuJP7i2bQjj+uGdRhWJo4AmEgjPsPQFnL6RzgNZ1tfsCWD6CV9MwMeSMF9zkHkVhqeoKw88XbEMlLaZzdn9aebHHRlYQgMSAmF2+FdOOCuTL1x2niC4wuOwjmtyJ2v5ihu9EzAMj13Q5f/AHNeRzaCSwtiX+tJPyVv5uFotFf96KRz65fEIstPWihKinwpDUEkT+WDPoA1Dnd/zEpGTP3EgutgRvwxk+Lcn4aEoJOYMhbHw2eIF7Rm9qUbLyITi15HJMEf/sn34mKyW0EM4BrQs4J+d8CieS9AJ5vOa3QgJiFnDjbRnjT6zLQDeCjie8Uvm+e+wtuUuiIdaYw6HI+A4TYJm0QEbKHyy6YsDo14BBRiOE4V0liWc3wiaH6idOnTp06dOnTp2vyDEZ3TMxOz/wC+gmOyqJmoaPf6FDWNvgg5/RoLW1izQBXsT6PF+zNerFLaVf7SOwqJncGZqHMV36H0jxIR/avXXaMhK53JtcIR31C5tjs1P+FGMnZETPdqFl/NGmQ6DEGWlmfpXoVMuGsCPDO3mEAKB+fpHohboR1NB9S8YPhOJkTO7simFqxvZ/q5O5VyxPlmnKXaKyUIxJ+GE+AmBBoJkAatCPnxI0KwGPyY4FVwmCl+PM1FbXJ4DLyY15ER5tLhMgwVBLpsW8WaVzA4uAFfEYMEy/qjjGFVdaA5k6awTCVeAhR3irShjkdl8S4RhY2ywmhXiR2IF8SJcDTl27m1G3QENivPwzmiug6qBETvuMfr9bapyDL6vF9bvDTGUlVudbX0WlFEHGNHtCGDesSh9A3ERisRzmyjA2C0gyC8p20EwT66O4VonHLAFr3HiKNoE5WFsm2s2EspVcbP1qR7Q7h7ocOPBOm1SeqWDOYKyBR+1t6IBk3yEc91/wCU0x++QfUDTnXZOzsvTRhemUM4OQJSQOA01pt9rDlaWYTSXqXX+xsBU84MHM3UDnCcEtpLo/7khD8gre4HFbCFnKUg04bmhKtOqedYG+Tg+DZ5aRAaPooYsF7dLZiRfqivXcqvfgizXxBsRJJREunBhnW7GZd6HuPL/fRHBFI/bhMZxlixwSZcoEliRoPV2s8o8GWoYkR3uVd37rqpvCyN20ximQ8FBjVYTXnIKSrYQx0QlzEdmQ1tTApjkh7whvZqsDffaFOsOgjyD9r0j1I9SPBSQJOOOVdzqa+igHAbjWgACgAuBW6g8/ujALTp6WlkWGrwSZSVupI4PrA1FYCDETJgquFr7a4OD9dezNIou8I07hoOw/gVJPA4qualmgUOY/AuBrf3C/dOdrpiVjfbI3dLakchqpwjvhgKmgzbT6HejPU2h8VHAjLNi8kxCyS2Y+6ATfHKLPFANyyQykjiAZ1ok9tqTARGImGZvqdWlJLDwOwgkqEcBqWCMCU4aDXw7YlBWSOq+JsOfMVka47f/aY5wMAZhjLW++uEy6ZIUoI+riWjUwAR49iusPu/MwoCrU2/GwEzgzSh423XErmmJcDgycdpRaxNEcSVW51tfRaUUQceNkxQVm8BA8FcgfFkB3pDEI512fiMsD4jxCXv3osUbQ0j+k44igYJB9ylmGCk3d6NEYv6Ey6Qbq0NHSWdgvDaeAEzHm9HeGFru63Jw6xTizW6I/sEIEcRcZixrnFcNhakuDQ/WYgtDMIvCRn8wO3O9FJ8HQAuoLFE3QuvFI4QMyx1my8rINaFCYmqsWmACReaYU/gEBvRuuYCSP0iREiZNynl4kkwNmhfNDTt0yn8DaOrS9bIUtyqMcqwoJEtiDkMyC9xo6v4/n1GkY4zXim0hbaE41DmdlnHjg9qCCEXOl4NdQb7NazlNdtTG1CcAKbUrglFUFSmGh6Y0Hq7WeUeDLUMO90zOq9D22rsDl0MZj9gOaQYJ3QfkOpK71KHDS4ELp6VFbXb+1P/2gAIAQIDAT8Q/gFtbzCU2CVAB1Ao7TtKdcACl5gnCCJ8ZKnQHEF9GtTQq6MDIJZhFDXkgnCCIfPP/wCYnbDokEqlZlpBmqVckbyLtrAk5AO/MMbMWgxdYCUUWUiTZdnTXwh4LlaG09PS9zoudS2PD3VGoJFNLgtY4FNT6ZIl05/hpw1mmlcahnUobGB35KwCLZ2ohyUFxdEN2I0kF2AQVsC/RSFRK4ya7Ke56Zi0fEYO1JQBUqhcvbzUH2PcC7/aSxHzMsayOFTBUwa/0UKLzgAkWgxIAX4lW0m0JIHHLBOsEbTDjmRXEXkGltAwiRAgHMAEN6CL4UlDwsl+hNWPpS68iA3NvbEEEk++aAGsDSUaBwLwb2ttQMSjJVzeuOCk0htdSIqApEg2lgUCTF49dpEGqYEEdE/r7ENKIXUoGkDWMwSWO6ufeCQ5gjW77YCIGzCSQ0KYSslUaIkwjZeMOJz6OKNkEWZMXrouNyfQEpGAI+hHPrjj4kpaV7oQloJhUNQwog6xOtxmk4PPBYUC9pImAWnVrrIWHJqcNETEpgWA4+9MRGtO5kxYjsG0Qr+HoQF7o0CTdW5CmAZ0Ax9ryFQmwSFgl3BVHLgV1U0H0Xgs7XAavl1CPYxsiF7eo9EAWYrt9LnFWkUphQFKXBbnq8VBEDS7gVSkFYP0NPlLgK0SydjVpcHyHp467sFPQKvpiOpQXxXBCZiGoLDE8OpFfGReNBaH/wDJmtASHZC5iaGNDQUga+hQtSNDspWDCljDHj4FYiB4BpEiadYD3iYDYgiI8I0z3/s1Wx372MOh5MEIFBAGNJKMSWZegmRcQzSzV/p6/9oACAEDAwE/EP4BINkgCq+DIs0OEie58YM7AuuddsIUgWJH7nz6jFU06hbNaXriNSCmt2uznjOuAGt4V20nk9d9TIAgJXn++nwor7XPQzj/APMoaEyiXTv/AKYQCAjoULPv/DTEEOgV5mjGDofG96Cd1zvd8CP4+jOxevG9y8a475x69Cg6lRLTo53W+VX8/tK+CiQ6E033QxbVFIR8EYW9tYh0wKIuEgPftM4RXQKh4dZJbrUmPBF0gIHADpR1rN5gsT8kO3Z6/QwGfFl2CcU798DdIKSq0BdH3corAB5icMdPtl+QERGtlpj3c2rtlABd0Dw8f5rgVlqdK612eZOeP6+1LaxuAoobb6/ccpEKYC8Cu9EO/bVcY2cAgBTSIi2dc0JkUhtBy8S4YKWQsOVqAf7eMAUrvpE0idx+hh1qHhn8AphpBAfeK323h0VxRqq6jxrtcEMbKnICctGi243AKIqxdTaiff8AGTko5DOXS/w+1jewITkRzYc5qXIRpCoLomjgXfnHo2HbX2kPzPozoUchXkSRnTqOGtylBDQeFXg7/S9qSA8rwf4+B08E37sP8v0QCfJDZNbXp75OT7osZAvIPenvlspu1ra20C9Zy0OFkyJ0PIwItfa5tuiFgU2IOp9m4wpOzwegcRN9XV9DlB2Ep/nAAQHghD7YgIUcUlPkAj7mBkcDUOnH46Z0E056/wBPX//Z)![title](1.jpg)"
      ]
    },
    {
      "cell_type": "code",
      "execution_count": 41,
      "metadata": {
        "ExecuteTime": {
          "end_time": "2018-08-21T09:39:51.372454Z",
          "start_time": "2018-08-21T09:39:51.357455Z"
        },
        "id": "gTiI3Wx3cZDb",
        "colab": {
          "base_uri": "https://localhost:8080/"
        },
        "outputId": "9d3777ac-09f1-4d55-e6b8-599952224036"
      },
      "outputs": [
        {
          "output_type": "stream",
          "name": "stdout",
          "text": [
            "The count is:   0\n",
            "The count is:   1\n",
            "The count is:   2\n",
            "The count is:   3\n",
            "The count is:   4\n",
            "The count is:   5\n",
            "The count is:   6\n",
            "The count is:   7\n",
            "Good bye!\n"
          ]
        }
      ],
      "source": [
        "for count in range(10):\n",
        "     if count == 8:\n",
        "         break\n",
        "     print('The count is:  ', count)\n",
        "else:\n",
        "  print('loop was terminated')\n",
        "print('Good bye!')"
      ]
    },
    {
      "cell_type": "markdown",
      "metadata": {
        "id": "fGMds3ThcZDb"
      },
      "source": [
        "![2.jpg](data:image/jpeg;base64,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)!"
      ]
    },
    {
      "cell_type": "code",
      "execution_count": 46,
      "metadata": {
        "ExecuteTime": {
          "end_time": "2018-08-21T09:40:37.730629Z",
          "start_time": "2018-08-21T09:40:37.724644Z"
        },
        "scrolled": false,
        "id": "7fzIa9HOcZDb",
        "colab": {
          "base_uri": "https://localhost:8080/"
        },
        "outputId": "53bfc343-439b-4cda-8872-828fe137efeb"
      },
      "outputs": [
        {
          "output_type": "stream",
          "name": "stdout",
          "text": [
            "5\n",
            "Good bye!\n"
          ]
        }
      ],
      "source": [
        "for count in range(10):\n",
        "  if count == 5:\n",
        "    \n",
        "    print(count)\n",
        "    continue\n",
        "     \n",
        "print('Good bye!')"
      ]
    },
    {
      "cell_type": "code",
      "execution_count": 47,
      "metadata": {
        "ExecuteTime": {
          "end_time": "2018-08-21T09:41:31.678539Z",
          "start_time": "2018-08-21T09:41:24.348848Z"
        },
        "id": "f6vW73eacZDc",
        "colab": {
          "base_uri": "https://localhost:8080/"
        },
        "outputId": "d6ed3863-9a46-46da-a312-c346dc8f2b1f"
      },
      "outputs": [
        {
          "output_type": "stream",
          "name": "stdout",
          "text": [
            "Enter a number to check if its even or odd: 2\n",
            "Congratulations, you entered an even number.\n",
            "Enter a number to check if its even or odd: 4\n",
            "Congratulations, you entered an even number.\n",
            "Enter a number to check if its even or odd: 6\n",
            "Congratulations, you entered an even number.\n",
            "Enter a number to check if its even or odd: 8\n",
            "Congratulations, you entered an even number.\n",
            "Enter a number to check if its even or odd: 5\n",
            "Wrong Number,GAME OVER\n"
          ]
        }
      ],
      "source": [
        "# example for fun\n",
        "while True:\n",
        "     num = int(input(\"Enter a number to check if its even or odd: \"))\n",
        "     if num % 2 == 0:\n",
        "         print('Congratulations, you entered an even number.')\n",
        "     else:\n",
        "         break\n",
        "print('Wrong Number,GAME OVER')\n"
      ]
    },
    {
      "cell_type": "markdown",
      "metadata": {
        "id": "FNhh26qscZDc"
      },
      "source": [
        "## Why else?"
      ]
    },
    {
      "cell_type": "code",
      "execution_count": 13,
      "metadata": {
        "id": "n4FcHGFxcZDc",
        "colab": {
          "base_uri": "https://localhost:8080/"
        },
        "outputId": "e71b8bf3-422b-45d8-fe88-b94261b5e229"
      },
      "outputs": [
        {
          "output_type": "stream",
          "name": "stdout",
          "text": [
            "1\n",
            "2\n",
            "3\n"
          ]
        }
      ],
      "source": [
        "lst = [1,2,3,4]\n",
        "\n",
        "for item in lst:\n",
        "     if item ==4:\n",
        "         break\n",
        "     print(item)\n",
        "else:\n",
        "    print('huraaaay!')"
      ]
    },
    {
      "cell_type": "code",
      "execution_count": null,
      "metadata": {
        "id": "5aUaWkANcZDd"
      },
      "outputs": [],
      "source": [
        ""
      ]
    }
  ],
  "metadata": {
    "kernelspec": {
      "display_name": "Python 3",
      "language": "python",
      "name": "python3"
    },
    "language_info": {
      "codemirror_mode": {
        "name": "ipython",
        "version": 3
      },
      "file_extension": ".py",
      "mimetype": "text/x-python",
      "name": "python",
      "nbconvert_exporter": "python",
      "pygments_lexer": "ipython3",
      "version": "3.7.6"
    },
    "toc": {
      "nav_menu": {},
      "number_sections": true,
      "sideBar": true,
      "skip_h1_title": false,
      "title_cell": "Table of Contents",
      "title_sidebar": "Contents",
      "toc_cell": false,
      "toc_position": {},
      "toc_section_display": true,
      "toc_window_display": false
    },
    "varInspector": {
      "cols": {
        "lenName": 16,
        "lenType": 16,
        "lenVar": 40
      },
      "kernels_config": {
        "python": {
          "delete_cmd_postfix": "",
          "delete_cmd_prefix": "del ",
          "library": "var_list.py",
          "varRefreshCmd": "print(var_dic_list())"
        },
        "r": {
          "delete_cmd_postfix": ") ",
          "delete_cmd_prefix": "rm(",
          "library": "var_list.r",
          "varRefreshCmd": "cat(var_dic_list()) "
        }
      },
      "types_to_exclude": [
        "module",
        "function",
        "builtin_function_or_method",
        "instance",
        "_Feature"
      ],
      "window_display": false
    },
    "colab": {
      "name": "loops.ipynb",
      "provenance": [],
      "collapsed_sections": [],
      "include_colab_link": true
    }
  },
  "nbformat": 4,
  "nbformat_minor": 0
}