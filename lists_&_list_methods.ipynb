{
  "nbformat": 4,
  "nbformat_minor": 0,
  "metadata": {
    "colab": {
      "name": "lists & list methods.ipynb",
      "provenance": [],
      "collapsed_sections": [],
      "authorship_tag": "ABX9TyMWKgboovHqwdotPbTMAyPm",
      "include_colab_link": true
    },
    "kernelspec": {
      "name": "python3",
      "display_name": "Python 3"
    },
    "language_info": {
      "name": "python"
    }
  },
  "cells": [
    {
      "cell_type": "markdown",
      "metadata": {
        "id": "view-in-github",
        "colab_type": "text"
      },
      "source": [
        "<a href=\"https://colab.research.google.com/github/kalyan-81/machine-learning/blob/main/lists_%26_list_methods.ipynb\" target=\"_parent\"><img src=\"https://colab.research.google.com/assets/colab-badge.svg\" alt=\"Open In Colab\"/></a>"
      ]
    },
    {
      "cell_type": "markdown",
      "source": [
        "#Lecture 10: Lists and list methods"
      ],
      "metadata": {
        "id": "7LtUSCVvno3i"
      }
    },
    {
      "cell_type": "markdown",
      "source": [
        "#List\n",
        "\n",
        "Sequence Data Structure.\\\n",
        "Used to store collection of items.\\\n",
        "Order is preserved in a list\\\n",
        "Mutable\\\n",
        "Indexing and slicing\n"
      ],
      "metadata": {
        "id": "lM4TDuguoAxe"
      }
    },
    {
      "cell_type": "code",
      "source": [
        "# Initialization\n",
        "\n",
        "l = []\n",
        "\n",
        "print(type(l))"
      ],
      "metadata": {
        "colab": {
          "base_uri": "https://localhost:8080/"
        },
        "id": "048iJZHEnlUA",
        "outputId": "efe0ba7a-52a0-4ac6-e49c-f88890540688"
      },
      "execution_count": null,
      "outputs": [
        {
          "output_type": "stream",
          "name": "stdout",
          "text": [
            "<class 'list'>\n"
          ]
        }
      ]
    },
    {
      "cell_type": "code",
      "source": [
        "fruits= ['apple', 'grapes', 'pine apple', 'banana', 'mango',1,2,1+3j,9.0,(1,2),[1,87],{78:\"ka\"}]\n",
        "\n",
        "print(fruits)\n",
        "\n",
        "print(type(fruits))\n",
        "\n",
        "print(len(fruits))"
      ],
      "metadata": {
        "colab": {
          "base_uri": "https://localhost:8080/"
        },
        "id": "_hBDKmV9oaC6",
        "outputId": "9100dd97-09d0-4b99-ddd1-070ba4c86f0e"
      },
      "execution_count": null,
      "outputs": [
        {
          "output_type": "stream",
          "name": "stdout",
          "text": [
            "['apple', 'grapes', 'pine apple', 'banana', 'mango', 1, 2, (1+3j), 9.0, (1, 2), [1, 87], {78: 'ka'}]\n",
            "<class 'list'>\n",
            "12\n"
          ]
        }
      ]
    },
    {
      "cell_type": "code",
      "source": [
        "#accessing individual elements\n",
        "fruits= ['apple', 'grapes', 'pine apple', 'banana', 'mango']\n",
        "\n",
        "print(fruits[0])\n",
        "print(fruits[1])\n",
        "print(fruits[2])\n",
        "print(fruits[3])\n",
        "print(fruits[4])\n",
        "print(fruits[-1])\n",
        "print(fruits[-2])\n",
        "print(fruits[-3])\n",
        "print(fruits[-4])\n",
        "print(fruits[-5])\n"
      ],
      "metadata": {
        "colab": {
          "base_uri": "https://localhost:8080/"
        },
        "id": "G6oAZbbuoMCC",
        "outputId": "735aa9a8-2a21-4d03-9606-d90db6975aa1"
      },
      "execution_count": null,
      "outputs": [
        {
          "output_type": "stream",
          "name": "stdout",
          "text": [
            "apple\n",
            "grapes\n",
            "pine apple\n",
            "banana\n",
            "mango\n",
            "mango\n",
            "banana\n",
            "pine apple\n",
            "grapes\n",
            "apple\n"
          ]
        }
      ]
    },
    {
      "cell_type": "code",
      "source": [
        "print(fruits[6])"
      ],
      "metadata": {
        "id": "3RsRj7mPpIqW",
        "colab": {
          "base_uri": "https://localhost:8080/",
          "height": 165
        },
        "outputId": "1bec7f87-0313-4a74-c117-22492e0219e7"
      },
      "execution_count": null,
      "outputs": [
        {
          "output_type": "error",
          "ename": "IndexError",
          "evalue": "ignored",
          "traceback": [
            "\u001b[0;31m---------------------------------------------------------------------------\u001b[0m",
            "\u001b[0;31mIndexError\u001b[0m                                Traceback (most recent call last)",
            "\u001b[0;32m<ipython-input-9-a5ee2976c09a>\u001b[0m in \u001b[0;36m<module>\u001b[0;34m()\u001b[0m\n\u001b[0;32m----> 1\u001b[0;31m \u001b[0mprint\u001b[0m\u001b[0;34m(\u001b[0m\u001b[0mfruits\u001b[0m\u001b[0;34m[\u001b[0m\u001b[0;36m6\u001b[0m\u001b[0;34m]\u001b[0m\u001b[0;34m)\u001b[0m\u001b[0;34m\u001b[0m\u001b[0;34m\u001b[0m\u001b[0m\n\u001b[0m",
            "\u001b[0;31mIndexError\u001b[0m: list index out of range"
          ]
        }
      ]
    },
    {
      "cell_type": "code",
      "source": [
        "fruits1= ['apple', 'grapes', 'pine apple', 'banana', 'mango']\n",
        "fruits2= ['apple', 'grapes', 'pine apple', 'banana', 'mango']\n",
        "print(id(fruits1))\n",
        "print(id(fruits2))\n"
      ],
      "metadata": {
        "colab": {
          "base_uri": "https://localhost:8080/"
        },
        "id": "G6n8hAs6pIrv",
        "outputId": "b7b3206d-4009-40ba-e3a5-3bbdef84a9cc"
      },
      "execution_count": null,
      "outputs": [
        {
          "output_type": "stream",
          "name": "stdout",
          "text": [
            "140110422037840\n",
            "140110422764192\n"
          ]
        }
      ]
    },
    {
      "cell_type": "code",
      "source": [
        "fruits1[0]='mango'\n",
        "print(fruits1)\n",
        "print(fruits2)"
      ],
      "metadata": {
        "colab": {
          "base_uri": "https://localhost:8080/"
        },
        "id": "ruHlb9Q8pIuM",
        "outputId": "84ded6fe-06bf-4dd3-cb58-12a22ddeb25f"
      },
      "execution_count": null,
      "outputs": [
        {
          "output_type": "stream",
          "name": "stdout",
          "text": [
            "['mango', 'grapes', 'pine apple', 'banana', 'mango']\n",
            "['apple', 'grapes', 'pine apple', 'banana', 'mango']\n"
          ]
        }
      ]
    },
    {
      "cell_type": "code",
      "source": [
        "fruits3=fruits2\n",
        "print(fruits2)\n",
        "print(fruits3)\n",
        "print(id(fruits3))\n",
        "print(id(fruits2))\n",
        "\n",
        "fruits3[0]='sapota'\n",
        "\n",
        "print(fruits3)\n",
        "print(fruits2)"
      ],
      "metadata": {
        "colab": {
          "base_uri": "https://localhost:8080/"
        },
        "id": "cYqHap0apIxj",
        "outputId": "e029fe43-a8ce-4f7e-c7ff-96506c7108a9"
      },
      "execution_count": null,
      "outputs": [
        {
          "output_type": "stream",
          "name": "stdout",
          "text": [
            "['apple', 'grapes', 'pine apple', 'banana', 'mango']\n",
            "['apple', 'grapes', 'pine apple', 'banana', 'mango']\n",
            "140110422764192\n",
            "140110422764192\n",
            "['sapota', 'grapes', 'pine apple', 'banana', 'mango']\n",
            "['sapota', 'grapes', 'pine apple', 'banana', 'mango']\n"
          ]
        }
      ]
    },
    {
      "cell_type": "markdown",
      "source": [
        "#Shallow Copy & Deep Copy"
      ],
      "metadata": {
        "id": "IV8uVLVnskJ3"
      }
    },
    {
      "cell_type": "code",
      "source": [
        "# copying\n",
        "\n",
        "lst_1 = [1, 2, 3, 4]\n",
        "\n",
        "lst_2 = lst_1.copy()\n",
        "\n",
        "# If we perform any change in lst_2, would that change be reflected in lst_1?\n",
        "\n",
        "lst_2[2] = 'Now'\n",
        "lst_1[0]='haha'\n",
        "\n",
        "print(lst_1)\n",
        "\n",
        "print(lst_2)\n",
        "\n",
        "print(id(lst_1))\n",
        "print(id(lst_2))\n",
        "\n",
        "# '=' aliasing\n",
        "\n",
        "# copy() cloning"
      ],
      "metadata": {
        "colab": {
          "base_uri": "https://localhost:8080/"
        },
        "id": "EC81wN3DpIy4",
        "outputId": "96124cac-ef95-441f-94af-f638bc382662"
      },
      "execution_count": null,
      "outputs": [
        {
          "output_type": "stream",
          "name": "stdout",
          "text": [
            "['haha', 2, 3, 4]\n",
            "[1, 2, 'Now', 4]\n",
            "140293228323696\n",
            "140293228304176\n"
          ]
        }
      ]
    },
    {
      "cell_type": "code",
      "source": [
        "#shallow copy\n",
        "'''A shallow copy constructs a new compound object and then (to the extent possible)\n",
        " inserts references into it to the objects found in the original.'''\n",
        "import copy as c\n",
        "\n",
        "lst_1 = [1, 2, [3, 4], 5]\n",
        "\n",
        "lst_2 = c.copy(lst_1)\n",
        "\n",
        "#lst_1[1]= 'Now'\n",
        "\n",
        "lst_2[2][0] = 'haha'\n",
        "\n",
        "print(lst_1)\n",
        "print(id(lst_1))\n",
        "\n",
        "print(lst_2)\n",
        "print(id(lst_2))"
      ],
      "metadata": {
        "id": "v4FLmfe2pI1h",
        "colab": {
          "base_uri": "https://localhost:8080/"
        },
        "outputId": "288c3c9c-3942-4cdf-ffe0-d973384d7a43"
      },
      "execution_count": null,
      "outputs": [
        {
          "output_type": "stream",
          "name": "stdout",
          "text": [
            "[1, 2, ['haha', 4], 5]\n",
            "140293227943328\n",
            "[1, 2, ['haha', 4], 5]\n",
            "140293228136160\n"
          ]
        }
      ]
    },
    {
      "cell_type": "code",
      "source": [
        "import copy as c\n",
        "'''A deep copy constructs a new compound object and then, recursively,\n",
        " inserts copies into it of the objects found in the original. '''\n",
        "lst_1 = [1, 2, [3, 4], 5]\n",
        "\n",
        "lst_2 = c.deepcopy(lst_1)\n",
        "\n",
        "#lst_2[2][0]= 'Now'\n",
        "#lst_1[1]='HEY'\n",
        "\n",
        "print(lst_1)\n",
        "print(id(lst_1))\n",
        "\n",
        "print(lst_2)\n",
        "print(id(lst_2))"
      ],
      "metadata": {
        "id": "3Dm3OsK1pI3R",
        "colab": {
          "base_uri": "https://localhost:8080/"
        },
        "outputId": "e3c74dc1-ef72-4bbd-965c-0c63b68ff897"
      },
      "execution_count": null,
      "outputs": [
        {
          "output_type": "stream",
          "name": "stdout",
          "text": [
            "[1, 'HEY', [3, 4], 5]\n",
            "140293227981792\n",
            "[1, 2, [3, 4], 5]\n",
            "140293227944448\n"
          ]
        }
      ]
    },
    {
      "cell_type": "code",
      "source": [
        "lst_1 = [1,2,[3,4],5]\n",
        "\n",
        "lst_2 = lst_1.copy()\n",
        "\n",
        "lst_1[2][0] = 'Now'\n",
        "lst_2[0]='haha'\n",
        "\n",
        "print(lst_1)\n",
        "print(lst_2)\n"
      ],
      "metadata": {
        "id": "Fs8hQkRRpI6Q",
        "colab": {
          "base_uri": "https://localhost:8080/"
        },
        "outputId": "2cc89d72-6a3c-4831-db02-f278b4cb26fd"
      },
      "execution_count": null,
      "outputs": [
        {
          "output_type": "stream",
          "name": "stdout",
          "text": [
            "[1, 2, ['Now', 4], 5]\n",
            "['haha', 2, ['Now', 4], 5]\n"
          ]
        }
      ]
    },
    {
      "cell_type": "markdown",
      "source": [
        "#List is MUTABLE"
      ],
      "metadata": {
        "id": "gkkjuRZQlRlz"
      }
    },
    {
      "cell_type": "code",
      "execution_count": null,
      "metadata": {
        "colab": {
          "base_uri": "https://localhost:8080/"
        },
        "id": "xS2faCYclJXQ",
        "outputId": "b9bc21f7-522d-483c-b395-8c975bec1f79"
      },
      "outputs": [
        {
          "output_type": "stream",
          "name": "stdout",
          "text": [
            "[1, 2, 3, 4]\n",
            "140223563639456\n",
            "[1, 2, 3, 4]\n",
            "140223563637456\n",
            "[5, 2, 3, 4]\n"
          ]
        }
      ],
      "source": [
        "lst = [1,2,3,4]\n",
        "print(lst)\n",
        "print(id(lst))\n",
        "lst1 = [1,2,3,4]\n",
        "lst[0]=5\n",
        "print(lst1)\n",
        "print(id(lst1))\n",
        "print(lst)"
      ]
    },
    {
      "cell_type": "code",
      "source": [
        "#compare id of strings\n",
        "k=\"kalyan\"\n",
        "k1='kalyan'\n",
        "print(id(k))\n",
        "print(id(k1))\n",
        "x=k1.replace('k','c')\n",
        "print(k)\n",
        "print(k1)\n",
        "print(x)"
      ],
      "metadata": {
        "colab": {
          "base_uri": "https://localhost:8080/"
        },
        "id": "BxevZfEebCqe",
        "outputId": "0bdd3c67-7387-4189-8427-c74090edaf15"
      },
      "execution_count": null,
      "outputs": [
        {
          "output_type": "stream",
          "name": "stdout",
          "text": [
            "140110421993008\n",
            "140110421993008\n",
            "kalyan\n",
            "kalyan\n",
            "calyan\n"
          ]
        }
      ]
    },
    {
      "cell_type": "code",
      "source": [
        "lst_one = ['one', 'two', 'three']\n",
        "lst_two = ['four', 'five']\n",
        "\n",
        "# append(), +\n",
        "print(lst_one)\n",
        "print(lst_two)\n",
        "print(id(lst_one))\n",
        "lst_one.append(lst_two)\n",
        "\n",
        "print(lst_one)\n",
        "print(id(lst_one))"
      ],
      "metadata": {
        "id": "aLtHIP5Zm4lp",
        "colab": {
          "base_uri": "https://localhost:8080/"
        },
        "outputId": "2740c7ee-9b93-4665-faf1-a3187085a1d0"
      },
      "execution_count": null,
      "outputs": [
        {
          "output_type": "stream",
          "name": "stdout",
          "text": [
            "['one', 'two', 'three']\n",
            "['four', 'five']\n",
            "140223622349680\n",
            "['one', 'two', 'three', ['four', 'five']]\n",
            "140223622349680\n"
          ]
        }
      ]
    },
    {
      "cell_type": "code",
      "source": [
        "lst_one = ['one', 'two', 'three',1,2,3,4,5.6,(1,2,4),[1,3,4]]\n",
        "lst_two = ['four', 'five']\n",
        "print(lst_one + lst_two)"
      ],
      "metadata": {
        "colab": {
          "base_uri": "https://localhost:8080/"
        },
        "id": "_dcfeNVN28ZK",
        "outputId": "2c420aeb-5916-4730-c70b-46a167bc5888"
      },
      "execution_count": null,
      "outputs": [
        {
          "output_type": "stream",
          "name": "stdout",
          "text": [
            "['one', 'two', 'three', 1, 2, 3, 4, 5.6, (1, 2, 4), [1, 3, 4], 'four', 'five']\n"
          ]
        }
      ]
    },
    {
      "cell_type": "code",
      "source": [
        "#slicing operation on lists\n",
        "print(lst_one[2:6])"
      ],
      "metadata": {
        "colab": {
          "base_uri": "https://localhost:8080/"
        },
        "id": "_SFNiGj03UBC",
        "outputId": "b63b3d73-c758-430f-f421-95227e59845f"
      },
      "execution_count": null,
      "outputs": [
        {
          "output_type": "stream",
          "name": "stdout",
          "text": [
            "['three', 1, 2, 3]\n"
          ]
        }
      ]
    },
    {
      "cell_type": "code",
      "source": [
        "#reverse the list using indexing\n",
        "print(lst_one[::-2])"
      ],
      "metadata": {
        "colab": {
          "base_uri": "https://localhost:8080/"
        },
        "id": "73i0Affs344g",
        "outputId": "ac835447-d3e9-4d3f-e305-ec0dacdacae8"
      },
      "execution_count": null,
      "outputs": [
        {
          "output_type": "stream",
          "name": "stdout",
          "text": [
            "[[1, 3, 4], 5.6, 3, 1, 'two']\n"
          ]
        }
      ]
    },
    {
      "cell_type": "markdown",
      "source": [
        "#list methods"
      ],
      "metadata": {
        "id": "vf871-4h4jam"
      }
    },
    {
      "cell_type": "code",
      "source": [
        "list1=[1,2,3,'kalyan','master python',4,5,6,7]\n"
      ],
      "metadata": {
        "id": "cGIHxZGx4gJt"
      },
      "execution_count": null,
      "outputs": []
    },
    {
      "cell_type": "markdown",
      "source": [
        "#1.  list.append()"
      ],
      "metadata": {
        "id": "_7jQn7m55y30"
      }
    },
    {
      "cell_type": "code",
      "source": [
        "list1.append(10)\n",
        "print(list1)\n"
      ],
      "metadata": {
        "colab": {
          "base_uri": "https://localhost:8080/"
        },
        "id": "EmB0qdD6553_",
        "outputId": "8626e055-7443-495f-ab11-4d3b21fa75ff"
      },
      "execution_count": null,
      "outputs": [
        {
          "output_type": "stream",
          "name": "stdout",
          "text": [
            "[1, 2, 3, 'kalyan', 'master python', 4, 5, 6, 7, 10]\n"
          ]
        }
      ]
    },
    {
      "cell_type": "code",
      "source": [
        "list1.append([11,12,13])\n",
        "print(list1)"
      ],
      "metadata": {
        "colab": {
          "base_uri": "https://localhost:8080/"
        },
        "id": "ihXUJqEF6Css",
        "outputId": "d489e24f-e748-40d2-ac5f-33e99f37d789"
      },
      "execution_count": null,
      "outputs": [
        {
          "output_type": "stream",
          "name": "stdout",
          "text": [
            "[1, 2, 3, 'kalyan', 'master python', 4, 5, 6, 7, 10, [11, 12, 13]]\n"
          ]
        }
      ]
    },
    {
      "cell_type": "code",
      "source": [
        "list1[-1][-1]"
      ],
      "metadata": {
        "colab": {
          "base_uri": "https://localhost:8080/"
        },
        "id": "G_vL9kaFLjmN",
        "outputId": "f10d9827-2a11-48e7-cc35-af1b1c32c697"
      },
      "execution_count": null,
      "outputs": [
        {
          "output_type": "execute_result",
          "data": {
            "text/plain": [
              "13"
            ]
          },
          "metadata": {},
          "execution_count": 28
        }
      ]
    },
    {
      "cell_type": "markdown",
      "source": [
        "#2.index(element)"
      ],
      "metadata": {
        "id": "2GiQLjSn8h6h"
      }
    },
    {
      "cell_type": "code",
      "source": [
        "lst1=[1,2,3,4,5]\n",
        "print(lst1.index(4))"
      ],
      "metadata": {
        "colab": {
          "base_uri": "https://localhost:8080/"
        },
        "id": "AXWqfGG88pYT",
        "outputId": "0e929394-ed70-43fd-92df-af659f75bd61"
      },
      "execution_count": null,
      "outputs": [
        {
          "output_type": "stream",
          "name": "stdout",
          "text": [
            "3\n"
          ]
        }
      ]
    },
    {
      "cell_type": "markdown",
      "source": [
        "#3.list.remove(element)"
      ],
      "metadata": {
        "id": "jawibLCZ_nit"
      }
    },
    {
      "cell_type": "code",
      "source": [
        "lst2=[1,2,3,4,5,6]\n",
        "lst2.remove(5)\n",
        "print(lst2)"
      ],
      "metadata": {
        "colab": {
          "base_uri": "https://localhost:8080/"
        },
        "id": "pn98szw8_jT2",
        "outputId": "5db0646d-ae12-48f1-e990-88dd28ca500a"
      },
      "execution_count": null,
      "outputs": [
        {
          "output_type": "stream",
          "name": "stdout",
          "text": [
            "[1, 2, 3, 4, 6]\n"
          ]
        }
      ]
    },
    {
      "cell_type": "code",
      "source": [
        ""
      ],
      "metadata": {
        "id": "XMQU2dum9FhS"
      },
      "execution_count": null,
      "outputs": []
    },
    {
      "cell_type": "markdown",
      "source": [
        "#4. list.sort()"
      ],
      "metadata": {
        "id": "C5m7hvnMAU_U"
      }
    },
    {
      "cell_type": "code",
      "source": [
        "list3=[1,2,6,4,5,8]\n",
        "list3.sort()\n",
        "print(list3)"
      ],
      "metadata": {
        "colab": {
          "base_uri": "https://localhost:8080/"
        },
        "id": "X74yftmfAbJr",
        "outputId": "610c2da4-d82a-4b6e-c87a-ad66d368a06e"
      },
      "execution_count": null,
      "outputs": [
        {
          "output_type": "stream",
          "name": "stdout",
          "text": [
            "[1, 2, 4, 5, 6, 8]\n"
          ]
        }
      ]
    },
    {
      "cell_type": "markdown",
      "source": [
        "#5. sorted(list)\n",
        "\n",
        "\n"
      ],
      "metadata": {
        "id": "aWtoFf4X84CB"
      }
    },
    {
      "cell_type": "code",
      "source": [
        "list4=[1,3,5,4,2,4,6,4]\n",
        "print(sorted(list4))\n",
        "print(list4)\n"
      ],
      "metadata": {
        "colab": {
          "base_uri": "https://localhost:8080/"
        },
        "id": "hKRCRY6nCFVy",
        "outputId": "0b6e49fc-8c31-4213-b2a9-50af17dbc4c4"
      },
      "execution_count": null,
      "outputs": [
        {
          "output_type": "stream",
          "name": "stdout",
          "text": [
            "[1, 2, 3, 4, 4, 4, 5, 6]\n",
            "[1, 3, 5, 4, 2, 4, 6, 4]\n"
          ]
        }
      ]
    },
    {
      "cell_type": "markdown",
      "source": [
        "# 6. list.reverse()"
      ],
      "metadata": {
        "id": "rMpCoK--CkLY"
      }
    },
    {
      "cell_type": "code",
      "source": [
        "lst5=[1,2,3,4,5]\n",
        "lst5.reverse()\n",
        "print(lst5)"
      ],
      "metadata": {
        "colab": {
          "base_uri": "https://localhost:8080/"
        },
        "id": "X1ZKhfsgC3wX",
        "outputId": "08660bc5-aa16-456c-c559-fa8cdf57d64c"
      },
      "execution_count": null,
      "outputs": [
        {
          "output_type": "stream",
          "name": "stdout",
          "text": [
            "[5, 4, 3, 2, 1]\n"
          ]
        }
      ]
    },
    {
      "cell_type": "markdown",
      "source": [
        "#7. list.pop(index)"
      ],
      "metadata": {
        "id": "m3NCyx6xD-SO"
      }
    },
    {
      "cell_type": "code",
      "source": [
        "lst6=['kalyan',1,2,'kali',5.0,[1,'hi',5]]\n",
        "lst6.pop(4)\n",
        "print(lst6)"
      ],
      "metadata": {
        "colab": {
          "base_uri": "https://localhost:8080/"
        },
        "id": "uuJO6lGBEBe4",
        "outputId": "0f07aa11-fafb-4624-e8f9-8c80aa49ebbe"
      },
      "execution_count": null,
      "outputs": [
        {
          "output_type": "stream",
          "name": "stdout",
          "text": [
            "['kalyan', 1, 2, 'kali', [1, 'hi', 5]]\n"
          ]
        }
      ]
    },
    {
      "cell_type": "markdown",
      "source": [
        "#8. list.count(element)"
      ],
      "metadata": {
        "id": "Y_nuvftHEYwl"
      }
    },
    {
      "cell_type": "code",
      "source": [
        "lst5=[1,2,3,3,3,2,3,3,2,2,33,1,2,3]\n",
        "lst5.count(3)\n"
      ],
      "metadata": {
        "colab": {
          "base_uri": "https://localhost:8080/"
        },
        "id": "fxvbRFngEfft",
        "outputId": "d16e829f-a66b-43eb-c9da-3178c4330826"
      },
      "execution_count": null,
      "outputs": [
        {
          "output_type": "execute_result",
          "data": {
            "text/plain": [
              "6"
            ]
          },
          "metadata": {},
          "execution_count": 38
        }
      ]
    },
    {
      "cell_type": "markdown",
      "source": [
        "#9 list.copy()"
      ],
      "metadata": {
        "id": "L8YSmHArZ0kO"
      }
    },
    {
      "cell_type": "code",
      "source": [
        "list1=[1,2,3,4]\n",
        "list2=list1.copy()\n",
        "print(list1)\n",
        "print(list2)\n",
        "list2[0]=0\n",
        "print(list1)\n",
        "print(list2)"
      ],
      "metadata": {
        "colab": {
          "base_uri": "https://localhost:8080/"
        },
        "id": "13ci3WuID3Lu",
        "outputId": "a416748e-ebba-4844-f81d-ff07a981a5a2"
      },
      "execution_count": null,
      "outputs": [
        {
          "output_type": "stream",
          "name": "stdout",
          "text": [
            "[1, 2, 3, 4]\n",
            "[1, 2, 3, 4]\n",
            "[1, 2, 3, 4]\n",
            "[0, 2, 3, 4]\n"
          ]
        }
      ]
    },
    {
      "cell_type": "markdown",
      "source": [
        "#10. List.insert(index,element)"
      ],
      "metadata": {
        "id": "pG-Zxu1j8ZhG"
      }
    },
    {
      "cell_type": "code",
      "source": [
        "list1=[1,2,3,5]\n",
        "list1.insert(0,2)\n",
        "list1"
      ],
      "metadata": {
        "colab": {
          "base_uri": "https://localhost:8080/"
        },
        "id": "mjnJWFch7vdK",
        "outputId": "36379967-11e3-48a3-a12d-6109b9879255"
      },
      "execution_count": null,
      "outputs": [
        {
          "output_type": "execute_result",
          "data": {
            "text/plain": [
              "[2, 1, 2, 3, 5]"
            ]
          },
          "metadata": {},
          "execution_count": 39
        }
      ]
    },
    {
      "cell_type": "code",
      "source": [
        "list1=[1,2,3,5]\n",
        "list1.insert(1100000,2)\n",
        "list1"
      ],
      "metadata": {
        "colab": {
          "base_uri": "https://localhost:8080/"
        },
        "id": "y8i5O9k28iUx",
        "outputId": "5b40d8c0-64a9-4514-fbcb-c31e4c421f68"
      },
      "execution_count": null,
      "outputs": [
        {
          "output_type": "execute_result",
          "data": {
            "text/plain": [
              "[1, 2, 3, 5, 2]"
            ]
          },
          "metadata": {},
          "execution_count": 41
        }
      ]
    }
  ]
}