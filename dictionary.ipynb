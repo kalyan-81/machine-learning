{
  "nbformat": 4,
  "nbformat_minor": 0,
  "metadata": {
    "colab": {
      "name": "dictionary.ipynb",
      "provenance": [],
      "collapsed_sections": [],
      "authorship_tag": "ABX9TyN55ZhtJnHsF0r3a/2zZppP",
      "include_colab_link": true
    },
    "kernelspec": {
      "name": "python3",
      "display_name": "Python 3"
    },
    "language_info": {
      "name": "python"
    }
  },
  "cells": [
    {
      "cell_type": "markdown",
      "metadata": {
        "id": "view-in-github",
        "colab_type": "text"
      },
      "source": [
        "<a href=\"https://colab.research.google.com/github/kalyan-81/machine-learning/blob/main/dictionary.ipynb\" target=\"_parent\"><img src=\"https://colab.research.google.com/assets/colab-badge.svg\" alt=\"Open In Colab\"/></a>"
      ]
    },
    {
      "cell_type": "markdown",
      "source": [
        "#Lecture 13: Dictionary\n",
        "Unordered collection of items i.e. can't be indexed\\\n",
        "Other compound data types have only values as an element, whereas a dictionary has a KEY:VALUE pair\\\n",
        "Keys are unique, values may not be unique\\\n",
        "Values can be of any data type, but key must be immutable."
      ],
      "metadata": {
        "id": "7ANaU-436nZU"
      }
    },
    {
      "cell_type": "code",
      "execution_count": 1,
      "metadata": {
        "id": "CoGavFLz53Nm",
        "colab": {
          "base_uri": "https://localhost:8080/"
        },
        "outputId": "44eec740-7bf9-4653-f45e-a3c4bd390d09"
      },
      "outputs": [
        {
          "output_type": "stream",
          "name": "stdout",
          "text": [
            "<class 'dict'>\n",
            "<class 'set'>\n"
          ]
        }
      ],
      "source": [
        "# initialization\n",
        "\n",
        "d = {} #dict\n",
        "k={1,2}# set\n",
        "\n",
        "print(type(d))\n",
        "print(type(k))"
      ]
    },
    {
      "cell_type": "code",
      "source": [
        "d = {1:'abc', 2:'efg', 'name':'xyz'}\n",
        "\n",
        "print(d)\n",
        "print(type(d))"
      ],
      "metadata": {
        "id": "s5pGpcQ57Pnz",
        "colab": {
          "base_uri": "https://localhost:8080/"
        },
        "outputId": "a3c8d3fa-b8a8-4227-e443-352d22f8ebbd"
      },
      "execution_count": 2,
      "outputs": [
        {
          "output_type": "stream",
          "name": "stdout",
          "text": [
            "{1: 'abc', 2: 'efg', 'name': 'xyz'}\n",
            "<class 'dict'>\n"
          ]
        }
      ]
    },
    {
      "cell_type": "code",
      "source": [
        "# Accessing values\n",
        "\n",
        "print(d[1])\n",
        "\n",
        "print(d['name'])"
      ],
      "metadata": {
        "id": "fFAK0rXS7SMt",
        "colab": {
          "base_uri": "https://localhost:8080/"
        },
        "outputId": "75accf49-840f-480b-e622-c2eb6d409834"
      },
      "execution_count": 3,
      "outputs": [
        {
          "output_type": "stream",
          "name": "stdout",
          "text": [
            "abc\n",
            "xyz\n"
          ]
        }
      ]
    },
    {
      "cell_type": "code",
      "source": [
        "print(d[3])"
      ],
      "metadata": {
        "id": "-RclnxDi7UxK",
        "colab": {
          "base_uri": "https://localhost:8080/",
          "height": 165
        },
        "outputId": "98c67241-a12a-4f79-ce35-ee48e7aeae81"
      },
      "execution_count": 43,
      "outputs": [
        {
          "output_type": "error",
          "ename": "KeyError",
          "evalue": "ignored",
          "traceback": [
            "\u001b[0;31m---------------------------------------------------------------------------\u001b[0m",
            "\u001b[0;31mKeyError\u001b[0m                                  Traceback (most recent call last)",
            "\u001b[0;32m<ipython-input-43-ab75bc92d469>\u001b[0m in \u001b[0;36m<module>\u001b[0;34m()\u001b[0m\n\u001b[0;32m----> 1\u001b[0;31m \u001b[0mprint\u001b[0m\u001b[0;34m(\u001b[0m\u001b[0md\u001b[0m\u001b[0;34m[\u001b[0m\u001b[0;36m3\u001b[0m\u001b[0;34m]\u001b[0m\u001b[0;34m)\u001b[0m\u001b[0;34m\u001b[0m\u001b[0;34m\u001b[0m\u001b[0m\n\u001b[0m",
            "\u001b[0;31mKeyError\u001b[0m: 3"
          ]
        }
      ]
    },
    {
      "cell_type": "code",
      "source": [
        "# # updating dictionary\n",
        "\n",
        "print(d)\n",
        "\n",
        "d['name'] = 'lmn'\n",
        "\n",
        "d['age'] = 20\n",
        "\n",
        "print(d)"
      ],
      "metadata": {
        "id": "PND_3D8S7Xgn",
        "colab": {
          "base_uri": "https://localhost:8080/"
        },
        "outputId": "80741730-1c54-4109-82e5-a2cba77fa20a"
      },
      "execution_count": 5,
      "outputs": [
        {
          "output_type": "stream",
          "name": "stdout",
          "text": [
            "{1: 'abc', 2: 'efg', 'name': 'xyz'}\n",
            "{1: 'abc', 2: 'efg', 'name': 'lmn', 'age': 20}\n"
          ]
        }
      ]
    },
    {
      "cell_type": "code",
      "source": [
        "# Deleting elements\n",
        "\n",
        "del d['name']\n",
        "print(d)\n",
        "\n",
        "d.clear()\n",
        "print(d)"
      ],
      "metadata": {
        "id": "fmPDsp9j7bSB",
        "colab": {
          "base_uri": "https://localhost:8080/"
        },
        "outputId": "09c10c2b-e55a-4d11-de60-5ec14a4fda04"
      },
      "execution_count": 6,
      "outputs": [
        {
          "output_type": "stream",
          "name": "stdout",
          "text": [
            "{1: 'abc', 2: 'efg', 'age': 20}\n",
            "{}\n"
          ]
        }
      ]
    },
    {
      "cell_type": "code",
      "source": [
        "del d\n",
        "\n",
        "print(d)"
      ],
      "metadata": {
        "id": "b4UMgHIN7XjX",
        "colab": {
          "base_uri": "https://localhost:8080/",
          "height": 200
        },
        "outputId": "e6e097a9-fc56-4324-c2a0-dd9d75175222"
      },
      "execution_count": 44,
      "outputs": [
        {
          "output_type": "error",
          "ename": "NameError",
          "evalue": "ignored",
          "traceback": [
            "\u001b[0;31m---------------------------------------------------------------------------\u001b[0m",
            "\u001b[0;31mNameError\u001b[0m                                 Traceback (most recent call last)",
            "\u001b[0;32m<ipython-input-44-b527d1cd5553>\u001b[0m in \u001b[0;36m<module>\u001b[0;34m()\u001b[0m\n\u001b[1;32m      1\u001b[0m \u001b[0;32mdel\u001b[0m \u001b[0md\u001b[0m\u001b[0;34m\u001b[0m\u001b[0;34m\u001b[0m\u001b[0m\n\u001b[1;32m      2\u001b[0m \u001b[0;34m\u001b[0m\u001b[0m\n\u001b[0;32m----> 3\u001b[0;31m \u001b[0mprint\u001b[0m\u001b[0;34m(\u001b[0m\u001b[0md\u001b[0m\u001b[0;34m)\u001b[0m\u001b[0;34m\u001b[0m\u001b[0;34m\u001b[0m\u001b[0m\n\u001b[0m",
            "\u001b[0;31mNameError\u001b[0m: name 'd' is not defined"
          ]
        }
      ]
    },
    {
      "cell_type": "code",
      "source": [
        "# # Key must immutable\n",
        "\n",
        "d = {1:'abc', 2:'efg', ['name']:'xyz'}\n",
        "\n",
        "print(d)"
      ],
      "metadata": {
        "id": "LYWy79yx7XyR",
        "colab": {
          "base_uri": "https://localhost:8080/",
          "height": 234
        },
        "outputId": "caac966a-7021-45f7-cf75-20ee4a2fdee5"
      },
      "execution_count": 7,
      "outputs": [
        {
          "output_type": "error",
          "ename": "TypeError",
          "evalue": "ignored",
          "traceback": [
            "\u001b[0;31m---------------------------------------------------------------------------\u001b[0m",
            "\u001b[0;31mTypeError\u001b[0m                                 Traceback (most recent call last)",
            "\u001b[0;32m<ipython-input-7-e0b1bcdf5ea7>\u001b[0m in \u001b[0;36m<module>\u001b[0;34m()\u001b[0m\n\u001b[1;32m      1\u001b[0m \u001b[0;31m# # Key must immutable\u001b[0m\u001b[0;34m\u001b[0m\u001b[0;34m\u001b[0m\u001b[0;34m\u001b[0m\u001b[0m\n\u001b[1;32m      2\u001b[0m \u001b[0;34m\u001b[0m\u001b[0m\n\u001b[0;32m----> 3\u001b[0;31m \u001b[0md\u001b[0m \u001b[0;34m=\u001b[0m \u001b[0;34m{\u001b[0m\u001b[0;36m1\u001b[0m\u001b[0;34m:\u001b[0m\u001b[0;34m'abc'\u001b[0m\u001b[0;34m,\u001b[0m \u001b[0;36m2\u001b[0m\u001b[0;34m:\u001b[0m\u001b[0;34m'efg'\u001b[0m\u001b[0;34m,\u001b[0m \u001b[0;34m[\u001b[0m\u001b[0;34m'name'\u001b[0m\u001b[0;34m]\u001b[0m\u001b[0;34m:\u001b[0m\u001b[0;34m'xyz'\u001b[0m\u001b[0;34m}\u001b[0m\u001b[0;34m\u001b[0m\u001b[0;34m\u001b[0m\u001b[0m\n\u001b[0m\u001b[1;32m      4\u001b[0m \u001b[0;34m\u001b[0m\u001b[0m\n\u001b[1;32m      5\u001b[0m \u001b[0mprint\u001b[0m\u001b[0;34m(\u001b[0m\u001b[0md\u001b[0m\u001b[0;34m)\u001b[0m\u001b[0;34m\u001b[0m\u001b[0;34m\u001b[0m\u001b[0m\n",
            "\u001b[0;31mTypeError\u001b[0m: unhashable type: 'list'"
          ]
        }
      ]
    },
    {
      "cell_type": "code",
      "source": [
        "# # Key must immutable\n",
        "\n",
        "d = {1:'abc', 2:'efg', 'name':['xyz']}\n",
        "\n",
        "print(d)"
      ],
      "metadata": {
        "colab": {
          "base_uri": "https://localhost:8080/"
        },
        "id": "Ll7_kA2d4W8d",
        "outputId": "ffd9e1bf-d9f7-4469-a521-e2dacc151c5a"
      },
      "execution_count": 8,
      "outputs": [
        {
          "output_type": "stream",
          "name": "stdout",
          "text": [
            "{1: 'abc', 2: 'efg', 'name': ['xyz']}\n"
          ]
        }
      ]
    },
    {
      "cell_type": "code",
      "source": [
        "\n",
        "d = {1:'abc', 2:'efg', 'name':{'xyz':33,'kln':54,'ram':56}}\n",
        "\n",
        "print(d)"
      ],
      "metadata": {
        "colab": {
          "base_uri": "https://localhost:8080/"
        },
        "id": "H0FDv6JT5AkE",
        "outputId": "11b8d844-5676-46d2-a8a1-cb8c8ab66c48"
      },
      "execution_count": 11,
      "outputs": [
        {
          "output_type": "stream",
          "name": "stdout",
          "text": [
            "{1: 'abc', 2: 'efg', 'name': {'xyz': 33, 'kln': 54, 'ram': 56}}\n"
          ]
        }
      ]
    },
    {
      "cell_type": "markdown",
      "source": [
        "#dictionary methods"
      ],
      "metadata": {
        "id": "reaO3buX5RQe"
      }
    },
    {
      "cell_type": "markdown",
      "source": [
        "#1. clear()\n",
        "Remove all elements from the dictionary"
      ],
      "metadata": {
        "id": "VFl9ODQG5Xcn"
      }
    },
    {
      "cell_type": "code",
      "source": [
        "human={'name':'kalyan','age':24,\"height in cm\":162}\n",
        "print(human)\n",
        "\n",
        "human.clear()\n",
        "\n",
        "print(human)"
      ],
      "metadata": {
        "colab": {
          "base_uri": "https://localhost:8080/"
        },
        "id": "0f6oL6OU5mlk",
        "outputId": "3c983dc9-c06a-4e8a-b2ea-24069b2d35b8"
      },
      "execution_count": 12,
      "outputs": [
        {
          "output_type": "stream",
          "name": "stdout",
          "text": [
            "{'name': 'kalyan', 'age': 24, 'height in cm': 162}\n",
            "{}\n"
          ]
        }
      ]
    },
    {
      "cell_type": "markdown",
      "source": [
        "#2.copy() \n",
        "copy the human dictionary\n"
      ],
      "metadata": {
        "id": "hl-Z9gOd6Hii"
      }
    },
    {
      "cell_type": "code",
      "source": [
        "human={'name':'kalyan','age':24,\"height in cm\":162}\n",
        "print(human)\n",
        "human2=human.copy()\n",
        "print(human2)"
      ],
      "metadata": {
        "colab": {
          "base_uri": "https://localhost:8080/"
        },
        "id": "XhMOStgf6VfF",
        "outputId": "7ef8e5a2-b9cd-4ee8-e92b-abfbfaf424c1"
      },
      "execution_count": 14,
      "outputs": [
        {
          "output_type": "stream",
          "name": "stdout",
          "text": [
            "{'name': 'kalyan', 'age': 24, 'height in cm': 162}\n",
            "{'name': 'kalyan', 'age': 24, 'height in cm': 162}\n"
          ]
        }
      ]
    },
    {
      "cell_type": "markdown",
      "source": [
        "#3. fromkeys()\n",
        "Returns a dictionary with the specified keys and value"
      ],
      "metadata": {
        "id": "1NCSiWK-6ii3"
      }
    },
    {
      "cell_type": "code",
      "source": [
        "x = ('key1', 'key2', 'key3')\n",
        "y = 0,2,3\n",
        "\n",
        "thisdict = dict.fromkeys(x, y)\n",
        "\n",
        "print(thisdict)"
      ],
      "metadata": {
        "colab": {
          "base_uri": "https://localhost:8080/"
        },
        "id": "sSIsU4xc6qi9",
        "outputId": "e27327c9-769f-4cf0-9200-164f72247759"
      },
      "execution_count": 45,
      "outputs": [
        {
          "output_type": "stream",
          "name": "stdout",
          "text": [
            "{'key1': (0, 2, 3), 'key2': (0, 2, 3), 'key3': (0, 2, 3)}\n"
          ]
        }
      ]
    },
    {
      "cell_type": "markdown",
      "source": [
        "#4. get()\n",
        "The get() method returns the value of the item with the specified key."
      ],
      "metadata": {
        "id": "5XpbNZJm8PSh"
      }
    },
    {
      "cell_type": "code",
      "source": [
        "human={'name':'kalyan','age':24,\"height in cm\":162}\n",
        "human.get('name')"
      ],
      "metadata": {
        "colab": {
          "base_uri": "https://localhost:8080/",
          "height": 35
        },
        "id": "OE2CCf8R8ThU",
        "outputId": "45f3c0ab-edc8-4a3f-8241-fed21fe9c350"
      },
      "execution_count": 21,
      "outputs": [
        {
          "output_type": "execute_result",
          "data": {
            "application/vnd.google.colaboratory.intrinsic+json": {
              "type": "string"
            },
            "text/plain": [
              "'kalyan'"
            ]
          },
          "metadata": {},
          "execution_count": 21
        }
      ]
    },
    {
      "cell_type": "markdown",
      "source": [
        "#5. items()\n",
        "returns key,value pairs of dictionary as tuples in a list"
      ],
      "metadata": {
        "id": "LmfGpHsP8eJ8"
      }
    },
    {
      "cell_type": "code",
      "source": [
        "human={'name':'kalyan','age':24,\"height in cm\":162}\n",
        "human.items()"
      ],
      "metadata": {
        "colab": {
          "base_uri": "https://localhost:8080/"
        },
        "id": "keCaAPVu8sEF",
        "outputId": "7330dcdb-d4de-4ef9-941b-1b0a003a785d"
      },
      "execution_count": 23,
      "outputs": [
        {
          "output_type": "execute_result",
          "data": {
            "text/plain": [
              "dict_items([('name', 'kalyan'), ('age', 24), ('height in cm', 162)])"
            ]
          },
          "metadata": {},
          "execution_count": 23
        }
      ]
    },
    {
      "cell_type": "markdown",
      "source": [
        "#6.keys()\n",
        "return keys of dictionary as a list"
      ],
      "metadata": {
        "id": "_LJESUm09JZa"
      }
    },
    {
      "cell_type": "code",
      "source": [
        "human.keys()"
      ],
      "metadata": {
        "colab": {
          "base_uri": "https://localhost:8080/"
        },
        "id": "BvjxCic69ap2",
        "outputId": "1c85e469-e4ce-40e0-f578-98633f12c37d"
      },
      "execution_count": 24,
      "outputs": [
        {
          "output_type": "execute_result",
          "data": {
            "text/plain": [
              "dict_keys(['name', 'age', 'height in cm'])"
            ]
          },
          "metadata": {},
          "execution_count": 24
        }
      ]
    },
    {
      "cell_type": "markdown",
      "source": [
        "#7.pop()\n",
        "Removes the element with the specified key"
      ],
      "metadata": {
        "id": "P7H-oBbn9mn2"
      }
    },
    {
      "cell_type": "code",
      "source": [
        "human={'name':'kalyan','age':24,\"height in cm\":162}\n",
        "print(human.pop('age'))\n",
        "print(human)"
      ],
      "metadata": {
        "id": "cci5w6uv7X2u",
        "colab": {
          "base_uri": "https://localhost:8080/"
        },
        "outputId": "77803909-5824-4f67-d214-2a3303202983"
      },
      "execution_count": 47,
      "outputs": [
        {
          "output_type": "stream",
          "name": "stdout",
          "text": [
            "24\n",
            "{'name': 'kalyan', 'height in cm': 162}\n"
          ]
        }
      ]
    },
    {
      "cell_type": "markdown",
      "source": [
        "#8.popitem()\t\n",
        "Removes the last inserted key-value pair"
      ],
      "metadata": {
        "id": "_s68ONWA978m"
      }
    },
    {
      "cell_type": "code",
      "source": [
        "human={'name':'kalyan','age':24,\"height in cm\":162}\n",
        "print(human.popitem())\n",
        "print(human)"
      ],
      "metadata": {
        "colab": {
          "base_uri": "https://localhost:8080/"
        },
        "id": "Ni9mJaHw-B5C",
        "outputId": "d2687433-6de2-4e2b-96fb-04864f0cc9c9"
      },
      "execution_count": 29,
      "outputs": [
        {
          "output_type": "stream",
          "name": "stdout",
          "text": [
            "('height in cm', 162)\n",
            "{'name': 'kalyan', 'age': 24}\n"
          ]
        }
      ]
    },
    {
      "cell_type": "code",
      "source": [
        ""
      ],
      "metadata": {
        "id": "3FYRw1tK-OkN"
      },
      "execution_count": null,
      "outputs": []
    },
    {
      "cell_type": "markdown",
      "source": [
        "#9.setdefault()\t\n",
        "Returns the value of the specified key. \n",
        "If the key does not exist: insert the key, with the specified value"
      ],
      "metadata": {
        "id": "NJ8HBlIB-O-g"
      }
    },
    {
      "cell_type": "code",
      "source": [
        "human={'name':'kalyan','age':24,\"height in cm\":162}\n",
        "human.setdefault('name')\n"
      ],
      "metadata": {
        "colab": {
          "base_uri": "https://localhost:8080/",
          "height": 35
        },
        "id": "l9fBjQhi-pz_",
        "outputId": "9afb8400-b4f3-46ed-e897-3b4208253116"
      },
      "execution_count": 31,
      "outputs": [
        {
          "output_type": "execute_result",
          "data": {
            "application/vnd.google.colaboratory.intrinsic+json": {
              "type": "string"
            },
            "text/plain": [
              "'kalyan'"
            ]
          },
          "metadata": {},
          "execution_count": 31
        }
      ]
    },
    {
      "cell_type": "code",
      "source": [
        "human={'name':'kalyan','age':24,\"height in cm\":162}\n",
        "human.setdefault(\"father\",'ramaswamy')\n",
        "print(human)"
      ],
      "metadata": {
        "colab": {
          "base_uri": "https://localhost:8080/"
        },
        "id": "xsQYunVO-5-d",
        "outputId": "b8837d29-4cf0-41bf-8a38-1ea8b47cfa32"
      },
      "execution_count": 50,
      "outputs": [
        {
          "output_type": "stream",
          "name": "stdout",
          "text": [
            "{'name': 'kalyan', 'age': 24, 'height in cm': 162, 'father': 'ramaswamy'}\n"
          ]
        }
      ]
    },
    {
      "cell_type": "markdown",
      "source": [
        "#10. The update()\n",
        "method inserts the specified items to the dictionary.\\\n",
        "The specified items can be a dictionary, or an iterable object with key value pairs."
      ],
      "metadata": {
        "id": "LyqEsPyF_VH8"
      }
    },
    {
      "cell_type": "code",
      "source": [
        "human={'name':'kalyan','age':24,\"height in cm\":162}\n",
        "human.update({'father':'ramswamy'})\n",
        "print(human)"
      ],
      "metadata": {
        "colab": {
          "base_uri": "https://localhost:8080/"
        },
        "id": "0VuiyI33_fmp",
        "outputId": "fb8f285f-bbc7-4ce0-a779-acf1dadd656c"
      },
      "execution_count": 39,
      "outputs": [
        {
          "output_type": "stream",
          "name": "stdout",
          "text": [
            "{'name': 'kalyan', 'age': 24, 'height in cm': 162, 'father': 'ramswamy'}\n"
          ]
        }
      ]
    },
    {
      "cell_type": "markdown",
      "source": [
        "#11.values()\t\n",
        "Returns a list of all the values in the dictionary"
      ],
      "metadata": {
        "id": "hEBRe1S1AQFY"
      }
    },
    {
      "cell_type": "code",
      "source": [
        "human.values()"
      ],
      "metadata": {
        "colab": {
          "base_uri": "https://localhost:8080/"
        },
        "id": "fKdMaO1nAWsS",
        "outputId": "e3577416-13e1-4250-cbda-08b7679e62e9"
      },
      "execution_count": 42,
      "outputs": [
        {
          "output_type": "execute_result",
          "data": {
            "text/plain": [
              "dict_values(['kalyan', 24, 162])"
            ]
          },
          "metadata": {},
          "execution_count": 42
        }
      ]
    }
  ]
}