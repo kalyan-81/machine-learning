{
  "nbformat": 4,
  "nbformat_minor": 0,
  "metadata": {
    "colab": {
      "name": "dictionary.ipynb",
      "provenance": [],
      "collapsed_sections": [],
      "authorship_tag": "ABX9TyNPS2W7hoyO/pZmtn5/tZry",
      "include_colab_link": true
    },
    "kernelspec": {
      "name": "python3",
      "display_name": "Python 3"
    },
    "language_info": {
      "name": "python"
    }
  },
  "cells": [
    {
      "cell_type": "markdown",
      "metadata": {
        "id": "view-in-github",
        "colab_type": "text"
      },
      "source": [
        "<a href=\"https://colab.research.google.com/github/kalyan-81/machine-learning/blob/main/dictionary.ipynb\" target=\"_parent\"><img src=\"https://colab.research.google.com/assets/colab-badge.svg\" alt=\"Open In Colab\"/></a>"
      ]
    },
    {
      "cell_type": "markdown",
      "source": [
        "#Lecture 13: Dictionary\n",
        "Unordered collection of items i.e. can't be indexed\\\n",
        "Other compound data tupes have only values as an element, whereas a dictionary has a KEY:VALUE pair\\\n",
        "Keys are unique, values may not be unique\n",
        "Values can be of any type, but key must be immutable."
      ],
      "metadata": {
        "id": "7ANaU-436nZU"
      }
    },
    {
      "cell_type": "code",
      "execution_count": null,
      "metadata": {
        "id": "CoGavFLz53Nm"
      },
      "outputs": [],
      "source": [
        "# initialization\n",
        "\n",
        "d = {}\n",
        "\n",
        "print(type(d))"
      ]
    },
    {
      "cell_type": "code",
      "source": [
        "d = {1:'abc', 2:'efg', 'name':'xyz'}\n",
        "\n",
        "print(d)"
      ],
      "metadata": {
        "id": "s5pGpcQ57Pnz"
      },
      "execution_count": null,
      "outputs": []
    },
    {
      "cell_type": "code",
      "source": [
        "# Accessing values\n",
        "\n",
        "print(d[1])\n",
        "\n",
        "print(d['name'])"
      ],
      "metadata": {
        "id": "fFAK0rXS7SMt"
      },
      "execution_count": null,
      "outputs": []
    },
    {
      "cell_type": "code",
      "source": [
        "# print(d[3])"
      ],
      "metadata": {
        "id": "-RclnxDi7UxK"
      },
      "execution_count": null,
      "outputs": []
    },
    {
      "cell_type": "code",
      "source": [
        "# # updating dictionary\n",
        "\n",
        "print(d)\n",
        "\n",
        "d['name'] = 'lmn'\n",
        "\n",
        "d['age'] = 20\n",
        "\n",
        "print(d)"
      ],
      "metadata": {
        "id": "PND_3D8S7Xgn"
      },
      "execution_count": null,
      "outputs": []
    },
    {
      "cell_type": "code",
      "source": [
        "# Deleting elements\n",
        "\n",
        "del d['name']\n",
        "print(d)\n",
        "\n",
        "d.clear()\n",
        "print(d)"
      ],
      "metadata": {
        "id": "fmPDsp9j7bSB"
      },
      "execution_count": null,
      "outputs": []
    },
    {
      "cell_type": "code",
      "source": [
        "del d\n",
        "\n",
        "print(d)"
      ],
      "metadata": {
        "id": "b4UMgHIN7XjX"
      },
      "execution_count": null,
      "outputs": []
    },
    {
      "cell_type": "code",
      "source": [
        "# # Key must immutable\n",
        "\n",
        "# d = {1:'abc', 2:'efg', ['name']:'xyz'}\n",
        "\n",
        "# print(d)"
      ],
      "metadata": {
        "id": "LYWy79yx7XyR"
      },
      "execution_count": null,
      "outputs": []
    },
    {
      "cell_type": "code",
      "source": [
        "# d.keys()\n",
        "\n",
        "# d.values()\n",
        "\n",
        "# d.items()"
      ],
      "metadata": {
        "id": "cci5w6uv7X2u"
      },
      "execution_count": null,
      "outputs": []
    }
  ]
}