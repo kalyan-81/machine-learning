{
  "nbformat": 4,
  "nbformat_minor": 0,
  "metadata": {
    "colab": {
      "name": "strings & string methods.ipynb",
      "provenance": [],
      "collapsed_sections": [
        "hjM8urdfS-5b",
        "q2DGM59FWEjK",
        "Pr3JHKXzWg7c",
        "WTmNYzCJb3xq",
        "SyRo0_28c4Vs",
        "xlhOSBsgehXt",
        "TnkP6knhfglh",
        "41zndHOsiDkP",
        "xGSmusdclfyd",
        "-HEUGOXmmTBV",
        "uFMUw11Am5mk",
        "duueLua3obe4",
        "Szl3hl1kqG0X",
        "Sg8WwOZgqowW",
        "vf7SlACdAOTn",
        "BmTldnWDpnsz",
        "hZeEtQPA4YDc",
        "2DJT1tpx5JTX",
        "DBhR10j555Vr",
        "175GOo4h6amS",
        "O_u5vKDp67AD",
        "0W234c1d7m6w",
        "h2AxrPve8n60",
        "NuQvQpFm9wXP",
        "OGWptd2o_a_v"
      ],
      "authorship_tag": "ABX9TyMY1oVF5Hp7dClXtBlF+0sU",
      "include_colab_link": true
    },
    "kernelspec": {
      "name": "python3",
      "display_name": "Python 3"
    },
    "language_info": {
      "name": "python"
    }
  },
  "cells": [
    {
      "cell_type": "markdown",
      "metadata": {
        "id": "view-in-github",
        "colab_type": "text"
      },
      "source": [
        "<a href=\"https://colab.research.google.com/github/kalyan-81/machine-learning/blob/main/strings_%26_string_methods.ipynb\" target=\"_parent\"><img src=\"https://colab.research.google.com/assets/colab-badge.svg\" alt=\"Open In Colab\"/></a>"
      ]
    },
    {
      "cell_type": "markdown",
      "source": [
        "# **Lecture 9:  strings and string methods**\n",
        "what are the strings?.\n",
        "\n",
        "strings are nothing but sequence of characters(alphabets,numbers,special characters)\n",
        "\n",
        "string are represented in single quote or double quotes.\n",
        "\n",
        "mulitline line strings are representd in ' ' '  or \" \" \""
      ],
      "metadata": {
        "id": "io4ZK-nfPTzN"
      }
    },
    {
      "cell_type": "code",
      "execution_count": null,
      "metadata": {
        "id": "689ioFl0PIgR",
        "colab": {
          "base_uri": "https://localhost:8080/"
        },
        "outputId": "16347af2-29f5-46b5-af59-5c4f18f0a563"
      },
      "outputs": [
        {
          "output_type": "stream",
          "name": "stdout",
          "text": [
            "Hello\n",
            "Hello\n"
          ]
        }
      ],
      "source": [
        "#display a string using print() function\n",
        "print(\"Hello\")\n",
        "print('Hello')"
      ]
    },
    {
      "cell_type": "code",
      "source": [
        "#assign String to a variable\n",
        "a='Hello welcome'\n",
        "print(a)"
      ],
      "metadata": {
        "id": "PGiB01WKPzfC",
        "colab": {
          "base_uri": "https://localhost:8080/"
        },
        "outputId": "65109899-e7b1-4f68-eee6-22b05b7c11cb"
      },
      "execution_count": null,
      "outputs": [
        {
          "output_type": "stream",
          "name": "stdout",
          "text": [
            "Hello welcome\n"
          ]
        }
      ]
    },
    {
      "cell_type": "code",
      "source": [
        "#multiline string using double quotes\n",
        "a=\"\"\"twinkle twinkle\n",
        "        little star\n",
        "how i wonder what you are\"\"\"\n",
        "print(a)"
      ],
      "metadata": {
        "id": "nay0-mEGQH0w",
        "colab": {
          "base_uri": "https://localhost:8080/"
        },
        "outputId": "9c9194f3-1c2f-4733-dd40-88b79e630023"
      },
      "execution_count": null,
      "outputs": [
        {
          "output_type": "stream",
          "name": "stdout",
          "text": [
            "twinkle twinkle\n",
            "        little star\n",
            "how i wonder what you are\n"
          ]
        }
      ]
    },
    {
      "cell_type": "code",
      "source": [
        "# multiline string using single quotes\n",
        "b='''twinkle twinkle\n",
        "little star\n",
        "how i wonder what you are'''\n",
        "a=20\n",
        "print(a)\n",
        "print(b)"
      ],
      "metadata": {
        "id": "sqgbGT41QXUO",
        "colab": {
          "base_uri": "https://localhost:8080/"
        },
        "outputId": "95d4c555-3bae-419c-cb77-2f37bcb6e104"
      },
      "execution_count": null,
      "outputs": [
        {
          "output_type": "stream",
          "name": "stdout",
          "text": [
            "20\n",
            "twinkle twinkle\n",
            "little star\n",
            "how i wonder what you are\n"
          ]
        }
      ]
    },
    {
      "cell_type": "code",
      "source": [
        "#print the This is 'my' 9th lecture\n",
        "\n",
        "print(\"This is 'my' 9th lecture\")"
      ],
      "metadata": {
        "colab": {
          "base_uri": "https://localhost:8080/"
        },
        "id": "9P9E_Mc4FwND",
        "outputId": "bf1663e0-a394-4ada-d251-bf8e5b7e39fe"
      },
      "execution_count": null,
      "outputs": [
        {
          "output_type": "stream",
          "name": "stdout",
          "text": [
            "This is 'my' 9th lecture\n"
          ]
        }
      ]
    },
    {
      "cell_type": "code",
      "source": [
        "##print the This is \"my\" 9th lecture\n",
        "\n",
        "print('This is \"my\" 9th lecture')"
      ],
      "metadata": {
        "colab": {
          "base_uri": "https://localhost:8080/"
        },
        "id": "N-ZKHKeQGmKx",
        "outputId": "8ff5b89f-3090-4a44-d3e3-f1483ff75439"
      },
      "execution_count": null,
      "outputs": [
        {
          "output_type": "stream",
          "name": "stdout",
          "text": [
            "This is \"my\" 9th lecture\n"
          ]
        }
      ]
    },
    {
      "cell_type": "code",
      "source": [
        "##print the This is \"my\" 9th lecture\n",
        "\n",
        "print('This is \\'my\\' 9th lecture')"
      ],
      "metadata": {
        "colab": {
          "base_uri": "https://localhost:8080/"
        },
        "id": "nRtHcuSlG9dY",
        "outputId": "678ed14c-81a7-4112-8dd1-0cdad6545436"
      },
      "execution_count": null,
      "outputs": [
        {
          "output_type": "stream",
          "name": "stdout",
          "text": [
            "This is 'my' 9th lecture\n"
          ]
        }
      ]
    },
    {
      "cell_type": "code",
      "source": [
        "# string are arrays\n",
        "b=\"Hello, world\"\n",
        "print(b[5])\n",
        "print(b[9])\n",
        "print(b[6])\n"
      ],
      "metadata": {
        "id": "ZzeeILnUQgfs",
        "colab": {
          "base_uri": "https://localhost:8080/"
        },
        "outputId": "53deef77-038a-4a9f-95f3-90db23a46416"
      },
      "execution_count": null,
      "outputs": [
        {
          "output_type": "stream",
          "name": "stdout",
          "text": [
            ",\n",
            "r\n",
            " \n"
          ]
        }
      ]
    },
    {
      "cell_type": "code",
      "source": [
        "#to know the index of string \n",
        "b=\"Hello, world\"\n",
        "print(b.index(','))\n",
        "print(b.index('w'))\n",
        "print(b.index(\"ello\"))\n",
        "print(b.index(\"H\"))"
      ],
      "metadata": {
        "colab": {
          "base_uri": "https://localhost:8080/"
        },
        "id": "zFiq9yHCqGPU",
        "outputId": "7838620a-6c1a-432d-8ba9-3a72d981f999"
      },
      "execution_count": null,
      "outputs": [
        {
          "output_type": "stream",
          "name": "stdout",
          "text": [
            "5\n",
            "7\n",
            "1\n",
            "0\n"
          ]
        }
      ]
    },
    {
      "cell_type": "code",
      "source": [
        "#looping through a string\n",
        "for i in \"banana\":\n",
        "  print(i)"
      ],
      "metadata": {
        "id": "39o648jMQweq",
        "colab": {
          "base_uri": "https://localhost:8080/"
        },
        "outputId": "d8da1c03-ca59-4830-b584-13d6afd42bcc"
      },
      "execution_count": null,
      "outputs": [
        {
          "output_type": "stream",
          "name": "stdout",
          "text": [
            "b\n",
            "a\n",
            "n\n",
            "a\n",
            "n\n",
            "a\n"
          ]
        }
      ]
    },
    {
      "cell_type": "code",
      "source": [
        "a=\"banana\"\n",
        "for i in a:\n",
        "  print(i)"
      ],
      "metadata": {
        "id": "gSllRiybQ7Ug",
        "colab": {
          "base_uri": "https://localhost:8080/"
        },
        "outputId": "b075aa48-2e7e-4c83-8f62-0d7ab8069e1b"
      },
      "execution_count": null,
      "outputs": [
        {
          "output_type": "stream",
          "name": "stdout",
          "text": [
            "b\n",
            "a\n",
            "n\n",
            "a\n",
            "n\n",
            "a\n"
          ]
        }
      ]
    },
    {
      "cell_type": "code",
      "source": [
        "#strin length (size) using len()\n",
        "a=\"Hello, World\"\n",
        "print(len(a))\n",
        "print(len(\"hello\"))"
      ],
      "metadata": {
        "id": "dGjw_wRmRDJF",
        "colab": {
          "base_uri": "https://localhost:8080/"
        },
        "outputId": "40086fee-7af5-4fa1-b4d0-1ec7c89e9e8a"
      },
      "execution_count": null,
      "outputs": [
        {
          "output_type": "stream",
          "name": "stdout",
          "text": [
            "12\n",
            "5\n"
          ]
        }
      ]
    },
    {
      "cell_type": "code",
      "source": [
        "#To check the string\n",
        "txt=\"the best things in life are free\"\n",
        "print(\"esti\" in txt)"
      ],
      "metadata": {
        "id": "R3nFxBQDRPtl",
        "colab": {
          "base_uri": "https://localhost:8080/"
        },
        "outputId": "6b62ede5-fc62-4acf-f3c9-1b9c56fb8091"
      },
      "execution_count": null,
      "outputs": [
        {
          "output_type": "stream",
          "name": "stdout",
          "text": [
            "False\n"
          ]
        }
      ]
    },
    {
      "cell_type": "code",
      "source": [
        "# To check the string using if else condition\n",
        "txt=\"the best things in life are free\"\n",
        "if \"best\" in txt:\n",
        "  print(\"Yes, this is present\")\n",
        "else:\n",
        "  print(\"No, this is not present\")"
      ],
      "metadata": {
        "id": "xy4hH6-jRjsk",
        "colab": {
          "base_uri": "https://localhost:8080/"
        },
        "outputId": "01fd4a79-5028-4a99-b99d-041ac7ed9932"
      },
      "execution_count": null,
      "outputs": [
        {
          "output_type": "stream",
          "name": "stdout",
          "text": [
            "Yes, this is present\n"
          ]
        }
      ]
    },
    {
      "cell_type": "code",
      "source": [
        "#Slicing a string\n",
        "b=\"Hello, World\"\n",
        "print(b[9])\n",
        "print(b[0:5])"
      ],
      "metadata": {
        "id": "OBW6JBuYR9bj",
        "colab": {
          "base_uri": "https://localhost:8080/"
        },
        "outputId": "80ffbff4-383e-4e1f-c70b-b01b7caac92f"
      },
      "execution_count": null,
      "outputs": [
        {
          "output_type": "stream",
          "name": "stdout",
          "text": [
            "r\n",
            "Hello\n"
          ]
        }
      ]
    },
    {
      "cell_type": "code",
      "source": [
        "#slice to the end of a string\n",
        "b=\"Hello, World\"\n",
        "print(b[2:])"
      ],
      "metadata": {
        "id": "wB2zGCF-Sa0S",
        "colab": {
          "base_uri": "https://localhost:8080/"
        },
        "outputId": "87e4db8c-4ebc-4c16-f28f-2b7b2ccb64cc"
      },
      "execution_count": null,
      "outputs": [
        {
          "output_type": "stream",
          "name": "stdout",
          "text": [
            "llo, World\n"
          ]
        }
      ]
    },
    {
      "cell_type": "code",
      "source": [
        "#slice from the start\n",
        "b=\"Hello, World\"\n",
        "print(b[:5])"
      ],
      "metadata": {
        "id": "we6-9KwwSkjy",
        "colab": {
          "base_uri": "https://localhost:8080/"
        },
        "outputId": "3e1ae7a6-f2fe-4411-eda6-b3197a4ac509"
      },
      "execution_count": null,
      "outputs": [
        {
          "output_type": "stream",
          "name": "stdout",
          "text": [
            "Hello\n"
          ]
        }
      ]
    },
    {
      "cell_type": "code",
      "source": [
        "#Negative Indexing\n",
        "b=\"Hello,world\"\n",
        "print(b[3:-1])"
      ],
      "metadata": {
        "id": "JtXxMzS9Su85",
        "colab": {
          "base_uri": "https://localhost:8080/"
        },
        "outputId": "40365304-1c82-4c59-8dcb-0d359210446d"
      },
      "execution_count": null,
      "outputs": [
        {
          "output_type": "stream",
          "name": "stdout",
          "text": [
            "lo,worl\n"
          ]
        }
      ]
    },
    {
      "cell_type": "code",
      "source": [
        "#example for step size\n",
        "b=\"Hello,world\"\n",
        "print(len(b))\n",
        "print(b[0:8:2])"
      ],
      "metadata": {
        "colab": {
          "base_uri": "https://localhost:8080/"
        },
        "id": "SbUk9FOu0Zd1",
        "outputId": "dc968719-0fa6-434b-8148-979444af9d7a"
      },
      "execution_count": null,
      "outputs": [
        {
          "output_type": "stream",
          "name": "stdout",
          "text": [
            "11\n",
            "Hlow\n"
          ]
        }
      ]
    },
    {
      "cell_type": "code",
      "source": [
        "#string reverse in python\n",
        "b=\"Hello,world\"\n",
        "print(b[ : :])"
      ],
      "metadata": {
        "colab": {
          "base_uri": "https://localhost:8080/"
        },
        "id": "L2ZGksPCw2tp",
        "outputId": "10f615a0-576f-4d57-dc6e-6e461d105020"
      },
      "execution_count": null,
      "outputs": [
        {
          "output_type": "stream",
          "name": "stdout",
          "text": [
            "Hello,world\n"
          ]
        }
      ]
    },
    {
      "cell_type": "markdown",
      "source": [
        "# END CLASS"
      ],
      "metadata": {
        "id": "qNbx21UG_05p"
      }
    },
    {
      "cell_type": "code",
      "source": [
        ""
      ],
      "metadata": {
        "id": "47SAJtHr_xqb"
      },
      "execution_count": null,
      "outputs": []
    },
    {
      "cell_type": "code",
      "source": [
        ""
      ],
      "metadata": {
        "id": "RB54ATla_x0R"
      },
      "execution_count": null,
      "outputs": []
    },
    {
      "cell_type": "code",
      "source": [
        ""
      ],
      "metadata": {
        "id": "O132jZkq_x1_"
      },
      "execution_count": null,
      "outputs": []
    },
    {
      "cell_type": "code",
      "source": [
        ""
      ],
      "metadata": {
        "id": "BWpAge_B_x3b"
      },
      "execution_count": null,
      "outputs": []
    },
    {
      "cell_type": "code",
      "source": [
        ""
      ],
      "metadata": {
        "id": "50vBYRIR_x5M"
      },
      "execution_count": null,
      "outputs": []
    },
    {
      "cell_type": "code",
      "source": [
        ""
      ],
      "metadata": {
        "id": "842EyYmG_x7-"
      },
      "execution_count": null,
      "outputs": []
    },
    {
      "cell_type": "markdown",
      "source": [
        "#lecture 9.1 **String methods**"
      ],
      "metadata": {
        "id": "hjM8urdfS-5b"
      }
    },
    {
      "cell_type": "code",
      "source": [
        ""
      ],
      "metadata": {
        "id": "kNVAZnqITBoS"
      },
      "execution_count": null,
      "outputs": []
    },
    {
      "cell_type": "markdown",
      "source": [
        "1. **capitalize()**\n",
        "\n",
        "Upper case the first letter in this string:"
      ],
      "metadata": {
        "id": "wQdKFGpLTE1H"
      }
    },
    {
      "cell_type": "code",
      "source": [
        "#Upper case the first letter\n",
        "txt = \"hello, and Welcome to my world.\"\n",
        "\n",
        "x = txt.capitalize()\n",
        "\n",
        "print (x)"
      ],
      "metadata": {
        "id": "fXpRkY7aTbQ6",
        "colab": {
          "base_uri": "https://localhost:8080/"
        },
        "outputId": "99b3ffc2-f9cb-41be-95b2-e89edc5a0b95"
      },
      "execution_count": 7,
      "outputs": [
        {
          "output_type": "stream",
          "name": "stdout",
          "text": [
            "Hello, and welcome to my world.\n"
          ]
        }
      ]
    },
    {
      "cell_type": "code",
      "source": [
        "#The first character is converted to upper case, and the rest are converted to lower case:\n",
        "txt = \"hello, and welcome to MY WORLD.\"\n",
        "\n",
        "x=txt.capitalize()\n",
        "\n",
        "print (x)\n",
        "print(txt)"
      ],
      "metadata": {
        "id": "qsK8YfLOTz6g",
        "colab": {
          "base_uri": "https://localhost:8080/"
        },
        "outputId": "16ce1724-a0c0-4521-9a95-402daf4fe08a"
      },
      "execution_count": 11,
      "outputs": [
        {
          "output_type": "stream",
          "name": "stdout",
          "text": [
            "Hello, and welcome to my world.\n",
            "hello, and welcome to MY WORLD.\n"
          ]
        }
      ]
    },
    {
      "cell_type": "code",
      "source": [
        "#See what happens if the first character is a number:\n",
        "\n",
        "txt = \"36 Is my age.\"\n",
        "\n",
        "x = txt.capitalize()\n",
        "\n",
        "print (x)"
      ],
      "metadata": {
        "id": "c4uda3XfUSAB",
        "colab": {
          "base_uri": "https://localhost:8080/"
        },
        "outputId": "d9486c6a-728a-47bb-8aa0-812762c00a0a"
      },
      "execution_count": 12,
      "outputs": [
        {
          "output_type": "stream",
          "name": "stdout",
          "text": [
            "36 is my age.\n"
          ]
        }
      ]
    },
    {
      "cell_type": "code",
      "source": [
        ""
      ],
      "metadata": {
        "id": "sW_Pjnr1VFF6"
      },
      "execution_count": null,
      "outputs": []
    },
    {
      "cell_type": "markdown",
      "source": [
        "2. **upper()**\n",
        "\n",
        "The **upper()** method returns a string where all characters are in upper case.\n",
        "\n",
        " Symbols and Numbers are ignored.\n"
      ],
      "metadata": {
        "id": "MvBtCR0zVFtr"
      }
    },
    {
      "cell_type": "code",
      "source": [
        "#Upper case the string:\n",
        "\n",
        "txt = \"Hello my friends\"\n",
        "\n",
        "x = txt.upper()\n",
        "\n",
        "print(x)"
      ],
      "metadata": {
        "id": "8MixtFLiVXoe",
        "colab": {
          "base_uri": "https://localhost:8080/"
        },
        "outputId": "584c7f8c-62d4-4778-ec60-8a156cc8333e"
      },
      "execution_count": null,
      "outputs": [
        {
          "output_type": "stream",
          "name": "stdout",
          "text": [
            "HELLO MY FRIENDS\n"
          ]
        }
      ]
    },
    {
      "cell_type": "code",
      "source": [
        "#Upper case the string numbers and symbols are ignored\n",
        "\n",
        "txt = \"Hello my friends_203\"\n",
        "\n",
        "x = txt.upper()\n",
        "\n",
        "print(x)"
      ],
      "metadata": {
        "id": "J56E_KkAVjEW",
        "colab": {
          "base_uri": "https://localhost:8080/"
        },
        "outputId": "2eb3220d-7fce-4950-8352-738abc693f61"
      },
      "execution_count": null,
      "outputs": [
        {
          "output_type": "stream",
          "name": "stdout",
          "text": [
            "HELLO MY FRIENDS_203\n"
          ]
        }
      ]
    },
    {
      "cell_type": "markdown",
      "source": [
        ""
      ],
      "metadata": {
        "id": "3OqHlBuPVF4U"
      }
    },
    {
      "cell_type": "markdown",
      "source": [
        "3.**casefold()**\n",
        "\n",
        "The casefold() method returns a string where all the characters are lower case.\n",
        "\n"
      ],
      "metadata": {
        "id": "QcixBesiTmT7"
      }
    },
    {
      "cell_type": "code",
      "source": [
        "#Make the string lower case:\n",
        "\n",
        "txt = \"Hello, And Welcome To My World!\"\n",
        "\n",
        "x = txt.casefold()\n",
        "\n",
        "print(x)"
      ],
      "metadata": {
        "id": "iZNEZvFtUwQC",
        "colab": {
          "base_uri": "https://localhost:8080/"
        },
        "outputId": "b091dd76-113d-4714-904e-eabe9dec2196"
      },
      "execution_count": null,
      "outputs": [
        {
          "output_type": "stream",
          "name": "stdout",
          "text": [
            "hello, and welcome to my world!\n"
          ]
        }
      ]
    },
    {
      "cell_type": "markdown",
      "source": [
        "4. **lower()**\n",
        "\n",
        "The lower() method returns a string where all characters are lower case.\n",
        "\n",
        " Symbols and Numbers are ignored."
      ],
      "metadata": {
        "id": "bW_-WuD2VyvI"
      }
    },
    {
      "cell_type": "code",
      "source": [
        "#lower case the string:\n",
        "txt = \"Hello my FRIENDS\"\n",
        "\n",
        "x = txt.lower()\n",
        "\n",
        "print(x)"
      ],
      "metadata": {
        "id": "lswl3jSsV6-c",
        "colab": {
          "base_uri": "https://localhost:8080/"
        },
        "outputId": "2c1b1e92-b045-4681-d5ac-a324b0e012b0"
      },
      "execution_count": null,
      "outputs": [
        {
          "output_type": "stream",
          "name": "stdout",
          "text": [
            "hello my friends\n"
          ]
        }
      ]
    },
    {
      "cell_type": "markdown",
      "source": [
        "#5. **center()**\n",
        "\n",
        "The center() method will center align the string, using a specified character (space is default) as the fill character."
      ],
      "metadata": {
        "id": "q2DGM59FWEjK"
      }
    },
    {
      "cell_type": "code",
      "source": [
        ""
      ],
      "metadata": {
        "id": "faU6KHNmZANS"
      },
      "execution_count": null,
      "outputs": []
    },
    {
      "cell_type": "code",
      "source": [
        "#Print the word \"banana\", taking up the space of 20 characters, with \"banana\" in the middle:\n",
        "\n",
        "txt = \"banana\"\n",
        "\n",
        "x = txt.center(20)\n",
        "\n",
        "print(x)\n",
        "print(len(x))"
      ],
      "metadata": {
        "id": "njjb73UtWRDX",
        "colab": {
          "base_uri": "https://localhost:8080/"
        },
        "outputId": "8f605c16-6d71-409a-b91e-1fd01f8dce0b"
      },
      "execution_count": 13,
      "outputs": [
        {
          "output_type": "stream",
          "name": "stdout",
          "text": [
            "       banana       \n",
            "20\n"
          ]
        }
      ]
    },
    {
      "cell_type": "code",
      "source": [
        "#Using the letter \"*\" as the padding character:\n",
        "\n",
        "txt = \"banana\"\n",
        "\n",
        "x = txt.center(100, \"*\")\n",
        "\n",
        "print(x)\n",
        "len(x)"
      ],
      "metadata": {
        "id": "pZGFBm7kWZhf",
        "colab": {
          "base_uri": "https://localhost:8080/"
        },
        "outputId": "6bae820f-d20d-47f8-c8ef-e158a95f7799"
      },
      "execution_count": 4,
      "outputs": [
        {
          "output_type": "stream",
          "name": "stdout",
          "text": [
            "***********************************************banana***********************************************\n"
          ]
        },
        {
          "output_type": "execute_result",
          "data": {
            "text/plain": [
              "100"
            ]
          },
          "metadata": {},
          "execution_count": 4
        }
      ]
    },
    {
      "cell_type": "code",
      "source": [
        "txt='k'\n",
        "x=txt.center(6,\"@\")\n",
        "print(x)\n",
        "print(len(x))"
      ],
      "metadata": {
        "colab": {
          "base_uri": "https://localhost:8080/"
        },
        "id": "LqW8_zQRntJw",
        "outputId": "0affc4c6-ceda-4c63-9da7-30e7cf8a6021"
      },
      "execution_count": 14,
      "outputs": [
        {
          "output_type": "stream",
          "name": "stdout",
          "text": [
            "@@k@@@\n",
            "6\n"
          ]
        }
      ]
    },
    {
      "cell_type": "markdown",
      "source": [
        "#6. **count()**\n",
        "\n",
        "The count() method returns the number of times a specified value appears in the string.\n",
        "\n",
        "**Syntax**\n",
        "\n",
        "string.count(value, start, end)"
      ],
      "metadata": {
        "id": "Pr3JHKXzWg7c"
      }
    },
    {
      "cell_type": "code",
      "source": [
        "#Return the number of times the value \"apple\" appears in the string:\n",
        "\n",
        "txt = \"I love apples, apple are my favorite fruit\"\n",
        "\n",
        "x = txt.count(\"apple\")\n",
        "\n",
        "print(x)"
      ],
      "metadata": {
        "id": "4aVjDV4VWwOh",
        "colab": {
          "base_uri": "https://localhost:8080/"
        },
        "outputId": "d937b59b-0666-456b-9f29-5c284caba4c1"
      },
      "execution_count": null,
      "outputs": [
        {
          "output_type": "stream",
          "name": "stdout",
          "text": [
            "2\n"
          ]
        }
      ]
    },
    {
      "cell_type": "code",
      "source": [
        "#Search from index 7 to 24:\n",
        "\n",
        "txt = \"I love apples, apple are my favorite fruit\"\n",
        "\n",
        "x = txt.count(\"apple\", 7, 19)\n",
        "\n",
        "print(x)"
      ],
      "metadata": {
        "id": "563qPDakW4mi",
        "colab": {
          "base_uri": "https://localhost:8080/"
        },
        "outputId": "7bf6333e-df20-45d9-c4e8-bb36d158592a"
      },
      "execution_count": 19,
      "outputs": [
        {
          "output_type": "stream",
          "name": "stdout",
          "text": [
            "1\n"
          ]
        }
      ]
    },
    {
      "cell_type": "markdown",
      "source": [
        "#7. **endswith()**\n",
        "\n",
        "The endswith() method returns True if the string ends with the specified value, otherwise False.\n",
        "\n",
        "**Syntax**\n",
        "\n",
        "string.endswith(value, start, end)\n"
      ],
      "metadata": {
        "id": "WTmNYzCJb3xq"
      }
    },
    {
      "cell_type": "code",
      "source": [
        "#Check if the string ends with a punctuation sign (.):\n",
        "\n",
        "txt = \"Hello, welcome to my world.\"\n",
        "\n",
        "x = txt.endswith(\"word.\")\n",
        "\n",
        "print(x)"
      ],
      "metadata": {
        "id": "uPGYQktTZy4T",
        "colab": {
          "base_uri": "https://localhost:8080/"
        },
        "outputId": "0fd8dcce-f536-4723-f01e-3776dfa0d925"
      },
      "execution_count": 23,
      "outputs": [
        {
          "output_type": "stream",
          "name": "stdout",
          "text": [
            "False\n"
          ]
        }
      ]
    },
    {
      "cell_type": "code",
      "source": [
        "#Check if the string ends with the phrase \"my world.\":\n",
        "\n",
        "txt = \"Hello, welcome to my world.\"\n",
        "\n",
        "x = txt.endswith(\"my world.\")\n",
        "\n",
        "print(x)"
      ],
      "metadata": {
        "id": "r8uaAxiNcqcz",
        "colab": {
          "base_uri": "https://localhost:8080/"
        },
        "outputId": "87fb2aa1-da6d-41c4-af16-1292fc6d3c92"
      },
      "execution_count": null,
      "outputs": [
        {
          "output_type": "stream",
          "name": "stdout",
          "text": [
            "True\n"
          ]
        }
      ]
    },
    {
      "cell_type": "code",
      "source": [
        "#Check if position 5 to 11 ends with the phrase \"my world.\":\n",
        "\n",
        "txt = \"Hello, welcome to my world.\"\n",
        "\n",
        "x = txt.endswith(\"c\", 5, 10)\n",
        "\n",
        "print(x)"
      ],
      "metadata": {
        "id": "Zj3BUPjscyV4",
        "colab": {
          "base_uri": "https://localhost:8080/"
        },
        "outputId": "5eff7bff-173a-4536-e997-967d694c1fbd"
      },
      "execution_count": 24,
      "outputs": [
        {
          "output_type": "stream",
          "name": "stdout",
          "text": [
            "False\n"
          ]
        }
      ]
    },
    {
      "cell_type": "markdown",
      "source": [
        "#8.  **expandtabs()**\n",
        "\n",
        "The expandtabs() method sets the tab size to the specified number of whitespaces.\n",
        "\n",
        "**Syntax**\n",
        "\n",
        "\n",
        "string.expandtabs(tabsize)"
      ],
      "metadata": {
        "id": "SyRo0_28c4Vs"
      }
    },
    {
      "cell_type": "code",
      "source": [
        ""
      ],
      "metadata": {
        "id": "9qU_I45NsEhc"
      },
      "execution_count": null,
      "outputs": []
    },
    {
      "cell_type": "code",
      "source": [
        "print('H\\te\\tl\\tl\\to')"
      ],
      "metadata": {
        "id": "5F08RCV6dbS5",
        "colab": {
          "base_uri": "https://localhost:8080/"
        },
        "outputId": "dd80dce9-f49e-4ae4-b996-587c5e2bb2b1"
      },
      "execution_count": null,
      "outputs": [
        {
          "output_type": "stream",
          "name": "stdout",
          "text": [
            "H\te\tl\tl\to\n"
          ]
        }
      ]
    },
    {
      "cell_type": "code",
      "source": [
        "txt = 'H\\te\\tl\\tl\\to'\n",
        "print(txt)\n",
        "x=txt.expandtabs()\n",
        "print(x)"
      ],
      "metadata": {
        "colab": {
          "base_uri": "https://localhost:8080/"
        },
        "id": "imAwTRdTuSg7",
        "outputId": "8e2c6438-cee0-410f-f02c-94b409130555"
      },
      "execution_count": 28,
      "outputs": [
        {
          "output_type": "stream",
          "name": "stdout",
          "text": [
            "H\te\tl\tl\to\n",
            "H       e       l       l       o\n"
          ]
        }
      ]
    },
    {
      "cell_type": "code",
      "source": [
        "#Set the tab size to 0 whitespaces:\n",
        "\n",
        "txt = 'H\\te\\tl\\tl\\to'\n",
        "print(txt)\n",
        "x=txt.expandtabs(0)\n",
        "print(x)"
      ],
      "metadata": {
        "id": "e-eqsSGVc-_R",
        "colab": {
          "base_uri": "https://localhost:8080/"
        },
        "outputId": "cff45f2c-4caa-4eb7-9e3f-822988d40de8"
      },
      "execution_count": 32,
      "outputs": [
        {
          "output_type": "stream",
          "name": "stdout",
          "text": [
            "H\te\tl\tl\to\n",
            "Hello\n"
          ]
        }
      ]
    },
    {
      "cell_type": "code",
      "source": [
        "y =  txt.expandtabs(10)\n",
        "print(y)"
      ],
      "metadata": {
        "colab": {
          "base_uri": "https://localhost:8080/"
        },
        "id": "_7wfe9hysNir",
        "outputId": "0a0f9fbd-bd8a-4d05-984b-9888d16ebcd1"
      },
      "execution_count": 33,
      "outputs": [
        {
          "output_type": "stream",
          "name": "stdout",
          "text": [
            "H         e         l         l         o\n"
          ]
        }
      ]
    },
    {
      "cell_type": "code",
      "source": [
        "#See the result using different tab sizes:\n",
        "\n",
        "txt = \"H\\te\\tl\\tl\\to\"\n",
        "\n",
        "print(txt)\n",
        "print(txt.expandtabs(1))\n",
        "print(txt.expandtabs(2))\n",
        "print(txt.expandtabs(4))\n",
        "print(txt.expandtabs(10))"
      ],
      "metadata": {
        "id": "v6uVW8_5dceY",
        "colab": {
          "base_uri": "https://localhost:8080/"
        },
        "outputId": "9f60f86e-c3a0-4396-8b9d-1f6ee4bc49f7"
      },
      "execution_count": 34,
      "outputs": [
        {
          "output_type": "stream",
          "name": "stdout",
          "text": [
            "H\te\tl\tl\to\n",
            "H e l l o\n",
            "H e l l o\n",
            "H   e   l   l   o\n",
            "H         e         l         l         o\n"
          ]
        }
      ]
    },
    {
      "cell_type": "markdown",
      "source": [
        "#9. **index()**\n",
        "\n",
        "The index() method finds the first occurrence of the specified value.\n",
        "\n",
        "The index() method raises an exception if the value is not found.\n",
        "\n",
        "**Syntax**\n",
        "\n",
        "string.index(value, start, end)"
      ],
      "metadata": {
        "id": "sQtdeE7ldrLb"
      }
    },
    {
      "cell_type": "code",
      "source": [
        "#Where in the text is the word \"welcome\"?:\n",
        "\n",
        "txt = \"Hello, welcome to my world.\"\n",
        "\n",
        "x = txt.index(\"e\")\n",
        "\n",
        "print(x)"
      ],
      "metadata": {
        "id": "nPDEhsFUeeY3",
        "colab": {
          "base_uri": "https://localhost:8080/"
        },
        "outputId": "860286ea-6f5b-47c0-e627-e1e94d20e3d4"
      },
      "execution_count": null,
      "outputs": [
        {
          "output_type": "stream",
          "name": "stdout",
          "text": [
            "1\n"
          ]
        }
      ]
    },
    {
      "cell_type": "code",
      "source": [
        "#Where in the text is the first occurrence of the letter \"e\"?:\n",
        "\n",
        "txt = \"Hello, welcome to my world.\"\n",
        "\n",
        "x = txt.index(\"h\")\n",
        "\n",
        "print(x)"
      ],
      "metadata": {
        "id": "wC_0Nro5eyGm",
        "colab": {
          "base_uri": "https://localhost:8080/",
          "height": 235
        },
        "outputId": "516c7642-1410-4548-a8e9-59b1e0a8d693"
      },
      "execution_count": 35,
      "outputs": [
        {
          "output_type": "error",
          "ename": "ValueError",
          "evalue": "ignored",
          "traceback": [
            "\u001b[0;31m---------------------------------------------------------------------------\u001b[0m",
            "\u001b[0;31mValueError\u001b[0m                                Traceback (most recent call last)",
            "\u001b[0;32m<ipython-input-35-f037a12a495f>\u001b[0m in \u001b[0;36m<module>\u001b[0;34m()\u001b[0m\n\u001b[1;32m      3\u001b[0m \u001b[0mtxt\u001b[0m \u001b[0;34m=\u001b[0m \u001b[0;34m\"Hello, welcome to my world.\"\u001b[0m\u001b[0;34m\u001b[0m\u001b[0;34m\u001b[0m\u001b[0m\n\u001b[1;32m      4\u001b[0m \u001b[0;34m\u001b[0m\u001b[0m\n\u001b[0;32m----> 5\u001b[0;31m \u001b[0mx\u001b[0m \u001b[0;34m=\u001b[0m \u001b[0mtxt\u001b[0m\u001b[0;34m.\u001b[0m\u001b[0mindex\u001b[0m\u001b[0;34m(\u001b[0m\u001b[0;34m\"h\"\u001b[0m\u001b[0;34m)\u001b[0m\u001b[0;34m\u001b[0m\u001b[0;34m\u001b[0m\u001b[0m\n\u001b[0m\u001b[1;32m      6\u001b[0m \u001b[0;34m\u001b[0m\u001b[0m\n\u001b[1;32m      7\u001b[0m \u001b[0mprint\u001b[0m\u001b[0;34m(\u001b[0m\u001b[0mx\u001b[0m\u001b[0;34m)\u001b[0m\u001b[0;34m\u001b[0m\u001b[0;34m\u001b[0m\u001b[0m\n",
            "\u001b[0;31mValueError\u001b[0m: substring not found"
          ]
        }
      ]
    },
    {
      "cell_type": "code",
      "source": [
        "#Where in the text is the first occurrence of the letter \"e\" when you only search between position 5 and 10?:\n",
        "\n",
        "txt = \"Hello, welcome to my world.\"\n",
        "\n",
        "x = txt.index(\"e\", 5, 10)\n",
        "\n",
        "print(x)"
      ],
      "metadata": {
        "id": "oLtHTqY4e3vB",
        "colab": {
          "base_uri": "https://localhost:8080/"
        },
        "outputId": "1b2e6ebd-f62e-4025-f530-d715e4fa1491"
      },
      "execution_count": 36,
      "outputs": [
        {
          "output_type": "stream",
          "name": "stdout",
          "text": [
            "8\n"
          ]
        }
      ]
    },
    {
      "cell_type": "markdown",
      "source": [
        "#10.**find()**\n",
        "\n",
        "The find() method finds the first occurrence of the specified value.\n",
        "\n",
        "The find() method returns -1 if the value is not found.\n",
        "\n",
        "**Syntax**\n",
        "\n",
        "string.find(value, start, end)"
      ],
      "metadata": {
        "id": "xlhOSBsgehXt"
      }
    },
    {
      "cell_type": "code",
      "source": [
        "#Where in the text is the first occurrence of the letter \"e\"?:\n",
        "\n",
        "txt = \"Hello, welcome to my world.\"\n",
        "\n",
        "x = txt.find(\"e\")\n",
        "y=txt.index('e')\n",
        "print(x)\n",
        "print(y)"
      ],
      "metadata": {
        "id": "ujLEFOvzeqVT",
        "colab": {
          "base_uri": "https://localhost:8080/"
        },
        "outputId": "2febc571-81af-49a9-b091-f4b9e09797a4"
      },
      "execution_count": null,
      "outputs": [
        {
          "output_type": "stream",
          "name": "stdout",
          "text": [
            "1\n",
            "1\n"
          ]
        }
      ]
    },
    {
      "cell_type": "code",
      "source": [
        "#Where in the text is the first occurrence of the letter \"e\" when you only search between position 5 and 10?:\n",
        "\n",
        "txt = \"Hello, welcome to my world.\"\n",
        "\n",
        "x = txt.find(\"e\", 5, 10)\n",
        "\n",
        "print(x)"
      ],
      "metadata": {
        "id": "QE78FabDfX7e",
        "colab": {
          "base_uri": "https://localhost:8080/"
        },
        "outputId": "3df2b963-ae01-4664-bf78-d761d23ac970"
      },
      "execution_count": null,
      "outputs": [
        {
          "output_type": "stream",
          "name": "stdout",
          "text": [
            "8\n"
          ]
        }
      ]
    },
    {
      "cell_type": "code",
      "source": [
        ""
      ],
      "metadata": {
        "id": "X5Ls8qGGeqjK"
      },
      "execution_count": null,
      "outputs": []
    },
    {
      "cell_type": "markdown",
      "source": [
        "**difference between index() and find()**"
      ],
      "metadata": {
        "id": "K7Wq8vYoe-3w"
      }
    },
    {
      "cell_type": "code",
      "source": [
        "#If the value is not found, the find() method returns -1, but the index() method will raise an exception:\n",
        "\n",
        "txt = \"Hello, welcome to my world.\"\n",
        "#print(txt.index(\"q\"))\n",
        "print(txt.find(\"q\"))\n"
      ],
      "metadata": {
        "id": "AVnTibC8eqkn",
        "colab": {
          "base_uri": "https://localhost:8080/",
          "height": 218
        },
        "outputId": "b1819a71-a915-4d44-e7f9-11e770e7f1f0"
      },
      "execution_count": 38,
      "outputs": [
        {
          "output_type": "error",
          "ename": "ValueError",
          "evalue": "ignored",
          "traceback": [
            "\u001b[0;31m---------------------------------------------------------------------------\u001b[0m",
            "\u001b[0;31mValueError\u001b[0m                                Traceback (most recent call last)",
            "\u001b[0;32m<ipython-input-38-67386992cd07>\u001b[0m in \u001b[0;36m<module>\u001b[0;34m()\u001b[0m\n\u001b[1;32m      2\u001b[0m \u001b[0;34m\u001b[0m\u001b[0m\n\u001b[1;32m      3\u001b[0m \u001b[0mtxt\u001b[0m \u001b[0;34m=\u001b[0m \u001b[0;34m\"Hello, welcome to my world.\"\u001b[0m\u001b[0;34m\u001b[0m\u001b[0;34m\u001b[0m\u001b[0m\n\u001b[0;32m----> 4\u001b[0;31m \u001b[0mprint\u001b[0m\u001b[0;34m(\u001b[0m\u001b[0mtxt\u001b[0m\u001b[0;34m.\u001b[0m\u001b[0mindex\u001b[0m\u001b[0;34m(\u001b[0m\u001b[0;34m\"q\"\u001b[0m\u001b[0;34m)\u001b[0m\u001b[0;34m)\u001b[0m\u001b[0;34m\u001b[0m\u001b[0;34m\u001b[0m\u001b[0m\n\u001b[0m\u001b[1;32m      5\u001b[0m \u001b[0;31m#print(txt.find(\"q\"))\u001b[0m\u001b[0;34m\u001b[0m\u001b[0;34m\u001b[0m\u001b[0;34m\u001b[0m\u001b[0m\n",
            "\u001b[0;31mValueError\u001b[0m: substring not found"
          ]
        }
      ]
    },
    {
      "cell_type": "code",
      "source": [
        "txt = \"Hello, welcome to my world.\"\n",
        "print(txt.index(\"welcome\"))\n",
        "print(txt.find(\"welcome\"))"
      ],
      "metadata": {
        "id": "wcZISyckeqoh",
        "colab": {
          "base_uri": "https://localhost:8080/"
        },
        "outputId": "9688f201-3a66-4201-bc59-70bf6238cf9e"
      },
      "execution_count": 40,
      "outputs": [
        {
          "output_type": "stream",
          "name": "stdout",
          "text": [
            "7\n",
            "7\n"
          ]
        }
      ]
    },
    {
      "cell_type": "markdown",
      "source": [
        "#11. **format() Method**\n",
        "\n",
        "The **format()** method formats the specified value(s) and insert them inside the string's placeholder.\n",
        "\n",
        "The placeholder is defined using curly brackets: {}. Read more about the placeholders in the Placeholder section below.\n",
        "\n",
        "The **format()** method returns the formatted string\n",
        "\n",
        "**Syntax**\n",
        "\n",
        "string.format(value1, value2...)"
      ],
      "metadata": {
        "id": "TnkP6knhfglh"
      }
    },
    {
      "cell_type": "markdown",
      "source": [
        "**The Placeholders**\n",
        "\n",
        "The placeholders can be identified using named indexes {price}, numbered indexes {0}, or even empty placeholders {}."
      ],
      "metadata": {
        "id": "i665Tg_8gun_"
      }
    },
    {
      "cell_type": "code",
      "source": [
        "#Using different placeholder values:\n",
        "\n",
        "txt1 = \"My name is {fname}, I'm {age}\".format(fname = \"John\", age = 36)\n",
        "txt2 = \"My name is {1}, I'm {0}\".format(\"John\",36)\n",
        "txt3 = \"My name is {}, I'm {}\".format(\"John\",36)\n",
        "print(txt1)\n",
        "print(txt2)\n",
        "print(txt3)"
      ],
      "metadata": {
        "id": "15N7OZIJgdPz",
        "colab": {
          "base_uri": "https://localhost:8080/"
        },
        "outputId": "55c32b4c-9dfb-4a91-b0f7-3b37130e101d"
      },
      "execution_count": 41,
      "outputs": [
        {
          "output_type": "stream",
          "name": "stdout",
          "text": [
            "My name is John, I'm 36\n",
            "My name is 36, I'm John\n",
            "My name is John, I'm 36\n"
          ]
        }
      ]
    },
    {
      "cell_type": "markdown",
      "source": [
        "#12.  **Formatting Types**\n",
        "\n",
        "Inside the placeholders you can add a formatting type to format the result:\n",
        "\n"
      ],
      "metadata": {
        "id": "41zndHOsiDkP"
      }
    },
    {
      "cell_type": "code",
      "source": [
        "#insert the number 8 to set the available space for the value to 8 characters.\n",
        "\n",
        "#Use \"<\" to left-align the value:\n",
        "\n",
        "txt = \"We have {:<8} chickens.\"\n",
        "print(txt.format(49))"
      ],
      "metadata": {
        "id": "k56qjcsYicFJ",
        "colab": {
          "base_uri": "https://localhost:8080/"
        },
        "outputId": "006d78ac-8088-4818-8f62-d6ff54ee89d3"
      },
      "execution_count": null,
      "outputs": [
        {
          "output_type": "stream",
          "name": "stdout",
          "text": [
            "We have 49       chickens.\n"
          ]
        }
      ]
    },
    {
      "cell_type": "code",
      "source": [
        "#insert the number 8 to set the available space for the value to 8 characters.\n",
        "\n",
        "#Use \">\" to right-align the value:\n",
        "\n",
        "txt = \"We have {:>8} chickens.\"\n",
        "print(txt.format(49))"
      ],
      "metadata": {
        "id": "QmuEyYXAiiof",
        "colab": {
          "base_uri": "https://localhost:8080/"
        },
        "outputId": "9497f2f2-48eb-4e36-e1b7-76f2a859e744"
      },
      "execution_count": null,
      "outputs": [
        {
          "output_type": "stream",
          "name": "stdout",
          "text": [
            "We have       49 chickens.\n"
          ]
        }
      ]
    },
    {
      "cell_type": "code",
      "source": [
        "#insert the number 8 to set the available space for the value to 8 characters.\n",
        "\n",
        "#default value aligns to right\n",
        "\n",
        "txt = \"We have {:8} chickens.\"\n",
        "print(txt.format(49))"
      ],
      "metadata": {
        "id": "pIVbjpPqS8Ln",
        "colab": {
          "base_uri": "https://localhost:8080/"
        },
        "outputId": "602c6791-575a-4b5b-9b3e-8f5508d88614"
      },
      "execution_count": null,
      "outputs": [
        {
          "output_type": "stream",
          "name": "stdout",
          "text": [
            "We have       49 chickens.\n"
          ]
        }
      ]
    },
    {
      "cell_type": "code",
      "source": [
        "#insert the number 8 to set the available space for the value to 8 characters.\n",
        "\n",
        "#Use \"^\" to center-align the value:\n",
        "\n",
        "txt = \"We have {:^8} chickens.\"\n",
        "print(txt.format(49))"
      ],
      "metadata": {
        "id": "liZ_rDm-jlPW",
        "colab": {
          "base_uri": "https://localhost:8080/"
        },
        "outputId": "cd72dafb-8579-4a3f-d69a-a08ec9e6c664"
      },
      "execution_count": null,
      "outputs": [
        {
          "output_type": "stream",
          "name": "stdout",
          "text": [
            "We have    49    chickens.\n"
          ]
        }
      ]
    },
    {
      "cell_type": "code",
      "source": [
        "#insert the number 8 to specify the available space for the value.\n",
        "\n",
        "#Use \"=\" to place the plus/minus sign at the left most position:\n",
        "\n",
        "txt = \"The temperature is {:=8} degrees celsius.\"\n",
        "\n",
        "print(txt.format(-5))"
      ],
      "metadata": {
        "id": "xoqp6ApakK55",
        "colab": {
          "base_uri": "https://localhost:8080/"
        },
        "outputId": "0e54decc-b0e8-43c3-d2b9-e5b42dc4b275"
      },
      "execution_count": null,
      "outputs": [
        {
          "output_type": "stream",
          "name": "stdout",
          "text": [
            "The temperature is -      5 degrees celsius.\n"
          ]
        }
      ]
    },
    {
      "cell_type": "code",
      "source": [
        "#Use \"+\" to always indicate if the number is positive or negative:\n",
        "\n",
        "txt = \"The temperature is between {:+} and {:+} degrees celsius.\"\n",
        "\n",
        "print(txt.format(-3, 7))"
      ],
      "metadata": {
        "id": "LvrXP-gJkSee",
        "colab": {
          "base_uri": "https://localhost:8080/"
        },
        "outputId": "34121ba7-b659-4912-97e5-1e3eb4021ec9"
      },
      "execution_count": null,
      "outputs": [
        {
          "output_type": "stream",
          "name": "stdout",
          "text": [
            "The temperature is between -3 and +7 degrees celsius.\n"
          ]
        }
      ]
    },
    {
      "cell_type": "code",
      "source": [
        "#Use \"-\" to always indicate if the number is negative (positive numbers are displayed without any sign):\n",
        "\n",
        "txt = \"The temperature is between {:-} and {:-} degrees celsius.\"\n",
        "\n",
        "print(txt.format(-3, +7))"
      ],
      "metadata": {
        "id": "B5NwVw0YkWp8",
        "colab": {
          "base_uri": "https://localhost:8080/"
        },
        "outputId": "ff54c0b6-4a3b-4a94-a1f2-1c66ca22e8a3"
      },
      "execution_count": 42,
      "outputs": [
        {
          "output_type": "stream",
          "name": "stdout",
          "text": [
            "The temperature is between -3 and 7 degrees celsius.\n"
          ]
        }
      ]
    },
    {
      "cell_type": "code",
      "source": [
        "#Use \" \" (a space) to insert a space before positive numbers and a minus sign before negative numbers:\n",
        "\n",
        "txt = \"The temperature is between {: } and {: } degrees celsius.\"\n",
        "\n",
        "print(txt.format(-3, 7))"
      ],
      "metadata": {
        "id": "GlgM8xVJkdSV",
        "colab": {
          "base_uri": "https://localhost:8080/"
        },
        "outputId": "82756382-7849-4f75-b4aa-53f551f92a92"
      },
      "execution_count": 43,
      "outputs": [
        {
          "output_type": "stream",
          "name": "stdout",
          "text": [
            "The temperature is between -3 and  7 degrees celsius.\n"
          ]
        }
      ]
    },
    {
      "cell_type": "code",
      "source": [
        "#Use \",\" to add a comma as a thousand separator:\n",
        "\n",
        "txt = \"The universe is {:,} years old.\"\n",
        "\n",
        "print(txt.format(5000000))"
      ],
      "metadata": {
        "id": "pFuTQFL5kiYf",
        "colab": {
          "base_uri": "https://localhost:8080/"
        },
        "outputId": "6148b9a8-afe1-4f0d-db3c-b5a1577e0667"
      },
      "execution_count": null,
      "outputs": [
        {
          "output_type": "stream",
          "name": "stdout",
          "text": [
            "The universe is 5,000,000 years old.\n"
          ]
        }
      ]
    },
    {
      "cell_type": "code",
      "source": [
        "#Use \"_\" to add a underscore character as a thousand separator:\n",
        "\n",
        "txt = \"The universe is {:_} years old.\"\n",
        "\n",
        "print(txt.format(5000000))"
      ],
      "metadata": {
        "id": "OE-Jou3okmyj",
        "colab": {
          "base_uri": "https://localhost:8080/"
        },
        "outputId": "4e2164f0-001a-4d2f-fd2e-6fe1c939677c"
      },
      "execution_count": null,
      "outputs": [
        {
          "output_type": "stream",
          "name": "stdout",
          "text": [
            "The universe is 5_000_000 years old.\n"
          ]
        }
      ]
    },
    {
      "cell_type": "code",
      "source": [
        "#Use \"b\" to convert the number into binary format:\n",
        "\n",
        "txt = \"The binary version of {0} is {0:b}\"\n",
        "\n",
        "print(txt.format(10))"
      ],
      "metadata": {
        "id": "eqyCbILBks5x",
        "colab": {
          "base_uri": "https://localhost:8080/"
        },
        "outputId": "a001a6b3-9976-4b10-ba52-25b2c67f4cdb"
      },
      "execution_count": null,
      "outputs": [
        {
          "output_type": "stream",
          "name": "stdout",
          "text": [
            "The binary version of 10 is 1010\n"
          ]
        }
      ]
    },
    {
      "cell_type": "code",
      "source": [
        "#Use \"o\" to convert the number into octal format:\n",
        "\n",
        "txt = \"The binary version of {0} is {0:o}\"\n",
        "\n",
        "print(txt.format(10))"
      ],
      "metadata": {
        "id": "MmOf_aaVU1oP",
        "colab": {
          "base_uri": "https://localhost:8080/"
        },
        "outputId": "2e530030-dff4-4628-b153-0c439a7168cb"
      },
      "execution_count": null,
      "outputs": [
        {
          "output_type": "stream",
          "name": "stdout",
          "text": [
            "The binary version of 10 is 12\n"
          ]
        }
      ]
    },
    {
      "cell_type": "code",
      "source": [
        "#Use \"x\" to convert the number into hexa format:\n",
        "\n",
        "txt = \"The binary version of {0} is {0:x}\"\n",
        "\n",
        "print(txt.format(15))"
      ],
      "metadata": {
        "id": "l8LWKGpsU_mu",
        "colab": {
          "base_uri": "https://localhost:8080/"
        },
        "outputId": "06260019-8741-48db-c755-994f01cabdb1"
      },
      "execution_count": null,
      "outputs": [
        {
          "output_type": "stream",
          "name": "stdout",
          "text": [
            "The binary version of 15 is f\n"
          ]
        }
      ]
    },
    {
      "cell_type": "code",
      "source": [
        "#Use \"d\" to convert a number, in this case a binary number, into decimal number format:\n",
        "\n",
        "txt = \"We have {:d} chickens.\"\n",
        "print(txt.format(0b1010))"
      ],
      "metadata": {
        "id": "Dn7h-L54kz5d",
        "colab": {
          "base_uri": "https://localhost:8080/"
        },
        "outputId": "408535d7-871e-4ad0-b0f1-e092646a0261"
      },
      "execution_count": null,
      "outputs": [
        {
          "output_type": "stream",
          "name": "stdout",
          "text": [
            "We have 10 chickens.\n"
          ]
        }
      ]
    },
    {
      "cell_type": "code",
      "source": [
        "#Use \"e\" to convert a number into scientific number format (with a lower-case e):\n",
        "\n",
        "txt = \"We have {:e} chickens.\"\n",
        "print(txt.format(5))"
      ],
      "metadata": {
        "id": "pGXmsRldk00i",
        "colab": {
          "base_uri": "https://localhost:8080/"
        },
        "outputId": "1d9d65ea-cb4e-4578-ecdf-d4c3dfd36f7a"
      },
      "execution_count": null,
      "outputs": [
        {
          "output_type": "stream",
          "name": "stdout",
          "text": [
            "We have 5.000000e+00 chickens.\n"
          ]
        }
      ]
    },
    {
      "cell_type": "code",
      "source": [
        "#Use \"e\" to convert a number into scientific number format (with a lower-case e):\n",
        "\n",
        "txt = \"We have {:e} chickens.\"\n",
        "print(txt.format(0.00005))"
      ],
      "metadata": {
        "colab": {
          "base_uri": "https://localhost:8080/"
        },
        "id": "Ctz2BICQV4zU",
        "outputId": "59a0905c-9cfc-41f8-9bb3-fff3578ee371"
      },
      "execution_count": null,
      "outputs": [
        {
          "output_type": "stream",
          "name": "stdout",
          "text": [
            "We have 5.000000e-05 chickens.\n"
          ]
        }
      ]
    },
    {
      "cell_type": "code",
      "source": [
        "#Use \"E\" to convert a number into scientific number format (with an upper-case E):\n",
        "\n",
        "txt = \"We have {:.1E} chickens.\"\n",
        "print(txt.format(500))"
      ],
      "metadata": {
        "id": "EAtIfPzlk7qu",
        "colab": {
          "base_uri": "https://localhost:8080/"
        },
        "outputId": "0a50bd0f-3338-43b2-ba73-cbaa97722950"
      },
      "execution_count": 45,
      "outputs": [
        {
          "output_type": "stream",
          "name": "stdout",
          "text": [
            "We have 5.0E+02 chickens.\n"
          ]
        }
      ]
    },
    {
      "cell_type": "code",
      "source": [
        "#Use \"f\" to convert a number into a floating point number, default with 6 decimals, but use a period followed by a number to specify the number of decimals:\n",
        "\n",
        "txt = \"The price is {:.2f} dollars.\"\n",
        "print(txt.format(45))\n",
        "\n",
        "#without the \".2\" inside the placeholder, this number will be displayed like this:\n",
        "\n",
        "txt = \"The price is {:f} dollars.\"\n",
        "print(txt.format(45))\n",
        "\n",
        "txt = \"The price is {:.3f} dollars.\"\n",
        "print(txt.format(45))\n",
        "\n",
        "txt = \"The price is {:.2f} dollars.\"\n",
        "print(txt.format(45))\n"
      ],
      "metadata": {
        "id": "EX-IMCHolB2p",
        "colab": {
          "base_uri": "https://localhost:8080/"
        },
        "outputId": "6006fbdb-a9c7-4b96-ccc7-c65b2aee43de"
      },
      "execution_count": 46,
      "outputs": [
        {
          "output_type": "stream",
          "name": "stdout",
          "text": [
            "The price is 45.00 dollars.\n",
            "The price is 45.000000 dollars.\n",
            "The price is 45.000 dollars.\n",
            "The price is 45.00 dollars.\n"
          ]
        }
      ]
    },
    {
      "cell_type": "code",
      "source": [
        "#Use \"F\" to convert a number into a fixed point number, but display inf and nan as INF and NAN:\n",
        "\n",
        "x = float('inf')\n",
        "\n",
        "txt = \"The price is {:F} dollars.\"\n",
        "print(txt.format(x))\n",
        "\n",
        "#same example, but with a lower case f:\n",
        "\n",
        "txt = \"The price is {:f} dollars.\"\n",
        "print(txt.format(x))\n",
        "print(type(x))"
      ],
      "metadata": {
        "id": "kDfW734RlCx-",
        "colab": {
          "base_uri": "https://localhost:8080/"
        },
        "outputId": "aa649d23-e5a8-4ac8-e876-14895ced031b"
      },
      "execution_count": 48,
      "outputs": [
        {
          "output_type": "stream",
          "name": "stdout",
          "text": [
            "The price is INF dollars.\n",
            "The price is inf dollars.\n",
            "<class 'float'>\n"
          ]
        }
      ]
    },
    {
      "cell_type": "code",
      "source": [
        ""
      ],
      "metadata": {
        "id": "DpkPz925iMc5"
      },
      "execution_count": null,
      "outputs": []
    },
    {
      "cell_type": "code",
      "source": [
        "#Use \"o\" to convert the number into octal format:\n",
        "\n",
        "txt = \"The octal version of {0} is {0:o}\"\n",
        "\n",
        "print(txt.format(10))"
      ],
      "metadata": {
        "id": "i4rpINQWlLFm",
        "colab": {
          "base_uri": "https://localhost:8080/"
        },
        "outputId": "9ad6d7b5-3bdd-4d60-e380-cba26d6e5614"
      },
      "execution_count": null,
      "outputs": [
        {
          "output_type": "stream",
          "name": "stdout",
          "text": [
            "The octal version of 10 is 12\n"
          ]
        }
      ]
    },
    {
      "cell_type": "code",
      "source": [
        "#Use \"x\" to convert the number into Hex format:\n",
        "\n",
        "txt = \"The Hexadecimal version of {0} is {0:x}\"\n",
        "\n",
        "print(txt.format(255))"
      ],
      "metadata": {
        "id": "8382dw5xlMCL",
        "colab": {
          "base_uri": "https://localhost:8080/"
        },
        "outputId": "cb2e6094-a64f-4a2a-a9f5-88d4d206f5f4"
      },
      "execution_count": null,
      "outputs": [
        {
          "output_type": "stream",
          "name": "stdout",
          "text": [
            "The Hexadecimal version of 255 is ff\n"
          ]
        }
      ]
    },
    {
      "cell_type": "code",
      "source": [
        "#Use \"x\" to convert the number into Hex format:\n",
        "\n",
        "txt = \"The Hexadecimal version of {0} is {0:x}\"\n",
        "\n",
        "print(txt.format(255))"
      ],
      "metadata": {
        "id": "LKYHstt0lPuh",
        "colab": {
          "base_uri": "https://localhost:8080/"
        },
        "outputId": "1822eef5-836c-41a9-ca4b-ce5a5afa4813"
      },
      "execution_count": null,
      "outputs": [
        {
          "output_type": "stream",
          "name": "stdout",
          "text": [
            "The Hexadecimal version of 255 is ff\n"
          ]
        }
      ]
    },
    {
      "cell_type": "code",
      "source": [
        "#Use \"X\" to convert the number into upper-case Hex format:\n",
        "\n",
        "txt = \"The Hexadecimal version of {0} is {0:X}\"\n",
        "\n",
        "print(txt.format(255))"
      ],
      "metadata": {
        "id": "pj8NGAm5lTOQ",
        "colab": {
          "base_uri": "https://localhost:8080/"
        },
        "outputId": "acf750ce-fffa-4db4-95e5-81dc74369e1d"
      },
      "execution_count": null,
      "outputs": [
        {
          "output_type": "stream",
          "name": "stdout",
          "text": [
            "The Hexadecimal version of 255 is FF\n"
          ]
        }
      ]
    },
    {
      "cell_type": "code",
      "source": [
        "#Use \"%\" to convert the number into a percentage format:\n",
        "\n",
        "txt = \"You scored {:%}\"\n",
        "print(txt.format(0.25))\n",
        "\n",
        "#Or, without any decimals:\n",
        "\n",
        "txt = \"You scored {:.0%}\"\n",
        "print(txt.format(0.25))"
      ],
      "metadata": {
        "id": "KfF39X_hlckM",
        "colab": {
          "base_uri": "https://localhost:8080/"
        },
        "outputId": "d3e96bfc-e796-47e8-ca30-83fb1eb5c3af"
      },
      "execution_count": 50,
      "outputs": [
        {
          "output_type": "stream",
          "name": "stdout",
          "text": [
            "You scored 25.000000%\n",
            "You scored 25%\n"
          ]
        }
      ]
    },
    {
      "cell_type": "markdown",
      "source": [
        "#13. **isalnum()** Method\n",
        "\n",
        "The isalnum() method returns True if all the characters are alphanumeric, meaning alphabet letter (a-z) and numbers (0-9).\n",
        "\n",
        "Example of characters that are not alphanumeric: (space)!#%&? etc.\n",
        "\n",
        "**Syntax**\n",
        "\n",
        "string.isalnum()"
      ],
      "metadata": {
        "id": "xGSmusdclfyd"
      }
    },
    {
      "cell_type": "code",
      "source": [
        ""
      ],
      "metadata": {
        "id": "Dp-BvRtj9nUa"
      },
      "execution_count": null,
      "outputs": []
    },
    {
      "cell_type": "code",
      "source": [
        "#Check if all the characters in the text are alphanumeric:\n",
        "\n",
        "txt = \"Company12\"\n",
        "\n",
        "x = txt.isalnum()\n",
        "\n",
        "print(x)"
      ],
      "metadata": {
        "id": "S3mpLbD6mD_F",
        "colab": {
          "base_uri": "https://localhost:8080/"
        },
        "outputId": "fb162fa7-3f69-42ee-e159-913b34c9d5a2"
      },
      "execution_count": null,
      "outputs": [
        {
          "output_type": "stream",
          "name": "stdout",
          "text": [
            "True\n"
          ]
        }
      ]
    },
    {
      "cell_type": "code",
      "source": [
        "txt = \"Comp12kdf484jkd\"\n",
        "\n",
        "x = txt.isalnum()\n",
        "\n",
        "print(x)"
      ],
      "metadata": {
        "colab": {
          "base_uri": "https://localhost:8080/"
        },
        "id": "XPOAMhjX9Wo-",
        "outputId": "cd1eb871-daa3-4536-b5c8-b500539600fb"
      },
      "execution_count": null,
      "outputs": [
        {
          "output_type": "stream",
          "name": "stdout",
          "text": [
            "True\n"
          ]
        }
      ]
    },
    {
      "cell_type": "code",
      "source": [
        "txt = \"Company\"\n",
        "\n",
        "x = txt.isalnum()\n",
        "\n",
        "print(x)"
      ],
      "metadata": {
        "colab": {
          "base_uri": "https://localhost:8080/"
        },
        "id": "K5f8dDS39pGm",
        "outputId": "b2d21de0-a94e-43f6-8b21-964470699259"
      },
      "execution_count": null,
      "outputs": [
        {
          "output_type": "stream",
          "name": "stdout",
          "text": [
            "True\n"
          ]
        }
      ]
    },
    {
      "cell_type": "code",
      "source": [
        "txt = \"12\"\n",
        "\n",
        "x = txt.isalnum()\n",
        "\n",
        "print(x)"
      ],
      "metadata": {
        "colab": {
          "base_uri": "https://localhost:8080/"
        },
        "id": "1FwmdWi89zO4",
        "outputId": "364b38b1-aec9-4def-865f-0d3279425452"
      },
      "execution_count": 51,
      "outputs": [
        {
          "output_type": "stream",
          "name": "stdout",
          "text": [
            "False\n"
          ]
        }
      ]
    },
    {
      "cell_type": "code",
      "source": [
        "txt = \"12@\"\n",
        "\n",
        "x = txt.isalnum()\n",
        "\n",
        "print(x)"
      ],
      "metadata": {
        "colab": {
          "base_uri": "https://localhost:8080/"
        },
        "id": "676fUeLd87ed",
        "outputId": "fa396a12-e967-44f0-b154-9c5854967dfe"
      },
      "execution_count": 52,
      "outputs": [
        {
          "output_type": "stream",
          "name": "stdout",
          "text": [
            "False\n"
          ]
        }
      ]
    },
    {
      "cell_type": "markdown",
      "source": [
        "#14.  **isalpha() Method**\n",
        "\n",
        "The isalpha() method returns True if all the characters are alphabet letters (a-z).\n",
        "\n",
        "Example of characters that are not alphabet letters: (space)!#%&? etc.\n",
        "\n",
        "**Syntax**\n",
        "\n",
        "string.isalpha()\n",
        "\n"
      ],
      "metadata": {
        "id": "-HEUGOXmmTBV"
      }
    },
    {
      "cell_type": "code",
      "source": [
        ""
      ],
      "metadata": {
        "id": "FP5OyUct-jt_"
      },
      "execution_count": null,
      "outputs": []
    },
    {
      "cell_type": "code",
      "source": [
        "#Check if all the characters in the text is alphabetic:\n",
        "\n",
        "txt = \"Company10\"\n",
        "\n",
        "x = txt.isalpha()\n",
        "\n",
        "print(x)"
      ],
      "metadata": {
        "id": "Oi1DOiwzmktf",
        "colab": {
          "base_uri": "https://localhost:8080/"
        },
        "outputId": "71b1141f-a3a3-43a9-bb48-40bfd67f396a"
      },
      "execution_count": null,
      "outputs": [
        {
          "output_type": "stream",
          "name": "stdout",
          "text": [
            "False\n"
          ]
        }
      ]
    },
    {
      "cell_type": "code",
      "source": [
        "#Check if all the characters in the text are letters:\n",
        "\n",
        "txt = \"CompanyX\"\n",
        "\n",
        "x = txt.isalpha()\n",
        "\n",
        "print(x)"
      ],
      "metadata": {
        "id": "z5wS86OAmtax",
        "colab": {
          "base_uri": "https://localhost:8080/"
        },
        "outputId": "5dc31cf8-2842-4f91-bc93-a236e64890e4"
      },
      "execution_count": null,
      "outputs": [
        {
          "output_type": "stream",
          "name": "stdout",
          "text": [
            "True\n"
          ]
        }
      ]
    },
    {
      "cell_type": "code",
      "source": [
        "txt = \"123984\"\n",
        "\n",
        "x = txt.isalpha()\n",
        "\n",
        "print(x)"
      ],
      "metadata": {
        "colab": {
          "base_uri": "https://localhost:8080/"
        },
        "id": "vw-LTJA3-mYC",
        "outputId": "201d0171-367a-4abd-bf3b-1b004d229728"
      },
      "execution_count": null,
      "outputs": [
        {
          "output_type": "stream",
          "name": "stdout",
          "text": [
            "False\n"
          ]
        }
      ]
    },
    {
      "cell_type": "markdown",
      "source": [
        "#15.  **isascii()** Method\n",
        "\n",
        "The **isascii()** method returns True if all the characters are ascii characters  (a-z).\n",
        "\n",
        "**Syntax**\n",
        "\n",
        "string.isascii()"
      ],
      "metadata": {
        "id": "uFMUw11Am5mk"
      }
    },
    {
      "cell_type": "code",
      "source": [
        "#Check if all the characters in the text are ascii characters:\n",
        "\n",
        "txt = \"Company123 !@\"\n",
        "\n",
        "x = txt.isascii()\n",
        "\n",
        "print(x)"
      ],
      "metadata": {
        "id": "BOZJEmf1m4zz",
        "colab": {
          "base_uri": "https://localhost:8080/"
        },
        "outputId": "e85895f2-4baf-4bb0-a160-8a76c91f4d3a"
      },
      "execution_count": null,
      "outputs": [
        {
          "output_type": "stream",
          "name": "stdout",
          "text": [
            "True\n"
          ]
        }
      ]
    },
    {
      "cell_type": "markdown",
      "source": [
        "#16.**isdecimal()** Method\n",
        "\n",
        "The **isdecimal()** method returns True if all the characters are decimals (0-9).\n",
        "**Syntax**\n",
        "\n",
        "string.isdecimal()\n",
        "\n",
        "This method is used on unicode objects.\n"
      ],
      "metadata": {
        "id": "PzyVdonHnSYM"
      }
    },
    {
      "cell_type": "code",
      "source": [
        ""
      ],
      "metadata": {
        "id": "oiwhIM0JoZy5"
      },
      "execution_count": null,
      "outputs": []
    },
    {
      "cell_type": "code",
      "source": [
        "#Check if all the characters in the unicode are decimals:\n",
        "\n",
        "a = \"\\u0039\" #unicode for 9\n",
        "b = \"\\u0047\" #unicode for G\n",
        "#unicode supports 1,000,000\n",
        "\n",
        "print(a.isdecimal())\n",
        "print(b.isdecimal())\n",
        "print(a)\n",
        "c=9\n",
        "print(c.isdecimal())"
      ],
      "metadata": {
        "id": "ZHOdDshun8_1",
        "colab": {
          "base_uri": "https://localhost:8080/",
          "height": 253
        },
        "outputId": "1e112e1d-86b7-4662-925c-77bb4c762fc7"
      },
      "execution_count": 53,
      "outputs": [
        {
          "output_type": "stream",
          "name": "stdout",
          "text": [
            "True\n",
            "False\n",
            "9\n"
          ]
        },
        {
          "output_type": "error",
          "ename": "AttributeError",
          "evalue": "ignored",
          "traceback": [
            "\u001b[0;31m---------------------------------------------------------------------------\u001b[0m",
            "\u001b[0;31mAttributeError\u001b[0m                            Traceback (most recent call last)",
            "\u001b[0;32m<ipython-input-53-330095a468b5>\u001b[0m in \u001b[0;36m<module>\u001b[0;34m()\u001b[0m\n\u001b[1;32m      9\u001b[0m \u001b[0mprint\u001b[0m\u001b[0;34m(\u001b[0m\u001b[0ma\u001b[0m\u001b[0;34m)\u001b[0m\u001b[0;34m\u001b[0m\u001b[0;34m\u001b[0m\u001b[0m\n\u001b[1;32m     10\u001b[0m \u001b[0mc\u001b[0m\u001b[0;34m=\u001b[0m\u001b[0;36m9\u001b[0m\u001b[0;34m\u001b[0m\u001b[0;34m\u001b[0m\u001b[0m\n\u001b[0;32m---> 11\u001b[0;31m \u001b[0mprint\u001b[0m\u001b[0;34m(\u001b[0m\u001b[0mc\u001b[0m\u001b[0;34m.\u001b[0m\u001b[0misdecimal\u001b[0m\u001b[0;34m(\u001b[0m\u001b[0;34m)\u001b[0m\u001b[0;34m)\u001b[0m\u001b[0;34m\u001b[0m\u001b[0;34m\u001b[0m\u001b[0m\n\u001b[0m",
            "\u001b[0;31mAttributeError\u001b[0m: 'int' object has no attribute 'isdecimal'"
          ]
        }
      ]
    },
    {
      "cell_type": "markdown",
      "source": [
        "#17.  **isdigit()** Method\n",
        "\n",
        "The isdigit() method returns True if all the characters are digits, otherwise False.\n",
        "\n",
        "Exponents, like ², are also considered to be a digit.\n",
        "\n",
        "Syntax\n",
        "\n",
        "string.isdigit()"
      ],
      "metadata": {
        "id": "duueLua3obe4"
      }
    },
    {
      "cell_type": "code",
      "source": [
        "#Check if all the characters in the text are digits:\n",
        "\n",
        "a = \"0\"\n",
        "b = \"A\"\n",
        "\n",
        "print(a.isdigit())\n",
        "print(b.isdigit())"
      ],
      "metadata": {
        "id": "dSrDEUi8pJDk",
        "colab": {
          "base_uri": "https://localhost:8080/"
        },
        "outputId": "b92f1fe1-e681-4ccf-c62c-d176444c6b50"
      },
      "execution_count": null,
      "outputs": [
        {
          "output_type": "stream",
          "name": "stdout",
          "text": [
            "True\n",
            "False\n"
          ]
        }
      ]
    },
    {
      "cell_type": "markdown",
      "source": [
        "**isidentifier()** Method\n",
        "\n",
        "The isidentifier() method returns True if the string is a valid identifier, otherwise False.\n",
        "\n",
        "A string is considered a valid identifier if it only contains alphanumeric letters (a-z) and (0-9), or underscores (_). A valid identifier cannot start with a number, or contain any spaces.\n",
        "\n",
        "**Syntax**\n",
        "\n",
        "string.isidentifier()"
      ],
      "metadata": {
        "id": "IwOPOAIVpVf9"
      }
    },
    {
      "cell_type": "code",
      "source": [
        "#Check if the string is a valid identifier:\n",
        "\n",
        "txt = \"Demo\"\n",
        "\n",
        "x = txt.isidentifier()\n",
        "\n",
        "print(x)"
      ],
      "metadata": {
        "id": "7ca_Or2TpxLU",
        "colab": {
          "base_uri": "https://localhost:8080/"
        },
        "outputId": "f3c7e597-c823-430e-ca33-d2a7d288db2a"
      },
      "execution_count": null,
      "outputs": [
        {
          "output_type": "stream",
          "name": "stdout",
          "text": [
            "True\n"
          ]
        }
      ]
    },
    {
      "cell_type": "code",
      "source": [
        "#Check if the strings are valid identifiers:\n",
        "\n",
        "a = \"MyFolder\"\n",
        "b = \"Demo002\"\n",
        "c = \"2bring\"\n",
        "d = \"my demo\"\n",
        "\n",
        "print(a.isidentifier())\n",
        "print(b.isidentifier())\n",
        "print(c.isidentifier())\n",
        "print(d.isidentifier())"
      ],
      "metadata": {
        "id": "osE2WrOgp59w",
        "colab": {
          "base_uri": "https://localhost:8080/"
        },
        "outputId": "1ed7a5b1-8843-4484-8f84-2d782dfaad99"
      },
      "execution_count": null,
      "outputs": [
        {
          "output_type": "stream",
          "name": "stdout",
          "text": [
            "True\n",
            "True\n",
            "False\n",
            "False\n"
          ]
        }
      ]
    },
    {
      "cell_type": "markdown",
      "source": [
        "#18.  **islower()** Method\n",
        "\n",
        "The islower() method returns True if all the characters are in lower case, otherwise False.\n",
        "\n",
        "Numbers, symbols and spaces are not checked, only alphabet characters.\n",
        "\n",
        "# **Syntax**\n",
        "\n",
        "string.islower()"
      ],
      "metadata": {
        "id": "Szl3hl1kqG0X"
      }
    },
    {
      "cell_type": "code",
      "source": [
        "#Check if all the characters in the texts are in lower case:\n",
        "\n",
        "a = \"Hello world!\"\n",
        "b = \"hello 123\"\n",
        "c = \"mynameisPeter\"\n",
        "\n",
        "print(a.islower())\n",
        "print(b.islower())\n",
        "print(c.islower())"
      ],
      "metadata": {
        "id": "VM2T5egiqWay",
        "colab": {
          "base_uri": "https://localhost:8080/"
        },
        "outputId": "0c40ad51-26a0-444d-e5ce-2c9126ae9ec5"
      },
      "execution_count": null,
      "outputs": [
        {
          "output_type": "stream",
          "name": "stdout",
          "text": [
            "False\n",
            "True\n",
            "False\n"
          ]
        }
      ]
    },
    {
      "cell_type": "markdown",
      "source": [
        "#19.  **isnumeric()** Method\n",
        "\n",
        "The **isnumeric()** method returns True if all the characters are numeric (0-9), otherwise False.\n",
        "\n",
        "Exponents, like ² and ¾ are also considered to be numeric values.\n",
        "\n",
        "\"-1\" and \"1.5\" are NOT considered numeric values, because all the characters in the string must be numeric, and the - and the . are not.\n",
        "\n",
        "**Syntax**\n",
        "\n",
        "string.isnumeric()"
      ],
      "metadata": {
        "id": "Sg8WwOZgqowW"
      }
    },
    {
      "cell_type": "code",
      "source": [
        "#Check if all the characters in the text are numeric:\n",
        "\n",
        "txt = \"565543\"\n",
        "\n",
        "x = txt.isnumeric()\n",
        "\n",
        "print(x)"
      ],
      "metadata": {
        "id": "DKT9UCXj_lK0",
        "colab": {
          "base_uri": "https://localhost:8080/"
        },
        "outputId": "f324edcd-37c6-40a6-c3be-d9fb03b8e523"
      },
      "execution_count": null,
      "outputs": [
        {
          "output_type": "stream",
          "name": "stdout",
          "text": [
            "True\n"
          ]
        }
      ]
    },
    {
      "cell_type": "code",
      "source": [
        "#Check if the characters are numeric:\n",
        "\n",
        "a = \"\\u0030\" #unicode for 0\n",
        "b = \"\\u00B2\" #unicode for &sup2;\n",
        "c = \"10km2\"\n",
        "d = \"-1\"\n",
        "e = \"1.5\"\n",
        "\n",
        "print(a.isnumeric())\n",
        "print(b.isnumeric())\n",
        "print(c.isnumeric())\n",
        "print(d.isnumeric())\n",
        "print(e.isnumeric())\n",
        "print(b)\n",
        "print(a.isdigit())"
      ],
      "metadata": {
        "id": "H8DveqwL_4Hg",
        "colab": {
          "base_uri": "https://localhost:8080/"
        },
        "outputId": "ce2ed151-929b-4f35-8442-3a9dab9d668b"
      },
      "execution_count": 56,
      "outputs": [
        {
          "output_type": "stream",
          "name": "stdout",
          "text": [
            "True\n",
            "True\n",
            "False\n",
            "False\n",
            "False\n",
            "²\n",
            "True\n"
          ]
        }
      ]
    },
    {
      "cell_type": "markdown",
      "source": [
        "#20.  **isprintable()** Method\n",
        "\n",
        "The **isprintable()** method returns True if all the characters are printable, otherwise False.\n",
        "\n",
        "Example of none printable character can be carriage return and line feed.\n",
        "\n",
        "**Syntax**\n",
        "\n",
        "string.isprintable()\n"
      ],
      "metadata": {
        "id": "vf7SlACdAOTn"
      }
    },
    {
      "cell_type": "code",
      "source": [
        "#Check if all the characters in the text are printable:\n",
        "\n",
        "txt = \"Hello!\\nAre you #1?\"\n",
        "\n",
        "x = txt.isprintable()\n",
        "\n",
        "print(x)\n",
        "print(txt)"
      ],
      "metadata": {
        "id": "elP--6ioAAZ-",
        "colab": {
          "base_uri": "https://localhost:8080/"
        },
        "outputId": "68663cb4-3aec-4c0d-94d5-0f40df407c5f"
      },
      "execution_count": 57,
      "outputs": [
        {
          "output_type": "stream",
          "name": "stdout",
          "text": [
            "False\n",
            "Hello!\n",
            "Are you #1?\n"
          ]
        }
      ]
    },
    {
      "cell_type": "code",
      "source": [
        "#Check if all the characters in the text are printable:\n",
        "\n",
        "txt = \"Hello! Are you #1?\"\n",
        "\n",
        "x = txt.isprintable()\n",
        "\n",
        "print(x)\n",
        "print(txt)"
      ],
      "metadata": {
        "id": "3888IcKspE0X",
        "colab": {
          "base_uri": "https://localhost:8080/"
        },
        "outputId": "a25ab5cf-f649-426c-d252-d1e47fc17e01"
      },
      "execution_count": null,
      "outputs": [
        {
          "output_type": "stream",
          "name": "stdout",
          "text": [
            "True\n",
            "Hello! Are you #1?\n"
          ]
        }
      ]
    },
    {
      "cell_type": "markdown",
      "source": [
        "19 # **isspace() Method**\n",
        "\n",
        "The **isspace()** method returns True if all the characters in a string are whitespaces, otherwise False.\n",
        "\n",
        "**Syntax**\n",
        "\n",
        "string.isspace()"
      ],
      "metadata": {
        "id": "BmTldnWDpnsz"
      }
    },
    {
      "cell_type": "code",
      "source": [
        "#Check if all the characters in the text are whitespaces:\n",
        "\n",
        "txt = \"        dgfgh  \"\n",
        "\n",
        "x = txt.isspace()\n",
        "\n",
        "print(x)"
      ],
      "metadata": {
        "id": "WXSOUjqKp_3m",
        "colab": {
          "base_uri": "https://localhost:8080/"
        },
        "outputId": "ea025cb2-f9fd-49b0-80c5-04dec8a0b5ab"
      },
      "execution_count": null,
      "outputs": [
        {
          "output_type": "stream",
          "name": "stdout",
          "text": [
            "False\n"
          ]
        }
      ]
    },
    {
      "cell_type": "code",
      "source": [
        "#Check if all the characters in the text are whitespaces:\n",
        "\n",
        "txt = \"   s   \"\n",
        "\n",
        "x = txt.isspace()\n",
        "\n",
        "print(x)"
      ],
      "metadata": {
        "id": "c8yCnpNe4IUs",
        "colab": {
          "base_uri": "https://localhost:8080/"
        },
        "outputId": "11b9a52d-9e55-49c7-c276-3be98fb75140"
      },
      "execution_count": null,
      "outputs": [
        {
          "output_type": "stream",
          "name": "stdout",
          "text": [
            "False\n"
          ]
        }
      ]
    },
    {
      "cell_type": "code",
      "source": [
        "txt = \"      \"\n",
        "\n",
        "x = txt.isspace()\n",
        "\n",
        "print(x)"
      ],
      "metadata": {
        "colab": {
          "base_uri": "https://localhost:8080/"
        },
        "id": "UdXW3rwcBkQd",
        "outputId": "edc6a8aa-8d5f-406d-d28a-d628ab89f98b"
      },
      "execution_count": 58,
      "outputs": [
        {
          "output_type": "stream",
          "name": "stdout",
          "text": [
            "True\n"
          ]
        }
      ]
    },
    {
      "cell_type": "markdown",
      "source": [
        "#21.  **istitle() Method**\n",
        "\n",
        "The **istitle()** method returns True if all words in a text start with a upper case letter, AND the rest of the word are lower case letters, otherwise False.\n",
        "\n",
        "Symbols and numbers are ignored.\n",
        "\n",
        "**Syntax**\n",
        "\n",
        "string.istitle()"
      ],
      "metadata": {
        "id": "hZeEtQPA4YDc"
      }
    },
    {
      "cell_type": "code",
      "source": [
        "#Check if each word start with an upper case letter:\n",
        "\n",
        "txt = \"Hello, And Welcome To My World!\"\n",
        "\n",
        "x = txt.istitle()\n",
        "\n",
        "print(x)"
      ],
      "metadata": {
        "id": "-EhK9Umy4lY7",
        "colab": {
          "base_uri": "https://localhost:8080/"
        },
        "outputId": "c536c342-5007-479c-9bb7-33d8c02c3eec"
      },
      "execution_count": null,
      "outputs": [
        {
          "output_type": "stream",
          "name": "stdout",
          "text": [
            "True\n"
          ]
        }
      ]
    },
    {
      "cell_type": "code",
      "source": [
        "#Check if each word start with an upper case letter:\n",
        "\n",
        "a = \"HELLO, AND WELCOME TO MY WORLD\"\n",
        "b = \"Hello\"\n",
        "c = \"22 Names\"\n",
        "d = \"This Is %'!?\"\n",
        "\n",
        "print(a.istitle())\n",
        "print(b.istitle())\n",
        "print(c.istitle())\n",
        "print(d.istitle())"
      ],
      "metadata": {
        "id": "MrM4moMV4s0X",
        "colab": {
          "base_uri": "https://localhost:8080/"
        },
        "outputId": "bffe6aba-f4d5-4690-8b5b-1abc7b562d59"
      },
      "execution_count": null,
      "outputs": [
        {
          "output_type": "stream",
          "name": "stdout",
          "text": [
            "False\n",
            "True\n",
            "True\n",
            "True\n"
          ]
        }
      ]
    },
    {
      "cell_type": "code",
      "source": [
        ""
      ],
      "metadata": {
        "id": "WUpYVXCK4z2v"
      },
      "execution_count": null,
      "outputs": []
    },
    {
      "cell_type": "markdown",
      "source": [
        "#22.  **isupper() Method**\n",
        "\n",
        "Definition and Usage\n",
        "\n",
        "The **isupper() ** method returns True if all the characters are in upper case, otherwise False.\n",
        "\n",
        "Numbers, symbols and spaces are not checked, only alphabet characters.\n",
        "\n",
        "**Syntax**\n",
        "\n",
        "string.isupper()"
      ],
      "metadata": {
        "id": "2DJT1tpx5JTX"
      }
    },
    {
      "cell_type": "code",
      "source": [
        "#Check if all the characters in the text are in upper case:\n",
        "\n",
        "txt = \"THIS IS NOW!\"\n",
        "\n",
        "x = txt.isupper()\n",
        "\n",
        "print(x)"
      ],
      "metadata": {
        "colab": {
          "base_uri": "https://localhost:8080/"
        },
        "id": "LZXKAbz05nSe",
        "outputId": "1af4aeaf-6be9-45a2-a665-31e736742f7c"
      },
      "execution_count": null,
      "outputs": [
        {
          "output_type": "stream",
          "name": "stdout",
          "text": [
            "True\n"
          ]
        }
      ]
    },
    {
      "cell_type": "code",
      "source": [
        "#Check if all the characters in the texts are in upper case:\n",
        "\n",
        "a = \"Hello World!\"\n",
        "b = \"hello 123\"\n",
        "c = \"MY NAME IS PETER\"\n",
        "\n",
        "print(a.isupper())\n",
        "print(b.isupper())\n",
        "print(c.isupper())"
      ],
      "metadata": {
        "id": "xRohdjlD5vcG",
        "colab": {
          "base_uri": "https://localhost:8080/"
        },
        "outputId": "1cd3e62e-1778-46aa-9fd1-3214dc19f435"
      },
      "execution_count": null,
      "outputs": [
        {
          "output_type": "stream",
          "name": "stdout",
          "text": [
            "False\n",
            "False\n",
            "True\n"
          ]
        }
      ]
    },
    {
      "cell_type": "markdown",
      "source": [
        "#23. **join() Method**\n",
        "\n",
        "The join() method takes all items in an iterable and joins them into one string.\n",
        "\n",
        "A string must be specified as the separator.\n",
        "\n",
        "**Syntax**\n",
        "\n",
        "string.join(iterable)"
      ],
      "metadata": {
        "id": "DBhR10j555Vr"
      }
    },
    {
      "cell_type": "code",
      "source": [
        "#Join all items in a tuple into a string, using a hash character as separator:\n",
        "\n",
        "myTuple = (\"John\", \"Peter\", \"Vicky\")\n",
        "\n",
        "x = \"*\".join(myTuple)\n",
        "\n",
        "print(x)"
      ],
      "metadata": {
        "id": "7myL3HYF6MdN",
        "colab": {
          "base_uri": "https://localhost:8080/"
        },
        "outputId": "b86103d5-6adf-42d1-e213-e6d92dbc70fa"
      },
      "execution_count": 62,
      "outputs": [
        {
          "output_type": "stream",
          "name": "stdout",
          "text": [
            "John*Peter*Vicky\n"
          ]
        }
      ]
    },
    {
      "cell_type": "code",
      "source": [
        "#Join all items in a dictionary into a string, using a the word \"TEST\" as separator:\n",
        "\n",
        "myDict = {\"name\": \"John\", \"country\": \"Norway\"}\n",
        "mySeparator = \"TEST\"\n",
        "\n",
        "x = mySeparator.join(myDict)\n",
        "\n",
        "print(x)"
      ],
      "metadata": {
        "id": "6u5zGfcW6VBF",
        "colab": {
          "base_uri": "https://localhost:8080/"
        },
        "outputId": "a56e51fb-7fbd-4810-d238-2cb2a7f61180"
      },
      "execution_count": 63,
      "outputs": [
        {
          "output_type": "stream",
          "name": "stdout",
          "text": [
            "nameTESTcountry\n"
          ]
        }
      ]
    },
    {
      "cell_type": "markdown",
      "source": [
        "#24 **ljust() Method**\n",
        "\n",
        "The ljust() method will left align the string, using a specified character (space is default) as the fill character.\n",
        "\n",
        "**Syntax**\n",
        "\n",
        "string.ljust(length, character)"
      ],
      "metadata": {
        "id": "175GOo4h6amS"
      }
    },
    {
      "cell_type": "code",
      "source": [
        "#Using the letter \"O\" as the padding character:\n",
        "\n",
        "txt = \"banana\"\n",
        "\n",
        "x = txt.ljust(20, \"O\")\n",
        "\n",
        "print(x)\n",
        "print(len(x))"
      ],
      "metadata": {
        "id": "z6TJJGkz6vSD",
        "colab": {
          "base_uri": "https://localhost:8080/"
        },
        "outputId": "220aa8a7-e0bb-4cba-8324-4f882fd8592e"
      },
      "execution_count": 65,
      "outputs": [
        {
          "output_type": "stream",
          "name": "stdout",
          "text": [
            "bananaOOOOOOOOOOOOOO\n",
            "20\n"
          ]
        }
      ]
    },
    {
      "cell_type": "code",
      "source": [
        "#Return a 20 characters long, left justified version of the word \"banana\":\n",
        "\n",
        "txt = \"banana\"\n",
        "\n",
        "x = txt.ljust(20)\n",
        "\n",
        "print(x)\n",
        "print(len(x))"
      ],
      "metadata": {
        "id": "bIL_qJwi61kP",
        "colab": {
          "base_uri": "https://localhost:8080/"
        },
        "outputId": "9c03cf66-d4fa-4ba7-b8cc-e59e7fc1be99"
      },
      "execution_count": 66,
      "outputs": [
        {
          "output_type": "stream",
          "name": "stdout",
          "text": [
            "banana              \n",
            "20\n"
          ]
        }
      ]
    },
    {
      "cell_type": "markdown",
      "source": [
        "#25 **lstrip() Method**\n",
        "\n",
        "The **lstrip()** method removes any leading characters (space is the default leading character to remove)\n",
        "\n",
        "**Syntax**\n",
        "\n",
        "string.lstrip(characters)"
      ],
      "metadata": {
        "id": "O_u5vKDp67AD"
      }
    },
    {
      "cell_type": "code",
      "source": [
        "#Remove spaces to the left of the string:\n",
        "\n",
        "txt = \"     banana     \"\n",
        "\n",
        "x = txt.lstrip()\n",
        "\n",
        "print(\"of all fruits\", x, \"is my favorite\")"
      ],
      "metadata": {
        "id": "r9RxTkjQ7YHf",
        "colab": {
          "base_uri": "https://localhost:8080/"
        },
        "outputId": "b2cc6584-a748-4b49-f6b6-bb1819daf4bf"
      },
      "execution_count": 67,
      "outputs": [
        {
          "output_type": "stream",
          "name": "stdout",
          "text": [
            "of all fruits banana      is my favorite\n"
          ]
        }
      ]
    },
    {
      "cell_type": "code",
      "source": [
        "#Remove the leading characters:\n",
        "\n",
        "txt = \",,,,,ssaaww.....banana\"\n",
        "\n",
        "x = txt.lstrip(\",.aws\")\n",
        "\n",
        "print(x)"
      ],
      "metadata": {
        "id": "QKZisYFR7gUg",
        "colab": {
          "base_uri": "https://localhost:8080/"
        },
        "outputId": "a9500f12-4f6a-4fd2-8fb6-d38f9e434579"
      },
      "execution_count": 69,
      "outputs": [
        {
          "output_type": "stream",
          "name": "stdout",
          "text": [
            "banana\n"
          ]
        }
      ]
    },
    {
      "cell_type": "markdown",
      "source": [
        "#26 **maketrans() Method**\n",
        "\n",
        "The maketrans() method returns a mapping table that can be used with the translate() method to replace specified characters.\n",
        "\n",
        "**Syntax**\n",
        "\n",
        "string.maketrans(x, y, z)\n",
        "\n",
        "Parameter\t  Description\n",
        "\n",
        "x\t   Required. If only one parameter is specified, this has to be a dictionary describing how to perform the replace. If two or more parameters are specified, this parameter has to be a string specifying the characters you want to replace.\n",
        "\n",
        "y\t   Optional. A string with the same length as parameter x. Each character in the first parameter will be replaced with the corresponding character in this string.\n",
        "\n",
        "z\t  Optional. A string describing which characters to remove from the original string.\n"
      ],
      "metadata": {
        "id": "0W234c1d7m6w"
      }
    },
    {
      "cell_type": "code",
      "source": [
        "#Create a mapping table, and use it in the translate() method to replace any \"S\" characters with a \"P\" character:\n",
        "\n",
        "txt = \"Hello SamS!\"\n",
        "mytable = txt.maketrans(\"S\", \"P\")\n",
        "print(txt.translate(mytable))\n",
        "print(mytable)"
      ],
      "metadata": {
        "id": "tnmaYbiJ8Rye",
        "colab": {
          "base_uri": "https://localhost:8080/"
        },
        "outputId": "1dd9a48c-aa39-4cf8-de56-817bcc419ec6"
      },
      "execution_count": 72,
      "outputs": [
        {
          "output_type": "stream",
          "name": "stdout",
          "text": [
            "Hello PamP!\n",
            "{83: 80}\n"
          ]
        }
      ]
    },
    {
      "cell_type": "code",
      "source": [
        "#Use a mapping table to replace many characters:\n",
        "\n",
        "txt = \"Hi Sam!\"\n",
        "x = \"mSa\"\n",
        "y = \"eJo\"\n",
        "mytable = txt.maketrans(x, y)\n",
        "print(txt.translate(mytable))\n",
        "print(mytable)"
      ],
      "metadata": {
        "id": "9HyiGMCs8Z_k",
        "colab": {
          "base_uri": "https://localhost:8080/"
        },
        "outputId": "1ca27ced-903e-43e3-e6d9-4d78eb7ee9e1"
      },
      "execution_count": 74,
      "outputs": [
        {
          "output_type": "stream",
          "name": "stdout",
          "text": [
            "Hi Joe!\n",
            "{109: 101, 83: 74, 97: 111}\n"
          ]
        }
      ]
    },
    {
      "cell_type": "code",
      "source": [
        "#The third parameter in the mapping table describes characters that you want to remove from the string:\n",
        "\n",
        "txt = \"Good night Sam!\"\n",
        "x = \"mSa\"\n",
        "y = \"eJo\"\n",
        "z = \"odnght\"\n",
        "mytable = txt.maketrans(x, y, z)\n",
        "print(txt.translate(mytable))"
      ],
      "metadata": {
        "id": "tEpfWqGd8eaW",
        "colab": {
          "base_uri": "https://localhost:8080/"
        },
        "outputId": "3e20dfb1-8ac8-4346-f431-bd037e63458a"
      },
      "execution_count": 75,
      "outputs": [
        {
          "output_type": "stream",
          "name": "stdout",
          "text": [
            "G i Joe!\n"
          ]
        }
      ]
    },
    {
      "cell_type": "code",
      "source": [
        "#The maketrans() method itself returns a dictionary describing each replacement, in unicode:\n",
        "\n",
        "txt = \"Good night Sam!\"\n",
        "x = \"mSa\"\n",
        "y = \"eJo\"\n",
        "z = \"odnght\"\n",
        "print(txt.maketrans(x, y, z))"
      ],
      "metadata": {
        "id": "R-KXLvTY8ivj",
        "colab": {
          "base_uri": "https://localhost:8080/"
        },
        "outputId": "813580dc-b826-4fb4-9928-1b8b772bcc6f"
      },
      "execution_count": 76,
      "outputs": [
        {
          "output_type": "stream",
          "name": "stdout",
          "text": [
            "{109: 101, 83: 74, 97: 111, 111: None, 100: None, 110: None, 103: None, 104: None, 116: None}\n"
          ]
        }
      ]
    },
    {
      "cell_type": "markdown",
      "source": [
        "#27 **partition() Method**\n",
        "\n",
        "The **partition()** method searches for a specified string, and splits the string into a tuple containing three elements.\n",
        "\n",
        "The first element contains the part before the specified string.\n",
        "\n",
        "The second element contains the specified string.\n",
        "\n",
        "The third element contains the part after the string."
      ],
      "metadata": {
        "id": "h2AxrPve8n60"
      }
    },
    {
      "cell_type": "markdown",
      "source": [
        "**Syntax**\n",
        "\n",
        "string.partition(value)"
      ],
      "metadata": {
        "id": "wenqGfOU9TdI"
      }
    },
    {
      "cell_type": "code",
      "source": [
        "#Search for the word \"bananas\", and return a tuple with three elements:\n",
        "\n",
        "#1 - everything before the \"match\"\n",
        "#2 - the \"match\"\n",
        "#3 - everything after the \"match\"\n",
        "\n",
        "txt = \"I could eat bananas all day\"\n",
        "\n",
        "x = txt.partition(\"bananas\")\n",
        "\n",
        "print(x)"
      ],
      "metadata": {
        "id": "j4RmicAg9bJm",
        "colab": {
          "base_uri": "https://localhost:8080/"
        },
        "outputId": "fa2609e9-2c7d-499f-c1c1-dcb8c813d688"
      },
      "execution_count": 77,
      "outputs": [
        {
          "output_type": "stream",
          "name": "stdout",
          "text": [
            "('I could eat ', 'bananas', ' all day')\n"
          ]
        }
      ]
    },
    {
      "cell_type": "code",
      "source": [
        "#If the specified value is not found, the partition() method\n",
        "# returns a tuple containing: \n",
        "#1 - the whole string, \n",
        "#2 - an empty string, \n",
        "#3 - an empty string:\n",
        "\n",
        "txt = \"I could eat bananas all day\"\n",
        "\n",
        "x = txt.partition(\"apples\")\n",
        "\n",
        "print(x)"
      ],
      "metadata": {
        "id": "kn7ENtxg9ttw",
        "colab": {
          "base_uri": "https://localhost:8080/"
        },
        "outputId": "8c7ae6d4-ec9d-40ce-bf42-d3a8bab2a4d7"
      },
      "execution_count": 78,
      "outputs": [
        {
          "output_type": "stream",
          "name": "stdout",
          "text": [
            "('I could eat bananas all day', '', '')\n"
          ]
        }
      ]
    },
    {
      "cell_type": "markdown",
      "source": [
        "#28 **replace() Method**\n",
        "\n",
        "The **replace()** method replaces a specified phrase with another specified phrase.\n",
        "\n",
        "**Syntax**\n",
        "\n",
        "string.replace(oldvalue, newvalue, count)\n",
        "\n",
        "Parameter\tDescription\n",
        "\n",
        "oldvalue\tRequired. The string to search for\n",
        "\n",
        "newvalue\tRequired. The string to replace the old value with\n",
        "\n",
        "count\tOptional. A number specifying how many occurrences of the old value you want to replace. Default is all occurrences"
      ],
      "metadata": {
        "id": "NuQvQpFm9wXP"
      }
    },
    {
      "cell_type": "code",
      "source": [
        "#Replace the word \"bananas\":\n",
        "\n",
        "txt = \"I like bananas\"\n",
        "\n",
        "x = txt.replace(\"I\", \"You\")\n",
        "\n",
        "print(x)"
      ],
      "metadata": {
        "id": "11jfreNf9SWO",
        "colab": {
          "base_uri": "https://localhost:8080/"
        },
        "outputId": "1e69f622-4bcc-4b84-cdde-97081894249c"
      },
      "execution_count": 80,
      "outputs": [
        {
          "output_type": "stream",
          "name": "stdout",
          "text": [
            "You like bananas\n"
          ]
        }
      ]
    },
    {
      "cell_type": "code",
      "source": [
        "#Replace all occurrence of the word \"one\":\n",
        "\n",
        "txt = \"one one was a race horse, two two was one too.\"\n",
        "\n",
        "x = txt.replace(\"one\", \"three\")\n",
        "\n",
        "print(x)"
      ],
      "metadata": {
        "id": "OuWN0Dfm_B_L",
        "colab": {
          "base_uri": "https://localhost:8080/"
        },
        "outputId": "de483c00-d199-470f-bd10-55ac9388b054"
      },
      "execution_count": 81,
      "outputs": [
        {
          "output_type": "stream",
          "name": "stdout",
          "text": [
            "three three was a race horse, two two was three too.\n"
          ]
        }
      ]
    },
    {
      "cell_type": "code",
      "source": [
        "#Replace the two first occurrence of the word \"one\":\n",
        "\n",
        "txt = \"one one was a race horse, two two was one too.\"\n",
        "\n",
        "x = txt.replace(\"one\", \"three\", 2)\n",
        "\n",
        "print(x)"
      ],
      "metadata": {
        "id": "QiVvWOnO_Hcs",
        "colab": {
          "base_uri": "https://localhost:8080/"
        },
        "outputId": "8a1030bf-5a9c-49d5-aa0b-1170d61ede25"
      },
      "execution_count": 82,
      "outputs": [
        {
          "output_type": "stream",
          "name": "stdout",
          "text": [
            "three three was a race horse, two two was one too.\n"
          ]
        }
      ]
    },
    {
      "cell_type": "markdown",
      "source": [
        "#29 **rfind() Method**\n",
        "\n",
        "The rfind() method finds the last occurrence of the specified value.\n",
        "\n",
        "The rfind() method returns -1 if the value is not found.\n",
        "\n",
        "The rfind() method is almost the same as the rindex() method. See example below.\n",
        "\n",
        "Syntax\n",
        "\n",
        "string.rfind(value, start, end)\n",
        "\n",
        "value\tRequired. The value to search for\n",
        "\n",
        "start\tOptional. Where to start the search. Default is 0\n",
        "\n",
        "end\tOptional. Where to end the search. Default is to the end of the string\n"
      ],
      "metadata": {
        "id": "OGWptd2o_a_v"
      }
    },
    {
      "cell_type": "code",
      "source": [
        "#Where in the text is the last occurrence of the string \"casa\"?:\n",
        "\n",
        "txt = \"Mi casa, su casa.\"\n",
        "\n",
        "x = txt.rfind(\"casa\")\n",
        "\n",
        "print(x)"
      ],
      "metadata": {
        "id": "n-lsLHvW_3GT",
        "colab": {
          "base_uri": "https://localhost:8080/"
        },
        "outputId": "9a3b281e-a82a-4947-b4ed-a2aa6a4c1c3d"
      },
      "execution_count": 85,
      "outputs": [
        {
          "output_type": "stream",
          "name": "stdout",
          "text": [
            "12\n"
          ]
        }
      ]
    },
    {
      "cell_type": "code",
      "source": [
        "#Where in the text is the last occurrence of the letter \"e\"?:\n",
        "\n",
        "txt = \"Hello, welcome to my world.\"\n",
        "\n",
        "x = txt.rfind(\"e\")\n",
        "\n",
        "print(x)"
      ],
      "metadata": {
        "id": "b19hZyD9_-1W",
        "colab": {
          "base_uri": "https://localhost:8080/"
        },
        "outputId": "ec7cba84-2aca-439e-bffc-287b9e01e47e"
      },
      "execution_count": 86,
      "outputs": [
        {
          "output_type": "stream",
          "name": "stdout",
          "text": [
            "13\n"
          ]
        }
      ]
    },
    {
      "cell_type": "code",
      "source": [
        "#Where in the text is the last occurrence of the letter \"e\" when you only search between position 5 and 10?:\n",
        "\n",
        "txt = \"Hello, welcome to my world.\"\n",
        "\n",
        "x = txt.rfind(\"e\", 5, 10)\n",
        "\n",
        "print(x)"
      ],
      "metadata": {
        "id": "lyQhwYohADtg",
        "colab": {
          "base_uri": "https://localhost:8080/"
        },
        "outputId": "d12e0973-b0df-4b43-97fb-09bd7e54ffc8"
      },
      "execution_count": 87,
      "outputs": [
        {
          "output_type": "stream",
          "name": "stdout",
          "text": [
            "8\n"
          ]
        }
      ]
    },
    {
      "cell_type": "code",
      "source": [
        "#If the value is not found, the rfind() method returns -1, but the rindex() method will raise an exception:\n",
        "\n",
        "txt = \"Hello, welcome to my world.\"\n",
        "\n",
        "print(txt.rfind(\"q\"))\n",
        "print(txt.rindex(\"q\"))"
      ],
      "metadata": {
        "id": "2dTvDskIAIlI",
        "colab": {
          "base_uri": "https://localhost:8080/",
          "height": 218
        },
        "outputId": "90141a63-2462-4462-b627-f270ec7650be"
      },
      "execution_count": 88,
      "outputs": [
        {
          "output_type": "stream",
          "name": "stdout",
          "text": [
            "-1\n"
          ]
        },
        {
          "output_type": "error",
          "ename": "ValueError",
          "evalue": "ignored",
          "traceback": [
            "\u001b[0;31m---------------------------------------------------------------------------\u001b[0m",
            "\u001b[0;31mValueError\u001b[0m                                Traceback (most recent call last)",
            "\u001b[0;32m<ipython-input-88-f888957c156b>\u001b[0m in \u001b[0;36m<module>\u001b[0;34m()\u001b[0m\n\u001b[1;32m      4\u001b[0m \u001b[0;34m\u001b[0m\u001b[0m\n\u001b[1;32m      5\u001b[0m \u001b[0mprint\u001b[0m\u001b[0;34m(\u001b[0m\u001b[0mtxt\u001b[0m\u001b[0;34m.\u001b[0m\u001b[0mrfind\u001b[0m\u001b[0;34m(\u001b[0m\u001b[0;34m\"q\"\u001b[0m\u001b[0;34m)\u001b[0m\u001b[0;34m)\u001b[0m\u001b[0;34m\u001b[0m\u001b[0;34m\u001b[0m\u001b[0m\n\u001b[0;32m----> 6\u001b[0;31m \u001b[0mprint\u001b[0m\u001b[0;34m(\u001b[0m\u001b[0mtxt\u001b[0m\u001b[0;34m.\u001b[0m\u001b[0mrindex\u001b[0m\u001b[0;34m(\u001b[0m\u001b[0;34m\"q\"\u001b[0m\u001b[0;34m)\u001b[0m\u001b[0;34m)\u001b[0m\u001b[0;34m\u001b[0m\u001b[0;34m\u001b[0m\u001b[0m\n\u001b[0m",
            "\u001b[0;31mValueError\u001b[0m: substring not found"
          ]
        }
      ]
    },
    {
      "cell_type": "markdown",
      "source": [
        "#30 **rindex() Method**\n",
        "\n",
        "he rindex() method finds the last occurrence of the specified value.\n",
        "\n",
        "The rindex() method raises an exception if the value is not found.\n",
        "\n",
        "The rindex() method is almost the same as the rfind() method. See example below.\n",
        "\n",
        "Syntax\n",
        "string.rindex(value, start, end)"
      ],
      "metadata": {
        "id": "UQEpZys8BCw1"
      }
    },
    {
      "cell_type": "code",
      "source": [
        "#Where in the text is the last occurrence of the string \"casa\"?:\n",
        "\n",
        "txt = \"Mi casa, su casa.\"\n",
        "\n",
        "x = txt.rindex(\"casa\")\n",
        "\n",
        "print(x)"
      ],
      "metadata": {
        "id": "DpADUjAo_3JK",
        "colab": {
          "base_uri": "https://localhost:8080/"
        },
        "outputId": "b36fef3a-7649-4c73-b487-ae5d83c8ca2e"
      },
      "execution_count": 89,
      "outputs": [
        {
          "output_type": "stream",
          "name": "stdout",
          "text": [
            "12\n"
          ]
        }
      ]
    },
    {
      "cell_type": "code",
      "source": [
        "#Where in the text is the last occurrence of the letter \"e\"?:\n",
        "\n",
        "txt = \"Hello, welcome to my world.\"\n",
        "\n",
        "x = txt.rindex(\"e\")\n",
        "\n",
        "print(x)"
      ],
      "metadata": {
        "id": "vhH7cFUbCtwo",
        "colab": {
          "base_uri": "https://localhost:8080/"
        },
        "outputId": "8eaea230-c514-4a8f-acfb-a2bbd5b7dc7d"
      },
      "execution_count": 90,
      "outputs": [
        {
          "output_type": "stream",
          "name": "stdout",
          "text": [
            "13\n"
          ]
        }
      ]
    },
    {
      "cell_type": "code",
      "source": [
        "#Where in the text is the last occurrence of the letter \"e\" when you only search between position 5 and 10?:\n",
        "\n",
        "txt = \"Hello, welcome to my world.\"\n",
        "\n",
        "x = txt.rindex(\"e\", 5, 10)\n",
        "\n",
        "print(x)"
      ],
      "metadata": {
        "id": "w1wHw9KDCytR",
        "colab": {
          "base_uri": "https://localhost:8080/"
        },
        "outputId": "db78d97d-b3a2-4fa9-c331-8afea4f624f4"
      },
      "execution_count": 91,
      "outputs": [
        {
          "output_type": "stream",
          "name": "stdout",
          "text": [
            "8\n"
          ]
        }
      ]
    },
    {
      "cell_type": "code",
      "source": [
        "#If the value is not found, the rfind() method returns -1, but the rindex() method will raise an exception:\n",
        "\n",
        "txt = \"Hello, welcome to my world.\"\n",
        "\n",
        "print(txt.rfind(\"q\"))\n",
        "print(txt.rindex(\"q\"))\n"
      ],
      "metadata": {
        "id": "OQ75qnfZC4qV",
        "colab": {
          "base_uri": "https://localhost:8080/",
          "height": 218
        },
        "outputId": "58d5394d-cfad-4fa3-8b11-3ca5e5be0842"
      },
      "execution_count": 92,
      "outputs": [
        {
          "output_type": "stream",
          "name": "stdout",
          "text": [
            "-1\n"
          ]
        },
        {
          "output_type": "error",
          "ename": "ValueError",
          "evalue": "ignored",
          "traceback": [
            "\u001b[0;31m---------------------------------------------------------------------------\u001b[0m",
            "\u001b[0;31mValueError\u001b[0m                                Traceback (most recent call last)",
            "\u001b[0;32m<ipython-input-92-f888957c156b>\u001b[0m in \u001b[0;36m<module>\u001b[0;34m()\u001b[0m\n\u001b[1;32m      4\u001b[0m \u001b[0;34m\u001b[0m\u001b[0m\n\u001b[1;32m      5\u001b[0m \u001b[0mprint\u001b[0m\u001b[0;34m(\u001b[0m\u001b[0mtxt\u001b[0m\u001b[0;34m.\u001b[0m\u001b[0mrfind\u001b[0m\u001b[0;34m(\u001b[0m\u001b[0;34m\"q\"\u001b[0m\u001b[0;34m)\u001b[0m\u001b[0;34m)\u001b[0m\u001b[0;34m\u001b[0m\u001b[0;34m\u001b[0m\u001b[0m\n\u001b[0;32m----> 6\u001b[0;31m \u001b[0mprint\u001b[0m\u001b[0;34m(\u001b[0m\u001b[0mtxt\u001b[0m\u001b[0;34m.\u001b[0m\u001b[0mrindex\u001b[0m\u001b[0;34m(\u001b[0m\u001b[0;34m\"q\"\u001b[0m\u001b[0;34m)\u001b[0m\u001b[0;34m)\u001b[0m\u001b[0;34m\u001b[0m\u001b[0;34m\u001b[0m\u001b[0m\n\u001b[0m",
            "\u001b[0;31mValueError\u001b[0m: substring not found"
          ]
        }
      ]
    },
    {
      "cell_type": "markdown",
      "source": [
        "#31 **rjust() Method**\n",
        "\n",
        "The **rjust()** method will right align the string, using a specified character (space is default) as the fill character.\n",
        "\n",
        "**Syntax**\n",
        "\n",
        "string.rjust(length, character)"
      ],
      "metadata": {
        "id": "cUZP5CWL7zZu"
      }
    },
    {
      "cell_type": "code",
      "source": [
        "#Using the letter \"O\" as the padding character:\n",
        "\n",
        "txt = \"banana\"\n",
        "\n",
        "x = txt.rjust(20, \"O\")\n",
        "\n",
        "print(x)\n",
        "print(len(x))"
      ],
      "metadata": {
        "colab": {
          "base_uri": "https://localhost:8080/"
        },
        "id": "fmpojL7y7lIz",
        "outputId": "fd79481c-8329-423f-d0be-a6a8ae03e109"
      },
      "execution_count": 93,
      "outputs": [
        {
          "output_type": "stream",
          "name": "stdout",
          "text": [
            "OOOOOOOOOOOOOObanana\n",
            "20\n"
          ]
        }
      ]
    },
    {
      "cell_type": "code",
      "source": [
        "#Return a 20 characters long, right justified version of the word \"banana\":\n",
        "txt = \"banana\"\n",
        "\n",
        "x = txt.rjust(20)\n",
        "\n",
        "print(x, \"is my favorite fruit.\")\n",
        "\n",
        "#Note: In the result, there are actually 14 whitespaces to the left of the word banana."
      ],
      "metadata": {
        "id": "2076L_B2_uLy",
        "colab": {
          "base_uri": "https://localhost:8080/"
        },
        "outputId": "e8886e43-2ae2-41c7-9231-90362ffc425a"
      },
      "execution_count": 94,
      "outputs": [
        {
          "output_type": "stream",
          "name": "stdout",
          "text": [
            "              banana is my favorite fruit.\n"
          ]
        }
      ]
    },
    {
      "cell_type": "markdown",
      "source": [
        "#32 **rpartition() Method**\n",
        "\n",
        "The rpartition() method searches for the last occurrence of a specified string, and splits the string into a tuple containing three elements.\n",
        "\n",
        "The first element contains the part before the specified string.\n",
        "\n",
        "The second element contains the specified string.\n",
        "\n",
        "The third element contains the part after the string.\n",
        "\n",
        "**Syntax**\n",
        "\n",
        "string.rpartition(value)"
      ],
      "metadata": {
        "id": "1unwwMgz8u6e"
      }
    },
    {
      "cell_type": "code",
      "source": [
        "#Search for the last occurrence of the word \"bananas\", and return a tuple with three elements:\n",
        "\n",
        "#1 - everything before the \"match\"\n",
        "#2 - the \"match\"\n",
        "#3 - everything after the \"match\"\n",
        "\n",
        "txt = \"I could eat bananas all day, bananas are my favorite fruit\"\n",
        "\n",
        "x = txt.rpartition(\"bananas\")\n",
        "\n",
        "print(x)"
      ],
      "metadata": {
        "id": "lkTpX8HD8UU7",
        "colab": {
          "base_uri": "https://localhost:8080/"
        },
        "outputId": "7505c8eb-e081-48be-887f-862378864c2c"
      },
      "execution_count": 95,
      "outputs": [
        {
          "output_type": "stream",
          "name": "stdout",
          "text": [
            "('I could eat bananas all day, ', 'bananas', ' are my favorite fruit')\n"
          ]
        }
      ]
    },
    {
      "cell_type": "code",
      "source": [
        "#If the specified value is not found, the rpartition() method returns a tuple containing: 1 - an empty string, 2 - an empty string, 3 - the whole string:\n",
        "\n",
        "txt = \"I could eat bananas all day, bananas are my favorite fruit\"\n",
        "\n",
        "x = txt.rpartition(\"apples\")\n",
        "\n",
        "print(x)"
      ],
      "metadata": {
        "id": "m3X4tDf29Jts",
        "colab": {
          "base_uri": "https://localhost:8080/"
        },
        "outputId": "d2264071-dd67-4792-e510-da16d82f4e15"
      },
      "execution_count": 96,
      "outputs": [
        {
          "output_type": "stream",
          "name": "stdout",
          "text": [
            "('', '', 'I could eat bananas all day, bananas are my favorite fruit')\n"
          ]
        }
      ]
    },
    {
      "cell_type": "markdown",
      "source": [
        "#33 **rsplit() Method**\n",
        "\n",
        "The rsplit() method splits a string into a list, starting from the right.\n",
        "\n",
        "If no \"max\" is specified, this method will return the same as the split() method.\n",
        "\n",
        "Note: When maxsplit is specified, the list will contain the specified number of elements plus one.\n",
        "\n",
        "**Syntax**\n",
        "\n",
        "string.rsplit(separator, maxsplit)"
      ],
      "metadata": {
        "id": "24hiGIZ_9M5E"
      }
    },
    {
      "cell_type": "code",
      "source": [
        "#Split a string into a list, using comma, followed by a space (, ) as the separator:\n",
        "\n",
        "txt = \"apple, banana, cherry\"\n",
        "\n",
        "x = txt.rsplit(\", \")\n",
        "y=txt.split(\", \")\n",
        "\n",
        "print(x)\n",
        "print(y)"
      ],
      "metadata": {
        "id": "UmM9zcGv-cTZ",
        "colab": {
          "base_uri": "https://localhost:8080/"
        },
        "outputId": "fd84c6b6-a2f0-4522-b2aa-160d6f0608dd"
      },
      "execution_count": 99,
      "outputs": [
        {
          "output_type": "stream",
          "name": "stdout",
          "text": [
            "['apple', 'banana', 'cherry']\n",
            "['apple', 'banana', 'cherry']\n"
          ]
        }
      ]
    },
    {
      "cell_type": "code",
      "source": [
        "#Split the string into a list with maximum 2 items:\n",
        "\n",
        "txt = \"apple, banana, cherry\"\n",
        "\n",
        "# setting the maxsplit parameter to 1, will return a list with 2 elements!\n",
        "x = txt.rsplit(\", \", 1)\n",
        "y=txt.split(\",\",1)\n",
        "\n",
        "print(x)\n",
        "print(y)"
      ],
      "metadata": {
        "id": "xriKO7dQ-iZu",
        "colab": {
          "base_uri": "https://localhost:8080/"
        },
        "outputId": "7b6e7883-ad79-4010-d19c-4c15c9863464"
      },
      "execution_count": 101,
      "outputs": [
        {
          "output_type": "stream",
          "name": "stdout",
          "text": [
            "['apple, banana', 'cherry']\n",
            "['apple', ' banana, cherry']\n"
          ]
        }
      ]
    },
    {
      "cell_type": "code",
      "source": [
        ""
      ],
      "metadata": {
        "id": "kuuCN7VN-l8W"
      },
      "execution_count": null,
      "outputs": []
    },
    {
      "cell_type": "markdown",
      "source": [
        "#34. **rstrip() Method**\n",
        "\n",
        "The **rstrip()** method removes any trailing characters (characters at the end a string), space is the default trailing character to remove.\n",
        "\n",
        "**Syntax**\n",
        "\n",
        "string.rstrip(characters)\n",
        "\n"
      ],
      "metadata": {
        "id": "wyZz-dq5-_u_"
      }
    },
    {
      "cell_type": "code",
      "source": [
        "#Remove the trailing characters if they are commas, s, q, or w:\n",
        "\n",
        "txt = \"banana,,,,,ssqqqww.....\"\n",
        "\n",
        "x = txt.rstrip(\".wqs,\")\n",
        "\n",
        "print(x)"
      ],
      "metadata": {
        "id": "1CfCICeJ_Oxf",
        "colab": {
          "base_uri": "https://localhost:8080/"
        },
        "outputId": "4db55edc-275b-49bf-a377-3b1bd6075228"
      },
      "execution_count": 110,
      "outputs": [
        {
          "output_type": "stream",
          "name": "stdout",
          "text": [
            "banana\n"
          ]
        }
      ]
    },
    {
      "cell_type": "code",
      "source": [
        "#Remove any white spaces at the end of the string:\n",
        "\n",
        "txt = \"     banana     \"\n",
        "\n",
        "x = txt.rstrip()\n",
        "\n",
        "print(\"of all fruits\", x, \"is my favorite\")"
      ],
      "metadata": {
        "id": "A39tS42A_UOt",
        "colab": {
          "base_uri": "https://localhost:8080/"
        },
        "outputId": "206b99e2-9426-4397-f196-95196fb4625a"
      },
      "execution_count": 111,
      "outputs": [
        {
          "output_type": "stream",
          "name": "stdout",
          "text": [
            "of all fruits      banana is my favorite\n"
          ]
        }
      ]
    },
    {
      "cell_type": "code",
      "source": [
        ""
      ],
      "metadata": {
        "id": "QHwfMbzm_aDz"
      },
      "execution_count": null,
      "outputs": []
    },
    {
      "cell_type": "markdown",
      "source": [
        "#35. **split() Method**\n",
        "\n",
        "The **split()** method splits a string into a list.\n",
        "\n",
        "You can specify the separator, default separator is any whitespace.\n",
        "\n",
        "**Note:** When maxsplit is specified, the list will contain the specified number of elements plus one.\n",
        "\n",
        "**Syntax**\n",
        "\n",
        "string.split(separator, maxsplit)"
      ],
      "metadata": {
        "id": "-i4Ajuc-_yAX"
      }
    },
    {
      "cell_type": "code",
      "source": [
        "#Split the string, using comma, followed by a space, as a separator:\n",
        "\n",
        "txt = \"hello, my name is Peter, I am 26 years old\"\n",
        "\n",
        "x = txt.split(\",\")\n",
        "\n",
        "print(x)"
      ],
      "metadata": {
        "id": "npyGt2caABtR",
        "colab": {
          "base_uri": "https://localhost:8080/"
        },
        "outputId": "6f916172-aae3-4567-baa7-8434af7f99d7"
      },
      "execution_count": 115,
      "outputs": [
        {
          "output_type": "stream",
          "name": "stdout",
          "text": [
            "['hello', ' my name is Peter', ' I am 26 years old']\n"
          ]
        }
      ]
    },
    {
      "cell_type": "code",
      "source": [
        "#Use a hash character as a separator:\n",
        "\n",
        "txt = \"apple#banana#cherry#orange\"\n",
        "\n",
        "x = txt.split(\"#\")\n",
        "\n",
        "print(x)"
      ],
      "metadata": {
        "id": "l5HDd9VzAGs8",
        "colab": {
          "base_uri": "https://localhost:8080/"
        },
        "outputId": "5b35bbea-5801-481d-ed76-4be342cde944"
      },
      "execution_count": 116,
      "outputs": [
        {
          "output_type": "stream",
          "name": "stdout",
          "text": [
            "['apple', 'banana', 'cherry', 'orange']\n"
          ]
        }
      ]
    },
    {
      "cell_type": "code",
      "source": [
        "#Split the string into a list with max 2 items:\n",
        "\n",
        "txt = \"apple#banana#cherry#orange\"\n",
        "\n",
        "# setting the maxsplit parameter to 1, will return a list with 2 elements!\n",
        "x = txt.split(\"#\", 1)\n",
        "\n",
        "print(x)"
      ],
      "metadata": {
        "id": "pDlLeSimAM26",
        "colab": {
          "base_uri": "https://localhost:8080/"
        },
        "outputId": "fd191259-6a7f-4214-9e65-5a4071fcf033"
      },
      "execution_count": 117,
      "outputs": [
        {
          "output_type": "stream",
          "name": "stdout",
          "text": [
            "['apple', 'banana#cherry#orange']\n"
          ]
        }
      ]
    },
    {
      "cell_type": "code",
      "source": [
        "#Split a string into a list where each word is a list item:\n",
        "\n",
        "txt = \"welcome to the jungle\"\n",
        "\n",
        "x = txt.split()\n",
        "\n",
        "print(x)"
      ],
      "metadata": {
        "id": "JDIhiuXsATfu",
        "colab": {
          "base_uri": "https://localhost:8080/"
        },
        "outputId": "b0bd57e4-a22c-489f-b387-7023f5519acf"
      },
      "execution_count": 118,
      "outputs": [
        {
          "output_type": "stream",
          "name": "stdout",
          "text": [
            "['welcome', 'to', 'the', 'jungle']\n"
          ]
        }
      ]
    },
    {
      "cell_type": "markdown",
      "source": [
        "#36 **splitlines() Method**\n",
        "\n",
        "The **splitlines()** method splits a string into a list. The splitting is done at line breaks.\n",
        "\n",
        "**Syntax**\n",
        "\n",
        "string.splitlines(keeplinebreaks)\n",
        "\n",
        "keeplinebreaks is\tOptional. Specifies if the line breaks should be included (True), or not (False). Default value is False"
      ],
      "metadata": {
        "id": "oMi-8Xp6AvzD"
      }
    },
    {
      "cell_type": "code",
      "source": [
        "#Split the string, but keep the line breaks:\n",
        "\n",
        "txt = \"Thank you for the music\\nWelcome to the jungle\"\n",
        "\n",
        "x = txt.splitlines(True)\n",
        "print(txt)\n",
        "\n",
        "print(x)"
      ],
      "metadata": {
        "id": "C08X_0Q8AtC_",
        "colab": {
          "base_uri": "https://localhost:8080/"
        },
        "outputId": "d87a1d0e-7ea7-4a95-f4a8-574050850ae2"
      },
      "execution_count": 120,
      "outputs": [
        {
          "output_type": "stream",
          "name": "stdout",
          "text": [
            "Thank you for the music\n",
            "Welcome to the jungle\n",
            "['Thank you for the music\\n', 'Welcome to the jungle']\n"
          ]
        }
      ]
    },
    {
      "cell_type": "code",
      "source": [
        "#Split a string into a list where each line is a list item:\n",
        "\n",
        "txt = \"Thank you for the music\\nWelcome to the jungle\"\n",
        "\n",
        "x = txt.splitlines()\n",
        "\n",
        "print(x)"
      ],
      "metadata": {
        "id": "NOymAysgBdom",
        "colab": {
          "base_uri": "https://localhost:8080/"
        },
        "outputId": "1af994c3-f300-4770-c2b8-878b6d4ff27f"
      },
      "execution_count": 121,
      "outputs": [
        {
          "output_type": "stream",
          "name": "stdout",
          "text": [
            "['Thank you for the music', 'Welcome to the jungle']\n"
          ]
        }
      ]
    },
    {
      "cell_type": "markdown",
      "source": [
        "#37 **startswith() Method**\n",
        "\n",
        "The startswith() method returns True if the string starts with the specified value, otherwise False.\n",
        "\n",
        "**Syntax**\n",
        "\n",
        "string.startswith(value, start, end)"
      ],
      "metadata": {
        "id": "iIxzjIk3B4oW"
      }
    },
    {
      "cell_type": "code",
      "source": [
        "#Check if the string starts with \"Hello\":\n",
        "\n",
        "txt = \"Hello, welcome to my world.\"\n",
        "\n",
        "x = txt.startswith(\"hello\")\n",
        "\n",
        "print(x)"
      ],
      "metadata": {
        "id": "7_JaaqBbCICL",
        "colab": {
          "base_uri": "https://localhost:8080/"
        },
        "outputId": "ca633b00-e430-4e6c-cb83-b15ed27ed68a"
      },
      "execution_count": 123,
      "outputs": [
        {
          "output_type": "stream",
          "name": "stdout",
          "text": [
            "False\n"
          ]
        }
      ]
    },
    {
      "cell_type": "code",
      "source": [
        "#Check if position 7 to 20 starts with the characters \"wel\":\n",
        "\n",
        "txt = \"Hello, welcome to my world.\"\n",
        "\n",
        "x = txt.startswith(\"wel\", 7, 20)\n",
        "\n",
        "print(x)"
      ],
      "metadata": {
        "id": "m1ZjljJWCQ1n",
        "colab": {
          "base_uri": "https://localhost:8080/"
        },
        "outputId": "bbfd2372-aff2-442d-d003-619ea8dd9c3e"
      },
      "execution_count": 124,
      "outputs": [
        {
          "output_type": "stream",
          "name": "stdout",
          "text": [
            "True\n"
          ]
        }
      ]
    },
    {
      "cell_type": "markdown",
      "source": [
        "#38 **strip() Method**\n",
        "\n",
        "The **strip()** method removes any leading (spaces at the beginning) and trailing (spaces at the end) characters (space is the default leading character to remove)\n",
        "\n",
        "**Syntax**\n",
        "\n",
        "string.strip(characters)"
      ],
      "metadata": {
        "id": "ky7MBgDyCfy-"
      }
    },
    {
      "cell_type": "code",
      "source": [
        "#Remove spaces at the beginning and at the end of the string:\n",
        "\n",
        "txt = \"     banana     \"\n",
        "\n",
        "x = txt.strip()\n",
        "\n",
        "print(x)"
      ],
      "metadata": {
        "id": "JvOf05GpCvhz",
        "colab": {
          "base_uri": "https://localhost:8080/"
        },
        "outputId": "921f1086-7f21-404e-978c-c2a06a17a595"
      },
      "execution_count": 126,
      "outputs": [
        {
          "output_type": "stream",
          "name": "stdout",
          "text": [
            "banana\n"
          ]
        }
      ]
    },
    {
      "cell_type": "code",
      "source": [
        "#Remove the leading and trailing characters:\n",
        "\n",
        "txt = \",,,,,rrttgg.....banana....rrr\"\n",
        "\n",
        "x = txt.strip(\",.grt\")\n",
        "\n",
        "print(x)"
      ],
      "metadata": {
        "id": "cHQXP_5FCxea",
        "colab": {
          "base_uri": "https://localhost:8080/"
        },
        "outputId": "a2854c8b-19c3-4b90-d64b-cbc06bd638c1"
      },
      "execution_count": 127,
      "outputs": [
        {
          "output_type": "stream",
          "name": "stdout",
          "text": [
            "banana\n"
          ]
        }
      ]
    },
    {
      "cell_type": "markdown",
      "source": [
        "#39 **swapcase() Method**\n",
        "\n",
        "The **swapcase()** method returns a string where all the upper case letters are lower case and vice versa.\n",
        "\n",
        "**Syntax**\n",
        "\n",
        "string.swapcase()"
      ],
      "metadata": {
        "id": "a10fZ4RCC9le"
      }
    },
    {
      "cell_type": "code",
      "source": [
        "#Make the lower case letters upper case and the upper case letters lower case:\n",
        "\n",
        "txt = \"Hello My Name Is PETER\"\n",
        "\n",
        "x = txt.swapcase()\n",
        "\n",
        "print(x)"
      ],
      "metadata": {
        "id": "uEEEampQDMGW",
        "colab": {
          "base_uri": "https://localhost:8080/"
        },
        "outputId": "24156dbe-9e7c-4ce5-b156-6c05e996e48c"
      },
      "execution_count": 128,
      "outputs": [
        {
          "output_type": "stream",
          "name": "stdout",
          "text": [
            "hELLO mY nAME iS peter\n"
          ]
        }
      ]
    },
    {
      "cell_type": "code",
      "source": [
        "\n",
        "\n"
      ],
      "metadata": {
        "id": "2h9EZrNzDX-I"
      },
      "execution_count": null,
      "outputs": []
    },
    {
      "cell_type": "markdown",
      "source": [
        "#40 **title() Method**\n",
        "\n",
        "The **title()** method returns a string where the first character in every word is upper case. Like a header, or a title.\n",
        "\n",
        "If the word contains a number or a symbol, the first letter after that will be converted to upper case.\n",
        "\n",
        "**Syntax**\n",
        "\n",
        "string.title()\n",
        "\n"
      ],
      "metadata": {
        "id": "ozHi3MjkDZ7s"
      }
    },
    {
      "cell_type": "code",
      "source": [
        "#Make the first letter in each word upper case:\n",
        "\n",
        "txt = \"Welcome to my world\"\n",
        "\n",
        "x = txt.title()\n",
        "\n",
        "print(x)"
      ],
      "metadata": {
        "id": "xuoWgt6aDmqG",
        "colab": {
          "base_uri": "https://localhost:8080/"
        },
        "outputId": "fd47a934-ba01-4003-95cd-1bba5918cbf2"
      },
      "execution_count": 129,
      "outputs": [
        {
          "output_type": "stream",
          "name": "stdout",
          "text": [
            "Welcome To My World\n"
          ]
        }
      ]
    },
    {
      "cell_type": "code",
      "source": [
        "#Make the first letter in each word upper case:\n",
        "\n",
        "txt = \"Welcome to my 2nd world\"\n",
        "\n",
        "x = txt.title()\n",
        "\n",
        "print(x)"
      ],
      "metadata": {
        "id": "V-NJH3V6DqoE",
        "colab": {
          "base_uri": "https://localhost:8080/"
        },
        "outputId": "d92d263d-43bc-4ea7-df3b-5b8bb31ae71d"
      },
      "execution_count": 130,
      "outputs": [
        {
          "output_type": "stream",
          "name": "stdout",
          "text": [
            "Welcome To My 2Nd World\n"
          ]
        }
      ]
    },
    {
      "cell_type": "code",
      "source": [
        "#Note that the first letter after a non-alphabet letter is converted into a upper case letter:\n",
        "\n",
        "txt = \"hello b2b2b2 and 3g3g3g\"\n",
        "\n",
        "x = txt.title()\n",
        "\n",
        "print(x)"
      ],
      "metadata": {
        "id": "Fe6k63eIDyoy",
        "colab": {
          "base_uri": "https://localhost:8080/"
        },
        "outputId": "03a1149f-c1b9-4fbe-9378-1a43de4420fe"
      },
      "execution_count": 131,
      "outputs": [
        {
          "output_type": "stream",
          "name": "stdout",
          "text": [
            "Hello B2B2B2 And 3G3G3G\n"
          ]
        }
      ]
    },
    {
      "cell_type": "markdown",
      "source": [
        "#41 **translate() Method**\n",
        "\n",
        "The translate() method returns a string where some specified characters are replaced with the character described in a dictionary, or in a mapping table.\n",
        "\n",
        "Use the maketrans() method to create a mapping table.\n",
        "\n",
        "If a character is not specified in the dictionary/table, the character will not be replaced.\n",
        "\n",
        "If you use a dictionary, you must use ascii codes instead of characters.\n",
        "\n",
        "**Syntax**\n",
        "\n",
        "string.translate(table)\n",
        "\n",
        "table\tRequired. Either a dictionary, or a mapping table describing how to perform the replace.\n"
      ],
      "metadata": {
        "id": "TN-Z3m2uD6HL"
      }
    },
    {
      "cell_type": "code",
      "source": [
        "#Use a mapping table to replace \"S\" with \"P\":\n",
        "\n",
        "txt = \"Hello Sam!\"\n",
        "mytable = txt.maketrans(\"S\", \"P\")\n",
        "print(mytable)\n",
        "print(txt.translate(mytable))"
      ],
      "metadata": {
        "id": "I3oBPSVoFb7S",
        "colab": {
          "base_uri": "https://localhost:8080/"
        },
        "outputId": "0d6bcf5c-f179-4b05-d7ca-5f8055703a0d"
      },
      "execution_count": 134,
      "outputs": [
        {
          "output_type": "stream",
          "name": "stdout",
          "text": [
            "{83: 80}\n",
            "Hello Pam!\n"
          ]
        }
      ]
    },
    {
      "cell_type": "code",
      "source": [
        "#Use a mapping table to replace many characters:\n",
        "\n",
        "txt = \"Hi Sam!\"\n",
        "x = \"mSa\"\n",
        "y = \"eJo\"\n",
        "mytable = txt.maketrans(x, y)\n",
        "print(mytable)\n",
        "print(txt.translate(mytable))"
      ],
      "metadata": {
        "id": "T5APj88QFxbD",
        "colab": {
          "base_uri": "https://localhost:8080/"
        },
        "outputId": "a1f974f8-24a3-478d-a203-e7de321bde04"
      },
      "execution_count": 136,
      "outputs": [
        {
          "output_type": "stream",
          "name": "stdout",
          "text": [
            "{109: 101, 83: 74, 97: 111}\n",
            "Hi Joe!\n"
          ]
        }
      ]
    },
    {
      "cell_type": "code",
      "source": [
        "#The third parameter in the mapping table describes characters that you want to remove from the string:\n",
        "\n",
        "txt = \"Good night Sam!\"\n",
        "x = \"mSa\"\n",
        "y = \"eJo\"\n",
        "z = \"odnght\"\n",
        "mytable = txt.maketrans(x, y, z)\n",
        "print(txt.translate(mytable))\n",
        "\n"
      ],
      "metadata": {
        "id": "Cfe_2IfCF4Fl",
        "colab": {
          "base_uri": "https://localhost:8080/"
        },
        "outputId": "8605557d-f270-46a8-b5e0-00dfba2784a9"
      },
      "execution_count": 137,
      "outputs": [
        {
          "output_type": "stream",
          "name": "stdout",
          "text": [
            "G i Joe!\n"
          ]
        }
      ]
    },
    {
      "cell_type": "code",
      "source": [
        "#The same example as above, but using a dictionary instead of a mapping table:\n",
        "\n",
        "txt = \"Good night Sam!\"\n",
        "mydict = {109: 101, 83: 74, 97: 111, 111: None, 100: None, 110: None, 103: None, 104: None, 116: None}\n",
        "print(txt.translate(mydict))"
      ],
      "metadata": {
        "colab": {
          "base_uri": "https://localhost:8080/"
        },
        "id": "ig7JzVTtGBqx",
        "outputId": "186557a9-ceff-4dac-9648-63b28d7010d0"
      },
      "execution_count": null,
      "outputs": [
        {
          "output_type": "stream",
          "name": "stdout",
          "text": [
            "G i Joe!\n"
          ]
        }
      ]
    },
    {
      "cell_type": "markdown",
      "source": [
        "#42. **zfill() Method**\n",
        "\n",
        "The zfill() method adds zeros (0) at the beginning of the string, until it reaches the specified length.\n",
        "\n",
        "If the value of the len parameter is less than the length of the string, no filling is done.\n",
        "\n",
        "**Syntax**\n",
        "\n",
        "string.zfill(len)"
      ],
      "metadata": {
        "id": "N4oRESQQHnAX"
      }
    },
    {
      "cell_type": "markdown",
      "source": [
        ""
      ],
      "metadata": {
        "id": "T0mhq5_0HnLd"
      }
    },
    {
      "cell_type": "code",
      "source": [
        "#Fill the strings with zeros until they are 10 characters long:\n",
        "\n",
        "a = \"hello\"\n",
        "b = \"welcome to the jungle\"\n",
        "c = \"10.000\"\n",
        "\n",
        "print(a.zfill(10))\n",
        "print(b.zfill(10))\n",
        "print(c.zfill(10))\n",
        "print(len(b))"
      ],
      "metadata": {
        "id": "TJo40SpOHg2K",
        "colab": {
          "base_uri": "https://localhost:8080/"
        },
        "outputId": "aaf78613-419e-46d6-f374-c1c870408807"
      },
      "execution_count": 139,
      "outputs": [
        {
          "output_type": "stream",
          "name": "stdout",
          "text": [
            "00000hello\n",
            "welcome to the jungle\n",
            "000010.000\n",
            "21\n"
          ]
        }
      ]
    },
    {
      "cell_type": "code",
      "source": [
        "#Fill the string with zeros until it is 10 characters long:\n",
        "\n",
        "txt = \"50\"\n",
        "\n",
        "x = txt.zfill(10)\n",
        "\n",
        "print(x)"
      ],
      "metadata": {
        "id": "3BhzBxsfI5Cp",
        "colab": {
          "base_uri": "https://localhost:8080/"
        },
        "outputId": "6a103409-d721-4aeb-8b7b-0e4ef2bc8054"
      },
      "execution_count": 140,
      "outputs": [
        {
          "output_type": "stream",
          "name": "stdout",
          "text": [
            "0000000050\n"
          ]
        }
      ]
    }
  ]
}